{
 "cells": [
  {
   "cell_type": "markdown",
   "metadata": {},
   "source": [
    "# Graph Analysis"
   ]
  },
  {
   "cell_type": "markdown",
   "metadata": {},
   "source": [
    "### Connect with database"
   ]
  },
  {
   "cell_type": "code",
   "execution_count": 5,
   "metadata": {},
   "outputs": [
    {
     "name": "stdout",
     "output_type": "stream",
     "text": [
      "Successfully connected to Neo4j\n",
      "Database already exists\n"
     ]
    }
   ],
   "source": [
    "from neo4j import GraphDatabase\n",
    "\n",
    "URI = \"neo4j://localhost:7687\"\n",
    "NAME_DB = \"neo4j\"  # or \"movies\"\n",
    "\n",
    "driver = GraphDatabase.driver(URI)\n",
    "\n",
    "driver.verify_connectivity()\n",
    "print(\"Successfully connected to Neo4j\")\n",
    "\n",
    "session = driver.session(database=\"system\")\n",
    "\n",
    "if [NAME_DB] in session.run(\"SHOW DATABASE yield name;\").values():\n",
    "    print(\"Database already exists\")\n",
    "else:\n",
    "    session.run(f\"CREATE DATABASE {NAME_DB};\")\n",
    "    print(\"Database created\")\n",
    "session = driver.session(database=NAME_DB)"
   ]
  },
  {
   "cell_type": "markdown",
   "metadata": {},
   "source": [
    "### Create constraints"
   ]
  },
  {
   "cell_type": "code",
   "execution_count": 18,
   "metadata": {},
   "outputs": [
    {
     "data": {
      "text/plain": [
       "<neo4j._sync.work.result.Result at 0x7fe5cdc34250>"
      ]
     },
     "execution_count": 18,
     "metadata": {},
     "output_type": "execute_result"
    }
   ],
   "source": [
    "# TODO: maybe add constraints for id for edges\n",
    "session.run(\n",
    "    \"\"\"\n",
    "    CREATE CONSTRAINT UniqueMovieID IF NOT EXISTS \n",
    "    FOR (m:Movie) \n",
    "    REQUIRE m.id IS unique;\n",
    "    \"\"\"\n",
    ")\n",
    "session.run(\n",
    "    \"\"\"\n",
    "    CREATE CONSTRAINT UniqueUserID IF NOT EXISTS \n",
    "    FOR (u:User) \n",
    "    REQUIRE u.id IS unique;\n",
    "    \"\"\"\n",
    ")\n",
    "# TODO: add constraints for relationships"
   ]
  },
  {
   "cell_type": "markdown",
   "metadata": {},
   "source": [
    "## Some other formatting"
   ]
  },
  {
   "cell_type": "code",
   "execution_count": null,
   "metadata": {},
   "outputs": [],
   "source": [
    "session.run(\n",
    "    \"\"\"\n",
    "MATCH ()-[t:TAGGED]->() SET t.timestamp = datetime({epochSeconds:toInteger(t.timestamp)});\n",
    "\"\"\"\n",
    ")"
   ]
  },
  {
   "cell_type": "code",
   "execution_count": null,
   "metadata": {},
   "outputs": [],
   "source": [
    "session.run(\n",
    "    \"\"\"\n",
    "MATCH ()-[r:RATED]->() SET r.timestamp = datetime({epochSeconds:toInteger(r.timestamp)});\n",
    "\"\"\"\n",
    ")"
   ]
  },
  {
   "cell_type": "markdown",
   "metadata": {},
   "source": [
    "## Create Index"
   ]
  },
  {
   "cell_type": "code",
   "execution_count": null,
   "metadata": {},
   "outputs": [],
   "source": []
  },
  {
   "cell_type": "code",
   "execution_count": 6,
   "metadata": {},
   "outputs": [
    {
     "data": {
      "text/html": [
       "<div>\n",
       "<style scoped>\n",
       "    .dataframe tbody tr th:only-of-type {\n",
       "        vertical-align: middle;\n",
       "    }\n",
       "\n",
       "    .dataframe tbody tr th {\n",
       "        vertical-align: top;\n",
       "    }\n",
       "\n",
       "    .dataframe thead th {\n",
       "        text-align: right;\n",
       "    }\n",
       "</style>\n",
       "<table border=\"1\" class=\"dataframe\">\n",
       "  <thead>\n",
       "    <tr style=\"text-align: right;\">\n",
       "      <th></th>\n",
       "      <th>label</th>\n",
       "      <th>nodeCount</th>\n",
       "    </tr>\n",
       "  </thead>\n",
       "  <tbody>\n",
       "    <tr>\n",
       "      <th>0</th>\n",
       "      <td>Movie</td>\n",
       "      <td>86537</td>\n",
       "    </tr>\n",
       "    <tr>\n",
       "      <th>1</th>\n",
       "      <td>User</td>\n",
       "      <td>330975</td>\n",
       "    </tr>\n",
       "    <tr>\n",
       "      <th>2</th>\n",
       "      <td>Genre</td>\n",
       "      <td>20</td>\n",
       "    </tr>\n",
       "  </tbody>\n",
       "</table>\n",
       "</div>"
      ],
      "text/plain": [
       "   label  nodeCount\n",
       "0  Movie      86537\n",
       "1   User     330975\n",
       "2  Genre         20"
      ]
     },
     "execution_count": 6,
     "metadata": {},
     "output_type": "execute_result"
    }
   ],
   "source": [
    "from graphdatascience import GraphDataScience\n",
    "\n",
    "gds = GraphDataScience(URI, aura_ds=False, database=NAME_DB)\n",
    "# total node counts\n",
    "gds.run_cypher(\n",
    "    \"\"\"\n",
    "    CALL apoc.meta.stats()\n",
    "    YIELD labels AS nodeCounts\n",
    "    UNWIND keys(nodeCounts) AS label\n",
    "    WITH label, nodeCounts[label] AS nodeCount\n",
    "    WHERE label IN ['User','Movie','Genre']\n",
    "    RETURN label, nodeCount\n",
    "\"\"\"\n",
    ")"
   ]
  },
  {
   "cell_type": "code",
   "execution_count": 7,
   "metadata": {},
   "outputs": [
    {
     "data": {
      "text/html": [
       "<div>\n",
       "<style scoped>\n",
       "    .dataframe tbody tr th:only-of-type {\n",
       "        vertical-align: middle;\n",
       "    }\n",
       "\n",
       "    .dataframe tbody tr th {\n",
       "        vertical-align: top;\n",
       "    }\n",
       "\n",
       "    .dataframe thead th {\n",
       "        text-align: right;\n",
       "    }\n",
       "</style>\n",
       "<table border=\"1\" class=\"dataframe\">\n",
       "  <thead>\n",
       "    <tr style=\"text-align: right;\">\n",
       "      <th></th>\n",
       "      <th>type</th>\n",
       "      <th>relationshipCount</th>\n",
       "    </tr>\n",
       "  </thead>\n",
       "  <tbody>\n",
       "    <tr>\n",
       "      <th>0</th>\n",
       "      <td>TAGGED</td>\n",
       "      <td>2328315</td>\n",
       "    </tr>\n",
       "    <tr>\n",
       "      <th>1</th>\n",
       "      <td>IN_GENRE</td>\n",
       "      <td>152288</td>\n",
       "    </tr>\n",
       "    <tr>\n",
       "      <th>2</th>\n",
       "      <td>RATED</td>\n",
       "      <td>33832162</td>\n",
       "    </tr>\n",
       "  </tbody>\n",
       "</table>\n",
       "</div>"
      ],
      "text/plain": [
       "       type  relationshipCount\n",
       "0    TAGGED            2328315\n",
       "1  IN_GENRE             152288\n",
       "2     RATED           33832162"
      ]
     },
     "execution_count": 7,
     "metadata": {},
     "output_type": "execute_result"
    }
   ],
   "source": [
    "gds.run_cypher(\n",
    "    \"\"\"\n",
    "    CALL apoc.meta.stats()\n",
    "    YIELD relTypesCount as relationshipCounts\n",
    "    UNWIND keys(relationshipCounts) AS type\n",
    "    WITH type, relationshipCounts[type] AS relationshipCount\n",
    "    WHERE type IN ['RATED','TAGGED','IN_GENRE']\n",
    "    RETURN type, relationshipCount\n",
    "\"\"\"\n",
    ")"
   ]
  },
  {
   "cell_type": "code",
   "execution_count": 8,
   "metadata": {},
   "outputs": [],
   "source": [
    "from typing import Union\n",
    "import pandas as pd\n",
    "import numpy as np\n",
    "\n",
    "\n",
    "# Helper functions (https://github.com/zach-blumenfeld/demo-news-recommendation/blob/main/mind-large-collab-filtering/practical-graph-recommendation-cf-example.ipynb)\n",
    "class GraphQueryError(Exception):\n",
    "    def __init__(self, message):\n",
    "        self.message = message\n",
    "\n",
    "\n",
    "def run(driver, query, params=None):\n",
    "    with driver.session() as session:\n",
    "        if params is not None:\n",
    "            return [r for r in session.run(query, params)]\n",
    "        else:\n",
    "            return [r for r in session.run(query)]\n",
    "\n",
    "\n",
    "def degree_counts(\n",
    "    node_label: str,\n",
    "    relationship_type: str,\n",
    "    direction: Union[\"IN\", \"OUT\", \"BOTH\"] = \"IN\",\n",
    "):\n",
    "\n",
    "    match = f\"(n:{node_label}) {'<' if direction in ['IN', 'BOTH'] else ''}-[:{relationship_type}]-{'>' if direction in ['OUT', 'BOTH'] else ''}()\"\n",
    "\n",
    "    df = gds.run_cypher(\n",
    "        f\"\"\"\n",
    "            MATCH {match}\n",
    "            RETURN n.id as id,COUNT(*) AS degreeCount\n",
    "            ORDER BY degreeCount DESC;\n",
    "        \"\"\"\n",
    "    )\n",
    "    return df\n",
    "\n",
    "\n",
    "def get_percentiles(df, q=None):\n",
    "    if q is None:\n",
    "        q = [0.1, 0.25, 0.5, 0.75, 0.9, 0.95, 0.99]\n",
    "    q_name = [\"min\"] + [f\"p{int(100*i)}\" for i in q] + [\"max\"]\n",
    "    p = [df.min()] + [df[df.percentile >= i].iloc[0] for i in q] + [df.degree.max()]\n",
    "    p_df = pd.DataFrame(np.column_stack((q_name, p)), columns=[\"q\", \"percentile\"])\n",
    "    return p_df.set_index(\"q\")"
   ]
  },
  {
   "cell_type": "code",
   "execution_count": 9,
   "metadata": {},
   "outputs": [
    {
     "name": "stderr",
     "output_type": "stream",
     "text": [
      "/home/angelo-dev/miniconda3/envs/data_science/lib/python3.11/site-packages/graphdatascience/query_runner/neo4j_query_runner.py:224: RuntimeWarning: One of the property names in your query is not available in the database, make sure you didn't misspell it or that the label is available when you run this statement in your application (the missing property name is: id)\n",
      "  warnings.warn(warning)\n",
      "/home/angelo-dev/miniconda3/envs/data_science/lib/python3.11/site-packages/graphdatascience/query_runner/neo4j_query_runner.py:224: RuntimeWarning: One of the property names in your query is not available in the database, make sure you didn't misspell it or that the label is available when you run this statement in your application (the missing property name is: id)\n",
      "  warnings.warn(warning)\n",
      "/home/angelo-dev/miniconda3/envs/data_science/lib/python3.11/site-packages/graphdatascience/query_runner/neo4j_query_runner.py:224: RuntimeWarning: One of the property names in your query is not available in the database, make sure you didn't misspell it or that the label is available when you run this statement in your application (the missing property name is: id)\n",
      "  warnings.warn(warning)\n"
     ]
    },
    {
     "data": {
      "text/plain": [
       "<Axes: >"
      ]
     },
     "execution_count": 9,
     "metadata": {},
     "output_type": "execute_result"
    },
    {
     "data": {
      "image/png": "[encoded data removed]",
      "text/plain": [
       "<Figure size 1000x500 with 4 Axes>"
      ]
     },
     "metadata": {},
     "output_type": "display_data"
    }
   ],
   "source": [
    "import matplotlib.pyplot as plt\n",
    "\n",
    "all_ratings_df = degree_counts(\"Movie\", \"RATED\", \"IN\")\n",
    "all_tags_df = degree_counts(\"Movie\", \"TAGGED\", \"IN\")\n",
    "all_genres_df = degree_counts(\"Genre\", \"IN_GENRE\", \"IN\")\n",
    "\n",
    "# plot disributions\n",
    "f, axs = plt.subplots(2, 2, figsize=(10, 5))\n",
    "\n",
    "all_ratings_df.plot(\n",
    "    x=\"id\",\n",
    "    y=\"degreeCount\",\n",
    "    kind=\"hist\",\n",
    "    ax=axs[0, 0],\n",
    "    title=\"Movie Ratings Distribution\",\n",
    "    bins=100,\n",
    ")\n",
    "all_tags_df.plot(\n",
    "    x=\"id\",\n",
    "    y=\"degreeCount\",\n",
    "    kind=\"hist\",\n",
    "    ax=axs[0, 1],\n",
    "    title=\"Movie Tags Distribution\",\n",
    "    bins=100,\n",
    ")\n",
    "\n",
    "all_ratings_df.boxplot(column=\"degreeCount\", ax=axs[1, 0])\n",
    "all_tags_df.boxplot(column=\"degreeCount\", ax=axs[1, 1])"
   ]
  },
  {
   "cell_type": "code",
   "execution_count": 10,
   "metadata": {},
   "outputs": [
    {
     "data": {
      "text/html": [
       "<div>\n",
       "<style scoped>\n",
       "    .dataframe tbody tr th:only-of-type {\n",
       "        vertical-align: middle;\n",
       "    }\n",
       "\n",
       "    .dataframe tbody tr th {\n",
       "        vertical-align: top;\n",
       "    }\n",
       "\n",
       "    .dataframe thead th {\n",
       "        text-align: right;\n",
       "    }\n",
       "</style>\n",
       "<table border=\"1\" class=\"dataframe\">\n",
       "  <thead>\n",
       "    <tr style=\"text-align: right;\">\n",
       "      <th></th>\n",
       "      <th>id</th>\n",
       "      <th>degreeCount</th>\n",
       "    </tr>\n",
       "  </thead>\n",
       "  <tbody>\n",
       "    <tr>\n",
       "      <th>0</th>\n",
       "      <td>None</td>\n",
       "      <td>33832162</td>\n",
       "    </tr>\n",
       "  </tbody>\n",
       "</table>\n",
       "</div>"
      ],
      "text/plain": [
       "     id  degreeCount\n",
       "0  None     33832162"
      ]
     },
     "execution_count": 10,
     "metadata": {},
     "output_type": "execute_result"
    }
   ],
   "source": [
    "all_ratings_df"
   ]
  },
  {
   "cell_type": "code",
   "execution_count": null,
   "metadata": {},
   "outputs": [],
   "source": []
  }
 ],
 "metadata": {
  "kernelspec": {
   "display_name": "data_science",
   "language": "python",
   "name": "python3"
  },
  "language_info": {
   "codemirror_mode": {
    "name": "ipython",
    "version": 3
   },
   "file_extension": ".py",
   "mimetype": "text/x-python",
   "name": "python",
   "nbconvert_exporter": "python",
   "pygments_lexer": "ipython3",
   "version": "3.11.8"
  }
 },
 "nbformat": 4,
 "nbformat_minor": 2
}
