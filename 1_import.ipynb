{
 "cells": [
  {
   "cell_type": "markdown",
   "metadata": {},
   "source": [
    "# Import with Neo4j-admin"
   ]
  },
  {
   "cell_type": "code",
   "execution_count": 1,
   "metadata": {},
   "outputs": [
    {
     "name": "stdout",
     "output_type": "stream",
     "text": [
      "Successfully connected to Neo4j\n",
      "Database already exists\n"
     ]
    }
   ],
   "source": [
    "from neo4j import GraphDatabase\n",
    "\n",
    "URI = \"neo4j://localhost:7687\"\n",
    "NAME_DB = \"neo4j\"\n",
    "\n",
    "driver = GraphDatabase.driver(URI)\n",
    "\n",
    "driver.verify_connectivity()\n",
    "print(\"Successfully connected to Neo4j\")\n",
    "\n",
    "session = driver.session(database=\"system\")\n",
    "\n",
    "if [NAME_DB] in session.run(\"SHOW DATABASE yield name;\").values():\n",
    "    print(\"Database already exists\")\n",
    "else:\n",
    "    session.run(f\"CREATE DATABASE {NAME_DB};\")\n",
    "    print(\"Database created\")\n",
    "session = driver.session(database=NAME_DB)"
   ]
  },
  {
   "cell_type": "code",
   "execution_count": 2,
   "metadata": {},
   "outputs": [
    {
     "data": {
      "text/plain": [
       "<neo4j._sync.work.result.Result at 0x7f582388cdd0>"
      ]
     },
     "execution_count": 2,
     "metadata": {},
     "output_type": "execute_result"
    }
   ],
   "source": [
    "# CONSTRAINTS for unique IDs\n",
    "session.run(\n",
    "    \"\"\"\n",
    "    CREATE CONSTRAINT UniqueMovieID IF NOT EXISTS \n",
    "    FOR (m:Movie) \n",
    "    REQUIRE m.id IS unique;\n",
    "    \"\"\"\n",
    ")\n",
    "session.run(\n",
    "    \"\"\"\n",
    "    CREATE CONSTRAINT UniqueUserID IF NOT EXISTS \n",
    "    FOR (u:User) \n",
    "    REQUIRE u.id IS unique;\n",
    "    \"\"\"\n",
    ")\n",
    "session.run(\n",
    "    \"\"\"\n",
    "    CREATE CONSTRAINT UniqueGenreID IF NOT EXISTS \n",
    "    FOR (g:Genre) \n",
    "    REQUIRE g.id IS unique;\n",
    "    \"\"\"\n",
    ")"
   ]
  },
  {
   "cell_type": "code",
   "execution_count": null,
   "metadata": {},
   "outputs": [],
   "source": [
    "session.run(\n",
    "    \"\"\"\n",
    "    CREATE INDEX RangeIndexTimestampRatings FOR ()-[r:RATED]-() ON (r.timestamp)\n",
    "    \"\"\"\n",
    ")"
   ]
  },
  {
   "cell_type": "markdown",
   "metadata": {},
   "source": [
    "## Follow this step on your shell\n",
    "\n",
    "Start docker:\n",
    "```\n",
    "docker compose -d\n",
    "```\n",
    "\n",
    "Go to the container's shell\n",
    "\n",
    "```\n",
    " docker exec -it neo4j_server /bin/bash\n",
    "```\n",
    "\n",
    "After that, you can use neo4j-admin command \n",
    "```\n",
    "neo4j-admin database import full movies --overwrite-destination --id-type=integer --nodes import/users.csv import/movies.csv import/genres.csv --relationships import/ratings.csv import/movies_genres.csv\n",
    "```\n",
    "\n",
    "Restart docker container and you will see movies database with data.\n",
    "\n",
    "After that the result output should be that:  \n",
    "![alt text](image-1.png)\n",
    "\n",
    "For consistency check you can run this command:\n",
    "```\n",
    "neo4j-admin database check neo4j\n",
    "```"
   ]
  }
 ],
 "metadata": {
  "kernelspec": {
   "display_name": "data_science",
   "language": "python",
   "name": "python3"
  },
  "language_info": {
   "codemirror_mode": {
    "name": "ipython",
    "version": 3
   },
   "file_extension": ".py",
   "mimetype": "text/x-python",
   "name": "python",
   "nbconvert_exporter": "python",
   "pygments_lexer": "ipython3",
   "version": "3.11.8"
  }
 },
 "nbformat": 4,
 "nbformat_minor": 2
}
