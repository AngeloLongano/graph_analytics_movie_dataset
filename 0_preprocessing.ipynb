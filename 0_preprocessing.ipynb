{
 "cells": [
  {
   "cell_type": "markdown",
   "metadata": {},
   "source": [
    "# Prepare data for import\n",
    "The Movie dataset is picked from GroupLens at this link [here](https://files.grouplens.org/datasets/movielens/ml-1m.zip).  \n",
    "Dimensions of the dataset is: 4k movies, 6k users and 1M ratings.  \n",
    "The files inside the zip directory are: \n",
    "- `users.csv`: list of users with userId, gender, age and occupation\n",
    "- `movies.csv`: lists of movies with movieId, name, genres list\n",
    "- `ratings.csv`: list of ratings from users with userId, movieId, rating and timestamp\n",
    "\n",
    "Datasets file was in .bat extension so it be done some steps to convert in CSV:\n",
    "- Remove all `,` character.\n",
    "- Convert actual delimiter `::` to `,`\n",
    "- Added headers according to README info\n",
    "    - USERS: userId,gender,age,occupation,zip_code\n",
    "    - MOVIES: movieId,title,genres\n",
    "    - RATINGS: userId,movieId,rating,timestamp\n",
    "\n",
    "Or unzip this dir with files ready [dataset.zip](dataset.zip)  \n",
    "\n",
    "Move all files .csv in a dir named: `dataset`  "
   ]
  },
  {
   "cell_type": "markdown",
   "metadata": {},
   "source": [
    "## Load data\n",
    "Starting with load data from dir specified on `source_dataset`.  \n",
    "It is specified dtype on dataframe import for better performance. "
   ]
  },
  {
   "cell_type": "code",
   "execution_count": 13,
   "metadata": {},
   "outputs": [],
   "source": [
    "import pandas as pd\n",
    "import numpy as np\n",
    "\n",
    "source_dataset = \"dataset\"\n",
    "\n",
    "movies = pd.read_csv(\n",
    "    f\"{source_dataset}/movies.csv\",\n",
    "    dtype={\"movieId\": np.int32, \"title\": str, \"genres\": str},\n",
    ")\n",
    "ratings = pd.read_csv(\n",
    "    f\"{source_dataset}/ratings.csv\",\n",
    "    dtype={\n",
    "        \"userId\": np.int16,\n",
    "        \"movieId\": np.int16,\n",
    "        \"rating\": np.int8,\n",
    "        \"timestamp\": np.int32,\n",
    "    },\n",
    ")\n",
    "users = pd.read_csv(\n",
    "    f\"{source_dataset}/users.csv\",\n",
    "    dtype={\n",
    "        \"userId\": np.int16,\n",
    "        \"gender\": str,\n",
    "        \"age\": np.int8,\n",
    "        \"occupation\": np.int8,\n",
    "    },\n",
    ")"
   ]
  },
  {
   "cell_type": "markdown",
   "metadata": {},
   "source": [
    "## Check data quality"
   ]
  },
  {
   "cell_type": "markdown",
   "metadata": {},
   "source": [
    "### Movies\n",
    "In movies dataframe it can see that we have not null values and movieIds are unique.  \n",
    "It can see that titles can have inside year info.  \n",
    "In genres there's a list of genres that could be an other table to do a better graph analysis later."
   ]
  },
  {
   "cell_type": "code",
   "execution_count": 14,
   "metadata": {},
   "outputs": [
    {
     "name": "stdout",
     "output_type": "stream",
     "text": [
      "Movies size is (3883, 3)\n",
      "Unique movieIds? True\n",
      "Unique titles? True\n",
      "<class 'pandas.core.frame.DataFrame'>\n",
      "RangeIndex: 3883 entries, 0 to 3882\n",
      "Data columns (total 3 columns):\n",
      " #   Column   Non-Null Count  Dtype \n",
      "---  ------   --------------  ----- \n",
      " 0   movieId  3883 non-null   int32 \n",
      " 1   title    3883 non-null   object\n",
      " 2   genres   3883 non-null   object\n",
      "dtypes: int32(1), object(2)\n",
      "memory usage: 76.0+ KB\n"
     ]
    },
    {
     "data": {
      "text/html": [
       "<div>\n",
       "<style scoped>\n",
       "    .dataframe tbody tr th:only-of-type {\n",
       "        vertical-align: middle;\n",
       "    }\n",
       "\n",
       "    .dataframe tbody tr th {\n",
       "        vertical-align: top;\n",
       "    }\n",
       "\n",
       "    .dataframe thead th {\n",
       "        text-align: right;\n",
       "    }\n",
       "</style>\n",
       "<table border=\"1\" class=\"dataframe\">\n",
       "  <thead>\n",
       "    <tr style=\"text-align: right;\">\n",
       "      <th></th>\n",
       "      <th>movieId</th>\n",
       "      <th>title</th>\n",
       "      <th>genres</th>\n",
       "    </tr>\n",
       "  </thead>\n",
       "  <tbody>\n",
       "    <tr>\n",
       "      <th>0</th>\n",
       "      <td>1</td>\n",
       "      <td>Toy Story (1995)</td>\n",
       "      <td>Animation|Children's|Comedy</td>\n",
       "    </tr>\n",
       "    <tr>\n",
       "      <th>1</th>\n",
       "      <td>2</td>\n",
       "      <td>Jumanji (1995)</td>\n",
       "      <td>Adventure|Children's|Fantasy</td>\n",
       "    </tr>\n",
       "    <tr>\n",
       "      <th>2</th>\n",
       "      <td>3</td>\n",
       "      <td>Grumpier Old Men (1995)</td>\n",
       "      <td>Comedy|Romance</td>\n",
       "    </tr>\n",
       "    <tr>\n",
       "      <th>3</th>\n",
       "      <td>4</td>\n",
       "      <td>Waiting to Exhale (1995)</td>\n",
       "      <td>Comedy|Drama</td>\n",
       "    </tr>\n",
       "    <tr>\n",
       "      <th>4</th>\n",
       "      <td>5</td>\n",
       "      <td>Father of the Bride Part II (1995)</td>\n",
       "      <td>Comedy</td>\n",
       "    </tr>\n",
       "  </tbody>\n",
       "</table>\n",
       "</div>"
      ],
      "text/plain": [
       "   movieId                               title                        genres\n",
       "0        1                    Toy Story (1995)   Animation|Children's|Comedy\n",
       "1        2                      Jumanji (1995)  Adventure|Children's|Fantasy\n",
       "2        3             Grumpier Old Men (1995)                Comedy|Romance\n",
       "3        4            Waiting to Exhale (1995)                  Comedy|Drama\n",
       "4        5  Father of the Bride Part II (1995)                        Comedy"
      ]
     },
     "execution_count": 14,
     "metadata": {},
     "output_type": "execute_result"
    }
   ],
   "source": [
    "print(f\"Movies size is {movies.shape}\")\n",
    "print(f\"Unique movieIds? {movies['movieId'].nunique() == movies.shape[0]}\")\n",
    "print(f\"Unique titles? {movies['title'].nunique() == movies.shape[0]}\")\n",
    "\n",
    "movies.info()\n",
    "movies.head()"
   ]
  },
  {
   "cell_type": "markdown",
   "metadata": {},
   "source": [
    "### Ratings\n",
    "In the ratings dataframe it can see that all ratings are in the range 0 to 5 (with step of 1 according with readme of dataset and type check on csv loads).  \n",
    "There's a timestamp field that will be formatted"
   ]
  },
  {
   "cell_type": "code",
   "execution_count": 15,
   "metadata": {},
   "outputs": [
    {
     "name": "stdout",
     "output_type": "stream",
     "text": [
      "\n",
      "Ratings size is (1000209, 4)\n",
      "Are there any negative ratings? False\n",
      "Are there any voting above 5? False\n",
      "\n",
      "<class 'pandas.core.frame.DataFrame'>\n",
      "RangeIndex: 1000209 entries, 0 to 1000208\n",
      "Data columns (total 4 columns):\n",
      " #   Column     Non-Null Count    Dtype\n",
      "---  ------     --------------    -----\n",
      " 0   userId     1000209 non-null  int16\n",
      " 1   movieId    1000209 non-null  int16\n",
      " 2   rating     1000209 non-null  int8 \n",
      " 3   timestamp  1000209 non-null  int32\n",
      "dtypes: int16(2), int32(1), int8(1)\n",
      "memory usage: 8.6 MB\n"
     ]
    },
    {
     "data": {
      "text/html": [
       "<div>\n",
       "<style scoped>\n",
       "    .dataframe tbody tr th:only-of-type {\n",
       "        vertical-align: middle;\n",
       "    }\n",
       "\n",
       "    .dataframe tbody tr th {\n",
       "        vertical-align: top;\n",
       "    }\n",
       "\n",
       "    .dataframe thead th {\n",
       "        text-align: right;\n",
       "    }\n",
       "</style>\n",
       "<table border=\"1\" class=\"dataframe\">\n",
       "  <thead>\n",
       "    <tr style=\"text-align: right;\">\n",
       "      <th></th>\n",
       "      <th>userId</th>\n",
       "      <th>movieId</th>\n",
       "      <th>rating</th>\n",
       "      <th>timestamp</th>\n",
       "    </tr>\n",
       "  </thead>\n",
       "  <tbody>\n",
       "    <tr>\n",
       "      <th>0</th>\n",
       "      <td>1</td>\n",
       "      <td>1193</td>\n",
       "      <td>5</td>\n",
       "      <td>978300760</td>\n",
       "    </tr>\n",
       "    <tr>\n",
       "      <th>1</th>\n",
       "      <td>1</td>\n",
       "      <td>661</td>\n",
       "      <td>3</td>\n",
       "      <td>978302109</td>\n",
       "    </tr>\n",
       "    <tr>\n",
       "      <th>2</th>\n",
       "      <td>1</td>\n",
       "      <td>914</td>\n",
       "      <td>3</td>\n",
       "      <td>978301968</td>\n",
       "    </tr>\n",
       "    <tr>\n",
       "      <th>3</th>\n",
       "      <td>1</td>\n",
       "      <td>3408</td>\n",
       "      <td>4</td>\n",
       "      <td>978300275</td>\n",
       "    </tr>\n",
       "    <tr>\n",
       "      <th>4</th>\n",
       "      <td>1</td>\n",
       "      <td>2355</td>\n",
       "      <td>5</td>\n",
       "      <td>978824291</td>\n",
       "    </tr>\n",
       "  </tbody>\n",
       "</table>\n",
       "</div>"
      ],
      "text/plain": [
       "   userId  movieId  rating  timestamp\n",
       "0       1     1193       5  978300760\n",
       "1       1      661       3  978302109\n",
       "2       1      914       3  978301968\n",
       "3       1     3408       4  978300275\n",
       "4       1     2355       5  978824291"
      ]
     },
     "execution_count": 15,
     "metadata": {},
     "output_type": "execute_result"
    }
   ],
   "source": [
    "print(f\"\\nRatings size is {ratings.shape}\")\n",
    "print(f\"Are there any negative ratings? {ratings[ratings['rating']<0].size!=0}\")\n",
    "print(f\"Are there any voting above 5? {ratings[ratings['rating']>5].size!=0}\\n\")\n",
    "\n",
    "ratings.info()\n",
    "ratings.head()"
   ]
  },
  {
   "cell_type": "markdown",
   "metadata": {},
   "source": [
    "### Users\n",
    "Also in the users dataframe there're not any null values and all ids are unique.  \n",
    "We have some information in numbers that will mapped with labels later in the analysis (using [helpers.py](helpers.py))  \n",
    "Data users are good and we just delete zip_code column that is not useful information."
   ]
  },
  {
   "cell_type": "code",
   "execution_count": 16,
   "metadata": {},
   "outputs": [
    {
     "name": "stdout",
     "output_type": "stream",
     "text": [
      "\n",
      "Users size is (6040, 5)\n",
      "Unique userIds? True\n",
      "Genders types: 2\n",
      "Age types: 7\n",
      "Occupation types: 21\n",
      "\n",
      "<class 'pandas.core.frame.DataFrame'>\n",
      "RangeIndex: 6040 entries, 0 to 6039\n",
      "Data columns (total 4 columns):\n",
      " #   Column      Non-Null Count  Dtype \n",
      "---  ------      --------------  ----- \n",
      " 0   userId      6040 non-null   int16 \n",
      " 1   gender      6040 non-null   object\n",
      " 2   age         6040 non-null   int8  \n",
      " 3   occupation  6040 non-null   int8  \n",
      "dtypes: int16(1), int8(2), object(1)\n",
      "memory usage: 70.9+ KB\n"
     ]
    },
    {
     "data": {
      "text/html": [
       "<div>\n",
       "<style scoped>\n",
       "    .dataframe tbody tr th:only-of-type {\n",
       "        vertical-align: middle;\n",
       "    }\n",
       "\n",
       "    .dataframe tbody tr th {\n",
       "        vertical-align: top;\n",
       "    }\n",
       "\n",
       "    .dataframe thead th {\n",
       "        text-align: right;\n",
       "    }\n",
       "</style>\n",
       "<table border=\"1\" class=\"dataframe\">\n",
       "  <thead>\n",
       "    <tr style=\"text-align: right;\">\n",
       "      <th></th>\n",
       "      <th>userId</th>\n",
       "      <th>gender</th>\n",
       "      <th>age</th>\n",
       "      <th>occupation</th>\n",
       "    </tr>\n",
       "  </thead>\n",
       "  <tbody>\n",
       "    <tr>\n",
       "      <th>0</th>\n",
       "      <td>1</td>\n",
       "      <td>F</td>\n",
       "      <td>1</td>\n",
       "      <td>10</td>\n",
       "    </tr>\n",
       "    <tr>\n",
       "      <th>1</th>\n",
       "      <td>2</td>\n",
       "      <td>M</td>\n",
       "      <td>56</td>\n",
       "      <td>16</td>\n",
       "    </tr>\n",
       "    <tr>\n",
       "      <th>2</th>\n",
       "      <td>3</td>\n",
       "      <td>M</td>\n",
       "      <td>25</td>\n",
       "      <td>15</td>\n",
       "    </tr>\n",
       "    <tr>\n",
       "      <th>3</th>\n",
       "      <td>4</td>\n",
       "      <td>M</td>\n",
       "      <td>45</td>\n",
       "      <td>7</td>\n",
       "    </tr>\n",
       "    <tr>\n",
       "      <th>4</th>\n",
       "      <td>5</td>\n",
       "      <td>M</td>\n",
       "      <td>25</td>\n",
       "      <td>20</td>\n",
       "    </tr>\n",
       "  </tbody>\n",
       "</table>\n",
       "</div>"
      ],
      "text/plain": [
       "   userId gender  age  occupation\n",
       "0       1      F    1          10\n",
       "1       2      M   56          16\n",
       "2       3      M   25          15\n",
       "3       4      M   45           7\n",
       "4       5      M   25          20"
      ]
     },
     "execution_count": 16,
     "metadata": {},
     "output_type": "execute_result"
    }
   ],
   "source": [
    "print(f\"\\nUsers size is {users.shape}\")\n",
    "print(f\"Unique userIds? {users['userId'].nunique() == users.shape[0]}\")\n",
    "print(f\"Genders types: {users['gender'].value_counts().shape[0]}\")\n",
    "print(f\"Age types: {users['age'].value_counts().shape[0]}\")\n",
    "print(f\"Occupation types: {users['occupation'].value_counts().shape[0]}\\n\")\n",
    "# Remove zip code because it is not useful\n",
    "users.drop(columns=[\"zip_code\"], inplace=True)\n",
    "\n",
    "users.info()\n",
    "users.head()"
   ]
  },
  {
   "cell_type": "markdown",
   "metadata": {},
   "source": [
    "## Transform data\n",
    "In this section we will transform data to achieve more information and more capabilities to analyze them later."
   ]
  },
  {
   "cell_type": "markdown",
   "metadata": {},
   "source": [
    "### Extract year information from movie's title\n",
    "Every title of datasets have year information on its title, so it is extracted for better analysis"
   ]
  },
  {
   "cell_type": "code",
   "execution_count": 17,
   "metadata": {},
   "outputs": [
    {
     "name": "stdout",
     "output_type": "stream",
     "text": [
      "Movies with no year: 0\n"
     ]
    },
    {
     "data": {
      "text/plain": [
       "0    1995\n",
       "1    1995\n",
       "2    1995\n",
       "3    1995\n",
       "4    1995\n",
       "Name: year, dtype: int64"
      ]
     },
     "execution_count": 17,
     "metadata": {},
     "output_type": "execute_result"
    }
   ],
   "source": [
    "movies_year = movies[\"title\"].str.extract(r\"\\((\\d{4})\\)\")\n",
    "print(f\"Movies with no year: {movies_year.isna().any().sum()}\")\n",
    "movies[\"year\"] = movies_year.astype(int)\n",
    "movies[\"year\"].head()"
   ]
  },
  {
   "cell_type": "markdown",
   "metadata": {},
   "source": [
    "### Create genre nodes and movie-genre relationships"
   ]
  },
  {
   "cell_type": "code",
   "execution_count": 18,
   "metadata": {},
   "outputs": [
    {
     "data": {
      "text/html": [
       "<div>\n",
       "<style scoped>\n",
       "    .dataframe tbody tr th:only-of-type {\n",
       "        vertical-align: middle;\n",
       "    }\n",
       "\n",
       "    .dataframe tbody tr th {\n",
       "        vertical-align: top;\n",
       "    }\n",
       "\n",
       "    .dataframe thead th {\n",
       "        text-align: right;\n",
       "    }\n",
       "</style>\n",
       "<table border=\"1\" class=\"dataframe\">\n",
       "  <thead>\n",
       "    <tr style=\"text-align: right;\">\n",
       "      <th></th>\n",
       "      <th>genreId</th>\n",
       "      <th>name</th>\n",
       "    </tr>\n",
       "  </thead>\n",
       "  <tbody>\n",
       "    <tr>\n",
       "      <th>0</th>\n",
       "      <td>1</td>\n",
       "      <td>Drama</td>\n",
       "    </tr>\n",
       "    <tr>\n",
       "      <th>1</th>\n",
       "      <td>2</td>\n",
       "      <td>Comedy</td>\n",
       "    </tr>\n",
       "    <tr>\n",
       "      <th>2</th>\n",
       "      <td>3</td>\n",
       "      <td>Action</td>\n",
       "    </tr>\n",
       "    <tr>\n",
       "      <th>3</th>\n",
       "      <td>4</td>\n",
       "      <td>Thriller</td>\n",
       "    </tr>\n",
       "    <tr>\n",
       "      <th>4</th>\n",
       "      <td>5</td>\n",
       "      <td>Romance</td>\n",
       "    </tr>\n",
       "  </tbody>\n",
       "</table>\n",
       "</div>"
      ],
      "text/plain": [
       "   genreId      name\n",
       "0        1     Drama\n",
       "1        2    Comedy\n",
       "2        3    Action\n",
       "3        4  Thriller\n",
       "4        5   Romance"
      ]
     },
     "execution_count": 18,
     "metadata": {},
     "output_type": "execute_result"
    }
   ],
   "source": [
    "movies[\"genres\"] = movies[\"genres\"].str.split(\"|\")\n",
    "movies_genres = movies[[\"movieId\", \"genres\"]].explode(\"genres\")\n",
    "genres = movies_genres[\"genres\"].value_counts().index.to_list()\n",
    "\n",
    "# include integer ids for genres\n",
    "movies_genres[\"genreId\"] = movies_genres[\"genres\"].apply(lambda x: genres.index(x) + 1)\n",
    "\n",
    "# remove unuseful columns\n",
    "movies.drop(columns=[\"genres\"], inplace=True)\n",
    "movies_genres.drop(columns=[\"genres\"], inplace=True)\n",
    "\n",
    "# create genre nodes\n",
    "genres = pd.DataFrame(genres, columns=[\"name\"])\n",
    "genres[\"genreId\"] = genres.index + 1\n",
    "genres = genres.reindex(columns=[\"genreId\", \"name\"])\n",
    "\n",
    "genres.head()"
   ]
  },
  {
   "cell_type": "code",
   "execution_count": 19,
   "metadata": {},
   "outputs": [
    {
     "data": {
      "text/html": [
       "<div>\n",
       "<style scoped>\n",
       "    .dataframe tbody tr th:only-of-type {\n",
       "        vertical-align: middle;\n",
       "    }\n",
       "\n",
       "    .dataframe tbody tr th {\n",
       "        vertical-align: top;\n",
       "    }\n",
       "\n",
       "    .dataframe thead th {\n",
       "        text-align: right;\n",
       "    }\n",
       "</style>\n",
       "<table border=\"1\" class=\"dataframe\">\n",
       "  <thead>\n",
       "    <tr style=\"text-align: right;\">\n",
       "      <th></th>\n",
       "      <th>movieId</th>\n",
       "      <th>genreId</th>\n",
       "    </tr>\n",
       "  </thead>\n",
       "  <tbody>\n",
       "    <tr>\n",
       "      <th>0</th>\n",
       "      <td>1</td>\n",
       "      <td>15</td>\n",
       "    </tr>\n",
       "    <tr>\n",
       "      <th>0</th>\n",
       "      <td>1</td>\n",
       "      <td>9</td>\n",
       "    </tr>\n",
       "    <tr>\n",
       "      <th>0</th>\n",
       "      <td>1</td>\n",
       "      <td>2</td>\n",
       "    </tr>\n",
       "    <tr>\n",
       "      <th>1</th>\n",
       "      <td>2</td>\n",
       "      <td>7</td>\n",
       "    </tr>\n",
       "    <tr>\n",
       "      <th>1</th>\n",
       "      <td>2</td>\n",
       "      <td>9</td>\n",
       "    </tr>\n",
       "  </tbody>\n",
       "</table>\n",
       "</div>"
      ],
      "text/plain": [
       "   movieId  genreId\n",
       "0        1       15\n",
       "0        1        9\n",
       "0        1        2\n",
       "1        2        7\n",
       "1        2        9"
      ]
     },
     "execution_count": 19,
     "metadata": {},
     "output_type": "execute_result"
    }
   ],
   "source": [
    "movies_genres.head()"
   ]
  },
  {
   "cell_type": "markdown",
   "metadata": {},
   "source": [
    "### Extract useful information on timestamp\n",
    "For our analysis timestamp could be a way to know when users are used to reviewing movies.  \n",
    "Datetime search is slowly and we don't need so much information about that.  \n",
    "It could be useful convert timestamp into two information: year and month.  "
   ]
  },
  {
   "cell_type": "code",
   "execution_count": 20,
   "metadata": {},
   "outputs": [
    {
     "data": {
      "text/html": [
       "<div>\n",
       "<style scoped>\n",
       "    .dataframe tbody tr th:only-of-type {\n",
       "        vertical-align: middle;\n",
       "    }\n",
       "\n",
       "    .dataframe tbody tr th {\n",
       "        vertical-align: top;\n",
       "    }\n",
       "\n",
       "    .dataframe thead th {\n",
       "        text-align: right;\n",
       "    }\n",
       "</style>\n",
       "<table border=\"1\" class=\"dataframe\">\n",
       "  <thead>\n",
       "    <tr style=\"text-align: right;\">\n",
       "      <th></th>\n",
       "      <th>userId</th>\n",
       "      <th>movieId</th>\n",
       "      <th>rating</th>\n",
       "      <th>year</th>\n",
       "      <th>month</th>\n",
       "    </tr>\n",
       "  </thead>\n",
       "  <tbody>\n",
       "    <tr>\n",
       "      <th>0</th>\n",
       "      <td>1</td>\n",
       "      <td>1193</td>\n",
       "      <td>5</td>\n",
       "      <td>2000</td>\n",
       "      <td>12</td>\n",
       "    </tr>\n",
       "    <tr>\n",
       "      <th>1</th>\n",
       "      <td>1</td>\n",
       "      <td>661</td>\n",
       "      <td>3</td>\n",
       "      <td>2000</td>\n",
       "      <td>12</td>\n",
       "    </tr>\n",
       "    <tr>\n",
       "      <th>2</th>\n",
       "      <td>1</td>\n",
       "      <td>914</td>\n",
       "      <td>3</td>\n",
       "      <td>2000</td>\n",
       "      <td>12</td>\n",
       "    </tr>\n",
       "    <tr>\n",
       "      <th>3</th>\n",
       "      <td>1</td>\n",
       "      <td>3408</td>\n",
       "      <td>4</td>\n",
       "      <td>2000</td>\n",
       "      <td>12</td>\n",
       "    </tr>\n",
       "    <tr>\n",
       "      <th>4</th>\n",
       "      <td>1</td>\n",
       "      <td>2355</td>\n",
       "      <td>5</td>\n",
       "      <td>2001</td>\n",
       "      <td>1</td>\n",
       "    </tr>\n",
       "  </tbody>\n",
       "</table>\n",
       "</div>"
      ],
      "text/plain": [
       "   userId  movieId  rating  year  month\n",
       "0       1     1193       5  2000     12\n",
       "1       1      661       3  2000     12\n",
       "2       1      914       3  2000     12\n",
       "3       1     3408       4  2000     12\n",
       "4       1     2355       5  2001      1"
      ]
     },
     "execution_count": 20,
     "metadata": {},
     "output_type": "execute_result"
    }
   ],
   "source": [
    "ratings[\"year\"] = pd.to_datetime(ratings[\"timestamp\"], unit=\"s\").dt.year\n",
    "ratings[\"month\"] = pd.to_datetime(ratings[\"timestamp\"], unit=\"s\").dt.month\n",
    "ratings.drop(columns=[\"timestamp\"], inplace=True)\n",
    "ratings.head()"
   ]
  },
  {
   "cell_type": "markdown",
   "metadata": {},
   "source": [
    "# Import data\n"
   ]
  },
  {
   "cell_type": "markdown",
   "metadata": {},
   "source": [
    "Dataset is not to big but 1M ratings make the import slowly (more than 30 minutes).  \n",
    "So I preferred to use [neo4j-admin-import](https://neo4j.com/docs/operations-manual/current/tools/neo4j-admin/neo4j-admin-import)  \n",
    "In this cell it be formatted file following the [docs](https://neo4j.com/docs/operations-manual/current/tools/neo4j-admin/neo4j-admin-import/#import-tool-header-format).  \n",
    "\n",
    "N.B.: if you want import data in classical way (LOAD CSV with Cypher), DON'T RUN this cell and go to [classical_import](1_classical_import.ipynb)"
   ]
  },
  {
   "cell_type": "code",
   "execution_count": 21,
   "metadata": {},
   "outputs": [],
   "source": [
    "movies.columns = [\"movieId:ID(Movie-ID)\", \"title\", \"year:int\"]\n",
    "movies[\":LABEL\"] = \"Movie\"\n",
    "\n",
    "users.columns = [\"userId:ID(User-ID)\", \"gender:string\", \"age:int\", \"occupation:int\"]\n",
    "users[\":LABEL\"] = \"User\"\n",
    "\n",
    "genres.columns = [\"genreId:ID(Genre-ID)\", \"name:string\"]\n",
    "genres[\":LABEL\"] = \"Genre\"\n",
    "\n",
    "ratings.columns = [\n",
    "    \"userId:START_ID(User-ID)\",\n",
    "    \"movieId:END_ID(Movie-ID)\",\n",
    "    \"rating:int\",\n",
    "    \"year:int\",\n",
    "    \"month:int\",\n",
    "]\n",
    "ratings[\":TYPE\"] = \"RATED\"\n",
    "\n",
    "movies_genres.columns = [\n",
    "    \"movieId:START_ID(Movie-ID)\",\n",
    "    \"genreId:END_ID(Genre-ID)\",\n",
    "]\n",
    "movies_genres[\":TYPE\"] = \"BELONGS\""
   ]
  },
  {
   "cell_type": "code",
   "execution_count": 26,
   "metadata": {},
   "outputs": [],
   "source": [
    "import os\n",
    "\n",
    "path_to_save = \"docker_import\"\n",
    "\n",
    "\n",
    "if not os.path.exists(path_to_save):\n",
    "    os.makedirs(path_to_save)\n",
    "\n",
    "movies.to_csv(f\"{path_to_save}/movies.csv\", index=False)\n",
    "users.to_csv(f\"{path_to_save}/users.csv\", index=False)\n",
    "genres.to_csv(f\"{path_to_save}/genres.csv\", index=False)\n",
    "\n",
    "ratings.to_csv(f\"{path_to_save}/ratings.csv\", index=False)\n",
    "movies_genres.to_csv(f\"{path_to_save}/movies_genres.csv\", index=False)"
   ]
  },
  {
   "cell_type": "markdown",
   "metadata": {},
   "source": [
    "Note: docker could change the folder's permissions, and then in order to resume the permissions you can run this command  \n",
    "```\n",
    "sudo chmod -R 777 docker_import/\n",
    "```"
   ]
  }
 ],
 "metadata": {
  "kernelspec": {
   "display_name": "data_science",
   "language": "python",
   "name": "python3"
  },
  "language_info": {
   "codemirror_mode": {
    "name": "ipython",
    "version": 3
   },
   "file_extension": ".py",
   "mimetype": "text/x-python",
   "name": "python",
   "nbconvert_exporter": "python",
   "pygments_lexer": "ipython3",
   "version": "3.1.-1"
  }
 },
 "nbformat": 4,
 "nbformat_minor": 2
}
