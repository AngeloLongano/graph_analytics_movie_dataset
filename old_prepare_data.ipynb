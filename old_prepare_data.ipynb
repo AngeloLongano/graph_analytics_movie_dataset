{
 "cells": [
  {
   "cell_type": "markdown",
   "metadata": {},
   "source": [
    "# Exploratory data analysis on Facebook Pages dataset"
   ]
  },
  {
   "cell_type": "code",
   "execution_count": 1,
   "metadata": {},
   "outputs": [
    {
     "name": "stdout",
     "output_type": "stream",
     "text": [
      "Dataset URL: https://www.kaggle.com/datasets/ishandutta/facebook-large-pagepage-network-data-set\n",
      "License(s): ODbL-1.0\n",
      "Downloading facebook-large-pagepage-network-data-set.zip to ./data2\n",
      " 59%|██████████████████████▍               | 1.00M/1.70M [00:00<00:00, 2.05MB/s]\n",
      "100%|██████████████████████████████████████| 1.70M/1.70M [00:00<00:00, 2.99MB/s]\n"
     ]
    }
   ],
   "source": [
    "\n",
    "!kaggle datasets download -p ./data2 -d ishandutta/facebook-large-pagepage-network-data-set --unzip "
   ]
  },
  {
   "cell_type": "markdown",
   "metadata": {},
   "source": [
    "## Prepare data for import"
   ]
  },
  {
   "cell_type": "code",
   "execution_count": 8,
   "metadata": {},
   "outputs": [],
   "source": [
    "import pandas as pd\n",
    "\n",
    "pages = pd.read_csv(\"data/facebook_large/musae_facebook_target.csv\")\n",
    "edges = pd.read_csv(\"data/facebook_large/musae_facebook_edges.csv\")"
   ]
  },
  {
   "cell_type": "markdown",
   "metadata": {},
   "source": [
    "### Structure of data\n",
    "We have 22.470 vertex with 4 columns.  \n",
    "Every columns doesn't have missing data."
   ]
  },
  {
   "cell_type": "code",
   "execution_count": 9,
   "metadata": {},
   "outputs": [
    {
     "name": "stdout",
     "output_type": "stream",
     "text": [
      "VERTEX DATA\n",
      "shape: 22470 rows, 4 columns\n",
      "columns: ['id', 'facebook_id', 'page_name', 'page_type']\n",
      "\n",
      "<class 'pandas.core.frame.DataFrame'>\n",
      "RangeIndex: 22470 entries, 0 to 22469\n",
      "Data columns (total 4 columns):\n",
      " #   Column       Non-Null Count  Dtype \n",
      "---  ------       --------------  ----- \n",
      " 0   id           22470 non-null  int64 \n",
      " 1   facebook_id  22470 non-null  int64 \n",
      " 2   page_name    22470 non-null  object\n",
      " 3   page_type    22470 non-null  object\n",
      "dtypes: int64(2), object(2)\n",
      "memory usage: 702.3+ KB\n",
      "None\n"
     ]
    }
   ],
   "source": [
    "print(\"VERTEX DATA\")\n",
    "print(f\"shape: {pages.shape[0]} rows, {pages.shape[1]} columns\")\n",
    "print(f\"columns: {list(pages.columns)}\\n\")\n",
    "print(pages.info())"
   ]
  },
  {
   "cell_type": "markdown",
   "metadata": {},
   "source": [
    "We have 171.002 undericted edges and without labels.  \n",
    "Every columns doesn't have missing data."
   ]
  },
  {
   "cell_type": "code",
   "execution_count": 10,
   "metadata": {},
   "outputs": [
    {
     "name": "stdout",
     "output_type": "stream",
     "text": [
      "EDGE DATA\n",
      "shape: 171002 rows, 2 columns\n",
      "columns: ['id_1', 'id_2']\n",
      "\n",
      "<class 'pandas.core.frame.DataFrame'>\n",
      "RangeIndex: 171002 entries, 0 to 171001\n",
      "Data columns (total 2 columns):\n",
      " #   Column  Non-Null Count   Dtype\n",
      "---  ------  --------------   -----\n",
      " 0   id_1    171002 non-null  int64\n",
      " 1   id_2    171002 non-null  int64\n",
      "dtypes: int64(2)\n",
      "memory usage: 2.6 MB\n",
      "None\n"
     ]
    }
   ],
   "source": [
    "print(\"EDGE DATA\")\n",
    "print(f\"shape: {edges.shape[0]} rows, {edges.shape[1]} columns\")\n",
    "print(f\"columns: {list(edges.columns)}\\n\")\n",
    "print(edges.info())"
   ]
  },
  {
   "cell_type": "markdown",
   "metadata": {},
   "source": [
    "### Normalized data?"
   ]
  },
  {
   "cell_type": "markdown",
   "metadata": {},
   "source": [
    "Data structure is not normalized, pages have page_type attribute that is\n",
    "we have two ids for the edge.  \n",
    "facebook_id is not useful so we will delete it.  \n",
    "An interest thing is that we have multiple page with the same page_name.  \n",
    "The duplicate pages are only 356 so we ignore it.  \n",
    "#TODO: check if this is a problem"
   ]
  },
  {
   "cell_type": "code",
   "execution_count": 11,
   "metadata": {},
   "outputs": [
    {
     "name": "stdout",
     "output_type": "stream",
     "text": [
      "Pages\n",
      "Unique ids? True\n",
      "Unique id_facebook? True\n",
      "How many page_type? 4\n",
      "Unique page_name? False\n",
      "How many duplicate page_name? 356\n"
     ]
    },
    {
     "data": {
      "text/plain": [
       "<Axes: >"
      ]
     },
     "execution_count": 11,
     "metadata": {},
     "output_type": "execute_result"
    },
    {
     "data": {
      "image/png": "[encoded data removed]",
      "text/plain": [
       "<Figure size 1000x500 with 2 Axes>"
      ]
     },
     "metadata": {},
     "output_type": "display_data"
    }
   ],
   "source": [
    "## Verify if we have unique ids\n",
    "print(\"Pages\")\n",
    "print(f\"Unique ids? {pages['id'].nunique() == pages.shape[0]}\")\n",
    "print(f\"Unique id_facebook? {pages['facebook_id'].nunique() == pages.shape[0]}\")\n",
    "print(f\"How many page_type? {pages['page_type'].nunique()}\")\n",
    "print(f\"Unique page_name? {pages['page_name'].nunique() == pages.shape[0]}\")\n",
    "duplicate_pages = pages[\"page_name\"].value_counts()\n",
    "print(f\"How many duplicate page_name? {duplicate_pages[duplicate_pages > 1].shape[0]}\")\n",
    "\n",
    "import matplotlib.pyplot as plt\n",
    "\n",
    "fig, axs = plt.subplots(1, 2, figsize=(10, 5))\n",
    "duplicate_pages.hist(bins=range(1, 10), ax=axs[0])\n",
    "duplicate_pages.plot(kind=\"box\", ax=axs[1])"
   ]
  },
  {
   "cell_type": "code",
   "execution_count": 15,
   "metadata": {},
   "outputs": [
    {
     "name": "stdout",
     "output_type": "stream",
     "text": [
      "Are source edge correct? True\n",
      "Are target edge correct? True\n",
      "Are there any nodes without edge ? True\n",
      "Are there any edge with same source and target? True\n",
      "How many edge with same source and target? 179\n"
     ]
    }
   ],
   "source": [
    "## Verify if there are any nodes that have no edges\n",
    "print(f\"Are source edge correct? {edges['id_1'].isin(pages['id']).all()}\")\n",
    "print(f\"Are target edge correct? {edges['id_2'].isin(pages['id']).all()}\")\n",
    "connected_nodes = pd.concat([edges[\"id_1\"], edges[\"id_2\"]]).unique()\n",
    "print(f\"Are there any nodes without edge ? {pages['id'].isin(connected_nodes).all()}\")\n",
    "print(\n",
    "    f\"Are there any edge with same source and target? {edges['id_1'].isin(edges['id_2']).any()}\"\n",
    ")\n",
    "print(\n",
    "    f\"How many edge with same source and target? {edges[edges['id_1'] == edges['id_2']].shape[0]}\"\n",
    ")\n",
    "##TODO: Check if it is possible to have edge with same source and target"
   ]
  },
  {
   "cell_type": "markdown",
   "metadata": {},
   "source": [
    "## We're ready to import data on Neo4j"
   ]
  }
 ],
 "metadata": {
  "kernelspec": {
   "display_name": "data_science",
   "language": "python",
   "name": "python3"
  },
  "language_info": {
   "codemirror_mode": {
    "name": "ipython",
    "version": 3
   },
   "file_extension": ".py",
   "mimetype": "text/x-python",
   "name": "python",
   "nbconvert_exporter": "python",
   "pygments_lexer": "ipython3",
   "version": "3.11.8"
  }
 },
 "nbformat": 4,
 "nbformat_minor": 2
}
