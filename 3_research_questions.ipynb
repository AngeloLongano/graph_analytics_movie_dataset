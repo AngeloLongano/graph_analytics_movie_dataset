{
 "cells": [
  {
   "cell_type": "markdown",
   "metadata": {},
   "source": [
    "### Connection"
   ]
  },
  {
   "cell_type": "code",
   "execution_count": 1,
   "metadata": {},
   "outputs": [],
   "source": [
    "import pandas as pd\n",
    "import numpy as np\n",
    "import matplotlib.pyplot as plt\n",
    "import scipy.stats as stats\n",
    "from graphdatascience import GraphDataScience\n",
    "\n",
    "URI = \"neo4j://localhost:7687\"\n",
    "NAME_DB = \"movies\"\n",
    "\n",
    "gds = GraphDataScience(URI, aura_ds=False, database=NAME_DB)"
   ]
  },
  {
   "cell_type": "markdown",
   "metadata": {},
   "source": [
    "# Graph Analytics\n",
    "In this section there will be two types of graph analysis:\n",
    "- Similarity to create a recommendations systems\n",
    "- Community detection\n",
    "\n",
    "These two analysis will be done in a correlation way: results on similarity analysis will be use to do a better community detection."
   ]
  },
  {
   "cell_type": "markdown",
   "metadata": {},
   "source": [
    "## Similarity Analysis\n",
    "Similarity analysis is done by considering the entire graph with all information added in preprocessing and exploratory analysis sections.  \n",
    "![db_schema_after_exploratory.png](images/db_schema_after_exploratory.png)\n",
    "\n",
    "As we can also see in the output of the second cell, the density of the graph is slightly increased with the added relations.  \n",
    "\n",
    "Similarity analysis will be done in two way:\n",
    "- Based on nodes relations\n",
    "- Based on nodes properties  \n",
    "\n",
    "So will be calculate similarity on Users and Movies nodes.  "
   ]
  },
  {
   "cell_type": "code",
   "execution_count": 2,
   "metadata": {},
   "outputs": [
    {
     "data": {
      "text/html": [
       "<div>\n",
       "<style scoped>\n",
       "    .dataframe tbody tr th:only-of-type {\n",
       "        vertical-align: middle;\n",
       "    }\n",
       "\n",
       "    .dataframe tbody tr th {\n",
       "        vertical-align: top;\n",
       "    }\n",
       "\n",
       "    .dataframe thead th {\n",
       "        text-align: right;\n",
       "    }\n",
       "</style>\n",
       "<table border=\"1\" class=\"dataframe\">\n",
       "  <thead>\n",
       "    <tr style=\"text-align: right;\">\n",
       "      <th></th>\n",
       "      <th>graph</th>\n",
       "      <th>nodeProjection</th>\n",
       "      <th>nodes</th>\n",
       "      <th>relationshipProjection</th>\n",
       "      <th>rels</th>\n",
       "    </tr>\n",
       "  </thead>\n",
       "  <tbody>\n",
       "    <tr>\n",
       "      <th>0</th>\n",
       "      <td>movies-analyzed</td>\n",
       "      <td>{'User': {'label': 'User', 'properties': {'occ...</td>\n",
       "      <td>9764</td>\n",
       "      <td>{'RATED': {'aggregation': 'DEFAULT', 'orientat...</td>\n",
       "      <td>2067010</td>\n",
       "    </tr>\n",
       "  </tbody>\n",
       "</table>\n",
       "</div>"
      ],
      "text/plain": [
       "             graph                                     nodeProjection  nodes  \\\n",
       "0  movies-analyzed  {'User': {'label': 'User', 'properties': {'occ...   9764   \n",
       "\n",
       "                              relationshipProjection     rels  \n",
       "0  {'RATED': {'aggregation': 'DEFAULT', 'orientat...  2067010  "
      ]
     },
     "execution_count": 2,
     "metadata": {},
     "output_type": "execute_result"
    }
   ],
   "source": [
    "result = gds.run_cypher(\n",
    "    \"\"\"\n",
    "    CALL gds.graph.project(\n",
    "    'movies-analyzed',\n",
    "    {\n",
    "        Movie:{properties:['popularity','favoriteMonth','year']},\n",
    "        User:{properties: ['binaryGender','age','occupation', 'activity','favoriteMonth']},\n",
    "        Genre:{}\n",
    "    },\n",
    "    {\n",
    "        RATED: {properties: 'rating', orientation: 'UNDIRECTED'},\n",
    "        BELONGS:{},\n",
    "        LIKES:{properties: 'score', orientation: 'UNDIRECTED'}\n",
    "    }\n",
    "    )\n",
    "    YIELD\n",
    "    graphName AS graph, nodeProjection, nodeCount AS nodes, relationshipProjection, relationshipCount AS rels\n",
    "\"\"\"\n",
    ")\n",
    "result"
   ]
  },
  {
   "cell_type": "code",
   "execution_count": 3,
   "metadata": {},
   "outputs": [
    {
     "data": {
      "text/html": [
       "<div>\n",
       "<style scoped>\n",
       "    .dataframe tbody tr th:only-of-type {\n",
       "        vertical-align: middle;\n",
       "    }\n",
       "\n",
       "    .dataframe tbody tr th {\n",
       "        vertical-align: top;\n",
       "    }\n",
       "\n",
       "    .dataframe thead th {\n",
       "        text-align: right;\n",
       "    }\n",
       "</style>\n",
       "<table border=\"1\" class=\"dataframe\">\n",
       "  <thead>\n",
       "    <tr style=\"text-align: right;\">\n",
       "      <th></th>\n",
       "      <th>density</th>\n",
       "      <th>degreeDistribution</th>\n",
       "    </tr>\n",
       "  </thead>\n",
       "  <tbody>\n",
       "    <tr>\n",
       "      <th>0</th>\n",
       "      <td>0.021684</td>\n",
       "      <td>{'min': 2, 'max': 3430, 'p90': 520, 'p999': 25...</td>\n",
       "    </tr>\n",
       "  </tbody>\n",
       "</table>\n",
       "</div>"
      ],
      "text/plain": [
       "    density                                 degreeDistribution\n",
       "0  0.021684  {'min': 2, 'max': 3430, 'p90': 520, 'p999': 25..."
      ]
     },
     "execution_count": 3,
     "metadata": {},
     "output_type": "execute_result"
    }
   ],
   "source": [
    "gds.run_cypher(\n",
    "    \"\"\"\n",
    "    CALL gds.graph.list('movies-analyzed')\n",
    "    YIELD density,degreeDistribution;\n",
    "\"\"\"\n",
    ")"
   ]
  },
  {
   "cell_type": "markdown",
   "metadata": {},
   "source": [
    "### Similarity based on relationships\n",
    "In this similarity analysis will be used node the [Node Similarity](https://neo4j.com/docs/graph-data-science/current/algorithms/node-similarity/) algorithm in the Neo4j Graph Data Science library based on Jaccard similarity metrics.  \n"
   ]
  },
  {
   "cell_type": "markdown",
   "metadata": {},
   "source": [
    "#### Users likes genres\n",
    "This similarity analysis adds SIMILAR weighted relations between users with similar connections User-Genre.  \n",
    "This analysis is most of time much higher because we don't have much heterogeneity between users connecting with genres.  \n",
    "For this reason, relations were added from a similarity of 80%.  "
   ]
  },
  {
   "cell_type": "code",
   "execution_count": 4,
   "metadata": {},
   "outputs": [
    {
     "name": "stdout",
     "output_type": "stream",
     "text": [
      "Similarity relations created: 60208\n",
      "\n",
      "{'min': 0.5002517700195312, 'p5': 0.6166191101074219, 'max': 1.0000038146972656, 'p99': 0.969482421875, 'p1': 0.5825080871582031, 'p10': 0.6290702819824219, 'p90': 0.9297065734863281, 'p50': 0.6571502685546875, 'p25': 0.6438331604003906, 'p75': 0.8466644287109375, 'p95': 0.9481620788574219, 'mean': 0.7222428500509757, 'p100': 1.0000038146972656, 'stdDev': 0.12058239147704104}\n"
     ]
    }
   ],
   "source": [
    "result = gds.run_cypher(\n",
    "    \"\"\"\n",
    "    CALL gds.nodeSimilarity.write('movies-analyzed',\n",
    "    {\n",
    "        nodeLabels:['User','Genre'],\n",
    "        relationshipTypes:['LIKES'],\n",
    "        relationshipWeightProperty: 'score', \n",
    "        similarityCutoff: 0.5,\n",
    "        writeRelationshipType: 'SIMILAR',\n",
    "        writeProperty: 'score'\n",
    "    }) \n",
    "    \"\"\"\n",
    ")\n",
    "print(f\"Similarity relations created: {result.loc[0]['relationshipsWritten']}\\n\")\n",
    "print(result.loc[0][\"similarityDistribution\"])"
   ]
  },
  {
   "cell_type": "markdown",
   "metadata": {},
   "source": [
    "#### Movies belongs genres\n",
    "This similarity analysis adds SIMILAR weighted relations between movies with similar connections Movie-Genre.  \n",
    "This analysis is most of time much higher because we don't have much diversification on the datasets.  \n",
    "For this reason, relations were added from a similarity of 80%.  "
   ]
  },
  {
   "cell_type": "code",
   "execution_count": 5,
   "metadata": {},
   "outputs": [
    {
     "name": "stdout",
     "output_type": "stream",
     "text": [
      "Similarity relations created: 33130\n",
      "\n",
      "{'min': 0.7999992370605469, 'p5': 1.0000038146972656, 'max': 1.0000038146972656, 'p99': 1.0000038146972656, 'p1': 1.0000038146972656, 'p10': 1.0000038146972656, 'p90': 1.0000038146972656, 'p50': 1.0000038146972656, 'p25': 1.0000038146972656, 'p75': 1.0000038146972656, 'p95': 1.0000038146972656, 'mean': 0.999460488045068, 'p100': 1.0000038146972656, 'stdDev': 0.010410216796040048}\n"
     ]
    }
   ],
   "source": [
    "result = gds.run_cypher(\n",
    "    \"\"\"\n",
    "    CALL gds.nodeSimilarity.write('movies-analyzed',\n",
    "    {\n",
    "        nodeLabels:['Movie','Genre'],\n",
    "        relationshipTypes:['BELONGS'], \n",
    "        similarityCutoff: 0.8,\n",
    "        writeRelationshipType: 'SIMILAR',\n",
    "        writeProperty: 'score'\n",
    "    }) \n",
    "    \"\"\"\n",
    ")\n",
    "print(f\"Similarity relations created: {result.loc[0]['relationshipsWritten']}\\n\")\n",
    "print(result.loc[0][\"similarityDistribution\"])"
   ]
  },
  {
   "cell_type": "markdown",
   "metadata": {},
   "source": [
    "#### Users rate movies\n",
    "This other similarity analysis adds SIMILAR_RATE weighted relations between users with similar connections User-Movie.  \n",
    "\n",
    "This analysis is more precise and captures user behaviour within the network and finds more correct correlations.  \n",
    "For this reason, relations were added from a similarity of 50%.  "
   ]
  },
  {
   "cell_type": "code",
   "execution_count": 6,
   "metadata": {},
   "outputs": [
    {
     "name": "stdout",
     "output_type": "stream",
     "text": [
      "Similarity relations created: 524\n",
      "\n",
      "{'min': 0.5, 'p5': 0.5, 'max': 1.0000038146972656, 'p99': 1.0000038146972656, 'p1': 0.5, 'p10': 0.5, 'p90': 1.0000038146972656, 'p50': 0.5999984741210938, 'p25': 0.5, 'p75': 1.0000038146972656, 'p95': 1.0000038146972656, 'mean': 0.7131035637309533, 'p100': 1.0000038146972656, 'stdDev': 0.2144020236922081}\n"
     ]
    }
   ],
   "source": [
    "result = gds.run_cypher(\n",
    "    \"\"\"\n",
    "    CALL gds.nodeSimilarity.write('movies-analyzed',\n",
    "    {\n",
    "        nodeLabels:['User','Movie'],\n",
    "        relationshipTypes:['RATED'], \n",
    "        similarityCutoff: 0.5,\n",
    "        writeRelationshipType: 'SIMILAR_RATE',\n",
    "        writeProperty: 'score',\n",
    "        relationshipWeightProperty: 'rating'\n",
    "    }) \n",
    "    \"\"\"\n",
    ")\n",
    "print(f\"Similarity relations created: {result.loc[0]['relationshipsWritten']}\\n\")\n",
    "print(result.loc[0][\"similarityDistribution\"])"
   ]
  },
  {
   "cell_type": "markdown",
   "metadata": {},
   "source": [
    "#### Movies rated by users\n",
    "This other similarity analysis adds SIMILAR_RATE weighted relations between movies with similar connections Movie-User.  \n",
    "\n",
    "This analysis is more precise and captures  the popularity and appreciation of the movies within the network and finds more correct correlations.  \n",
    "For this reason, relations were added from a similarity of 50%.  "
   ]
  },
  {
   "cell_type": "code",
   "execution_count": 7,
   "metadata": {},
   "outputs": [
    {
     "name": "stdout",
     "output_type": "stream",
     "text": [
      "Similarity relations created: 524\n",
      "\n",
      "{'min': 0.5, 'p5': 0.5, 'max': 1.0000038146972656, 'p99': 1.0000038146972656, 'p1': 0.5, 'p10': 0.5, 'p90': 1.0000038146972656, 'p50': 0.5999984741210938, 'p25': 0.5, 'p75': 1.0000038146972656, 'p95': 1.0000038146972656, 'mean': 0.7131035637309533, 'p100': 1.0000038146972656, 'stdDev': 0.2144020236922081}\n"
     ]
    }
   ],
   "source": [
    "result = gds.run_cypher(\n",
    "    \"\"\"\n",
    "    CALL gds.nodeSimilarity.write('movies-analyzed',\n",
    "    {\n",
    "        nodeLabels:['Movie','User'],\n",
    "        relationshipTypes:['RATED'], \n",
    "        relationshipWeightProperty: 'rating',\n",
    "        similarityCutoff: 0.5,\n",
    "        writeRelationshipType: 'SIMILAR_RATE',\n",
    "        writeProperty: 'score'\n",
    "    }) \n",
    "    \"\"\"\n",
    ")\n",
    "print(f\"Similarity relations created: {result.loc[0]['relationshipsWritten']}\\n\")\n",
    "print(result.loc[0][\"similarityDistribution\"])"
   ]
  },
  {
   "cell_type": "markdown",
   "metadata": {},
   "source": [
    "### Similarity based on components\n",
    "In this other similarity analysis will be used node the [K-Nearest Neighbors](https://neo4j.com/docs/graph-data-science/current/algorithms/knn/) algorithm in the Neo4j Graph Data Science library based on Jaccard similarity metrics.  \n",
    "\n",
    "N.B.: concurrency:1 and randomSeed: 42 configurations are need to have same results on these tests"
   ]
  },
  {
   "cell_type": "markdown",
   "metadata": {},
   "source": [
    "#### Users\n",
    "This similarity analysis adds SIMILAR_KNN weighted relations between users with similar properties.  \n",
    "\n",
    "For this reason, relations were added from a similarity of 70%.  "
   ]
  },
  {
   "cell_type": "code",
   "execution_count": 8,
   "metadata": {},
   "outputs": [
    {
     "name": "stdout",
     "output_type": "stream",
     "text": [
      "Similarity relations created: 547626\n",
      "\n",
      "{'min': 0.6999969482421875, 'p5': 0.7095222473144531, 'max': 1.0000038146972656, 'p99': 1.0000038146972656, 'p1': 0.6999969482421875, 'p10': 0.7166633605957031, 'p90': 0.8666648864746094, 'p50': 0.7999992370605469, 'p25': 0.7333297729492188, 'p75': 0.8333320617675781, 'p95': 0.8999977111816406, 'mean': 0.7915988846093521, 'p100': 1.0000038146972656, 'stdDev': 0.06453635621702361}\n"
     ]
    }
   ],
   "source": [
    "result = gds.run_cypher(\n",
    "    \"\"\"\n",
    "    CALL gds.knn.write('movies-analyzed', {\n",
    "        nodeLabels:['User'], \n",
    "        writeRelationshipType: 'SIMILAR_KNN',\n",
    "        writeProperty: 'score',\n",
    "        topK: 100, \n",
    "        concurrency: 1, \n",
    "        randomSeed: 42,\n",
    "        similarityCutoff: 0.7,\n",
    "        nodeProperties: ['binaryGender','age','occupation', 'activity','favoriteMonth']})\n",
    "    \"\"\"\n",
    ")\n",
    "print(f\"Similarity relations created: {result.loc[0]['relationshipsWritten']}\\n\")\n",
    "print(result.loc[0][\"similarityDistribution\"])"
   ]
  },
  {
   "cell_type": "markdown",
   "metadata": {},
   "source": [
    "#### Movies\n",
    "This similarity analysis adds SIMILAR_KNN weighted relations between movies with similar properties.  \n",
    "\n",
    "For this reason, relations were added from a similarity of 70%.  "
   ]
  },
  {
   "cell_type": "code",
   "execution_count": 9,
   "metadata": {},
   "outputs": [
    {
     "name": "stdout",
     "output_type": "stream",
     "text": [
      "Similarity relations created: 283139\n",
      "\n",
      "{'min': 0.6999969482421875, 'p5': 0.7083320617675781, 'max': 1.0000038146972656, 'p99': 1.0000038146972656, 'p1': 0.6999969482421875, 'p10': 0.7222213745117188, 'p90': 1.0000038146972656, 'p50': 0.8333320617675781, 'p25': 0.75, 'p75': 0.8333320617675781, 'p95': 1.0000038146972656, 'mean': 0.8122405183609618, 'p100': 1.0000038146972656, 'stdDev': 0.07940430385169993}\n"
     ]
    }
   ],
   "source": [
    "result = gds.run_cypher(\n",
    "    \"\"\"\n",
    "    CALL gds.knn.write('movies-analyzed', {\n",
    "        nodeLabels:['Movie'],\n",
    "        writeRelationshipType: 'SIMILAR_KNN',writeProperty: 'score',\n",
    "        topK: 100,\n",
    "        concurrency: 1,\n",
    "        randomSeed: 42,\n",
    "        similarityCutoff: 0.7,\n",
    "        nodeProperties: ['popularity','favoriteMonth','year']})\n",
    "    \"\"\"\n",
    ")\n",
    "print(f\"Similarity relations created: {result.loc[0]['relationshipsWritten']}\\n\")\n",
    "print(result.loc[0][\"similarityDistribution\"])"
   ]
  },
  {
   "cell_type": "markdown",
   "metadata": {},
   "source": [
    "## Recommendation Systems\n",
    "After similarity analysis the graph become like this:  \n",
    "![alt text](images/movies_with_similarity.svg)  \n",
    "Having these information we can build a recommendation system mixed with relations similarity and components similarity.\n",
    "  \n",
    "Init our pseudo-random generator with fixed seed."
   ]
  },
  {
   "cell_type": "code",
   "execution_count": 10,
   "metadata": {},
   "outputs": [],
   "source": [
    "import random\n",
    "\n",
    "random.seed(0)"
   ]
  },
  {
   "cell_type": "markdown",
   "metadata": {},
   "source": [
    "### Movie based\n",
    "We choose a random film from dataset"
   ]
  },
  {
   "cell_type": "code",
   "execution_count": 11,
   "metadata": {},
   "outputs": [
    {
     "data": {
      "text/plain": [
       "'Blood and Sand (Sangre y Arena) (1989)'"
      ]
     },
     "execution_count": 11,
     "metadata": {},
     "output_type": "execute_result"
    }
   ],
   "source": [
    "movieId = random.randint(0, 3952)\n",
    "\n",
    "gds.run_cypher(\n",
    "    f\"\"\"\n",
    "    MATCH (m:Movie) WHERE m.movieId = {movieId}\n",
    "    RETURN m.movieId as movieId,m.title as title\n",
    "    \"\"\"\n",
    ").loc[0][\"title\"]"
   ]
  },
  {
   "cell_type": "markdown",
   "metadata": {},
   "source": [
    "After that we pick 60 movies similar based our three similarity metrics (20 movies for each).  \n",
    "\n",
    "We joins these three lists and calculate a mixed score metrics with different weights  \n",
    "__general_score = scoreGenre * .2 + scoreRate * .5 + scoreKnn * .3__  \n",
    "\n",
    "Sorts list by `general_score` and filter first 10\n"
   ]
  },
  {
   "cell_type": "code",
   "execution_count": 12,
   "metadata": {},
   "outputs": [
    {
     "data": {
      "text/html": [
       "<div>\n",
       "<style scoped>\n",
       "    .dataframe tbody tr th:only-of-type {\n",
       "        vertical-align: middle;\n",
       "    }\n",
       "\n",
       "    .dataframe tbody tr th {\n",
       "        vertical-align: top;\n",
       "    }\n",
       "\n",
       "    .dataframe thead th {\n",
       "        text-align: right;\n",
       "    }\n",
       "</style>\n",
       "<table border=\"1\" class=\"dataframe\">\n",
       "  <thead>\n",
       "    <tr style=\"text-align: right;\">\n",
       "      <th></th>\n",
       "      <th>movieId</th>\n",
       "      <th>scoreGenre</th>\n",
       "      <th>scoreRate</th>\n",
       "      <th>scoreKnn</th>\n",
       "      <th>general_score</th>\n",
       "    </tr>\n",
       "  </thead>\n",
       "  <tbody>\n",
       "    <tr>\n",
       "      <th>0</th>\n",
       "      <td>3123</td>\n",
       "      <td>0.0</td>\n",
       "      <td>0.0</td>\n",
       "      <td>1.000000</td>\n",
       "      <td>0.300000</td>\n",
       "    </tr>\n",
       "    <tr>\n",
       "      <th>1</th>\n",
       "      <td>3166</td>\n",
       "      <td>0.0</td>\n",
       "      <td>0.0</td>\n",
       "      <td>1.000000</td>\n",
       "      <td>0.300000</td>\n",
       "    </tr>\n",
       "    <tr>\n",
       "      <th>2</th>\n",
       "      <td>706</td>\n",
       "      <td>0.0</td>\n",
       "      <td>0.6</td>\n",
       "      <td>0.000000</td>\n",
       "      <td>0.300000</td>\n",
       "    </tr>\n",
       "    <tr>\n",
       "      <th>3</th>\n",
       "      <td>2039</td>\n",
       "      <td>0.0</td>\n",
       "      <td>0.0</td>\n",
       "      <td>1.000000</td>\n",
       "      <td>0.300000</td>\n",
       "    </tr>\n",
       "    <tr>\n",
       "      <th>4</th>\n",
       "      <td>142</td>\n",
       "      <td>0.0</td>\n",
       "      <td>0.0</td>\n",
       "      <td>0.833333</td>\n",
       "      <td>0.250000</td>\n",
       "    </tr>\n",
       "    <tr>\n",
       "      <th>5</th>\n",
       "      <td>3687</td>\n",
       "      <td>0.0</td>\n",
       "      <td>0.0</td>\n",
       "      <td>0.833333</td>\n",
       "      <td>0.250000</td>\n",
       "    </tr>\n",
       "    <tr>\n",
       "      <th>6</th>\n",
       "      <td>1989</td>\n",
       "      <td>0.0</td>\n",
       "      <td>0.0</td>\n",
       "      <td>0.833333</td>\n",
       "      <td>0.250000</td>\n",
       "    </tr>\n",
       "    <tr>\n",
       "      <th>7</th>\n",
       "      <td>868</td>\n",
       "      <td>0.0</td>\n",
       "      <td>0.0</td>\n",
       "      <td>0.777778</td>\n",
       "      <td>0.233333</td>\n",
       "    </tr>\n",
       "    <tr>\n",
       "      <th>8</th>\n",
       "      <td>1107</td>\n",
       "      <td>0.0</td>\n",
       "      <td>0.0</td>\n",
       "      <td>0.777778</td>\n",
       "      <td>0.233333</td>\n",
       "    </tr>\n",
       "    <tr>\n",
       "      <th>9</th>\n",
       "      <td>895</td>\n",
       "      <td>0.0</td>\n",
       "      <td>0.0</td>\n",
       "      <td>0.750000</td>\n",
       "      <td>0.225000</td>\n",
       "    </tr>\n",
       "  </tbody>\n",
       "</table>\n",
       "</div>"
      ],
      "text/plain": [
       "   movieId  scoreGenre  scoreRate  scoreKnn  general_score\n",
       "0     3123         0.0        0.0  1.000000       0.300000\n",
       "1     3166         0.0        0.0  1.000000       0.300000\n",
       "2      706         0.0        0.6  0.000000       0.300000\n",
       "3     2039         0.0        0.0  1.000000       0.300000\n",
       "4      142         0.0        0.0  0.833333       0.250000\n",
       "5     3687         0.0        0.0  0.833333       0.250000\n",
       "6     1989         0.0        0.0  0.833333       0.250000\n",
       "7      868         0.0        0.0  0.777778       0.233333\n",
       "8     1107         0.0        0.0  0.777778       0.233333\n",
       "9      895         0.0        0.0  0.750000       0.225000"
      ]
     },
     "execution_count": 12,
     "metadata": {},
     "output_type": "execute_result"
    }
   ],
   "source": [
    "# I take the top 20 most similar films according to previously created similarity edges for each similarity type\n",
    "list_with_similar_genre = gds.run_cypher(\n",
    "    f\"\"\"\n",
    "    MATCH (m:Movie WHERE m.movieId = {movieId})-[s:SIMILAR]-(m2:Movie)\n",
    "    RETURN DISTINCT m2.movieId as movieId, s.score as scoreGenre\n",
    "    ORDER BY scoreGenre DESC\n",
    "    limit 20\n",
    "    \"\"\"\n",
    ")\n",
    "list_with_similar_rate = gds.run_cypher(\n",
    "    f\"\"\"\n",
    "    MATCH (m:Movie WHERE m.movieId = {movieId})-[s:SIMILAR_RATE]-(m2:Movie)\n",
    "    RETURN DISTINCT m2.movieId as movieId, s.score as scoreRate\n",
    "    ORDER BY scoreRate DESC\n",
    "    limit 20\n",
    "    \"\"\"\n",
    ")\n",
    "list_with_similar_knn = gds.run_cypher(\n",
    "    f\"\"\"\n",
    "    MATCH (m:Movie WHERE m.movieId = {movieId})-[s:SIMILAR_KNN]-(m2:Movie)\n",
    "    RETURN DISTINCT m2.movieId as movieId, s.score as scoreKnn\n",
    "    ORDER BY scoreKnn DESC\n",
    "    limit 20\n",
    "    \"\"\"\n",
    ")\n",
    "\n",
    "# I merge the lists\n",
    "list = pd.merge(\n",
    "    list_with_similar_genre, list_with_similar_rate, how=\"outer\", on=\"movieId\"\n",
    ")\n",
    "list = list.merge(list_with_similar_knn, how=\"outer\", on=\"movieId\")\n",
    "\n",
    "# I fill in the missing values with 0\n",
    "list.fillna(0, inplace=True)\n",
    "\n",
    "# I calculate the general score\n",
    "list[\"general_score\"] = (\n",
    "    list[\"scoreGenre\"] * 0.2 + list[\"scoreRate\"] * 0.5 + list[\"scoreKnn\"] * 0.3\n",
    ")\n",
    "\n",
    "# I sort the list by general score and take the top 10\n",
    "list.sort_values(by=\"general_score\", ascending=False, inplace=True)\n",
    "list.reset_index(drop=True, inplace=True)\n",
    "\n",
    "# I pick the top 10 movies\n",
    "list = list.head(10)\n",
    "\n",
    "list"
   ]
  },
  {
   "cell_type": "markdown",
   "metadata": {},
   "source": [
    "With a simple query we can have our 10 recommended movies"
   ]
  },
  {
   "cell_type": "code",
   "execution_count": 13,
   "metadata": {},
   "outputs": [
    {
     "data": {
      "text/html": [
       "<div>\n",
       "<style scoped>\n",
       "    .dataframe tbody tr th:only-of-type {\n",
       "        vertical-align: middle;\n",
       "    }\n",
       "\n",
       "    .dataframe tbody tr th {\n",
       "        vertical-align: top;\n",
       "    }\n",
       "\n",
       "    .dataframe thead th {\n",
       "        text-align: right;\n",
       "    }\n",
       "</style>\n",
       "<table border=\"1\" class=\"dataframe\">\n",
       "  <thead>\n",
       "    <tr style=\"text-align: right;\">\n",
       "      <th></th>\n",
       "      <th>movieId</th>\n",
       "      <th>title</th>\n",
       "    </tr>\n",
       "  </thead>\n",
       "  <tbody>\n",
       "    <tr>\n",
       "      <th>0</th>\n",
       "      <td>142</td>\n",
       "      <td>Shadows (Cienie) (1988)</td>\n",
       "    </tr>\n",
       "    <tr>\n",
       "      <th>1</th>\n",
       "      <td>706</td>\n",
       "      <td>Sunset Park (1996)</td>\n",
       "    </tr>\n",
       "    <tr>\n",
       "      <th>2</th>\n",
       "      <td>868</td>\n",
       "      <td>Death in Brunswick (1991)</td>\n",
       "    </tr>\n",
       "    <tr>\n",
       "      <th>3</th>\n",
       "      <td>895</td>\n",
       "      <td>Venice/Venice (1992)</td>\n",
       "    </tr>\n",
       "    <tr>\n",
       "      <th>4</th>\n",
       "      <td>1107</td>\n",
       "      <td>Loser (1991)</td>\n",
       "    </tr>\n",
       "    <tr>\n",
       "      <th>5</th>\n",
       "      <td>1989</td>\n",
       "      <td>Prom Night III: The Last Kiss (1989)</td>\n",
       "    </tr>\n",
       "    <tr>\n",
       "      <th>6</th>\n",
       "      <td>2039</td>\n",
       "      <td>Cheetah (1989)</td>\n",
       "    </tr>\n",
       "    <tr>\n",
       "      <th>7</th>\n",
       "      <td>3123</td>\n",
       "      <td>Spring Fever USA (a.k.a. Lauderdale) (1989)</td>\n",
       "    </tr>\n",
       "    <tr>\n",
       "      <th>8</th>\n",
       "      <td>3166</td>\n",
       "      <td>Brenda Starr (1989)</td>\n",
       "    </tr>\n",
       "    <tr>\n",
       "      <th>9</th>\n",
       "      <td>3687</td>\n",
       "      <td>Light Years (1988)</td>\n",
       "    </tr>\n",
       "  </tbody>\n",
       "</table>\n",
       "</div>"
      ],
      "text/plain": [
       "   movieId                                        title\n",
       "0      142                      Shadows (Cienie) (1988)\n",
       "1      706                           Sunset Park (1996)\n",
       "2      868                    Death in Brunswick (1991)\n",
       "3      895                         Venice/Venice (1992)\n",
       "4     1107                                 Loser (1991)\n",
       "5     1989         Prom Night III: The Last Kiss (1989)\n",
       "6     2039                               Cheetah (1989)\n",
       "7     3123  Spring Fever USA (a.k.a. Lauderdale) (1989)\n",
       "8     3166                          Brenda Starr (1989)\n",
       "9     3687                           Light Years (1988)"
      ]
     },
     "execution_count": 13,
     "metadata": {},
     "output_type": "execute_result"
    }
   ],
   "source": [
    "gds.run_cypher(\n",
    "    f\"\"\"\n",
    "    MATCH (m:Movie) WHERE m.movieId IN {list['movieId'].tolist()}\n",
    "    RETURN m.movieId as movieId,m.title as title\n",
    "    \"\"\"\n",
    ")"
   ]
  },
  {
   "cell_type": "markdown",
   "metadata": {},
   "source": [
    "### User based\n",
    "We choose a random user"
   ]
  },
  {
   "cell_type": "code",
   "execution_count": 14,
   "metadata": {},
   "outputs": [
    {
     "data": {
      "text/html": [
       "<div>\n",
       "<style scoped>\n",
       "    .dataframe tbody tr th:only-of-type {\n",
       "        vertical-align: middle;\n",
       "    }\n",
       "\n",
       "    .dataframe tbody tr th {\n",
       "        vertical-align: top;\n",
       "    }\n",
       "\n",
       "    .dataframe thead th {\n",
       "        text-align: right;\n",
       "    }\n",
       "</style>\n",
       "<table border=\"1\" class=\"dataframe\">\n",
       "  <thead>\n",
       "    <tr style=\"text-align: right;\">\n",
       "      <th></th>\n",
       "      <th>gender</th>\n",
       "      <th>age</th>\n",
       "      <th>occupation</th>\n",
       "      <th>activity</th>\n",
       "      <th>favoriteMonth</th>\n",
       "    </tr>\n",
       "  </thead>\n",
       "  <tbody>\n",
       "    <tr>\n",
       "      <th>0</th>\n",
       "      <td>M</td>\n",
       "      <td>1</td>\n",
       "      <td>10</td>\n",
       "      <td>4</td>\n",
       "      <td>8</td>\n",
       "    </tr>\n",
       "  </tbody>\n",
       "</table>\n",
       "</div>"
      ],
      "text/plain": [
       "  gender  age  occupation  activity  favoriteMonth\n",
       "0      M    1          10         4              8"
      ]
     },
     "execution_count": 14,
     "metadata": {},
     "output_type": "execute_result"
    }
   ],
   "source": [
    "userId = random.randint(1, 6040)\n",
    "\n",
    "gds.run_cypher(\n",
    "    f\"\"\"\n",
    "    MATCH (u:User {{userId: {userId}}})\n",
    "    RETURN u.gender as gender, u.age as age, u.occupation as occupation, u.activity as activity, u.favoriteMonth as favoriteMonth\n",
    "    \"\"\"\n",
    ")"
   ]
  },
  {
   "cell_type": "markdown",
   "metadata": {},
   "source": [
    "After that we pick the top 30 user similar based our three similarity metrics (10 user for each).  \n",
    "\n",
    "We joins these three lists and calculate a mixed score metrics with different weights  \n",
    "__general_score = scoreGenre * .2 + scoreRate * .5 + scoreKnn * .3__  \n",
    "\n",
    "Sorts list by `general_score` and filter first 10"
   ]
  },
  {
   "cell_type": "code",
   "execution_count": 15,
   "metadata": {},
   "outputs": [
    {
     "name": "stderr",
     "output_type": "stream",
     "text": [
      "/tmp/ipykernel_1766/3860210370.py:34: FutureWarning: Downcasting object dtype arrays on .fillna, .ffill, .bfill is deprecated and will change in a future version. Call result.infer_objects(copy=False) instead. To opt-in to the future behavior, set `pd.set_option('future.no_silent_downcasting', True)`\n",
      "  list.fillna(0, inplace=True)\n"
     ]
    },
    {
     "data": {
      "text/html": [
       "<div>\n",
       "<style scoped>\n",
       "    .dataframe tbody tr th:only-of-type {\n",
       "        vertical-align: middle;\n",
       "    }\n",
       "\n",
       "    .dataframe tbody tr th {\n",
       "        vertical-align: top;\n",
       "    }\n",
       "\n",
       "    .dataframe thead th {\n",
       "        text-align: right;\n",
       "    }\n",
       "</style>\n",
       "<table border=\"1\" class=\"dataframe\">\n",
       "  <thead>\n",
       "    <tr style=\"text-align: right;\">\n",
       "      <th></th>\n",
       "      <th>userId</th>\n",
       "      <th>scoreGenre</th>\n",
       "      <th>scoreRate</th>\n",
       "      <th>scoreKnn</th>\n",
       "      <th>general_score</th>\n",
       "    </tr>\n",
       "  </thead>\n",
       "  <tbody>\n",
       "    <tr>\n",
       "      <th>0</th>\n",
       "      <td>3710</td>\n",
       "      <td>0.0</td>\n",
       "      <td>0</td>\n",
       "      <td>1.000000</td>\n",
       "      <td>0.30</td>\n",
       "    </tr>\n",
       "    <tr>\n",
       "      <th>1</th>\n",
       "      <td>3537</td>\n",
       "      <td>0.0</td>\n",
       "      <td>0</td>\n",
       "      <td>1.000000</td>\n",
       "      <td>0.30</td>\n",
       "    </tr>\n",
       "    <tr>\n",
       "      <th>2</th>\n",
       "      <td>3382</td>\n",
       "      <td>0.0</td>\n",
       "      <td>0</td>\n",
       "      <td>0.900000</td>\n",
       "      <td>0.27</td>\n",
       "    </tr>\n",
       "    <tr>\n",
       "      <th>3</th>\n",
       "      <td>3667</td>\n",
       "      <td>0.0</td>\n",
       "      <td>0</td>\n",
       "      <td>0.900000</td>\n",
       "      <td>0.27</td>\n",
       "    </tr>\n",
       "    <tr>\n",
       "      <th>4</th>\n",
       "      <td>3843</td>\n",
       "      <td>0.0</td>\n",
       "      <td>0</td>\n",
       "      <td>0.900000</td>\n",
       "      <td>0.27</td>\n",
       "    </tr>\n",
       "    <tr>\n",
       "      <th>5</th>\n",
       "      <td>4997</td>\n",
       "      <td>0.0</td>\n",
       "      <td>0</td>\n",
       "      <td>0.900000</td>\n",
       "      <td>0.27</td>\n",
       "    </tr>\n",
       "    <tr>\n",
       "      <th>6</th>\n",
       "      <td>4102</td>\n",
       "      <td>0.0</td>\n",
       "      <td>0</td>\n",
       "      <td>0.900000</td>\n",
       "      <td>0.27</td>\n",
       "    </tr>\n",
       "    <tr>\n",
       "      <th>7</th>\n",
       "      <td>3865</td>\n",
       "      <td>0.0</td>\n",
       "      <td>0</td>\n",
       "      <td>0.900000</td>\n",
       "      <td>0.27</td>\n",
       "    </tr>\n",
       "    <tr>\n",
       "      <th>8</th>\n",
       "      <td>3573</td>\n",
       "      <td>0.0</td>\n",
       "      <td>0</td>\n",
       "      <td>0.866667</td>\n",
       "      <td>0.26</td>\n",
       "    </tr>\n",
       "    <tr>\n",
       "      <th>9</th>\n",
       "      <td>3904</td>\n",
       "      <td>0.0</td>\n",
       "      <td>0</td>\n",
       "      <td>0.866667</td>\n",
       "      <td>0.26</td>\n",
       "    </tr>\n",
       "  </tbody>\n",
       "</table>\n",
       "</div>"
      ],
      "text/plain": [
       "   userId  scoreGenre  scoreRate  scoreKnn  general_score\n",
       "0    3710         0.0          0  1.000000           0.30\n",
       "1    3537         0.0          0  1.000000           0.30\n",
       "2    3382         0.0          0  0.900000           0.27\n",
       "3    3667         0.0          0  0.900000           0.27\n",
       "4    3843         0.0          0  0.900000           0.27\n",
       "5    4997         0.0          0  0.900000           0.27\n",
       "6    4102         0.0          0  0.900000           0.27\n",
       "7    3865         0.0          0  0.900000           0.27\n",
       "8    3573         0.0          0  0.866667           0.26\n",
       "9    3904         0.0          0  0.866667           0.26"
      ]
     },
     "execution_count": 15,
     "metadata": {},
     "output_type": "execute_result"
    }
   ],
   "source": [
    "# I take the top 10 most similar users according to previously created similarity edges for each similarity type\n",
    "list_with_similar_genre = gds.run_cypher(\n",
    "    f\"\"\"\n",
    "    MATCH (u:User WHERE u.userId = {userId})-[s:SIMILAR]-(u2:User)\n",
    "    RETURN DISTINCT u2.userId as userId, s.score as scoreGenre\n",
    "    ORDER BY scoreGenre DESC\n",
    "    limit 10\n",
    "    \"\"\"\n",
    ")\n",
    "list_with_similar_rate = gds.run_cypher(\n",
    "    f\"\"\"\n",
    "    MATCH (u:User WHERE u.userId = {userId})-[s:SIMILAR_RATE]-(u2:User)\n",
    "    RETURN DISTINCT u2.userId as userId, s.score as scoreRate\n",
    "    ORDER BY scoreRate DESC\n",
    "    limit 10\n",
    "    \"\"\"\n",
    ")\n",
    "list_with_similar_knn = gds.run_cypher(\n",
    "    f\"\"\"\n",
    "    MATCH (u:User WHERE u.userId = {userId})-[s:SIMILAR_KNN]-(u2:User)\n",
    "    RETURN DISTINCT u2.userId as userId, s.score as scoreKnn\n",
    "    ORDER BY scoreKnn DESC\n",
    "    limit 10\n",
    "    \"\"\"\n",
    ")\n",
    "\n",
    "# I merge the lists\n",
    "list = pd.merge(\n",
    "    list_with_similar_genre, list_with_similar_rate, how=\"outer\", on=\"userId\"\n",
    ")\n",
    "list = list.merge(list_with_similar_knn, how=\"outer\", on=\"userId\")\n",
    "\n",
    "# I fill in the missing values with 0\n",
    "list.fillna(0, inplace=True)\n",
    "\n",
    "# I calculate the general score\n",
    "list[\"general_score\"] = (\n",
    "    list[\"scoreGenre\"] * 0.2 + list[\"scoreRate\"] * 0.5 + list[\"scoreKnn\"] * 0.3\n",
    ")\n",
    "\n",
    "# I sort the list by general score\n",
    "list.sort_values(by=\"general_score\", ascending=False, inplace=True)\n",
    "list.reset_index(drop=True, inplace=True)\n",
    "\n",
    "# I pick the top 10 users\n",
    "list = list.head(10)\n",
    "\n",
    "list"
   ]
  },
  {
   "cell_type": "markdown",
   "metadata": {},
   "source": [
    "Having the 10 most similar people, for each one I select the 3 most liked films that have not yet been seen by the person taken as an example. \n",
    "\n",
    "I group the results and if I find films recommended by several people I add up their general_score.\n",
    "\n",
    "Finally I select the top 10"
   ]
  },
  {
   "cell_type": "code",
   "execution_count": 16,
   "metadata": {},
   "outputs": [
    {
     "data": {
      "text/html": [
       "<div>\n",
       "<style scoped>\n",
       "    .dataframe tbody tr th:only-of-type {\n",
       "        vertical-align: middle;\n",
       "    }\n",
       "\n",
       "    .dataframe tbody tr th {\n",
       "        vertical-align: top;\n",
       "    }\n",
       "\n",
       "    .dataframe thead th {\n",
       "        text-align: right;\n",
       "    }\n",
       "</style>\n",
       "<table border=\"1\" class=\"dataframe\">\n",
       "  <thead>\n",
       "    <tr style=\"text-align: right;\">\n",
       "      <th></th>\n",
       "      <th>general_score</th>\n",
       "      <th>times</th>\n",
       "    </tr>\n",
       "    <tr>\n",
       "      <th>movieId</th>\n",
       "      <th></th>\n",
       "      <th></th>\n",
       "    </tr>\n",
       "  </thead>\n",
       "  <tbody>\n",
       "    <tr>\n",
       "      <th>1223</th>\n",
       "      <td>0.30</td>\n",
       "      <td>1</td>\n",
       "    </tr>\n",
       "    <tr>\n",
       "      <th>3646</th>\n",
       "      <td>0.30</td>\n",
       "      <td>1</td>\n",
       "    </tr>\n",
       "    <tr>\n",
       "      <th>2795</th>\n",
       "      <td>0.30</td>\n",
       "      <td>1</td>\n",
       "    </tr>\n",
       "    <tr>\n",
       "      <th>3752</th>\n",
       "      <td>0.30</td>\n",
       "      <td>1</td>\n",
       "    </tr>\n",
       "    <tr>\n",
       "      <th>3744</th>\n",
       "      <td>0.30</td>\n",
       "      <td>1</td>\n",
       "    </tr>\n",
       "    <tr>\n",
       "      <th>2027</th>\n",
       "      <td>0.30</td>\n",
       "      <td>1</td>\n",
       "    </tr>\n",
       "    <tr>\n",
       "      <th>1214</th>\n",
       "      <td>0.27</td>\n",
       "      <td>1</td>\n",
       "    </tr>\n",
       "    <tr>\n",
       "      <th>810</th>\n",
       "      <td>0.27</td>\n",
       "      <td>1</td>\n",
       "    </tr>\n",
       "    <tr>\n",
       "      <th>1088</th>\n",
       "      <td>0.27</td>\n",
       "      <td>1</td>\n",
       "    </tr>\n",
       "    <tr>\n",
       "      <th>356</th>\n",
       "      <td>0.27</td>\n",
       "      <td>1</td>\n",
       "    </tr>\n",
       "  </tbody>\n",
       "</table>\n",
       "</div>"
      ],
      "text/plain": [
       "         general_score  times\n",
       "movieId                      \n",
       "1223              0.30      1\n",
       "3646              0.30      1\n",
       "2795              0.30      1\n",
       "3752              0.30      1\n",
       "3744              0.30      1\n",
       "2027              0.30      1\n",
       "1214              0.27      1\n",
       "810               0.27      1\n",
       "1088              0.27      1\n",
       "356               0.27      1"
      ]
     },
     "execution_count": 16,
     "metadata": {},
     "output_type": "execute_result"
    }
   ],
   "source": [
    "# I take the top 3 favorite movies of the top 10 similar users\n",
    "movies_list = pd.DataFrame()\n",
    "for _, similar_user in list.iterrows():\n",
    "    favorite_movies = gds.run_cypher(\n",
    "        f\"\"\"\n",
    "        MATCH (uSample:User{{userId: {userId}}})\n",
    "        MATCH (u:User {{userId: {similar_user['userId']}}})-[r:RATED]->(m:Movie)\n",
    "        WHERE NOT (uSample)-[:RATED]->(m)\n",
    "        RETURN m.movieId as movieId, r.rating as rating\n",
    "        ORDER BY rating DESC\n",
    "        LIMIT 3\n",
    "        \"\"\"\n",
    "    )\n",
    "    favorite_movies[\"general_score\"] = similar_user[\"general_score\"]\n",
    "    movies_list = pd.concat([movies_list, favorite_movies])\n",
    "\n",
    "# I group the results and if I find the movies recommended by more people I sum their general_score.\n",
    "movies_list = movies_list.groupby(by=\"movieId\").agg(\n",
    "    {\"general_score\": \"sum\", \"rating\": \"size\"}\n",
    ")\n",
    "movies_list.columns = [\"general_score\", \"times\"]\n",
    "\n",
    "# I sort the list by general score and take the top 10\n",
    "movies_list.sort_values(by=\"general_score\", ascending=False, inplace=True)\n",
    "movies_list = movies_list.head(10)\n",
    "\n",
    "movies_list"
   ]
  },
  {
   "cell_type": "markdown",
   "metadata": {},
   "source": [
    "With a simple query we can have our 10 recommended movies"
   ]
  },
  {
   "cell_type": "code",
   "execution_count": 17,
   "metadata": {},
   "outputs": [
    {
     "data": {
      "text/html": [
       "<div>\n",
       "<style scoped>\n",
       "    .dataframe tbody tr th:only-of-type {\n",
       "        vertical-align: middle;\n",
       "    }\n",
       "\n",
       "    .dataframe tbody tr th {\n",
       "        vertical-align: top;\n",
       "    }\n",
       "\n",
       "    .dataframe thead th {\n",
       "        text-align: right;\n",
       "    }\n",
       "</style>\n",
       "<table border=\"1\" class=\"dataframe\">\n",
       "  <thead>\n",
       "    <tr style=\"text-align: right;\">\n",
       "      <th></th>\n",
       "      <th>movieId</th>\n",
       "      <th>title</th>\n",
       "    </tr>\n",
       "  </thead>\n",
       "  <tbody>\n",
       "    <tr>\n",
       "      <th>0</th>\n",
       "      <td>356</td>\n",
       "      <td>Forrest Gump (1994)</td>\n",
       "    </tr>\n",
       "    <tr>\n",
       "      <th>1</th>\n",
       "      <td>810</td>\n",
       "      <td>Kazaam (1996)</td>\n",
       "    </tr>\n",
       "    <tr>\n",
       "      <th>2</th>\n",
       "      <td>1088</td>\n",
       "      <td>Dirty Dancing (1987)</td>\n",
       "    </tr>\n",
       "    <tr>\n",
       "      <th>3</th>\n",
       "      <td>1214</td>\n",
       "      <td>Alien (1979)</td>\n",
       "    </tr>\n",
       "    <tr>\n",
       "      <th>4</th>\n",
       "      <td>1223</td>\n",
       "      <td>Grand Day Out A (1992)</td>\n",
       "    </tr>\n",
       "    <tr>\n",
       "      <th>5</th>\n",
       "      <td>2027</td>\n",
       "      <td>Mafia! (1998)</td>\n",
       "    </tr>\n",
       "    <tr>\n",
       "      <th>6</th>\n",
       "      <td>2795</td>\n",
       "      <td>Vacation (1983)</td>\n",
       "    </tr>\n",
       "    <tr>\n",
       "      <th>7</th>\n",
       "      <td>3646</td>\n",
       "      <td>Big Momma's House (2000)</td>\n",
       "    </tr>\n",
       "    <tr>\n",
       "      <th>8</th>\n",
       "      <td>3744</td>\n",
       "      <td>Shaft (2000)</td>\n",
       "    </tr>\n",
       "    <tr>\n",
       "      <th>9</th>\n",
       "      <td>3752</td>\n",
       "      <td>Me Myself and Irene (2000)</td>\n",
       "    </tr>\n",
       "  </tbody>\n",
       "</table>\n",
       "</div>"
      ],
      "text/plain": [
       "   movieId                       title\n",
       "0      356         Forrest Gump (1994)\n",
       "1      810               Kazaam (1996)\n",
       "2     1088        Dirty Dancing (1987)\n",
       "3     1214                Alien (1979)\n",
       "4     1223      Grand Day Out A (1992)\n",
       "5     2027               Mafia! (1998)\n",
       "6     2795             Vacation (1983)\n",
       "7     3646    Big Momma's House (2000)\n",
       "8     3744                Shaft (2000)\n",
       "9     3752  Me Myself and Irene (2000)"
      ]
     },
     "execution_count": 17,
     "metadata": {},
     "output_type": "execute_result"
    }
   ],
   "source": [
    "gds.run_cypher(\n",
    "    f\"\"\"\n",
    "    MATCH (m:Movie) WHERE m.movieId IN {movies_list.index.to_list()}\n",
    "    RETURN m.movieId as movieId,m.title as title\n",
    "    \"\"\"\n",
    ")"
   ]
  },
  {
   "cell_type": "markdown",
   "metadata": {},
   "source": [
    "## Community detection\n",
    "Thanks to similarity analysis we have a subgraph on which we can do community detection.  \n",
    "This is the structure of `users-similarities`  \n",
    "![alt text](images/users_similarities.svg)  \n",
    "\n",
    "This one is a little part of the graph with 300 Users nodes  \n",
    "![alt text](images/users_similarities_300_nodes.svg)\n",
    " "
   ]
  },
  {
   "cell_type": "code",
   "execution_count": 18,
   "metadata": {},
   "outputs": [
    {
     "data": {
      "text/html": [
       "<div>\n",
       "<style scoped>\n",
       "    .dataframe tbody tr th:only-of-type {\n",
       "        vertical-align: middle;\n",
       "    }\n",
       "\n",
       "    .dataframe tbody tr th {\n",
       "        vertical-align: top;\n",
       "    }\n",
       "\n",
       "    .dataframe thead th {\n",
       "        text-align: right;\n",
       "    }\n",
       "</style>\n",
       "<table border=\"1\" class=\"dataframe\">\n",
       "  <thead>\n",
       "    <tr style=\"text-align: right;\">\n",
       "      <th></th>\n",
       "      <th>graph</th>\n",
       "      <th>nodeProjection</th>\n",
       "      <th>nodes</th>\n",
       "      <th>relationshipProjection</th>\n",
       "      <th>rels</th>\n",
       "    </tr>\n",
       "  </thead>\n",
       "  <tbody>\n",
       "    <tr>\n",
       "      <th>0</th>\n",
       "      <td>users-similarities</td>\n",
       "      <td>{'User': {'label': 'User', 'properties': {}}}</td>\n",
       "      <td>6040</td>\n",
       "      <td>{'SIMILAR_RATE': {'aggregation': 'DEFAULT', 'o...</td>\n",
       "      <td>1215708</td>\n",
       "    </tr>\n",
       "  </tbody>\n",
       "</table>\n",
       "</div>"
      ],
      "text/plain": [
       "                graph                                 nodeProjection  nodes  \\\n",
       "0  users-similarities  {'User': {'label': 'User', 'properties': {}}}   6040   \n",
       "\n",
       "                              relationshipProjection     rels  \n",
       "0  {'SIMILAR_RATE': {'aggregation': 'DEFAULT', 'o...  1215708  "
      ]
     },
     "execution_count": 18,
     "metadata": {},
     "output_type": "execute_result"
    }
   ],
   "source": [
    "result = gds.run_cypher(\n",
    "    \"\"\"\n",
    "    CALL gds.graph.project(\n",
    "    'users-similarities',\n",
    "    'User',\n",
    "    {\n",
    "        SIMILAR_KNN: {properties: 'score', orientation: 'UNDIRECTED'},\n",
    "        SIMILAR: {properties: 'score', orientation: 'UNDIRECTED'},\n",
    "        SIMILAR_RATE: {properties: 'score', orientation: 'UNDIRECTED'}\n",
    "    }\n",
    "    )\n",
    "    YIELD\n",
    "    graphName AS graph, nodeProjection, nodeCount AS nodes, relationshipProjection, relationshipCount AS rels\n",
    "\"\"\"\n",
    ")\n",
    "result"
   ]
  },
  {
   "cell_type": "code",
   "execution_count": 19,
   "metadata": {},
   "outputs": [
    {
     "data": {
      "text/html": [
       "<div>\n",
       "<style scoped>\n",
       "    .dataframe tbody tr th:only-of-type {\n",
       "        vertical-align: middle;\n",
       "    }\n",
       "\n",
       "    .dataframe tbody tr th {\n",
       "        vertical-align: top;\n",
       "    }\n",
       "\n",
       "    .dataframe thead th {\n",
       "        text-align: right;\n",
       "    }\n",
       "</style>\n",
       "<table border=\"1\" class=\"dataframe\">\n",
       "  <thead>\n",
       "    <tr style=\"text-align: right;\">\n",
       "      <th></th>\n",
       "      <th>density</th>\n",
       "      <th>degreeDistribution</th>\n",
       "    </tr>\n",
       "  </thead>\n",
       "  <tbody>\n",
       "    <tr>\n",
       "      <th>0</th>\n",
       "      <td>0.033329</td>\n",
       "      <td>{'min': 16, 'max': 349, 'p90': 271, 'p999': 33...</td>\n",
       "    </tr>\n",
       "  </tbody>\n",
       "</table>\n",
       "</div>"
      ],
      "text/plain": [
       "    density                                 degreeDistribution\n",
       "0  0.033329  {'min': 16, 'max': 349, 'p90': 271, 'p999': 33..."
      ]
     },
     "execution_count": 19,
     "metadata": {},
     "output_type": "execute_result"
    }
   ],
   "source": [
    "gds.run_cypher(\n",
    "    \"\"\"\n",
    "    CALL gds.graph.list('users-similarities')\n",
    "    YIELD density,degreeDistribution;\n",
    "\"\"\"\n",
    ")"
   ]
  },
  {
   "cell_type": "markdown",
   "metadata": {},
   "source": [
    "### Check some stats from Neo4j algorithms"
   ]
  },
  {
   "cell_type": "markdown",
   "metadata": {},
   "source": [
    "#### Strongly Connected Components\n",
    "The network is an entire strongly connected component"
   ]
  },
  {
   "cell_type": "code",
   "execution_count": 20,
   "metadata": {},
   "outputs": [
    {
     "data": {
      "text/html": [
       "<div>\n",
       "<style scoped>\n",
       "    .dataframe tbody tr th:only-of-type {\n",
       "        vertical-align: middle;\n",
       "    }\n",
       "\n",
       "    .dataframe tbody tr th {\n",
       "        vertical-align: top;\n",
       "    }\n",
       "\n",
       "    .dataframe thead th {\n",
       "        text-align: right;\n",
       "    }\n",
       "</style>\n",
       "<table border=\"1\" class=\"dataframe\">\n",
       "  <thead>\n",
       "    <tr style=\"text-align: right;\">\n",
       "      <th></th>\n",
       "      <th>componentCount</th>\n",
       "      <th>componentDistribution</th>\n",
       "    </tr>\n",
       "  </thead>\n",
       "  <tbody>\n",
       "    <tr>\n",
       "      <th>0</th>\n",
       "      <td>1</td>\n",
       "      <td>{'min': 6040, 'p5': 6040, 'max': 6040, 'p999':...</td>\n",
       "    </tr>\n",
       "  </tbody>\n",
       "</table>\n",
       "</div>"
      ],
      "text/plain": [
       "   componentCount                              componentDistribution\n",
       "0               1  {'min': 6040, 'p5': 6040, 'max': 6040, 'p999':..."
      ]
     },
     "execution_count": 20,
     "metadata": {},
     "output_type": "execute_result"
    }
   ],
   "source": [
    "gds.run_cypher(\n",
    "    \"\"\"\n",
    "    CALL gds.scc.stats('users-similarities')\n",
    "    YIELD componentCount, componentDistribution\n",
    "    \"\"\"\n",
    ")"
   ]
  },
  {
   "cell_type": "markdown",
   "metadata": {},
   "source": [
    "#### Louvain stats\n",
    "The [louvain](https://neo4j.com/docs/graph-data-science/current/algorithms/louvain/) stats find 7-8 community with a good modularity (0.3<Q<0.7).  "
   ]
  },
  {
   "cell_type": "code",
   "execution_count": 21,
   "metadata": {},
   "outputs": [
    {
     "data": {
      "text/html": [
       "<div>\n",
       "<style scoped>\n",
       "    .dataframe tbody tr th:only-of-type {\n",
       "        vertical-align: middle;\n",
       "    }\n",
       "\n",
       "    .dataframe tbody tr th {\n",
       "        vertical-align: top;\n",
       "    }\n",
       "\n",
       "    .dataframe thead th {\n",
       "        text-align: right;\n",
       "    }\n",
       "</style>\n",
       "<table border=\"1\" class=\"dataframe\">\n",
       "  <thead>\n",
       "    <tr style=\"text-align: right;\">\n",
       "      <th></th>\n",
       "      <th>communityCount</th>\n",
       "      <th>modularity</th>\n",
       "      <th>modularities</th>\n",
       "    </tr>\n",
       "  </thead>\n",
       "  <tbody>\n",
       "    <tr>\n",
       "      <th>0</th>\n",
       "      <td>8</td>\n",
       "      <td>0.62959</td>\n",
       "      <td>[0.5029978892993425, 0.6192833566094449, 0.629...</td>\n",
       "    </tr>\n",
       "  </tbody>\n",
       "</table>\n",
       "</div>"
      ],
      "text/plain": [
       "   communityCount  modularity  \\\n",
       "0               8     0.62959   \n",
       "\n",
       "                                        modularities  \n",
       "0  [0.5029978892993425, 0.6192833566094449, 0.629...  "
      ]
     },
     "execution_count": 21,
     "metadata": {},
     "output_type": "execute_result"
    }
   ],
   "source": [
    "gds.run_cypher(\n",
    "    \"\"\"\n",
    "    CALL gds.louvain.stats('users-similarities', \n",
    "    { \n",
    "        relationshipWeightProperty: 'score'\n",
    "    })\n",
    "    YIELD communityCount, modularity, modularities\n",
    "\"\"\"\n",
    ")"
   ]
  },
  {
   "cell_type": "markdown",
   "metadata": {},
   "source": [
    "### Define communities"
   ]
  },
  {
   "cell_type": "code",
   "execution_count": 22,
   "metadata": {},
   "outputs": [
    {
     "data": {
      "text/html": [
       "<div>\n",
       "<style scoped>\n",
       "    .dataframe tbody tr th:only-of-type {\n",
       "        vertical-align: middle;\n",
       "    }\n",
       "\n",
       "    .dataframe tbody tr th {\n",
       "        vertical-align: top;\n",
       "    }\n",
       "\n",
       "    .dataframe thead th {\n",
       "        text-align: right;\n",
       "    }\n",
       "</style>\n",
       "<table border=\"1\" class=\"dataframe\">\n",
       "  <thead>\n",
       "    <tr style=\"text-align: right;\">\n",
       "      <th></th>\n",
       "      <th>communityCount</th>\n",
       "      <th>modularity</th>\n",
       "      <th>modularities</th>\n",
       "    </tr>\n",
       "  </thead>\n",
       "  <tbody>\n",
       "    <tr>\n",
       "      <th>0</th>\n",
       "      <td>8</td>\n",
       "      <td>0.629767</td>\n",
       "      <td>[0.5322522795511776, 0.6213104728481009, 0.629...</td>\n",
       "    </tr>\n",
       "  </tbody>\n",
       "</table>\n",
       "</div>"
      ],
      "text/plain": [
       "   communityCount  modularity  \\\n",
       "0               8    0.629767   \n",
       "\n",
       "                                        modularities  \n",
       "0  [0.5322522795511776, 0.6213104728481009, 0.629...  "
      ]
     },
     "execution_count": 22,
     "metadata": {},
     "output_type": "execute_result"
    }
   ],
   "source": [
    "gds.run_cypher(\n",
    "    \"\"\"\n",
    "    CALL gds.louvain.write('users-similarities', \n",
    "    { \n",
    "        writeProperty:'communityId',\n",
    "        relationshipWeightProperty: 'score'\n",
    "    })\n",
    "    YIELD communityCount, modularity, modularities\n",
    "\"\"\"\n",
    ")"
   ]
  },
  {
   "cell_type": "code",
   "execution_count": 3,
   "metadata": {},
   "outputs": [
    {
     "data": {
      "text/html": [
       "<div>\n",
       "<style scoped>\n",
       "    .dataframe tbody tr th:only-of-type {\n",
       "        vertical-align: middle;\n",
       "    }\n",
       "\n",
       "    .dataframe tbody tr th {\n",
       "        vertical-align: top;\n",
       "    }\n",
       "\n",
       "    .dataframe thead th {\n",
       "        text-align: right;\n",
       "    }\n",
       "</style>\n",
       "<table border=\"1\" class=\"dataframe\">\n",
       "  <thead>\n",
       "    <tr style=\"text-align: right;\">\n",
       "      <th></th>\n",
       "      <th>communityId</th>\n",
       "      <th>numNodes</th>\n",
       "    </tr>\n",
       "  </thead>\n",
       "  <tbody>\n",
       "    <tr>\n",
       "      <th>0</th>\n",
       "      <td>3117</td>\n",
       "      <td>1260</td>\n",
       "    </tr>\n",
       "    <tr>\n",
       "      <th>1</th>\n",
       "      <td>5477</td>\n",
       "      <td>1193</td>\n",
       "    </tr>\n",
       "    <tr>\n",
       "      <th>2</th>\n",
       "      <td>5491</td>\n",
       "      <td>1103</td>\n",
       "    </tr>\n",
       "    <tr>\n",
       "      <th>3</th>\n",
       "      <td>3722</td>\n",
       "      <td>836</td>\n",
       "    </tr>\n",
       "    <tr>\n",
       "      <th>4</th>\n",
       "      <td>2568</td>\n",
       "      <td>550</td>\n",
       "    </tr>\n",
       "    <tr>\n",
       "      <th>5</th>\n",
       "      <td>894</td>\n",
       "      <td>496</td>\n",
       "    </tr>\n",
       "    <tr>\n",
       "      <th>6</th>\n",
       "      <td>2592</td>\n",
       "      <td>380</td>\n",
       "    </tr>\n",
       "    <tr>\n",
       "      <th>7</th>\n",
       "      <td>2656</td>\n",
       "      <td>222</td>\n",
       "    </tr>\n",
       "  </tbody>\n",
       "</table>\n",
       "</div>"
      ],
      "text/plain": [
       "   communityId  numNodes\n",
       "0         3117      1260\n",
       "1         5477      1193\n",
       "2         5491      1103\n",
       "3         3722       836\n",
       "4         2568       550\n",
       "5          894       496\n",
       "6         2592       380\n",
       "7         2656       222"
      ]
     },
     "execution_count": 3,
     "metadata": {},
     "output_type": "execute_result"
    }
   ],
   "source": [
    "result = gds.run_cypher(\n",
    "    \"\"\"\n",
    "    MATCH (u:User)\n",
    "    RETURN u.communityId as communityId, COUNT(*) as numNodes\n",
    "    ORDER BY numNodes DESC\n",
    "    \n",
    "    \"\"\"\n",
    ")\n",
    "communityId1 = result.iloc[0][\"communityId\"]\n",
    "communityId2 = result.iloc[1][\"communityId\"]\n",
    "result"
   ]
  },
  {
   "cell_type": "markdown",
   "metadata": {},
   "source": [
    "### Community1 vs Community2"
   ]
  },
  {
   "cell_type": "markdown",
   "metadata": {},
   "source": [
    "#### Users"
   ]
  },
  {
   "cell_type": "markdown",
   "metadata": {},
   "source": [
    "##### Prepare data for comparison"
   ]
  },
  {
   "cell_type": "code",
   "execution_count": 15,
   "metadata": {},
   "outputs": [],
   "source": [
    "from helpers import AGE_LABELS, OCCUPATION_LABELS\n",
    "\n",
    "users = gds.run_cypher(\n",
    "    f\"\"\"\n",
    "    MATCH (u:User)\n",
    "    RETURN u.age AS age, u.occupation AS occupation, u.gender AS gender, u.favoriteMonth AS favoriteMonth, u.activity AS activity, u.communityId AS communityId\n",
    "    \"\"\"\n",
    ")\n",
    "\n",
    "genders_label = (\n",
    "    pd.Series(index=users.gender.value_counts().index.to_list()).fillna(0).astype(int)\n",
    ")\n",
    "ages_label = pd.Series(index=AGE_LABELS.values()).fillna(0).astype(int)\n",
    "occupations_label = pd.Series(index=OCCUPATION_LABELS.values()).fillna(0).astype(int)\n",
    "activities_label = (\n",
    "    pd.Series(index=users.activity.value_counts().index.to_list()).fillna(0).astype(int)\n",
    ")\n",
    "favoriteMonths_label = (\n",
    "    pd.Series(index=users.favoriteMonth.value_counts().index.astype(int).to_list())\n",
    "    .fillna(0)\n",
    "    .astype(int)\n",
    ")\n",
    "\n",
    "genders = pd.DataFrame(\n",
    "    {\n",
    "        \"Community 1\": genders_label.combine(\n",
    "            users[\"gender\"][users[\"communityId\"] == communityId1].value_counts(), max\n",
    "        ),\n",
    "        \"Community 2\": genders_label.combine(\n",
    "            users[\"gender\"][users[\"communityId\"] == communityId2].value_counts(), max\n",
    "        ),\n",
    "    },\n",
    "    index=genders_label.index,\n",
    ")\n",
    "\n",
    "ages = pd.DataFrame(\n",
    "    {\n",
    "        \"Community 1\": ages_label.combine(\n",
    "            users[\"age\"][users[\"communityId\"] == communityId1]\n",
    "            .value_counts()\n",
    "            .rename(index=AGE_LABELS),\n",
    "            max,\n",
    "        ),\n",
    "        \"Community 2\": ages_label.combine(\n",
    "            users[\"age\"][users[\"communityId\"] == communityId2]\n",
    "            .value_counts()\n",
    "            .rename(index=AGE_LABELS),\n",
    "            max,\n",
    "        ),\n",
    "    },\n",
    "    index=ages_label.index,\n",
    ")\n",
    "\n",
    "occupations = pd.DataFrame(\n",
    "    {\n",
    "        \"Community 1\": occupations_label.combine(\n",
    "            users[\"occupation\"][users[\"communityId\"] == communityId1]\n",
    "            .value_counts()\n",
    "            .rename(index=OCCUPATION_LABELS),\n",
    "            max,\n",
    "        ),\n",
    "        \"Community 2\": occupations_label.combine(\n",
    "            users[\"occupation\"][users[\"communityId\"] == communityId2]\n",
    "            .value_counts()\n",
    "            .rename(index=OCCUPATION_LABELS),\n",
    "            max,\n",
    "        ),\n",
    "    },\n",
    "    index=occupations_label.index,\n",
    ")\n",
    "\n",
    "activities = pd.DataFrame(\n",
    "    {\n",
    "        \"Community 1\": activities_label.combine(\n",
    "            users[\"activity\"][users[\"communityId\"] == communityId1].value_counts(), max\n",
    "        ),\n",
    "        \"Community 2\": activities_label.combine(\n",
    "            users[\"activity\"][users[\"communityId\"] == communityId2].value_counts(), max\n",
    "        ),\n",
    "    },\n",
    "    index=activities_label.index,\n",
    ")\n",
    "\n",
    "favoriteMonths = pd.DataFrame(\n",
    "    {\n",
    "        \"Community 1\": favoriteMonths_label.combine(\n",
    "            users[\"favoriteMonth\"][users[\"communityId\"] == communityId1].value_counts(),\n",
    "            max,\n",
    "        ),\n",
    "        \"Community 2\": favoriteMonths_label.combine(\n",
    "            users[\"favoriteMonth\"][users[\"communityId\"] == communityId2].value_counts(),\n",
    "            max,\n",
    "        ),\n",
    "    },\n",
    "    index=favoriteMonths_label.index,\n",
    ")"
   ]
  },
  {
   "cell_type": "markdown",
   "metadata": {},
   "source": [
    "##### Comparison"
   ]
  },
  {
   "cell_type": "code",
   "execution_count": 16,
   "metadata": {},
   "outputs": [
    {
     "data": {
      "image/png": "[encoded data removed]",
      "text/plain": [
       "<Figure size 1600x3000 with 5 Axes>"
      ]
     },
     "metadata": {},
     "output_type": "display_data"
    }
   ],
   "source": [
    "fig, axs = plt.subplots(5, 1, figsize=(16, 30))\n",
    "\n",
    "genders.plot(kind=\"bar\", ax=axs[0], title=\"Gender comparison\")\n",
    "ages.plot(kind=\"bar\", ax=axs[1], title=\"Age comparison\")\n",
    "occupations.plot(kind=\"bar\", ax=axs[2], title=\"Occupation comparison\")\n",
    "activities.plot(kind=\"bar\", ax=axs[3], title=\"Activity comparison\")\n",
    "favoriteMonths.plot(kind=\"bar\", ax=axs[4], title=\"Favorite month comparison\")\n",
    "\n",
    "plt.tight_layout()"
   ]
  },
  {
   "cell_type": "markdown",
   "metadata": {},
   "source": [
    "#### Movies"
   ]
  },
  {
   "cell_type": "markdown",
   "metadata": {},
   "source": [
    "##### Prepare data for comparison"
   ]
  },
  {
   "cell_type": "code",
   "execution_count": 15,
   "metadata": {},
   "outputs": [],
   "source": [
    "movies_1 = gds.run_cypher(\n",
    "    f\"\"\"\n",
    "    MATCH (u:User WHERE u.communityId={communityId1})-[r:RATED]->(m:Movie)\n",
    "    RETURN m.title AS title, m.year AS year, m.popularity AS popularity\n",
    "    \"\"\"\n",
    ")\n",
    "movies_2 = gds.run_cypher(\n",
    "    f\"\"\"\n",
    "    MATCH (u:User WHERE u.communityId={communityId2})-[r:RATED]->(m:Movie)\n",
    "    RETURN m.title AS title, m.year AS year, m.popularity AS popularity\n",
    "    \"\"\"\n",
    ")"
   ]
  },
  {
   "cell_type": "markdown",
   "metadata": {},
   "source": [
    "##### Comparison"
   ]
  },
  {
   "cell_type": "code",
   "execution_count": 14,
   "metadata": {},
   "outputs": [
    {
     "data": {
      "image/png": "[encoded data removed]",
      "text/plain": [
       "<Figure size 1600x600 with 2 Axes>"
      ]
     },
     "metadata": {},
     "output_type": "display_data"
    }
   ],
   "source": [
    "fig, axs = plt.subplots(2, 1, figsize=(16, 6))\n",
    "\n",
    "popularity_label = pd.Series(index=range(1, 10)).fillna(0).astype(int)\n",
    "\n",
    "pd.DataFrame(\n",
    "    {\n",
    "        \"Community 1\": movies_1[\"year\"].sort_values(),\n",
    "        \"Community 2\": movies_2[\"year\"].sort_values(),\n",
    "    }\n",
    ").plot(kind=\"hist\", bins=20, alpha=0.5, title=\"Year distribution\", ax=axs[0])\n",
    "\n",
    "pd.DataFrame(\n",
    "    {\n",
    "        \"Community 1\": popularity_label.combine(\n",
    "            movies_1[\"popularity\"].value_counts(), max\n",
    "        ),\n",
    "        \"Community 2\": popularity_label.combine(\n",
    "            movies_2[\"popularity\"].value_counts(), max\n",
    "        ),\n",
    "    },\n",
    "    index=range(1, 10),\n",
    ").plot(kind=\"bar\", alpha=0.5, title=\"Popularity distribution\", ax=axs[1])\n",
    "\n",
    "plt.tight_layout()"
   ]
  },
  {
   "cell_type": "markdown",
   "metadata": {},
   "source": [
    "# Conclusions"
   ]
  }
 ],
 "metadata": {
  "kernelspec": {
   "display_name": "data_science",
   "language": "python",
   "name": "python3"
  },
  "language_info": {
   "codemirror_mode": {
    "name": "ipython",
    "version": 3
   },
   "file_extension": ".py",
   "mimetype": "text/x-python",
   "name": "python",
   "nbconvert_exporter": "python",
   "pygments_lexer": "ipython3",
   "version": "3.11.8"
  }
 },
 "nbformat": 4,
 "nbformat_minor": 2
}
