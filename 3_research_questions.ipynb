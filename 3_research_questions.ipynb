{
 "cells": [
  {
   "cell_type": "markdown",
   "metadata": {},
   "source": [
    "### Connection"
   ]
  },
  {
   "cell_type": "code",
   "execution_count": 3,
   "metadata": {},
   "outputs": [],
   "source": [
    "import pandas as pd\n",
    "import numpy as np\n",
    "import matplotlib.pyplot as plt\n",
    "import scipy.stats as stats\n",
    "from graphdatascience import GraphDataScience\n",
    "\n",
    "URI = \"neo4j://localhost:7687\"\n",
    "NAME_DB = \"movies\"\n",
    "\n",
    "gds = GraphDataScience(URI, aura_ds=False, database=NAME_DB)"
   ]
  },
  {
   "cell_type": "markdown",
   "metadata": {},
   "source": [
    "# Graph Analytics\n",
    "In this section there will be two types of graph analysis:\n",
    "- Similarity to create a recommendations systems\n",
    "- Community detection\n",
    "\n",
    "These two analysis will be done in a correlation way: results on similarity analysis will be use to do a better community detection."
   ]
  },
  {
   "cell_type": "markdown",
   "metadata": {},
   "source": [
    "## Similarity Analysis\n",
    "Similarity analysis is done by considering the entire graph with all information added in preprocessing and exploratory analysis sections.  \n",
    "![db_schema_after_exploratory.png](images/db_schema_after_exploratory.png)\n",
    "\n",
    "As we can also see in the output of the second cell, the density of the graph is slightly increased with the added relations.  \n",
    "\n",
    "Similarity analysis will be done in two way:\n",
    "- Based on nodes relations\n",
    "- Based on nodes properties  \n",
    "\n",
    "So will be calculate similarity on Users and Movies nodes.  "
   ]
  },
  {
   "cell_type": "code",
   "execution_count": 8,
   "metadata": {},
   "outputs": [
    {
     "data": {
      "text/html": [
       "<div>\n",
       "<style scoped>\n",
       "    .dataframe tbody tr th:only-of-type {\n",
       "        vertical-align: middle;\n",
       "    }\n",
       "\n",
       "    .dataframe tbody tr th {\n",
       "        vertical-align: top;\n",
       "    }\n",
       "\n",
       "    .dataframe thead th {\n",
       "        text-align: right;\n",
       "    }\n",
       "</style>\n",
       "<table border=\"1\" class=\"dataframe\">\n",
       "  <thead>\n",
       "    <tr style=\"text-align: right;\">\n",
       "      <th></th>\n",
       "      <th>graph</th>\n",
       "      <th>nodeProjection</th>\n",
       "      <th>nodes</th>\n",
       "      <th>relationshipProjection</th>\n",
       "      <th>rels</th>\n",
       "    </tr>\n",
       "  </thead>\n",
       "  <tbody>\n",
       "    <tr>\n",
       "      <th>0</th>\n",
       "      <td>movies-analyzed</td>\n",
       "      <td>{'User': {'label': 'User', 'properties': {'occ...</td>\n",
       "      <td>9764</td>\n",
       "      <td>{'RATED': {'aggregation': 'DEFAULT', 'orientat...</td>\n",
       "      <td>2067010</td>\n",
       "    </tr>\n",
       "  </tbody>\n",
       "</table>\n",
       "</div>"
      ],
      "text/plain": [
       "             graph                                     nodeProjection  nodes  \\\n",
       "0  movies-analyzed  {'User': {'label': 'User', 'properties': {'occ...   9764   \n",
       "\n",
       "                              relationshipProjection     rels  \n",
       "0  {'RATED': {'aggregation': 'DEFAULT', 'orientat...  2067010  "
      ]
     },
     "execution_count": 8,
     "metadata": {},
     "output_type": "execute_result"
    }
   ],
   "source": [
    "result = gds.run_cypher(\n",
    "    \"\"\"\n",
    "    CALL gds.graph.project(\n",
    "    'movies-analyzed',\n",
    "    {\n",
    "        Movie:{properties:['popularity','favoriteMonth','year']},\n",
    "        User:{properties: ['binaryGender','age','occupation', 'activity','favoriteMonth']},\n",
    "        Genre:{}\n",
    "    },\n",
    "    {\n",
    "        RATED: {properties: 'rating', orientation: 'UNDIRECTED'},\n",
    "        BELONGS:{},\n",
    "        LIKES:{properties: 'score', orientation: 'UNDIRECTED'}\n",
    "    }\n",
    "    )\n",
    "    YIELD\n",
    "    graphName AS graph, nodeProjection, nodeCount AS nodes, relationshipProjection, relationshipCount AS rels\n",
    "\"\"\"\n",
    ")\n",
    "result"
   ]
  },
  {
   "cell_type": "code",
   "execution_count": 9,
   "metadata": {},
   "outputs": [
    {
     "data": {
      "text/html": [
       "<div>\n",
       "<style scoped>\n",
       "    .dataframe tbody tr th:only-of-type {\n",
       "        vertical-align: middle;\n",
       "    }\n",
       "\n",
       "    .dataframe tbody tr th {\n",
       "        vertical-align: top;\n",
       "    }\n",
       "\n",
       "    .dataframe thead th {\n",
       "        text-align: right;\n",
       "    }\n",
       "</style>\n",
       "<table border=\"1\" class=\"dataframe\">\n",
       "  <thead>\n",
       "    <tr style=\"text-align: right;\">\n",
       "      <th></th>\n",
       "      <th>density</th>\n",
       "      <th>degreeDistribution</th>\n",
       "    </tr>\n",
       "  </thead>\n",
       "  <tbody>\n",
       "    <tr>\n",
       "      <th>0</th>\n",
       "      <td>0.021684</td>\n",
       "      <td>{'min': 2, 'max': 3430, 'p90': 520, 'p999': 25...</td>\n",
       "    </tr>\n",
       "  </tbody>\n",
       "</table>\n",
       "</div>"
      ],
      "text/plain": [
       "    density                                 degreeDistribution\n",
       "0  0.021684  {'min': 2, 'max': 3430, 'p90': 520, 'p999': 25..."
      ]
     },
     "execution_count": 9,
     "metadata": {},
     "output_type": "execute_result"
    }
   ],
   "source": [
    "gds.run_cypher(\n",
    "    \"\"\"\n",
    "    CALL gds.graph.list('movies-analyzed')\n",
    "    YIELD density,degreeDistribution;\n",
    "\"\"\"\n",
    ")"
   ]
  },
  {
   "cell_type": "markdown",
   "metadata": {},
   "source": [
    "### Similarity based on relationships\n",
    "In this similarity analysis will be used node the [Node Similarity](https://neo4j.com/docs/graph-data-science/current/algorithms/node-similarity/) algorithm in the Neo4j Graph Data Science library based on Jaccard similarity metrics.  \n"
   ]
  },
  {
   "cell_type": "markdown",
   "metadata": {},
   "source": [
    "#### Users likes genres\n",
    "This similarity analysis adds SIMILAR weighted relations between users with similar connections User-Genre.  \n",
    "This analysis is most of time much higher because we don't have much heterogeneity between users connecting with genres.  \n",
    "For this reason, relations were added from a similarity of 80%.  "
   ]
  },
  {
   "cell_type": "code",
   "execution_count": 11,
   "metadata": {},
   "outputs": [
    {
     "name": "stdout",
     "output_type": "stream",
     "text": [
      "Similarity relations created: 60214\n",
      "\n",
      "{'min': 0.5002517700195312, 'p5': 0.6168289184570312, 'max': 1.0000038146972656, 'p99': 0.9695663452148438, 'p1': 0.5818252563476562, 'p10': 0.6290168762207031, 'p90': 0.9301071166992188, 'p50': 0.6572227478027344, 'p25': 0.6437950134277344, 'p75': 0.8502273559570312, 'p95': 0.9483375549316406, 'mean': 0.7229983415013511, 'p100': 1.0000038146972656, 'stdDev': 0.12098913351048901}\n"
     ]
    }
   ],
   "source": [
    "result = gds.run_cypher(\n",
    "    \"\"\"\n",
    "    CALL gds.nodeSimilarity.write('movies-analyzed',\n",
    "    {\n",
    "        nodeLabels:['User','Genre'],\n",
    "        relationshipTypes:['LIKES'],\n",
    "        relationshipWeightProperty: 'score', \n",
    "        similarityCutoff: 0.5,\n",
    "        writeRelationshipType: 'SIMILAR',\n",
    "        writeProperty: 'score'\n",
    "    }) \n",
    "    \"\"\"\n",
    ")\n",
    "print(f\"Similarity relations created: {result.loc[0]['relationshipsWritten']}\\n\")\n",
    "print(result.loc[0][\"similarityDistribution\"])"
   ]
  },
  {
   "cell_type": "markdown",
   "metadata": {},
   "source": [
    "#### Movies belongs genres\n",
    "This similarity analysis adds SIMILAR weighted relations between movies with similar connections Movie-Genre.  \n",
    "This analysis is most of time much higher because we don't have much diversification on the datasets.  \n",
    "For this reason, relations were added from a similarity of 80%.  "
   ]
  },
  {
   "cell_type": "code",
   "execution_count": 33,
   "metadata": {},
   "outputs": [
    {
     "name": "stdout",
     "output_type": "stream",
     "text": [
      "Similarity relations created: 33130\n",
      "\n",
      "{'min': 0.7999992370605469, 'p5': 1.0000038146972656, 'max': 1.0000038146972656, 'p99': 1.0000038146972656, 'p1': 1.0000038146972656, 'p10': 1.0000038146972656, 'p90': 1.0000038146972656, 'p50': 1.0000038146972656, 'p25': 1.0000038146972656, 'p75': 1.0000038146972656, 'p95': 1.0000038146972656, 'mean': 0.999460488045068, 'p100': 1.0000038146972656, 'stdDev': 0.010410216796040048}\n"
     ]
    }
   ],
   "source": [
    "result = gds.run_cypher(\n",
    "    \"\"\"\n",
    "    CALL gds.nodeSimilarity.write('movies-analyzed',\n",
    "    {\n",
    "        nodeLabels:['Movie','Genre'],\n",
    "        relationshipTypes:['BELONGS'], \n",
    "        similarityCutoff: 0.8,\n",
    "        writeRelationshipType: 'SIMILAR',\n",
    "        writeProperty: 'score'\n",
    "    }) \n",
    "    \"\"\"\n",
    ")\n",
    "print(f\"Similarity relations created: {result.loc[0]['relationshipsWritten']}\\n\")\n",
    "print(result.loc[0][\"similarityDistribution\"])"
   ]
  },
  {
   "cell_type": "markdown",
   "metadata": {},
   "source": [
    "#### Users rate movies\n",
    "This other similarity analysis adds SIMILAR_RATE weighted relations between users with similar connections User-Movie.  \n",
    "\n",
    "This analysis is more precise and captures user behaviour within the network and finds more correct correlations.  \n",
    "For this reason, relations were added from a similarity of 50%.  "
   ]
  },
  {
   "cell_type": "code",
   "execution_count": 35,
   "metadata": {},
   "outputs": [
    {
     "name": "stdout",
     "output_type": "stream",
     "text": [
      "Similarity relations created: 524\n",
      "\n",
      "{'min': 0.5, 'p5': 0.5, 'max': 1.0000038146972656, 'p99': 1.0000038146972656, 'p1': 0.5, 'p10': 0.5, 'p90': 1.0000038146972656, 'p50': 0.5999984741210938, 'p25': 0.5, 'p75': 1.0000038146972656, 'p95': 1.0000038146972656, 'mean': 0.7131035637309533, 'p100': 1.0000038146972656, 'stdDev': 0.2144020236922081}\n"
     ]
    }
   ],
   "source": [
    "result = gds.run_cypher(\n",
    "    \"\"\"\n",
    "    CALL gds.nodeSimilarity.write('movies-analyzed',\n",
    "    {\n",
    "        nodeLabels:['User','Movie'],\n",
    "        relationshipTypes:['RATED'], \n",
    "        similarityCutoff: 0.5,\n",
    "        writeRelationshipType: 'SIMILAR_RATE',\n",
    "        writeProperty: 'score',\n",
    "        relationshipWeightProperty: 'rating'\n",
    "    }) \n",
    "    \"\"\"\n",
    ")\n",
    "print(f\"Similarity relations created: {result.loc[0]['relationshipsWritten']}\\n\")\n",
    "print(result.loc[0][\"similarityDistribution\"])"
   ]
  },
  {
   "cell_type": "markdown",
   "metadata": {},
   "source": [
    "#### Movies rated by users\n",
    "This other similarity analysis adds SIMILAR_RATE weighted relations between movies with similar connections Movie-User.  \n",
    "\n",
    "This analysis is more precise and captures  the popularity and appreciation of the movies within the network and finds more correct correlations.  \n",
    "For this reason, relations were added from a similarity of 50%.  "
   ]
  },
  {
   "cell_type": "code",
   "execution_count": 34,
   "metadata": {},
   "outputs": [
    {
     "name": "stdout",
     "output_type": "stream",
     "text": [
      "Similarity relations created: 524\n",
      "\n",
      "{'min': 0.5, 'p5': 0.5, 'max': 1.0000038146972656, 'p99': 1.0000038146972656, 'p1': 0.5, 'p10': 0.5, 'p90': 1.0000038146972656, 'p50': 0.5999984741210938, 'p25': 0.5, 'p75': 1.0000038146972656, 'p95': 1.0000038146972656, 'mean': 0.7131035637309533, 'p100': 1.0000038146972656, 'stdDev': 0.2144020236922081}\n"
     ]
    }
   ],
   "source": [
    "result = gds.run_cypher(\n",
    "    \"\"\"\n",
    "    CALL gds.nodeSimilarity.write('movies-analyzed',\n",
    "    {\n",
    "        nodeLabels:['Movie','User'],\n",
    "        relationshipTypes:['RATED'], \n",
    "        relationshipWeightProperty: 'rating',\n",
    "        similarityCutoff: 0.5,\n",
    "        writeRelationshipType: 'SIMILAR_RATE',\n",
    "        writeProperty: 'score'\n",
    "    }) \n",
    "    \"\"\"\n",
    ")\n",
    "print(f\"Similarity relations created: {result.loc[0]['relationshipsWritten']}\\n\")\n",
    "print(result.loc[0][\"similarityDistribution\"])"
   ]
  },
  {
   "cell_type": "markdown",
   "metadata": {},
   "source": [
    "### Similarity based on components\n",
    "In this other similarity analysis will be used node the [K-Nearest Neighbors](https://neo4j.com/docs/graph-data-science/current/algorithms/knn/) algorithm in the Neo4j Graph Data Science library based on Jaccard similarity metrics.  \n",
    "\n",
    "N.B.: concurrency:1 and randomSeed: 42 configurations are need to have same results on these tests"
   ]
  },
  {
   "cell_type": "markdown",
   "metadata": {},
   "source": [
    "#### Users\n",
    "This similarity analysis adds SIMILAR_KNN weighted relations between users with similar properties.  \n",
    "\n",
    "For this reason, relations were added from a similarity of 70%.  "
   ]
  },
  {
   "cell_type": "code",
   "execution_count": 15,
   "metadata": {},
   "outputs": [
    {
     "name": "stdout",
     "output_type": "stream",
     "text": [
      "Similarity relations created: 547626\n",
      "\n",
      "{'min': 0.6999969482421875, 'p5': 0.7095222473144531, 'max': 1.0000038146972656, 'p99': 1.0000038146972656, 'p1': 0.6999969482421875, 'p10': 0.7166633605957031, 'p90': 0.8666648864746094, 'p50': 0.7999992370605469, 'p25': 0.7333297729492188, 'p75': 0.8333320617675781, 'p95': 0.8999977111816406, 'mean': 0.7915988846093521, 'p100': 1.0000038146972656, 'stdDev': 0.06453635621702361}\n"
     ]
    }
   ],
   "source": [
    "result = gds.run_cypher(\n",
    "    \"\"\"\n",
    "    CALL gds.knn.write('movies-analyzed', {\n",
    "        nodeLabels:['User'], \n",
    "        writeRelationshipType: 'SIMILAR_KNN',\n",
    "        writeProperty: 'score',\n",
    "        topK: 100, \n",
    "        concurrency: 1, \n",
    "        randomSeed: 42,\n",
    "        similarityCutoff: 0.7,\n",
    "        nodeProperties: ['binaryGender','age','occupation', 'activity','favoriteMonth']})\n",
    "    \"\"\"\n",
    ")\n",
    "print(f\"Similarity relations created: {result.loc[0]['relationshipsWritten']}\\n\")\n",
    "print(result.loc[0][\"similarityDistribution\"])"
   ]
  },
  {
   "cell_type": "markdown",
   "metadata": {},
   "source": [
    "#### Movies\n",
    "This similarity analysis adds SIMILAR_KNN weighted relations between movies with similar properties.  \n",
    "\n",
    "For this reason, relations were added from a similarity of 70%.  "
   ]
  },
  {
   "cell_type": "code",
   "execution_count": 41,
   "metadata": {},
   "outputs": [
    {
     "name": "stdout",
     "output_type": "stream",
     "text": [
      "Similarity relations created: 282993\n",
      "\n",
      "{'min': 0.6999969482421875, 'p5': 0.7083320617675781, 'max': 1.0000038146972656, 'p99': 1.0000038146972656, 'p1': 0.6999969482421875, 'p10': 0.7222213745117188, 'p90': 1.0000038146972656, 'p50': 0.8333320617675781, 'p25': 0.75, 'p75': 0.8333320617675781, 'p95': 1.0000038146972656, 'mean': 0.8117299385465895, 'p100': 1.0000038146972656, 'stdDev': 0.0790926457674319}\n"
     ]
    }
   ],
   "source": [
    "result = gds.run_cypher(\n",
    "    \"\"\"\n",
    "    CALL gds.knn.write('movies-analyzed', {\n",
    "        nodeLabels:['Movie'],\n",
    "        writeRelationshipType: 'SIMILAR_KNN',writeProperty: 'score',\n",
    "        topK: 100,\n",
    "        concurrency: 1,\n",
    "        randomSeed: 42,\n",
    "        similarityCutoff: 0.7,\n",
    "        nodeProperties: ['popularity','favoriteMonth','year']})\n",
    "    \"\"\"\n",
    ")\n",
    "print(f\"Similarity relations created: {result.loc[0]['relationshipsWritten']}\\n\")\n",
    "print(result.loc[0][\"similarityDistribution\"])"
   ]
  },
  {
   "cell_type": "markdown",
   "metadata": {},
   "source": [
    "## Recommendation Systems\n",
    "After similarity analysis the graph become like this:  \n",
    "![alt text](images/movies_with_similarity.svg)  \n",
    "Having these information we can build a recommendation system mixed with relations similarity and components similarity.\n",
    "  \n",
    "Init our pseudo-random generator with fixed seed."
   ]
  },
  {
   "cell_type": "code",
   "execution_count": 30,
   "metadata": {},
   "outputs": [],
   "source": [
    "import random\n",
    "\n",
    "random.seed(0)"
   ]
  },
  {
   "cell_type": "markdown",
   "metadata": {},
   "source": [
    "### Movie based\n",
    "We choose a random film from dataset"
   ]
  },
  {
   "cell_type": "code",
   "execution_count": 31,
   "metadata": {},
   "outputs": [
    {
     "data": {
      "text/plain": [
       "'Blood and Sand (Sangre y Arena) (1989)'"
      ]
     },
     "execution_count": 31,
     "metadata": {},
     "output_type": "execute_result"
    }
   ],
   "source": [
    "movieId = random.randint(0, 3952)\n",
    "\n",
    "gds.run_cypher(\n",
    "    f\"\"\"\n",
    "    MATCH (m:Movie) WHERE m.movieId = {movieId}\n",
    "    RETURN m.movieId as movieId,m.title as title\n",
    "    \"\"\"\n",
    ").loc[0][\"title\"]"
   ]
  },
  {
   "cell_type": "markdown",
   "metadata": {},
   "source": [
    "After that we pick 60 movies similar based our three similarity metrics (20 movies for each).  \n",
    "\n",
    "We joins these three lists and calculate a mixed score metrics with different weights  \n",
    "__general_score = scoreGenre * .2 + scoreRate * .5 + scoreKnn * .3__  \n",
    "\n",
    "Sorts list by `general_score` and filter first 10\n"
   ]
  },
  {
   "cell_type": "code",
   "execution_count": 77,
   "metadata": {},
   "outputs": [
    {
     "data": {
      "text/plain": [
       "[3123, 3166, 706, 2039, 142, 3687, 1989, 868, 1107, 2742]"
      ]
     },
     "execution_count": 77,
     "metadata": {},
     "output_type": "execute_result"
    }
   ],
   "source": [
    "# I take the top 20 most similar films according to previously created similarity edges for each similarity type\n",
    "list_with_similar_genre = gds.run_cypher(\n",
    "    f\"\"\"\n",
    "    MATCH (m:Movie WHERE m.movieId = {movieId})-[s:SIMILAR]-(m2:Movie)\n",
    "    RETURN DISTINCT m2.movieId as movieId, s.score as scoreGenre\n",
    "    ORDER BY scoreGenre DESC\n",
    "    limit 20\n",
    "    \"\"\"\n",
    ")\n",
    "list_with_similar_rate = gds.run_cypher(\n",
    "    f\"\"\"\n",
    "    MATCH (m:Movie WHERE m.movieId = {movieId})-[s:SIMILAR_RATE]-(m2:Movie)\n",
    "    RETURN DISTINCT m2.movieId as movieId, s.score as scoreRate\n",
    "    ORDER BY scoreRate DESC\n",
    "    limit 20\n",
    "    \"\"\"\n",
    ")\n",
    "list_with_similar_knn = gds.run_cypher(\n",
    "    f\"\"\"\n",
    "    MATCH (m:Movie WHERE m.movieId = {movieId})-[s:SIMILAR_KNN]-(m2:Movie)\n",
    "    RETURN DISTINCT m2.movieId as movieId, s.score as scoreKnn\n",
    "    ORDER BY scoreKnn DESC\n",
    "    limit 20\n",
    "    \"\"\"\n",
    ")\n",
    "\n",
    "# I merge the lists\n",
    "list = pd.merge(\n",
    "    list_with_similar_genre, list_with_similar_rate, how=\"outer\", on=\"movieId\"\n",
    ")\n",
    "list = list.merge(list_with_similar_knn, how=\"outer\", on=\"movieId\")\n",
    "\n",
    "# I fill in the missing values with 0\n",
    "list.fillna(0, inplace=True)\n",
    "\n",
    "# I calculate the general score\n",
    "list[\"general_score\"] = (\n",
    "    list[\"scoreGenre\"] * 0.2 + list[\"scoreRate\"] * 0.5 + list[\"scoreKnn\"] * 0.3\n",
    ")\n",
    "\n",
    "# I sort the list by general score and take the top 10\n",
    "list.sort_values(by=\"general_score\", ascending=False, inplace=True)\n",
    "list.reset_index(drop=True, inplace=True)\n",
    "\n",
    "# I pick the top 10 movies\n",
    "list = list.head(10)\n",
    "\n",
    "list"
   ]
  },
  {
   "cell_type": "markdown",
   "metadata": {},
   "source": [
    "With a simple query we can have our 10 recommended movies"
   ]
  },
  {
   "cell_type": "code",
   "execution_count": 79,
   "metadata": {},
   "outputs": [
    {
     "data": {
      "text/html": [
       "<div>\n",
       "<style scoped>\n",
       "    .dataframe tbody tr th:only-of-type {\n",
       "        vertical-align: middle;\n",
       "    }\n",
       "\n",
       "    .dataframe tbody tr th {\n",
       "        vertical-align: top;\n",
       "    }\n",
       "\n",
       "    .dataframe thead th {\n",
       "        text-align: right;\n",
       "    }\n",
       "</style>\n",
       "<table border=\"1\" class=\"dataframe\">\n",
       "  <thead>\n",
       "    <tr style=\"text-align: right;\">\n",
       "      <th></th>\n",
       "      <th>movieId</th>\n",
       "      <th>title</th>\n",
       "    </tr>\n",
       "  </thead>\n",
       "  <tbody>\n",
       "    <tr>\n",
       "      <th>0</th>\n",
       "      <td>142</td>\n",
       "      <td>Shadows (Cienie) (1988)</td>\n",
       "    </tr>\n",
       "    <tr>\n",
       "      <th>1</th>\n",
       "      <td>706</td>\n",
       "      <td>Sunset Park (1996)</td>\n",
       "    </tr>\n",
       "    <tr>\n",
       "      <th>2</th>\n",
       "      <td>868</td>\n",
       "      <td>Death in Brunswick (1991)</td>\n",
       "    </tr>\n",
       "    <tr>\n",
       "      <th>3</th>\n",
       "      <td>1107</td>\n",
       "      <td>Loser (1991)</td>\n",
       "    </tr>\n",
       "    <tr>\n",
       "      <th>4</th>\n",
       "      <td>1989</td>\n",
       "      <td>Prom Night III: The Last Kiss (1989)</td>\n",
       "    </tr>\n",
       "    <tr>\n",
       "      <th>5</th>\n",
       "      <td>2039</td>\n",
       "      <td>Cheetah (1989)</td>\n",
       "    </tr>\n",
       "    <tr>\n",
       "      <th>6</th>\n",
       "      <td>2742</td>\n",
       "      <td>M�nage (Tenue de soir�e) (1986)</td>\n",
       "    </tr>\n",
       "    <tr>\n",
       "      <th>7</th>\n",
       "      <td>3123</td>\n",
       "      <td>Spring Fever USA (a.k.a. Lauderdale) (1989)</td>\n",
       "    </tr>\n",
       "    <tr>\n",
       "      <th>8</th>\n",
       "      <td>3166</td>\n",
       "      <td>Brenda Starr (1989)</td>\n",
       "    </tr>\n",
       "    <tr>\n",
       "      <th>9</th>\n",
       "      <td>3687</td>\n",
       "      <td>Light Years (1988)</td>\n",
       "    </tr>\n",
       "  </tbody>\n",
       "</table>\n",
       "</div>"
      ],
      "text/plain": [
       "   movieId                                        title\n",
       "0      142                      Shadows (Cienie) (1988)\n",
       "1      706                           Sunset Park (1996)\n",
       "2      868                    Death in Brunswick (1991)\n",
       "3     1107                                 Loser (1991)\n",
       "4     1989         Prom Night III: The Last Kiss (1989)\n",
       "5     2039                               Cheetah (1989)\n",
       "6     2742              M�nage (Tenue de soir�e) (1986)\n",
       "7     3123  Spring Fever USA (a.k.a. Lauderdale) (1989)\n",
       "8     3166                          Brenda Starr (1989)\n",
       "9     3687                           Light Years (1988)"
      ]
     },
     "execution_count": 79,
     "metadata": {},
     "output_type": "execute_result"
    }
   ],
   "source": [
    "gds.run_cypher(\n",
    "    f\"\"\"\n",
    "    MATCH (m:Movie) WHERE m.movieId IN {list['movieId'].tolist()}\n",
    "    RETURN m.movieId as movieId,m.title as title\n",
    "    \"\"\"\n",
    ")"
   ]
  },
  {
   "cell_type": "markdown",
   "metadata": {},
   "source": [
    "### User based\n",
    "We choose a random user"
   ]
  },
  {
   "cell_type": "code",
   "execution_count": 80,
   "metadata": {},
   "outputs": [
    {
     "data": {
      "text/html": [
       "<div>\n",
       "<style scoped>\n",
       "    .dataframe tbody tr th:only-of-type {\n",
       "        vertical-align: middle;\n",
       "    }\n",
       "\n",
       "    .dataframe tbody tr th {\n",
       "        vertical-align: top;\n",
       "    }\n",
       "\n",
       "    .dataframe thead th {\n",
       "        text-align: right;\n",
       "    }\n",
       "</style>\n",
       "<table border=\"1\" class=\"dataframe\">\n",
       "  <thead>\n",
       "    <tr style=\"text-align: right;\">\n",
       "      <th></th>\n",
       "      <th>gender</th>\n",
       "      <th>age</th>\n",
       "      <th>occupation</th>\n",
       "      <th>activity</th>\n",
       "      <th>favoriteMonth</th>\n",
       "    </tr>\n",
       "  </thead>\n",
       "  <tbody>\n",
       "    <tr>\n",
       "      <th>0</th>\n",
       "      <td>M</td>\n",
       "      <td>25</td>\n",
       "      <td>20</td>\n",
       "      <td>9</td>\n",
       "      <td>6</td>\n",
       "    </tr>\n",
       "  </tbody>\n",
       "</table>\n",
       "</div>"
      ],
      "text/plain": [
       "  gender  age  occupation  activity  favoriteMonth\n",
       "0      M   25          20         9              6"
      ]
     },
     "execution_count": 80,
     "metadata": {},
     "output_type": "execute_result"
    }
   ],
   "source": [
    "userId = random.randint(1, 6040)\n",
    "\n",
    "gds.run_cypher(\n",
    "    f\"\"\"\n",
    "    MATCH (u:User {{userId: {userId}}})\n",
    "    RETURN u.gender as gender, u.age as age, u.occupation as occupation, u.activity as activity, u.favoriteMonth as favoriteMonth\n",
    "    \"\"\"\n",
    ")"
   ]
  },
  {
   "cell_type": "markdown",
   "metadata": {},
   "source": [
    "After that we pick the top 30 user similar based our three similarity metrics (10 user for each).  \n",
    "\n",
    "We joins these three lists and calculate a mixed score metrics with different weights  \n",
    "__general_score = scoreGenre * .2 + scoreRate * .5 + scoreKnn * .3__  \n",
    "\n",
    "Sorts list by `general_score` and filter first 10"
   ]
  },
  {
   "cell_type": "code",
   "execution_count": 106,
   "metadata": {},
   "outputs": [
    {
     "name": "stderr",
     "output_type": "stream",
     "text": [
      "/tmp/ipykernel_1424/494110991.py:30: FutureWarning: Downcasting object dtype arrays on .fillna, .ffill, .bfill is deprecated and will change in a future version. Call result.infer_objects(copy=False) instead. To opt-in to the future behavior, set `pd.set_option('future.no_silent_downcasting', True)`\n",
      "  list.fillna(0,inplace=True)\n"
     ]
    },
    {
     "data": {
      "text/html": [
       "<div>\n",
       "<style scoped>\n",
       "    .dataframe tbody tr th:only-of-type {\n",
       "        vertical-align: middle;\n",
       "    }\n",
       "\n",
       "    .dataframe tbody tr th {\n",
       "        vertical-align: top;\n",
       "    }\n",
       "\n",
       "    .dataframe thead th {\n",
       "        text-align: right;\n",
       "    }\n",
       "</style>\n",
       "<table border=\"1\" class=\"dataframe\">\n",
       "  <thead>\n",
       "    <tr style=\"text-align: right;\">\n",
       "      <th></th>\n",
       "      <th>userId</th>\n",
       "      <th>scoreGenre</th>\n",
       "      <th>scoreRate</th>\n",
       "      <th>scoreKnn</th>\n",
       "      <th>score</th>\n",
       "    </tr>\n",
       "  </thead>\n",
       "  <tbody>\n",
       "    <tr>\n",
       "      <th>0</th>\n",
       "      <td>5722</td>\n",
       "      <td>0.0</td>\n",
       "      <td>0</td>\n",
       "      <td>0.900000</td>\n",
       "      <td>0.270</td>\n",
       "    </tr>\n",
       "    <tr>\n",
       "      <th>1</th>\n",
       "      <td>5277</td>\n",
       "      <td>0.0</td>\n",
       "      <td>0</td>\n",
       "      <td>0.900000</td>\n",
       "      <td>0.270</td>\n",
       "    </tr>\n",
       "    <tr>\n",
       "      <th>2</th>\n",
       "      <td>5323</td>\n",
       "      <td>0.0</td>\n",
       "      <td>0</td>\n",
       "      <td>0.900000</td>\n",
       "      <td>0.270</td>\n",
       "    </tr>\n",
       "    <tr>\n",
       "      <th>3</th>\n",
       "      <td>3910</td>\n",
       "      <td>0.0</td>\n",
       "      <td>0</td>\n",
       "      <td>0.866667</td>\n",
       "      <td>0.260</td>\n",
       "    </tr>\n",
       "    <tr>\n",
       "      <th>4</th>\n",
       "      <td>5376</td>\n",
       "      <td>0.0</td>\n",
       "      <td>0</td>\n",
       "      <td>0.850000</td>\n",
       "      <td>0.255</td>\n",
       "    </tr>\n",
       "    <tr>\n",
       "      <th>5</th>\n",
       "      <td>5148</td>\n",
       "      <td>0.0</td>\n",
       "      <td>0</td>\n",
       "      <td>0.850000</td>\n",
       "      <td>0.255</td>\n",
       "    </tr>\n",
       "    <tr>\n",
       "      <th>6</th>\n",
       "      <td>5408</td>\n",
       "      <td>0.0</td>\n",
       "      <td>0</td>\n",
       "      <td>0.850000</td>\n",
       "      <td>0.255</td>\n",
       "    </tr>\n",
       "    <tr>\n",
       "      <th>7</th>\n",
       "      <td>3158</td>\n",
       "      <td>0.0</td>\n",
       "      <td>0</td>\n",
       "      <td>0.833333</td>\n",
       "      <td>0.250</td>\n",
       "    </tr>\n",
       "    <tr>\n",
       "      <th>8</th>\n",
       "      <td>5488</td>\n",
       "      <td>0.0</td>\n",
       "      <td>0</td>\n",
       "      <td>0.833333</td>\n",
       "      <td>0.250</td>\n",
       "    </tr>\n",
       "    <tr>\n",
       "      <th>9</th>\n",
       "      <td>5252</td>\n",
       "      <td>0.0</td>\n",
       "      <td>0</td>\n",
       "      <td>0.833333</td>\n",
       "      <td>0.250</td>\n",
       "    </tr>\n",
       "  </tbody>\n",
       "</table>\n",
       "</div>"
      ],
      "text/plain": [
       "   userId  scoreGenre  scoreRate  scoreKnn  score\n",
       "0    5722         0.0          0  0.900000  0.270\n",
       "1    5277         0.0          0  0.900000  0.270\n",
       "2    5323         0.0          0  0.900000  0.270\n",
       "3    3910         0.0          0  0.866667  0.260\n",
       "4    5376         0.0          0  0.850000  0.255\n",
       "5    5148         0.0          0  0.850000  0.255\n",
       "6    5408         0.0          0  0.850000  0.255\n",
       "7    3158         0.0          0  0.833333  0.250\n",
       "8    5488         0.0          0  0.833333  0.250\n",
       "9    5252         0.0          0  0.833333  0.250"
      ]
     },
     "execution_count": 106,
     "metadata": {},
     "output_type": "execute_result"
    }
   ],
   "source": [
    "# I take the top 10 most similar users according to previously created similarity edges for each similarity type\n",
    "list_with_similar_genre = gds.run_cypher(\n",
    "    f\"\"\"\n",
    "    MATCH (u:User WHERE u.userId = {userId})-[s:SIMILAR]-(u2:User)\n",
    "    RETURN DISTINCT u2.userId as userId, s.score as scoreGenre\n",
    "    ORDER BY scoreGenre DESC\n",
    "    limit 10\n",
    "    \"\"\"\n",
    ")\n",
    "list_with_similar_rate = gds.run_cypher(\n",
    "    f\"\"\"\n",
    "    MATCH (u:User WHERE u.userId = {userId})-[s:SIMILAR_RATE]-(u2:User)\n",
    "    RETURN DISTINCT u2.userId as userId, s.score as scoreRate\n",
    "    ORDER BY scoreRate DESC\n",
    "    limit 10\n",
    "    \"\"\"\n",
    ")\n",
    "list_with_similar_knn = gds.run_cypher(\n",
    "    f\"\"\"\n",
    "    MATCH (u:User WHERE u.userId = {userId})-[s:SIMILAR_KNN]-(u2:User)\n",
    "    RETURN DISTINCT u2.userId as userId, s.score as scoreKnn\n",
    "    ORDER BY scoreKnn DESC\n",
    "    limit 10\n",
    "    \"\"\"\n",
    ")\n",
    "\n",
    "# I merge the lists\n",
    "list = pd.merge(\n",
    "    list_with_similar_genre, list_with_similar_rate, how=\"outer\", on=\"userId\"\n",
    ")\n",
    "list = list.merge(list_with_similar_knn, how=\"outer\", on=\"userId\")\n",
    "\n",
    "# I fill in the missing values with 0\n",
    "list.fillna(0, inplace=True)\n",
    "\n",
    "# I calculate the general score\n",
    "list[\"general_score\"] = (\n",
    "    list[\"scoreGenre\"] * 0.2 + list[\"scoreRate\"] * 0.5 + list[\"scoreKnn\"] * 0.3\n",
    ")\n",
    "\n",
    "# I sort the list by general score\n",
    "list.sort_values(by=\"general_score\", ascending=False, inplace=True)\n",
    "list.reset_index(drop=True, inplace=True)\n",
    "\n",
    "# I pick the top 10 users\n",
    "list = list.head(10)\n",
    "\n",
    "list"
   ]
  },
  {
   "cell_type": "markdown",
   "metadata": {},
   "source": [
    "Having the 10 most similar people, for each one I select the 3 most liked films that have not yet been seen by the person taken as an example. \n",
    "\n",
    "I group the results and if I find films recommended by several people I add up their general_score.\n",
    "\n",
    "Finally I select the top 10"
   ]
  },
  {
   "cell_type": "code",
   "execution_count": 152,
   "metadata": {},
   "outputs": [
    {
     "data": {
      "text/html": [
       "<div>\n",
       "<style scoped>\n",
       "    .dataframe tbody tr th:only-of-type {\n",
       "        vertical-align: middle;\n",
       "    }\n",
       "\n",
       "    .dataframe tbody tr th {\n",
       "        vertical-align: top;\n",
       "    }\n",
       "\n",
       "    .dataframe thead th {\n",
       "        text-align: right;\n",
       "    }\n",
       "</style>\n",
       "<table border=\"1\" class=\"dataframe\">\n",
       "  <thead>\n",
       "    <tr style=\"text-align: right;\">\n",
       "      <th></th>\n",
       "      <th>score</th>\n",
       "      <th>times</th>\n",
       "    </tr>\n",
       "    <tr>\n",
       "      <th>movieId</th>\n",
       "      <th></th>\n",
       "      <th></th>\n",
       "    </tr>\n",
       "  </thead>\n",
       "  <tbody>\n",
       "    <tr>\n",
       "      <th>2028</th>\n",
       "      <td>0.785</td>\n",
       "      <td>3</td>\n",
       "    </tr>\n",
       "    <tr>\n",
       "      <th>527</th>\n",
       "      <td>0.775</td>\n",
       "      <td>3</td>\n",
       "    </tr>\n",
       "    <tr>\n",
       "      <th>1089</th>\n",
       "      <td>0.510</td>\n",
       "      <td>2</td>\n",
       "    </tr>\n",
       "    <tr>\n",
       "      <th>1066</th>\n",
       "      <td>0.270</td>\n",
       "      <td>1</td>\n",
       "    </tr>\n",
       "    <tr>\n",
       "      <th>1084</th>\n",
       "      <td>0.270</td>\n",
       "      <td>1</td>\n",
       "    </tr>\n",
       "    <tr>\n",
       "      <th>2010</th>\n",
       "      <td>0.270</td>\n",
       "      <td>1</td>\n",
       "    </tr>\n",
       "    <tr>\n",
       "      <th>2712</th>\n",
       "      <td>0.270</td>\n",
       "      <td>1</td>\n",
       "    </tr>\n",
       "    <tr>\n",
       "      <th>1082</th>\n",
       "      <td>0.270</td>\n",
       "      <td>1</td>\n",
       "    </tr>\n",
       "    <tr>\n",
       "      <th>1073</th>\n",
       "      <td>0.270</td>\n",
       "      <td>1</td>\n",
       "    </tr>\n",
       "    <tr>\n",
       "      <th>3319</th>\n",
       "      <td>0.270</td>\n",
       "      <td>1</td>\n",
       "    </tr>\n",
       "  </tbody>\n",
       "</table>\n",
       "</div>"
      ],
      "text/plain": [
       "         score  times\n",
       "movieId              \n",
       "2028     0.785      3\n",
       "527      0.775      3\n",
       "1089     0.510      2\n",
       "1066     0.270      1\n",
       "1084     0.270      1\n",
       "2010     0.270      1\n",
       "2712     0.270      1\n",
       "1082     0.270      1\n",
       "1073     0.270      1\n",
       "3319     0.270      1"
      ]
     },
     "execution_count": 152,
     "metadata": {},
     "output_type": "execute_result"
    }
   ],
   "source": [
    "# I take the top 3 favorite movies of the top 10 similar users\n",
    "movies_list = pd.DataFrame()\n",
    "for _, similar_user in list.iterrows():\n",
    "    favorite_movies = gds.run_cypher(\n",
    "        f\"\"\"\n",
    "        MATCH (uSample:User{{userId: {userId}}})\n",
    "        MATCH (u:User {{userId: {similar_user['userId']}}})-[r:RATED]->(m:Movie)\n",
    "        WHERE NOT (uSample)-[:RATED]->(m)\n",
    "        RETURN m.movieId as movieId, r.rating as rating\n",
    "        ORDER BY rating DESC\n",
    "        LIMIT 3\n",
    "        \"\"\"\n",
    "    )\n",
    "    favorite_movies[\"general_score\"] = similar_user[\"general_score\"]\n",
    "    movies_list = pd.concat([movies_list, favorite_movies])\n",
    "\n",
    "# I group the results and if I find the movies recommended by more people I sum their general_score.\n",
    "movies_list = movies_list.groupby(by=\"movieId\").agg(\n",
    "    {\"general_score\": \"sum\", \"rating\": \"size\"}\n",
    ")\n",
    "movies_list.columns = [\"general_score\", \"times\"]\n",
    "\n",
    "# I sort the list by general score and take the top 10\n",
    "movies_list.sort_values(by=\"general_score\", ascending=False, inplace=True)\n",
    "movies_list = movies_list.head(10)\n",
    "\n",
    "movies_list"
   ]
  },
  {
   "cell_type": "markdown",
   "metadata": {},
   "source": [
    "With a simple query we can have our 10 recommended movies"
   ]
  },
  {
   "cell_type": "code",
   "execution_count": 153,
   "metadata": {},
   "outputs": [
    {
     "data": {
      "text/html": [
       "<div>\n",
       "<style scoped>\n",
       "    .dataframe tbody tr th:only-of-type {\n",
       "        vertical-align: middle;\n",
       "    }\n",
       "\n",
       "    .dataframe tbody tr th {\n",
       "        vertical-align: top;\n",
       "    }\n",
       "\n",
       "    .dataframe thead th {\n",
       "        text-align: right;\n",
       "    }\n",
       "</style>\n",
       "<table border=\"1\" class=\"dataframe\">\n",
       "  <thead>\n",
       "    <tr style=\"text-align: right;\">\n",
       "      <th></th>\n",
       "      <th>movieId</th>\n",
       "      <th>title</th>\n",
       "    </tr>\n",
       "  </thead>\n",
       "  <tbody>\n",
       "    <tr>\n",
       "      <th>0</th>\n",
       "      <td>527</td>\n",
       "      <td>Schindler's List (1993)</td>\n",
       "    </tr>\n",
       "    <tr>\n",
       "      <th>1</th>\n",
       "      <td>1066</td>\n",
       "      <td>Shall We Dance? (1937)</td>\n",
       "    </tr>\n",
       "    <tr>\n",
       "      <th>2</th>\n",
       "      <td>1073</td>\n",
       "      <td>Willy Wonka and the Chocolate Factory (1971)</td>\n",
       "    </tr>\n",
       "    <tr>\n",
       "      <th>3</th>\n",
       "      <td>1082</td>\n",
       "      <td>Candidate The (1972)</td>\n",
       "    </tr>\n",
       "    <tr>\n",
       "      <th>4</th>\n",
       "      <td>1084</td>\n",
       "      <td>Bonnie and Clyde (1967)</td>\n",
       "    </tr>\n",
       "    <tr>\n",
       "      <th>5</th>\n",
       "      <td>1089</td>\n",
       "      <td>Reservoir Dogs (1992)</td>\n",
       "    </tr>\n",
       "    <tr>\n",
       "      <th>6</th>\n",
       "      <td>2010</td>\n",
       "      <td>Metropolis (1926)</td>\n",
       "    </tr>\n",
       "    <tr>\n",
       "      <th>7</th>\n",
       "      <td>2028</td>\n",
       "      <td>Saving Private Ryan (1998)</td>\n",
       "    </tr>\n",
       "    <tr>\n",
       "      <th>8</th>\n",
       "      <td>2712</td>\n",
       "      <td>Eyes Wide Shut (1999)</td>\n",
       "    </tr>\n",
       "    <tr>\n",
       "      <th>9</th>\n",
       "      <td>3319</td>\n",
       "      <td>Judy Berlin (1999)</td>\n",
       "    </tr>\n",
       "  </tbody>\n",
       "</table>\n",
       "</div>"
      ],
      "text/plain": [
       "   movieId                                         title\n",
       "0      527                       Schindler's List (1993)\n",
       "1     1066                        Shall We Dance? (1937)\n",
       "2     1073  Willy Wonka and the Chocolate Factory (1971)\n",
       "3     1082                          Candidate The (1972)\n",
       "4     1084                       Bonnie and Clyde (1967)\n",
       "5     1089                         Reservoir Dogs (1992)\n",
       "6     2010                             Metropolis (1926)\n",
       "7     2028                    Saving Private Ryan (1998)\n",
       "8     2712                         Eyes Wide Shut (1999)\n",
       "9     3319                            Judy Berlin (1999)"
      ]
     },
     "execution_count": 153,
     "metadata": {},
     "output_type": "execute_result"
    }
   ],
   "source": [
    "gds.run_cypher(\n",
    "    f\"\"\"\n",
    "    MATCH (m:Movie) WHERE m.movieId IN {movies_list.index.to_list()}\n",
    "    RETURN m.movieId as movieId,m.title as title\n",
    "    \"\"\"\n",
    ")"
   ]
  },
  {
   "cell_type": "markdown",
   "metadata": {},
   "source": [
    "## Community detection\n",
    "Thanks to similarity analysis we have a subgraph on which we can do community detection.  \n",
    "This is the structure of `users-similarities`  \n",
    "![alt text](images/users_similarities.svg)  \n",
    "\n",
    "This one is a little part of the graph with 300 Users nodes  \n",
    "![alt text](images/users_similarities_300_nodes.svg)\n",
    " "
   ]
  },
  {
   "cell_type": "code",
   "execution_count": 172,
   "metadata": {},
   "outputs": [
    {
     "data": {
      "text/html": [
       "<div>\n",
       "<style scoped>\n",
       "    .dataframe tbody tr th:only-of-type {\n",
       "        vertical-align: middle;\n",
       "    }\n",
       "\n",
       "    .dataframe tbody tr th {\n",
       "        vertical-align: top;\n",
       "    }\n",
       "\n",
       "    .dataframe thead th {\n",
       "        text-align: right;\n",
       "    }\n",
       "</style>\n",
       "<table border=\"1\" class=\"dataframe\">\n",
       "  <thead>\n",
       "    <tr style=\"text-align: right;\">\n",
       "      <th></th>\n",
       "    </tr>\n",
       "  </thead>\n",
       "  <tbody>\n",
       "  </tbody>\n",
       "</table>\n",
       "</div>"
      ],
      "text/plain": [
       "Empty DataFrame\n",
       "Columns: []\n",
       "Index: []"
      ]
     },
     "execution_count": 172,
     "metadata": {},
     "output_type": "execute_result"
    }
   ],
   "source": [
    "## RESCALE SIMILARITY SCORES\n",
    "gds.run_cypher(\n",
    "    f\"\"\"\n",
    "    MATCH (:User)-[s:SIMILAR]-(:User)\n",
    "    SET s.score= s.score * 0.2\n",
    "    \"\"\"\n",
    ")\n",
    "gds.run_cypher(\n",
    "    f\"\"\"\n",
    "    MATCH (:User)-[s:SIMILAR_KNN]-(:User)\n",
    "    SET s.score= s.score * 0.4\n",
    "    \"\"\"\n",
    ")\n",
    "gds.run_cypher(\n",
    "    f\"\"\"\n",
    "    MATCH (:User)-[s:SIMILAR_RATE]-(:User)\n",
    "    SET s.score= s.score * 0.4\n",
    "    \"\"\"\n",
    ")"
   ]
  },
  {
   "cell_type": "code",
   "execution_count": 155,
   "metadata": {},
   "outputs": [
    {
     "data": {
      "text/html": [
       "<div>\n",
       "<style scoped>\n",
       "    .dataframe tbody tr th:only-of-type {\n",
       "        vertical-align: middle;\n",
       "    }\n",
       "\n",
       "    .dataframe tbody tr th {\n",
       "        vertical-align: top;\n",
       "    }\n",
       "\n",
       "    .dataframe thead th {\n",
       "        text-align: right;\n",
       "    }\n",
       "</style>\n",
       "<table border=\"1\" class=\"dataframe\">\n",
       "  <thead>\n",
       "    <tr style=\"text-align: right;\">\n",
       "      <th></th>\n",
       "      <th>graph</th>\n",
       "      <th>nodeProjection</th>\n",
       "      <th>nodes</th>\n",
       "      <th>relationshipProjection</th>\n",
       "      <th>rels</th>\n",
       "    </tr>\n",
       "  </thead>\n",
       "  <tbody>\n",
       "    <tr>\n",
       "      <th>0</th>\n",
       "      <td>users-similarities</td>\n",
       "      <td>{'User': {'label': 'User', 'properties': {}}}</td>\n",
       "      <td>6040</td>\n",
       "      <td>{'SIMILAR_RATE': {'aggregation': 'DEFAULT', 'o...</td>\n",
       "      <td>1252676</td>\n",
       "    </tr>\n",
       "  </tbody>\n",
       "</table>\n",
       "</div>"
      ],
      "text/plain": [
       "                graph                                 nodeProjection  nodes  \\\n",
       "0  users-similarities  {'User': {'label': 'User', 'properties': {}}}   6040   \n",
       "\n",
       "                              relationshipProjection     rels  \n",
       "0  {'SIMILAR_RATE': {'aggregation': 'DEFAULT', 'o...  1252676  "
      ]
     },
     "execution_count": 155,
     "metadata": {},
     "output_type": "execute_result"
    }
   ],
   "source": [
    "result = gds.run_cypher(\n",
    "    \"\"\"\n",
    "    CALL gds.graph.project(\n",
    "    'users-similarities',\n",
    "    'User',\n",
    "    {\n",
    "        SIMILAR_KNN: {properties: 'score', orientation: 'UNDIRECTED'},\n",
    "        SIMILAR: {properties: 'score', orientation: 'UNDIRECTED'},\n",
    "        SIMILAR_RATE: {properties: 'score', orientation: 'UNDIRECTED'}\n",
    "    }\n",
    "    )\n",
    "    YIELD\n",
    "    graphName AS graph, nodeProjection, nodeCount AS nodes, relationshipProjection, relationshipCount AS rels\n",
    "\"\"\"\n",
    ")\n",
    "result"
   ]
  },
  {
   "cell_type": "code",
   "execution_count": 156,
   "metadata": {},
   "outputs": [
    {
     "data": {
      "text/html": [
       "<div>\n",
       "<style scoped>\n",
       "    .dataframe tbody tr th:only-of-type {\n",
       "        vertical-align: middle;\n",
       "    }\n",
       "\n",
       "    .dataframe tbody tr th {\n",
       "        vertical-align: top;\n",
       "    }\n",
       "\n",
       "    .dataframe thead th {\n",
       "        text-align: right;\n",
       "    }\n",
       "</style>\n",
       "<table border=\"1\" class=\"dataframe\">\n",
       "  <thead>\n",
       "    <tr style=\"text-align: right;\">\n",
       "      <th></th>\n",
       "      <th>density</th>\n",
       "      <th>degreeDistribution</th>\n",
       "    </tr>\n",
       "  </thead>\n",
       "  <tbody>\n",
       "    <tr>\n",
       "      <th>0</th>\n",
       "      <td>0.034343</td>\n",
       "      <td>{'min': 16, 'max': 372, 'p90': 278, 'p999': 34...</td>\n",
       "    </tr>\n",
       "  </tbody>\n",
       "</table>\n",
       "</div>"
      ],
      "text/plain": [
       "    density                                 degreeDistribution\n",
       "0  0.034343  {'min': 16, 'max': 372, 'p90': 278, 'p999': 34..."
      ]
     },
     "execution_count": 156,
     "metadata": {},
     "output_type": "execute_result"
    }
   ],
   "source": [
    "gds.run_cypher(\n",
    "    \"\"\"\n",
    "    CALL gds.graph.list('users-similarities')\n",
    "    YIELD density,degreeDistribution;\n",
    "\"\"\"\n",
    ")"
   ]
  },
  {
   "cell_type": "markdown",
   "metadata": {},
   "source": [
    "### Check some stats from Neo4j algorithms"
   ]
  },
  {
   "cell_type": "markdown",
   "metadata": {},
   "source": [
    "#### Strongly Connected Components\n",
    "The network is an entire strongly connected component"
   ]
  },
  {
   "cell_type": "code",
   "execution_count": 162,
   "metadata": {},
   "outputs": [
    {
     "data": {
      "text/html": [
       "<div>\n",
       "<style scoped>\n",
       "    .dataframe tbody tr th:only-of-type {\n",
       "        vertical-align: middle;\n",
       "    }\n",
       "\n",
       "    .dataframe tbody tr th {\n",
       "        vertical-align: top;\n",
       "    }\n",
       "\n",
       "    .dataframe thead th {\n",
       "        text-align: right;\n",
       "    }\n",
       "</style>\n",
       "<table border=\"1\" class=\"dataframe\">\n",
       "  <thead>\n",
       "    <tr style=\"text-align: right;\">\n",
       "      <th></th>\n",
       "      <th>componentCount</th>\n",
       "      <th>componentDistribution</th>\n",
       "    </tr>\n",
       "  </thead>\n",
       "  <tbody>\n",
       "    <tr>\n",
       "      <th>0</th>\n",
       "      <td>1</td>\n",
       "      <td>{'min': 6040, 'p5': 6040, 'max': 6040, 'p999':...</td>\n",
       "    </tr>\n",
       "  </tbody>\n",
       "</table>\n",
       "</div>"
      ],
      "text/plain": [
       "   componentCount                              componentDistribution\n",
       "0               1  {'min': 6040, 'p5': 6040, 'max': 6040, 'p999':..."
      ]
     },
     "execution_count": 162,
     "metadata": {},
     "output_type": "execute_result"
    }
   ],
   "source": [
    "gds.run_cypher(\n",
    "    \"\"\"\n",
    "    CALL gds.scc.stats('users-similarities')\n",
    "    YIELD componentCount, componentDistribution\n",
    "    \"\"\"\n",
    ")"
   ]
  },
  {
   "cell_type": "markdown",
   "metadata": {},
   "source": [
    "#### Louvain stats\n",
    "The [louvain](https://neo4j.com/docs/graph-data-science/current/algorithms/louvain/) stats find 7 community with an acceptable modularity.  \n",
    "\n",
    "I did various tests to improve this result but the effects were mediocre, so for now I accepted this result and went on with the analysis"
   ]
  },
  {
   "cell_type": "code",
   "execution_count": 173,
   "metadata": {},
   "outputs": [
    {
     "data": {
      "text/html": [
       "<div>\n",
       "<style scoped>\n",
       "    .dataframe tbody tr th:only-of-type {\n",
       "        vertical-align: middle;\n",
       "    }\n",
       "\n",
       "    .dataframe tbody tr th {\n",
       "        vertical-align: top;\n",
       "    }\n",
       "\n",
       "    .dataframe thead th {\n",
       "        text-align: right;\n",
       "    }\n",
       "</style>\n",
       "<table border=\"1\" class=\"dataframe\">\n",
       "  <thead>\n",
       "    <tr style=\"text-align: right;\">\n",
       "      <th></th>\n",
       "      <th>communityCount</th>\n",
       "      <th>modularity</th>\n",
       "      <th>modularities</th>\n",
       "    </tr>\n",
       "  </thead>\n",
       "  <tbody>\n",
       "    <tr>\n",
       "      <th>0</th>\n",
       "      <td>8</td>\n",
       "      <td>0.603948</td>\n",
       "      <td>[0.49057514577541633, 0.5885440793248924, 0.60...</td>\n",
       "    </tr>\n",
       "  </tbody>\n",
       "</table>\n",
       "</div>"
      ],
      "text/plain": [
       "   communityCount  modularity  \\\n",
       "0               8    0.603948   \n",
       "\n",
       "                                        modularities  \n",
       "0  [0.49057514577541633, 0.5885440793248924, 0.60...  "
      ]
     },
     "execution_count": 173,
     "metadata": {},
     "output_type": "execute_result"
    }
   ],
   "source": [
    "gds.run_cypher(\n",
    "    \"\"\"\n",
    "    CALL gds.louvain.stats('users-similarities', \n",
    "    { \n",
    "        relationshipWeightProperty: 'score'\n",
    "    })\n",
    "    YIELD communityCount, modularity, modularities\n",
    "\"\"\"\n",
    ")"
   ]
  },
  {
   "cell_type": "markdown",
   "metadata": {},
   "source": [
    "### Define communities"
   ]
  },
  {
   "cell_type": "code",
   "execution_count": 174,
   "metadata": {},
   "outputs": [
    {
     "data": {
      "text/html": [
       "<div>\n",
       "<style scoped>\n",
       "    .dataframe tbody tr th:only-of-type {\n",
       "        vertical-align: middle;\n",
       "    }\n",
       "\n",
       "    .dataframe tbody tr th {\n",
       "        vertical-align: top;\n",
       "    }\n",
       "\n",
       "    .dataframe thead th {\n",
       "        text-align: right;\n",
       "    }\n",
       "</style>\n",
       "<table border=\"1\" class=\"dataframe\">\n",
       "  <thead>\n",
       "    <tr style=\"text-align: right;\">\n",
       "      <th></th>\n",
       "      <th>communityCount</th>\n",
       "      <th>modularity</th>\n",
       "      <th>modularities</th>\n",
       "    </tr>\n",
       "  </thead>\n",
       "  <tbody>\n",
       "    <tr>\n",
       "      <th>0</th>\n",
       "      <td>8</td>\n",
       "      <td>0.608552</td>\n",
       "      <td>[0.5207403932306213, 0.5993517257350112, 0.608...</td>\n",
       "    </tr>\n",
       "  </tbody>\n",
       "</table>\n",
       "</div>"
      ],
      "text/plain": [
       "   communityCount  modularity  \\\n",
       "0               8    0.608552   \n",
       "\n",
       "                                        modularities  \n",
       "0  [0.5207403932306213, 0.5993517257350112, 0.608...  "
      ]
     },
     "execution_count": 174,
     "metadata": {},
     "output_type": "execute_result"
    }
   ],
   "source": [
    "gds.run_cypher(\n",
    "    \"\"\"\n",
    "    CALL gds.louvain.write('users-similarities', \n",
    "    { \n",
    "        writeProperty:'communityId',\n",
    "        relationshipWeightProperty: 'score'\n",
    "    })\n",
    "    YIELD communityCount, modularity, modularities\n",
    "\"\"\"\n",
    ")"
   ]
  },
  {
   "cell_type": "code",
   "execution_count": 175,
   "metadata": {},
   "outputs": [
    {
     "data": {
      "text/html": [
       "<div>\n",
       "<style scoped>\n",
       "    .dataframe tbody tr th:only-of-type {\n",
       "        vertical-align: middle;\n",
       "    }\n",
       "\n",
       "    .dataframe tbody tr th {\n",
       "        vertical-align: top;\n",
       "    }\n",
       "\n",
       "    .dataframe thead th {\n",
       "        text-align: right;\n",
       "    }\n",
       "</style>\n",
       "<table border=\"1\" class=\"dataframe\">\n",
       "  <thead>\n",
       "    <tr style=\"text-align: right;\">\n",
       "      <th></th>\n",
       "      <th>communityId</th>\n",
       "      <th>numNodes</th>\n",
       "    </tr>\n",
       "  </thead>\n",
       "  <tbody>\n",
       "    <tr>\n",
       "      <th>0</th>\n",
       "      <td>2903</td>\n",
       "      <td>1262</td>\n",
       "    </tr>\n",
       "    <tr>\n",
       "      <th>1</th>\n",
       "      <td>4112</td>\n",
       "      <td>1195</td>\n",
       "    </tr>\n",
       "    <tr>\n",
       "      <th>2</th>\n",
       "      <td>351</td>\n",
       "      <td>1103</td>\n",
       "    </tr>\n",
       "    <tr>\n",
       "      <th>3</th>\n",
       "      <td>6029</td>\n",
       "      <td>835</td>\n",
       "    </tr>\n",
       "    <tr>\n",
       "      <th>4</th>\n",
       "      <td>5059</td>\n",
       "      <td>550</td>\n",
       "    </tr>\n",
       "    <tr>\n",
       "      <th>5</th>\n",
       "      <td>614</td>\n",
       "      <td>496</td>\n",
       "    </tr>\n",
       "    <tr>\n",
       "      <th>6</th>\n",
       "      <td>1978</td>\n",
       "      <td>380</td>\n",
       "    </tr>\n",
       "    <tr>\n",
       "      <th>7</th>\n",
       "      <td>2656</td>\n",
       "      <td>219</td>\n",
       "    </tr>\n",
       "  </tbody>\n",
       "</table>\n",
       "</div>"
      ],
      "text/plain": [
       "   communityId  numNodes\n",
       "0         2903      1262\n",
       "1         4112      1195\n",
       "2          351      1103\n",
       "3         6029       835\n",
       "4         5059       550\n",
       "5          614       496\n",
       "6         1978       380\n",
       "7         2656       219"
      ]
     },
     "execution_count": 175,
     "metadata": {},
     "output_type": "execute_result"
    }
   ],
   "source": [
    "result = gds.run_cypher(\n",
    "    \"\"\"\n",
    "    MATCH (u:User)\n",
    "    RETURN u.communityId as communityId, COUNT(*) as numNodes\n",
    "    ORDER BY numNodes DESC\n",
    "    \n",
    "    \"\"\"\n",
    ")\n",
    "communityId1 = result.iloc[0][\"communityId\"]\n",
    "communityId2 = result.iloc[1][\"communityId\"]\n",
    "result"
   ]
  },
  {
   "cell_type": "markdown",
   "metadata": {},
   "source": [
    "### We will pick the two biggest community"
   ]
  },
  {
   "cell_type": "code",
   "execution_count": 176,
   "metadata": {},
   "outputs": [],
   "source": [
    "from helpers import AGE_LABELS, OCCUPATION_LABELS\n",
    "\n",
    "\n",
    "community1 = gds.run_cypher(\n",
    "    f\"\"\"\n",
    "    MATCH (u:User WHERE u.communityId={communityId1})\n",
    "    RETURN u.age AS age, u.occupation AS occupation, u.gender AS gender, u.favoriteMonth AS favoriteMonth, u.activity AS activity\n",
    "    \"\"\"\n",
    ")\n",
    "community1_age = community1[\"age\"].value_counts().rename(index=AGE_LABELS).sort_index()\n",
    "community1_occupation = (\n",
    "    community1[\"occupation\"]\n",
    "    .value_counts()\n",
    "    .rename(index=OCCUPATION_LABELS)\n",
    "    .sort_values()\n",
    ")\n",
    "\n",
    "\n",
    "community2 = gds.run_cypher(\n",
    "    f\"\"\"\n",
    "    MATCH (u:User WHERE u.communityId={communityId2})\n",
    "    RETURN u.age AS age, u.occupation AS occupation, u.gender AS gender, u.favoriteMonth AS favoriteMonth, u.activity AS activity\n",
    "    \"\"\"\n",
    ")\n",
    "community2_age = community2[\"age\"].value_counts().rename(index=AGE_LABELS).sort_index()\n",
    "community2_occupation = (\n",
    "    community2[\"occupation\"]\n",
    "    .value_counts()\n",
    "    .rename(index=OCCUPATION_LABELS)\n",
    "    .sort_values()\n",
    ")"
   ]
  },
  {
   "cell_type": "code",
   "execution_count": 177,
   "metadata": {},
   "outputs": [
    {
     "data": {
      "image/png": "[encoded data removed]",
      "text/plain": [
       "<Figure size 1600x1000 with 6 Axes>"
      ]
     },
     "metadata": {},
     "output_type": "display_data"
    }
   ],
   "source": [
    "from matplotlib.colors import TABLEAU_COLORS\n",
    "\n",
    "fig, ax = plt.subplots(3, 2, figsize=(16, 10))\n",
    "\n",
    "community1[\"gender\"].value_counts().plot(\n",
    "    kind=\"pie\", title=\"Gender distribution community1\", ax=ax[0, 0]\n",
    ")\n",
    "community2[\"gender\"].value_counts().plot(\n",
    "    kind=\"pie\", title=\"Gender distribution community2\", ax=ax[0, 1]\n",
    ")\n",
    "community1_age.plot(\n",
    "    kind=\"pie\",\n",
    "    title=\"Age distribution\",\n",
    "    color=TABLEAU_COLORS,\n",
    "    ax=ax[1, 0],\n",
    ")\n",
    "community2_age.plot(\n",
    "    kind=\"pie\",\n",
    "    title=\"Age distribution\",\n",
    "    color=TABLEAU_COLORS,\n",
    "    ax=ax[1, 1],\n",
    ")\n",
    "community1_occupation.plot(\n",
    "    kind=\"bar\",\n",
    "    title=\"Occupation distribution\",\n",
    "    color=TABLEAU_COLORS,\n",
    "    ylim=(0, 500),\n",
    "    ax=ax[2, 0],\n",
    ")\n",
    "community2_occupation.plot(\n",
    "    kind=\"bar\",\n",
    "    title=\"Occupation distribution\",\n",
    "    color=TABLEAU_COLORS,\n",
    "    ylim=(0, 500),\n",
    "    ax=ax[2, 1],\n",
    ")\n",
    "fig.tight_layout()"
   ]
  },
  {
   "cell_type": "code",
   "execution_count": 276,
   "metadata": {},
   "outputs": [
    {
     "data": {
      "text/plain": [
       "occupation\n",
       "K-12 student              1\n",
       "farmer                    3\n",
       "retired                   5\n",
       "unemployed                9\n",
       "college/grad student     14\n",
       "tradesman/craftsman      16\n",
       "customer service         25\n",
       "scientist                25\n",
       "lawyer                   31\n",
       "homemaker                35\n",
       "clerical/admin           42\n",
       "artist                   47\n",
       "self-employed            58\n",
       "doctor/health care       59\n",
       "writer                   68\n",
       "sales/marketing          70\n",
       "programmer               86\n",
       "academic/educator       118\n",
       "technician/engineer     132\n",
       "other                   135\n",
       "executive/managerial    214\n",
       "Name: community2, dtype: int64"
      ]
     },
     "execution_count": 276,
     "metadata": {},
     "output_type": "execute_result"
    }
   ],
   "source": [
    "community1_occupation.rename(\"community1\")\n",
    "community2_occupation.rename(\"community2\")"
   ]
  },
  {
   "cell_type": "code",
   "execution_count": 23,
   "metadata": {},
   "outputs": [
    {
     "data": {
      "text/plain": [
       "<Axes: title={'center': 'Favorite Month'}, xlabel='favoriteMonth'>"
      ]
     },
     "execution_count": 23,
     "metadata": {},
     "output_type": "execute_result"
    },
    {
     "data": {
      "image/png": "[encoded data removed]",
      "text/plain": [
       "<Figure size 1600x1000 with 4 Axes>"
      ]
     },
     "metadata": {},
     "output_type": "display_data"
    }
   ],
   "source": [
    "fig, ax = plt.subplots(2, 2, figsize=(16, 10))\n",
    "fig.tight_layout(pad=4)\n",
    "community1[\"activity\"].value_counts().sort_index().plot(\n",
    "    kind=\"bar\",\n",
    "    title=\"Activity Community1\",\n",
    "    color=TABLEAU_COLORS,\n",
    "    ylim=(0, 600),\n",
    "    ax=ax[0, 0],\n",
    ")\n",
    "community2[\"activity\"].value_counts().sort_index().plot(\n",
    "    kind=\"bar\",\n",
    "    title=\"Activity Community2\",\n",
    "    color=TABLEAU_COLORS,\n",
    "    ylim=(0, 600),\n",
    "    ax=ax[0, 1],\n",
    ")\n",
    "\n",
    "community1[\"favoriteMonth\"].value_counts().sort_index().plot(\n",
    "    kind=\"bar\", title=\"Favorite Month\", color=TABLEAU_COLORS, ax=ax[1, 0]\n",
    ")\n",
    "community2[\"favoriteMonth\"].value_counts().sort_index().plot(\n",
    "    kind=\"bar\", title=\"Favorite Month\", color=TABLEAU_COLORS, ax=ax[1, 1]\n",
    ")"
   ]
  },
  {
   "cell_type": "code",
   "execution_count": 178,
   "metadata": {},
   "outputs": [
    {
     "data": {
      "text/html": [
       "<div>\n",
       "<style scoped>\n",
       "    .dataframe tbody tr th:only-of-type {\n",
       "        vertical-align: middle;\n",
       "    }\n",
       "\n",
       "    .dataframe tbody tr th {\n",
       "        vertical-align: top;\n",
       "    }\n",
       "\n",
       "    .dataframe thead th {\n",
       "        text-align: right;\n",
       "    }\n",
       "</style>\n",
       "<table border=\"1\" class=\"dataframe\">\n",
       "  <thead>\n",
       "    <tr style=\"text-align: right;\">\n",
       "      <th></th>\n",
       "      <th>title</th>\n",
       "      <th>numPositiveRatings</th>\n",
       "    </tr>\n",
       "  </thead>\n",
       "  <tbody>\n",
       "    <tr>\n",
       "      <th>0</th>\n",
       "      <td>American Beauty (1999)</td>\n",
       "      <td>681</td>\n",
       "    </tr>\n",
       "    <tr>\n",
       "      <th>1</th>\n",
       "      <td>Star Wars: Episode V - The Empire Strikes Back...</td>\n",
       "      <td>594</td>\n",
       "    </tr>\n",
       "    <tr>\n",
       "      <th>2</th>\n",
       "      <td>Star Wars: Episode IV - A New Hope (1977)</td>\n",
       "      <td>594</td>\n",
       "    </tr>\n",
       "    <tr>\n",
       "      <th>3</th>\n",
       "      <td>Silence of the Lambs The (1991)</td>\n",
       "      <td>579</td>\n",
       "    </tr>\n",
       "    <tr>\n",
       "      <th>4</th>\n",
       "      <td>Raiders of the Lost Ark (1981)</td>\n",
       "      <td>543</td>\n",
       "    </tr>\n",
       "    <tr>\n",
       "      <th>5</th>\n",
       "      <td>Matrix The (1999)</td>\n",
       "      <td>520</td>\n",
       "    </tr>\n",
       "    <tr>\n",
       "      <th>6</th>\n",
       "      <td>Star Wars: Episode VI - Return of the Jedi (1983)</td>\n",
       "      <td>512</td>\n",
       "    </tr>\n",
       "    <tr>\n",
       "      <th>7</th>\n",
       "      <td>Sixth Sense The (1999)</td>\n",
       "      <td>511</td>\n",
       "    </tr>\n",
       "    <tr>\n",
       "      <th>8</th>\n",
       "      <td>Shawshank Redemption The (1994)</td>\n",
       "      <td>511</td>\n",
       "    </tr>\n",
       "    <tr>\n",
       "      <th>9</th>\n",
       "      <td>Saving Private Ryan (1998)</td>\n",
       "      <td>500</td>\n",
       "    </tr>\n",
       "  </tbody>\n",
       "</table>\n",
       "</div>"
      ],
      "text/plain": [
       "                                               title  numPositiveRatings\n",
       "0                             American Beauty (1999)                 681\n",
       "1  Star Wars: Episode V - The Empire Strikes Back...                 594\n",
       "2          Star Wars: Episode IV - A New Hope (1977)                 594\n",
       "3                    Silence of the Lambs The (1991)                 579\n",
       "4                     Raiders of the Lost Ark (1981)                 543\n",
       "5                                  Matrix The (1999)                 520\n",
       "6  Star Wars: Episode VI - Return of the Jedi (1983)                 512\n",
       "7                             Sixth Sense The (1999)                 511\n",
       "8                    Shawshank Redemption The (1994)                 511\n",
       "9                         Saving Private Ryan (1998)                 500"
      ]
     },
     "execution_count": 178,
     "metadata": {},
     "output_type": "execute_result"
    }
   ],
   "source": [
    "gds.run_cypher(\n",
    "    f\"\"\"\n",
    "    MATCH (u:User WHERE u.communityId={communityId1})-[r:RATED WHERE r.rating>3]->(m:Movie)\n",
    "    WITH m, COUNT(r) AS numPositiveRatings\n",
    "    RETURN m.title AS title, numPositiveRatings\n",
    "    ORDER BY numPositiveRatings DESC, title  DESC\n",
    "    LIMIT 10\n",
    "\"\"\"\n",
    ")"
   ]
  },
  {
   "cell_type": "code",
   "execution_count": 179,
   "metadata": {},
   "outputs": [
    {
     "data": {
      "text/html": [
       "<div>\n",
       "<style scoped>\n",
       "    .dataframe tbody tr th:only-of-type {\n",
       "        vertical-align: middle;\n",
       "    }\n",
       "\n",
       "    .dataframe tbody tr th {\n",
       "        vertical-align: top;\n",
       "    }\n",
       "\n",
       "    .dataframe thead th {\n",
       "        text-align: right;\n",
       "    }\n",
       "</style>\n",
       "<table border=\"1\" class=\"dataframe\">\n",
       "  <thead>\n",
       "    <tr style=\"text-align: right;\">\n",
       "      <th></th>\n",
       "      <th>title</th>\n",
       "      <th>numPositiveRatings</th>\n",
       "    </tr>\n",
       "  </thead>\n",
       "  <tbody>\n",
       "    <tr>\n",
       "      <th>0</th>\n",
       "      <td>Star Wars: Episode IV - A New Hope (1977)</td>\n",
       "      <td>536</td>\n",
       "    </tr>\n",
       "    <tr>\n",
       "      <th>1</th>\n",
       "      <td>Star Wars: Episode V - The Empire Strikes Back...</td>\n",
       "      <td>487</td>\n",
       "    </tr>\n",
       "    <tr>\n",
       "      <th>2</th>\n",
       "      <td>American Beauty (1999)</td>\n",
       "      <td>486</td>\n",
       "    </tr>\n",
       "    <tr>\n",
       "      <th>3</th>\n",
       "      <td>Raiders of the Lost Ark (1981)</td>\n",
       "      <td>458</td>\n",
       "    </tr>\n",
       "    <tr>\n",
       "      <th>4</th>\n",
       "      <td>Saving Private Ryan (1998)</td>\n",
       "      <td>436</td>\n",
       "    </tr>\n",
       "    <tr>\n",
       "      <th>5</th>\n",
       "      <td>Silence of the Lambs The (1991)</td>\n",
       "      <td>433</td>\n",
       "    </tr>\n",
       "    <tr>\n",
       "      <th>6</th>\n",
       "      <td>Terminator 2: Judgment Day (1991)</td>\n",
       "      <td>428</td>\n",
       "    </tr>\n",
       "    <tr>\n",
       "      <th>7</th>\n",
       "      <td>Godfather The (1972)</td>\n",
       "      <td>421</td>\n",
       "    </tr>\n",
       "    <tr>\n",
       "      <th>8</th>\n",
       "      <td>Sixth Sense The (1999)</td>\n",
       "      <td>420</td>\n",
       "    </tr>\n",
       "    <tr>\n",
       "      <th>9</th>\n",
       "      <td>Fargo (1996)</td>\n",
       "      <td>404</td>\n",
       "    </tr>\n",
       "  </tbody>\n",
       "</table>\n",
       "</div>"
      ],
      "text/plain": [
       "                                               title  numPositiveRatings\n",
       "0          Star Wars: Episode IV - A New Hope (1977)                 536\n",
       "1  Star Wars: Episode V - The Empire Strikes Back...                 487\n",
       "2                             American Beauty (1999)                 486\n",
       "3                     Raiders of the Lost Ark (1981)                 458\n",
       "4                         Saving Private Ryan (1998)                 436\n",
       "5                    Silence of the Lambs The (1991)                 433\n",
       "6                  Terminator 2: Judgment Day (1991)                 428\n",
       "7                               Godfather The (1972)                 421\n",
       "8                             Sixth Sense The (1999)                 420\n",
       "9                                       Fargo (1996)                 404"
      ]
     },
     "execution_count": 179,
     "metadata": {},
     "output_type": "execute_result"
    }
   ],
   "source": [
    "gds.run_cypher(\n",
    "    f\"\"\"\n",
    "    MATCH (u:User WHERE u.communityId={communityId2})-[r:RATED WHERE r.rating>3]->(m:Movie)\n",
    "    WITH m, COUNT(r) AS numPositiveRatings\n",
    "    RETURN m.title AS title, numPositiveRatings\n",
    "    ORDER BY numPositiveRatings DESC, title  DESC\n",
    "    LIMIT 10\n",
    "\"\"\"\n",
    ")"
   ]
  },
  {
   "cell_type": "code",
   "execution_count": 180,
   "metadata": {},
   "outputs": [],
   "source": [
    "community1_movies = gds.run_cypher(\n",
    "    f\"\"\"\n",
    "    MATCH (u:User WHERE u.communityId={communityId1})-[r:RATED WHERE r.rating>3]->(m:Movie)\n",
    "    WITH m, AVG(r.rating) AS avgRating\n",
    "    RETURN m.movieId AS movieId, avgRating\n",
    "    \"\"\"\n",
    ")\n",
    "\n",
    "community2_movies = gds.run_cypher(\n",
    "    f\"\"\"\n",
    "    MATCH (u:User WHERE u.communityId={communityId2})-[r:RATED WHERE r.rating>3]->(m:Movie)\n",
    "    WITH m, AVG(r.rating) AS avgRating\n",
    "    RETURN m.movieId AS movieId, avgRating\n",
    "    \"\"\"\n",
    ")"
   ]
  },
  {
   "cell_type": "code",
   "execution_count": 181,
   "metadata": {},
   "outputs": [],
   "source": [
    "movies = community1_movies.merge(\n",
    "    community2_movies,\n",
    "    on=\"movieId\",\n",
    "    how=\"outer\",\n",
    "    suffixes=(\"_community1\", \"_community2\"),\n",
    ")"
   ]
  },
  {
   "cell_type": "code",
   "execution_count": 182,
   "metadata": {},
   "outputs": [],
   "source": [
    "movies = (\n",
    "    movies[\n",
    "        (movies[\"avgRating_community1\"].isnull())\n",
    "        | (movies[\"avgRating_community2\"].isnull())\n",
    "    ]\n",
    "    .sort_values(by=[\"avgRating_community1\", \"avgRating_community2\"], ascending=False)\n",
    "    .reset_index(drop=True)\n",
    ")"
   ]
  },
  {
   "cell_type": "code",
   "execution_count": 183,
   "metadata": {},
   "outputs": [
    {
     "data": {
      "text/html": [
       "<div>\n",
       "<style scoped>\n",
       "    .dataframe tbody tr th:only-of-type {\n",
       "        vertical-align: middle;\n",
       "    }\n",
       "\n",
       "    .dataframe tbody tr th {\n",
       "        vertical-align: top;\n",
       "    }\n",
       "\n",
       "    .dataframe thead th {\n",
       "        text-align: right;\n",
       "    }\n",
       "</style>\n",
       "<table border=\"1\" class=\"dataframe\">\n",
       "  <thead>\n",
       "    <tr style=\"text-align: right;\">\n",
       "      <th></th>\n",
       "      <th>movieId</th>\n",
       "      <th>avgRating_community1</th>\n",
       "      <th>avgRating_community2</th>\n",
       "    </tr>\n",
       "  </thead>\n",
       "  <tbody>\n",
       "    <tr>\n",
       "      <th>0</th>\n",
       "      <td>59</td>\n",
       "      <td>5.0</td>\n",
       "      <td>NaN</td>\n",
       "    </tr>\n",
       "    <tr>\n",
       "      <th>1</th>\n",
       "      <td>250</td>\n",
       "      <td>5.0</td>\n",
       "      <td>NaN</td>\n",
       "    </tr>\n",
       "    <tr>\n",
       "      <th>2</th>\n",
       "      <td>393</td>\n",
       "      <td>5.0</td>\n",
       "      <td>NaN</td>\n",
       "    </tr>\n",
       "    <tr>\n",
       "      <th>3</th>\n",
       "      <td>411</td>\n",
       "      <td>5.0</td>\n",
       "      <td>NaN</td>\n",
       "    </tr>\n",
       "    <tr>\n",
       "      <th>4</th>\n",
       "      <td>557</td>\n",
       "      <td>5.0</td>\n",
       "      <td>NaN</td>\n",
       "    </tr>\n",
       "    <tr>\n",
       "      <th>...</th>\n",
       "      <td>...</td>\n",
       "      <td>...</td>\n",
       "      <td>...</td>\n",
       "    </tr>\n",
       "    <tr>\n",
       "      <th>394</th>\n",
       "      <td>3878</td>\n",
       "      <td>NaN</td>\n",
       "      <td>4.0</td>\n",
       "    </tr>\n",
       "    <tr>\n",
       "      <th>395</th>\n",
       "      <td>3886</td>\n",
       "      <td>NaN</td>\n",
       "      <td>4.0</td>\n",
       "    </tr>\n",
       "    <tr>\n",
       "      <th>396</th>\n",
       "      <td>3906</td>\n",
       "      <td>NaN</td>\n",
       "      <td>4.0</td>\n",
       "    </tr>\n",
       "    <tr>\n",
       "      <th>397</th>\n",
       "      <td>3912</td>\n",
       "      <td>NaN</td>\n",
       "      <td>4.0</td>\n",
       "    </tr>\n",
       "    <tr>\n",
       "      <th>398</th>\n",
       "      <td>3946</td>\n",
       "      <td>NaN</td>\n",
       "      <td>4.0</td>\n",
       "    </tr>\n",
       "  </tbody>\n",
       "</table>\n",
       "<p>399 rows × 3 columns</p>\n",
       "</div>"
      ],
      "text/plain": [
       "     movieId  avgRating_community1  avgRating_community2\n",
       "0         59                   5.0                   NaN\n",
       "1        250                   5.0                   NaN\n",
       "2        393                   5.0                   NaN\n",
       "3        411                   5.0                   NaN\n",
       "4        557                   5.0                   NaN\n",
       "..       ...                   ...                   ...\n",
       "394     3878                   NaN                   4.0\n",
       "395     3886                   NaN                   4.0\n",
       "396     3906                   NaN                   4.0\n",
       "397     3912                   NaN                   4.0\n",
       "398     3946                   NaN                   4.0\n",
       "\n",
       "[399 rows x 3 columns]"
      ]
     },
     "execution_count": 183,
     "metadata": {},
     "output_type": "execute_result"
    }
   ],
   "source": [
    "movies"
   ]
  },
  {
   "cell_type": "code",
   "execution_count": 184,
   "metadata": {},
   "outputs": [
    {
     "data": {
      "text/plain": [
       "<Axes: title={'center': 'Average rating per movie'}>"
      ]
     },
     "execution_count": 184,
     "metadata": {},
     "output_type": "execute_result"
    },
    {
     "data": {
      "image/png": "[encoded data removed]",
      "text/plain": [
       "<Figure size 1600x600 with 1 Axes>"
      ]
     },
     "metadata": {},
     "output_type": "display_data"
    }
   ],
   "source": [
    "movies.plot(\n",
    "    kind=\"line\",\n",
    "    y=[\"avgRating_community1\", \"avgRating_community2\"],\n",
    "    title=\"Average rating per movie\",\n",
    "    figsize=(16, 6),\n",
    ")"
   ]
  },
  {
   "cell_type": "markdown",
   "metadata": {},
   "source": []
  },
  {
   "cell_type": "code",
   "execution_count": 279,
   "metadata": {},
   "outputs": [],
   "source": [
    "# Sistemare i grafici per vedere meglio le differenze\n",
    "# aggiungere descrizione partendo da expoloratory sezione add property\n",
    "## NON FARE ALTRO"
   ]
  }
 ],
 "metadata": {
  "kernelspec": {
   "display_name": "data_science",
   "language": "python",
   "name": "python3"
  },
  "language_info": {
   "codemirror_mode": {
    "name": "ipython",
    "version": 3
   },
   "file_extension": ".py",
   "mimetype": "text/x-python",
   "name": "python",
   "nbconvert_exporter": "python",
   "pygments_lexer": "ipython3",
   "version": "3.11.8"
  }
 },
 "nbformat": 4,
 "nbformat_minor": 2
}
