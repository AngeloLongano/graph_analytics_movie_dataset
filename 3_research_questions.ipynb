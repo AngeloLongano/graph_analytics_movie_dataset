{
 "cells": [
  {
   "cell_type": "markdown",
   "metadata": {},
   "source": [
    "### Connection"
   ]
  },
  {
   "cell_type": "code",
   "execution_count": 1,
   "metadata": {},
   "outputs": [],
   "source": [
    "import pandas as pd\n",
    "import numpy as np\n",
    "import matplotlib.pyplot as plt\n",
    "import scipy.stats as stats\n",
    "from graphdatascience import GraphDataScience\n",
    "\n",
    "URI = \"neo4j://localhost:7687\"\n",
    "NAME_DB = \"movies\"\n",
    "\n",
    "gds = GraphDataScience(URI, aura_ds=False, database=NAME_DB)"
   ]
  },
  {
   "cell_type": "markdown",
   "metadata": {},
   "source": [
    "# Graph Analytics\n",
    "In this section there will be two types of graph analysis:\n",
    "- Similarity to create a recommendations systems\n",
    "- Community detection\n",
    "\n",
    "These two analysis will be done in a correlation way: results on similarity analysis will be use to do a better community detection."
   ]
  },
  {
   "cell_type": "markdown",
   "metadata": {},
   "source": [
    "## Similarity Analysis\n",
    "Similarity analysis is done by considering the entire graph with all information added in preprocessing and exploratory analysis sections.  \n",
    "![db_schema_after_exploratory.png](images/db_schema_after_exploratory.png)\n",
    "\n",
    "As we can also see in the output of the second cell, the density of the graph is slightly increased with the added relations.  \n",
    "\n",
    "Similarity analysis will be done in two way:\n",
    "- Based on nodes relations\n",
    "- Based on nodes properties  \n",
    "\n",
    "So will be calculate similarity on Users and Movies nodes.  "
   ]
  },
  {
   "cell_type": "code",
   "execution_count": 2,
   "metadata": {},
   "outputs": [
    {
     "data": {
      "text/html": [
       "<div>\n",
       "<style scoped>\n",
       "    .dataframe tbody tr th:only-of-type {\n",
       "        vertical-align: middle;\n",
       "    }\n",
       "\n",
       "    .dataframe tbody tr th {\n",
       "        vertical-align: top;\n",
       "    }\n",
       "\n",
       "    .dataframe thead th {\n",
       "        text-align: right;\n",
       "    }\n",
       "</style>\n",
       "<table border=\"1\" class=\"dataframe\">\n",
       "  <thead>\n",
       "    <tr style=\"text-align: right;\">\n",
       "      <th></th>\n",
       "      <th>graph</th>\n",
       "      <th>nodeProjection</th>\n",
       "      <th>nodes</th>\n",
       "      <th>relationshipProjection</th>\n",
       "      <th>rels</th>\n",
       "    </tr>\n",
       "  </thead>\n",
       "  <tbody>\n",
       "    <tr>\n",
       "      <th>0</th>\n",
       "      <td>movies-analyzed</td>\n",
       "      <td>{'User': {'label': 'User', 'properties': {'occ...</td>\n",
       "      <td>9764</td>\n",
       "      <td>{'RATED': {'aggregation': 'DEFAULT', 'orientat...</td>\n",
       "      <td>2067010</td>\n",
       "    </tr>\n",
       "  </tbody>\n",
       "</table>\n",
       "</div>"
      ],
      "text/plain": [
       "             graph                                     nodeProjection  nodes  \\\n",
       "0  movies-analyzed  {'User': {'label': 'User', 'properties': {'occ...   9764   \n",
       "\n",
       "                              relationshipProjection     rels  \n",
       "0  {'RATED': {'aggregation': 'DEFAULT', 'orientat...  2067010  "
      ]
     },
     "execution_count": 2,
     "metadata": {},
     "output_type": "execute_result"
    }
   ],
   "source": [
    "result = gds.run_cypher(\n",
    "    \"\"\"\n",
    "    CALL gds.graph.project(\n",
    "    'movies-analyzed',\n",
    "    {\n",
    "        Movie:{properties:['popularity','favoriteMonth','year']},\n",
    "        User:{properties: ['binaryGender','age','occupation', 'activity','favoriteMonth']},\n",
    "        Genre:{}\n",
    "    },\n",
    "    {\n",
    "        RATED: {properties: 'rating', orientation: 'UNDIRECTED'},\n",
    "        BELONGS:{},\n",
    "        LIKES:{properties: 'score', orientation: 'UNDIRECTED'}\n",
    "    }\n",
    "    )\n",
    "    YIELD\n",
    "    graphName AS graph, nodeProjection, nodeCount AS nodes, relationshipProjection, relationshipCount AS rels\n",
    "\"\"\"\n",
    ")\n",
    "result"
   ]
  },
  {
   "cell_type": "code",
   "execution_count": 3,
   "metadata": {},
   "outputs": [
    {
     "data": {
      "text/html": [
       "<div>\n",
       "<style scoped>\n",
       "    .dataframe tbody tr th:only-of-type {\n",
       "        vertical-align: middle;\n",
       "    }\n",
       "\n",
       "    .dataframe tbody tr th {\n",
       "        vertical-align: top;\n",
       "    }\n",
       "\n",
       "    .dataframe thead th {\n",
       "        text-align: right;\n",
       "    }\n",
       "</style>\n",
       "<table border=\"1\" class=\"dataframe\">\n",
       "  <thead>\n",
       "    <tr style=\"text-align: right;\">\n",
       "      <th></th>\n",
       "      <th>density</th>\n",
       "      <th>degreeDistribution</th>\n",
       "    </tr>\n",
       "  </thead>\n",
       "  <tbody>\n",
       "    <tr>\n",
       "      <th>0</th>\n",
       "      <td>0.021684</td>\n",
       "      <td>{'min': 2, 'max': 3430, 'p90': 520, 'p999': 25...</td>\n",
       "    </tr>\n",
       "  </tbody>\n",
       "</table>\n",
       "</div>"
      ],
      "text/plain": [
       "    density                                 degreeDistribution\n",
       "0  0.021684  {'min': 2, 'max': 3430, 'p90': 520, 'p999': 25..."
      ]
     },
     "execution_count": 3,
     "metadata": {},
     "output_type": "execute_result"
    }
   ],
   "source": [
    "gds.run_cypher(\n",
    "    \"\"\"\n",
    "    CALL gds.graph.list('movies-analyzed')\n",
    "    YIELD density,degreeDistribution;\n",
    "\"\"\"\n",
    ")"
   ]
  },
  {
   "cell_type": "markdown",
   "metadata": {},
   "source": [
    "### Similarity based on relationships\n",
    "In this similarity analysis will be used node the [Node Similarity](https://neo4j.com/docs/graph-data-science/current/algorithms/node-similarity/) algorithm in the Neo4j Graph Data Science library based on Jaccard similarity metrics.  \n",
    "There're not similarities cut off to capture also dissimilarity relations between nodes."
   ]
  },
  {
   "cell_type": "markdown",
   "metadata": {},
   "source": [
    "#### Users likes genres\n",
    "This similarity analysis adds SIMILAR weighted relations between users with similar connections User-Genre."
   ]
  },
  {
   "cell_type": "code",
   "execution_count": 4,
   "metadata": {},
   "outputs": [
    {
     "name": "stdout",
     "output_type": "stream",
     "text": [
      "Similarity relations created: 60580\n",
      "\n",
      "{'min': 0.06453561782836914, 'p5': 0.6140856742858887, 'max': 1.000007152557373, 'p99': 0.9694628715515137, 'p1': 0.5606303215026855, 'p10': 0.6280817985534668, 'p90': 0.9293932914733887, 'p50': 0.6569972038269043, 'p25': 0.6435465812683105, 'p75': 0.8449816703796387, 'p95': 0.948005199432373, 'mean': 0.7196209100812684, 'p100': 1.000007152557373, 'stdDev': 0.12534100269606865}\n"
     ]
    }
   ],
   "source": [
    "result = gds.run_cypher(\n",
    "    \"\"\"\n",
    "    CALL gds.nodeSimilarity.write('movies-analyzed',\n",
    "    {\n",
    "        nodeLabels:['User','Genre'],\n",
    "        relationshipTypes:['LIKES'],\n",
    "        relationshipWeightProperty: 'score', \n",
    "        writeRelationshipType: 'SIMILAR',\n",
    "        writeProperty: 'score'\n",
    "    }) \n",
    "    \"\"\"\n",
    ")\n",
    "print(f\"Similarity relations created: {result.loc[0]['relationshipsWritten']}\\n\")\n",
    "print(result.loc[0][\"similarityDistribution\"])"
   ]
  },
  {
   "cell_type": "markdown",
   "metadata": {},
   "source": [
    "#### Movies belongs genres\n",
    "This similarity analysis adds SIMILAR weighted relations between movies with similar connections Movie-Genre.  \n",
    "This analysis is most of time much higher because we don't have much diversification on the datasets."
   ]
  },
  {
   "cell_type": "code",
   "execution_count": 5,
   "metadata": {},
   "outputs": [
    {
     "name": "stdout",
     "output_type": "stream",
     "text": [
      "Similarity relations created: 37060\n",
      "\n",
      "{'min': 0.3333320617675781, 'p5': 0.6666660308837891, 'max': 1.0000057220458984, 'p99': 1.0000057220458984, 'p1': 0.5000019073486328, 'p10': 0.7500019073486328, 'p90': 1.0000057220458984, 'p50': 1.0000057220458984, 'p25': 1.0000057220458984, 'p75': 1.0000057220458984, 'p95': 1.0000057220458984, 'mean': 0.9644405418000733, 'p100': 1.0000057220458984, 'stdDev': 0.10531082468910871}\n"
     ]
    }
   ],
   "source": [
    "result = gds.run_cypher(\n",
    "    \"\"\"\n",
    "    CALL gds.nodeSimilarity.write('movies-analyzed',\n",
    "    {\n",
    "        nodeLabels:['Movie','Genre'],\n",
    "        relationshipTypes:['BELONGS'], \n",
    "        writeRelationshipType: 'SIMILAR',\n",
    "        writeProperty: 'score'\n",
    "    }) \n",
    "    \"\"\"\n",
    ")\n",
    "print(f\"Similarity relations created: {result.loc[0]['relationshipsWritten']}\\n\")\n",
    "print(result.loc[0][\"similarityDistribution\"])"
   ]
  },
  {
   "cell_type": "markdown",
   "metadata": {},
   "source": [
    "#### Users rate movies\n",
    "This other similarity analysis adds SIMILAR_RATE weighted relations between users with similar connections User-Movie.  \n",
    "\n",
    "This analysis is more precise and captures user behaviour within the network and finds more correct correlations.  \n",
    "However, the similarities with values ​​greater than 50% are very few (around 500).  \n",
    "it was decided to keep the relationships with low similarity so that they can be considered as weak links in the community detection phase"
   ]
  },
  {
   "cell_type": "code",
   "execution_count": 6,
   "metadata": {},
   "outputs": [
    {
     "name": "stdout",
     "output_type": "stream",
     "text": [
      "Similarity relations created: 97460\n",
      "\n",
      "{'min': 0.0006622485816478729, 'p5': 0.08452987298369408, 'max': 1.000007625669241, 'p99': 0.41802405938506126, 'p1': 0.04854368790984154, 'p10': 0.10306453332304955, 'p90': 0.2982768975198269, 'p50': 0.19173431023955345, 'p25': 0.1443777047097683, 'p75': 0.24431895837187767, 'p95': 0.33333396539092064, 'mean': 0.19930887553231588, 'p100': 1.000007625669241, 'stdDev': 0.08485594652098076}\n"
     ]
    }
   ],
   "source": [
    "result = gds.run_cypher(\n",
    "    \"\"\"\n",
    "    CALL gds.nodeSimilarity.write('movies-analyzed',\n",
    "    {\n",
    "        nodeLabels:['User','Movie'],\n",
    "        relationshipTypes:['RATED'], \n",
    "        writeRelationshipType: 'SIMILAR_RATE',\n",
    "        writeProperty: 'score',\n",
    "        relationshipWeightProperty: 'rating'\n",
    "    }) \n",
    "    \"\"\"\n",
    ")\n",
    "print(f\"Similarity relations created: {result.loc[0]['relationshipsWritten']}\\n\")\n",
    "print(result.loc[0][\"similarityDistribution\"])"
   ]
  },
  {
   "cell_type": "markdown",
   "metadata": {},
   "source": [
    "#### Movies rated by users\n",
    "This other similarity analysis adds SIMILAR_RATE weighted relations between movies with similar connections Movie-User.  \n",
    "\n",
    "This analysis could be more precise and captures the popularity and appreciation of the movies within the network and finds more correct correlations. However, also here the similarities with values ​​greater than 50% are very few (around 500).  \n",
    "It was decided to keep the relationships with low similarity so that they can be considered as weak links in the community detection phase."
   ]
  },
  {
   "cell_type": "code",
   "execution_count": 7,
   "metadata": {},
   "outputs": [
    {
     "name": "stdout",
     "output_type": "stream",
     "text": [
      "Similarity relations created: 97460\n",
      "\n",
      "{'min': 0.0006622485816478729, 'p5': 0.08452987298369408, 'max': 1.000007625669241, 'p99': 0.41802405938506126, 'p1': 0.04854368790984154, 'p10': 0.10306453332304955, 'p90': 0.2982768975198269, 'p50': 0.19173431023955345, 'p25': 0.1443777047097683, 'p75': 0.24431895837187767, 'p95': 0.33333396539092064, 'mean': 0.19930887553231588, 'p100': 1.000007625669241, 'stdDev': 0.08485594652098076}\n"
     ]
    }
   ],
   "source": [
    "result = gds.run_cypher(\n",
    "    \"\"\"\n",
    "    CALL gds.nodeSimilarity.write('movies-analyzed',\n",
    "    {\n",
    "        nodeLabels:['Movie','User'],\n",
    "        relationshipTypes:['RATED'], \n",
    "        relationshipWeightProperty: 'rating',\n",
    "        writeRelationshipType: 'SIMILAR_RATE',\n",
    "        writeProperty: 'score'\n",
    "    }) \n",
    "    \"\"\"\n",
    ")\n",
    "print(f\"Similarity relations created: {result.loc[0]['relationshipsWritten']}\\n\")\n",
    "print(result.loc[0][\"similarityDistribution\"])"
   ]
  },
  {
   "cell_type": "markdown",
   "metadata": {},
   "source": [
    "### Similarity based on components\n",
    "In this other similarity analysis will be used node the [K-Nearest Neighbors](https://neo4j.com/docs/graph-data-science/current/algorithms/knn/) algorithm in the Neo4j Graph Data Science library based on Jaccard similarity metrics.  \n",
    "\n",
    "N.B.: concurrency:1 and randomSeed: 42 configurations are need to have same results on these tests"
   ]
  },
  {
   "cell_type": "markdown",
   "metadata": {},
   "source": [
    "#### Users\n",
    "This similarity analysis adds SIMILAR_KNN weighted relations between users with similar properties.  "
   ]
  },
  {
   "cell_type": "code",
   "execution_count": 8,
   "metadata": {},
   "outputs": [
    {
     "name": "stdout",
     "output_type": "stream",
     "text": [
      "Similarity relations created: 604000\n",
      "\n",
      "{'min': 0.5333328247070312, 'p5': 0.6733322143554688, 'max': 1.0000038146972656, 'p99': 1.0000038146972656, 'p1': 0.6374969482421875, 'p10': 0.6999969482421875, 'p90': 0.8666648864746094, 'p50': 0.7666664123535156, 'p25': 0.7285690307617188, 'p75': 0.8285713195800781, 'p95': 0.8999977111816406, 'mean': 0.7798828902844561, 'p100': 1.0000038146972656, 'stdDev': 0.07183889894803831}\n"
     ]
    }
   ],
   "source": [
    "result = gds.run_cypher(\n",
    "    \"\"\"\n",
    "    CALL gds.knn.write('movies-analyzed', {\n",
    "        nodeLabels:['User'], \n",
    "        writeRelationshipType: 'SIMILAR_KNN',\n",
    "        writeProperty: 'score',\n",
    "        topK: 100, \n",
    "        concurrency: 1, \n",
    "        randomSeed: 42,\n",
    "        nodeProperties: ['binaryGender','age','occupation', 'activity','favoriteMonth']})\n",
    "    \"\"\"\n",
    ")\n",
    "print(f\"Similarity relations created: {result.loc[0]['relationshipsWritten']}\\n\")\n",
    "print(result.loc[0][\"similarityDistribution\"])"
   ]
  },
  {
   "cell_type": "markdown",
   "metadata": {},
   "source": [
    "#### Movies\n",
    "This similarity analysis adds SIMILAR_KNN weighted relations between movies with similar properties.  "
   ]
  },
  {
   "cell_type": "code",
   "execution_count": 9,
   "metadata": {},
   "outputs": [
    {
     "name": "stdout",
     "output_type": "stream",
     "text": [
      "Similarity relations created: 370600\n",
      "\n",
      "{'min': 0.38400840759277344, 'p5': 0.6111125946044922, 'max': 1.0000057220458984, 'p99': 1.0000057220458984, 'p1': 0.5085468292236328, 'p10': 0.6734676361083984, 'p90': 0.8333339691162109, 'p50': 0.7777767181396484, 'p25': 0.7037029266357422, 'p75': 0.8333339691162109, 'p95': 1.0000057220458984, 'mean': 0.7738579039205684, 'p100': 1.0000057220458984, 'stdDev': 0.10234434117405922}\n"
     ]
    }
   ],
   "source": [
    "result = gds.run_cypher(\n",
    "    \"\"\"\n",
    "    CALL gds.knn.write('movies-analyzed', {\n",
    "        nodeLabels:['Movie'],\n",
    "        writeRelationshipType: 'SIMILAR_KNN',writeProperty: 'score',\n",
    "        topK: 100,\n",
    "        concurrency: 1,\n",
    "        randomSeed: 42,\n",
    "        nodeProperties: ['popularity','favoriteMonth','year']})\n",
    "    \"\"\"\n",
    ")\n",
    "print(f\"Similarity relations created: {result.loc[0]['relationshipsWritten']}\\n\")\n",
    "print(result.loc[0][\"similarityDistribution\"])"
   ]
  },
  {
   "cell_type": "markdown",
   "metadata": {},
   "source": [
    "## Recommendation Systems\n",
    "After similarity analysis the graph become like this:  \n",
    "![alt text](images/movies_with_similarity.svg)  \n",
    "Having these information we can build a recommendation system mixed with relations similarity and components similarity.\n",
    "  \n",
    "Init our pseudo-random generator with fixed seed."
   ]
  },
  {
   "cell_type": "code",
   "execution_count": 10,
   "metadata": {},
   "outputs": [],
   "source": [
    "import random\n",
    "\n",
    "random.seed(0)"
   ]
  },
  {
   "cell_type": "markdown",
   "metadata": {},
   "source": [
    "### Movie based\n",
    "We choose a random film from dataset"
   ]
  },
  {
   "cell_type": "code",
   "execution_count": 11,
   "metadata": {},
   "outputs": [
    {
     "data": {
      "text/plain": [
       "'Blood and Sand (Sangre y Arena) (1989)'"
      ]
     },
     "execution_count": 11,
     "metadata": {},
     "output_type": "execute_result"
    }
   ],
   "source": [
    "movieId = random.randint(0, 3952)\n",
    "\n",
    "gds.run_cypher(\n",
    "    f\"\"\"\n",
    "    MATCH (m:Movie) WHERE m.movieId = {movieId}\n",
    "    RETURN m.movieId as movieId,m.title as title\n",
    "    \"\"\"\n",
    ").loc[0][\"title\"]"
   ]
  },
  {
   "cell_type": "markdown",
   "metadata": {},
   "source": [
    "After that we pick 60 movies similar based our three similarity metrics (20 movies for each).  \n",
    "\n",
    "We joins these three lists and calculate a mixed score metrics with different weights  \n",
    "__general_score = scoreGenre * .2 + scoreRate * .5 + scoreKnn * .3__  \n",
    "\n",
    "Sorts list by `general_score` and filter first 10\n"
   ]
  },
  {
   "cell_type": "code",
   "execution_count": 12,
   "metadata": {},
   "outputs": [
    {
     "data": {
      "text/html": [
       "<div>\n",
       "<style scoped>\n",
       "    .dataframe tbody tr th:only-of-type {\n",
       "        vertical-align: middle;\n",
       "    }\n",
       "\n",
       "    .dataframe tbody tr th {\n",
       "        vertical-align: top;\n",
       "    }\n",
       "\n",
       "    .dataframe thead th {\n",
       "        text-align: right;\n",
       "    }\n",
       "</style>\n",
       "<table border=\"1\" class=\"dataframe\">\n",
       "  <thead>\n",
       "    <tr style=\"text-align: right;\">\n",
       "      <th></th>\n",
       "      <th>movieId</th>\n",
       "      <th>scoreGenre</th>\n",
       "      <th>scoreRate</th>\n",
       "      <th>scoreKnn</th>\n",
       "      <th>general_score</th>\n",
       "    </tr>\n",
       "  </thead>\n",
       "  <tbody>\n",
       "    <tr>\n",
       "      <th>0</th>\n",
       "      <td>3166</td>\n",
       "      <td>0.0</td>\n",
       "      <td>0.0</td>\n",
       "      <td>1.000000</td>\n",
       "      <td>0.300000</td>\n",
       "    </tr>\n",
       "    <tr>\n",
       "      <th>1</th>\n",
       "      <td>3123</td>\n",
       "      <td>0.0</td>\n",
       "      <td>0.0</td>\n",
       "      <td>1.000000</td>\n",
       "      <td>0.300000</td>\n",
       "    </tr>\n",
       "    <tr>\n",
       "      <th>2</th>\n",
       "      <td>2039</td>\n",
       "      <td>0.0</td>\n",
       "      <td>0.0</td>\n",
       "      <td>1.000000</td>\n",
       "      <td>0.300000</td>\n",
       "    </tr>\n",
       "    <tr>\n",
       "      <th>3</th>\n",
       "      <td>706</td>\n",
       "      <td>0.0</td>\n",
       "      <td>0.6</td>\n",
       "      <td>0.000000</td>\n",
       "      <td>0.300000</td>\n",
       "    </tr>\n",
       "    <tr>\n",
       "      <th>4</th>\n",
       "      <td>3687</td>\n",
       "      <td>0.0</td>\n",
       "      <td>0.0</td>\n",
       "      <td>0.833333</td>\n",
       "      <td>0.250000</td>\n",
       "    </tr>\n",
       "    <tr>\n",
       "      <th>5</th>\n",
       "      <td>1989</td>\n",
       "      <td>0.0</td>\n",
       "      <td>0.0</td>\n",
       "      <td>0.833333</td>\n",
       "      <td>0.250000</td>\n",
       "    </tr>\n",
       "    <tr>\n",
       "      <th>6</th>\n",
       "      <td>142</td>\n",
       "      <td>0.0</td>\n",
       "      <td>0.0</td>\n",
       "      <td>0.833333</td>\n",
       "      <td>0.250000</td>\n",
       "    </tr>\n",
       "    <tr>\n",
       "      <th>7</th>\n",
       "      <td>1107</td>\n",
       "      <td>0.0</td>\n",
       "      <td>0.0</td>\n",
       "      <td>0.777778</td>\n",
       "      <td>0.233333</td>\n",
       "    </tr>\n",
       "    <tr>\n",
       "      <th>8</th>\n",
       "      <td>868</td>\n",
       "      <td>0.0</td>\n",
       "      <td>0.0</td>\n",
       "      <td>0.777778</td>\n",
       "      <td>0.233333</td>\n",
       "    </tr>\n",
       "    <tr>\n",
       "      <th>9</th>\n",
       "      <td>2742</td>\n",
       "      <td>0.0</td>\n",
       "      <td>0.0</td>\n",
       "      <td>0.750000</td>\n",
       "      <td>0.225000</td>\n",
       "    </tr>\n",
       "  </tbody>\n",
       "</table>\n",
       "</div>"
      ],
      "text/plain": [
       "   movieId  scoreGenre  scoreRate  scoreKnn  general_score\n",
       "0     3166         0.0        0.0  1.000000       0.300000\n",
       "1     3123         0.0        0.0  1.000000       0.300000\n",
       "2     2039         0.0        0.0  1.000000       0.300000\n",
       "3      706         0.0        0.6  0.000000       0.300000\n",
       "4     3687         0.0        0.0  0.833333       0.250000\n",
       "5     1989         0.0        0.0  0.833333       0.250000\n",
       "6      142         0.0        0.0  0.833333       0.250000\n",
       "7     1107         0.0        0.0  0.777778       0.233333\n",
       "8      868         0.0        0.0  0.777778       0.233333\n",
       "9     2742         0.0        0.0  0.750000       0.225000"
      ]
     },
     "execution_count": 12,
     "metadata": {},
     "output_type": "execute_result"
    }
   ],
   "source": [
    "# I take the top 20 most similar films according to previously created similarity edges for each similarity type\n",
    "list_with_similar_genre = gds.run_cypher(\n",
    "    f\"\"\"\n",
    "    MATCH (m:Movie WHERE m.movieId = {movieId})-[s:SIMILAR]-(m2:Movie)\n",
    "    RETURN DISTINCT m2.movieId as movieId, s.score as scoreGenre\n",
    "    ORDER BY scoreGenre DESC\n",
    "    limit 20\n",
    "    \"\"\"\n",
    ")\n",
    "list_with_similar_rate = gds.run_cypher(\n",
    "    f\"\"\"\n",
    "    MATCH (m:Movie WHERE m.movieId = {movieId})-[s:SIMILAR_RATE]-(m2:Movie)\n",
    "    RETURN DISTINCT m2.movieId as movieId, s.score as scoreRate\n",
    "    ORDER BY scoreRate DESC\n",
    "    limit 20\n",
    "    \"\"\"\n",
    ")\n",
    "list_with_similar_knn = gds.run_cypher(\n",
    "    f\"\"\"\n",
    "    MATCH (m:Movie WHERE m.movieId = {movieId})-[s:SIMILAR_KNN]-(m2:Movie)\n",
    "    RETURN DISTINCT m2.movieId as movieId, s.score as scoreKnn\n",
    "    ORDER BY scoreKnn DESC\n",
    "    limit 20\n",
    "    \"\"\"\n",
    ")\n",
    "\n",
    "# I merge the lists\n",
    "list = pd.merge(\n",
    "    list_with_similar_genre, list_with_similar_rate, how=\"outer\", on=\"movieId\"\n",
    ")\n",
    "list = list.merge(list_with_similar_knn, how=\"outer\", on=\"movieId\")\n",
    "\n",
    "# I fill in the missing values with 0\n",
    "list.fillna(0, inplace=True)\n",
    "\n",
    "# I calculate the general score\n",
    "list[\"general_score\"] = (\n",
    "    list[\"scoreGenre\"] * 0.2 + list[\"scoreRate\"] * 0.5 + list[\"scoreKnn\"] * 0.3\n",
    ")\n",
    "\n",
    "# I sort the list by general score and take the top 10\n",
    "list.sort_values(by=\"general_score\", ascending=False, inplace=True)\n",
    "list.reset_index(drop=True, inplace=True)\n",
    "\n",
    "# I pick the top 10 movies\n",
    "list = list.head(10)\n",
    "\n",
    "list"
   ]
  },
  {
   "cell_type": "markdown",
   "metadata": {},
   "source": [
    "With a simple query we can have our 10 recommended movies"
   ]
  },
  {
   "cell_type": "code",
   "execution_count": 13,
   "metadata": {},
   "outputs": [
    {
     "data": {
      "text/html": [
       "<div>\n",
       "<style scoped>\n",
       "    .dataframe tbody tr th:only-of-type {\n",
       "        vertical-align: middle;\n",
       "    }\n",
       "\n",
       "    .dataframe tbody tr th {\n",
       "        vertical-align: top;\n",
       "    }\n",
       "\n",
       "    .dataframe thead th {\n",
       "        text-align: right;\n",
       "    }\n",
       "</style>\n",
       "<table border=\"1\" class=\"dataframe\">\n",
       "  <thead>\n",
       "    <tr style=\"text-align: right;\">\n",
       "      <th></th>\n",
       "      <th>movieId</th>\n",
       "      <th>title</th>\n",
       "    </tr>\n",
       "  </thead>\n",
       "  <tbody>\n",
       "    <tr>\n",
       "      <th>0</th>\n",
       "      <td>142</td>\n",
       "      <td>Shadows (Cienie) (1988)</td>\n",
       "    </tr>\n",
       "    <tr>\n",
       "      <th>1</th>\n",
       "      <td>706</td>\n",
       "      <td>Sunset Park (1996)</td>\n",
       "    </tr>\n",
       "    <tr>\n",
       "      <th>2</th>\n",
       "      <td>868</td>\n",
       "      <td>Death in Brunswick (1991)</td>\n",
       "    </tr>\n",
       "    <tr>\n",
       "      <th>3</th>\n",
       "      <td>1107</td>\n",
       "      <td>Loser (1991)</td>\n",
       "    </tr>\n",
       "    <tr>\n",
       "      <th>4</th>\n",
       "      <td>1989</td>\n",
       "      <td>Prom Night III: The Last Kiss (1989)</td>\n",
       "    </tr>\n",
       "    <tr>\n",
       "      <th>5</th>\n",
       "      <td>2039</td>\n",
       "      <td>Cheetah (1989)</td>\n",
       "    </tr>\n",
       "    <tr>\n",
       "      <th>6</th>\n",
       "      <td>2742</td>\n",
       "      <td>M�nage (Tenue de soir�e) (1986)</td>\n",
       "    </tr>\n",
       "    <tr>\n",
       "      <th>7</th>\n",
       "      <td>3123</td>\n",
       "      <td>Spring Fever USA (a.k.a. Lauderdale) (1989)</td>\n",
       "    </tr>\n",
       "    <tr>\n",
       "      <th>8</th>\n",
       "      <td>3166</td>\n",
       "      <td>Brenda Starr (1989)</td>\n",
       "    </tr>\n",
       "    <tr>\n",
       "      <th>9</th>\n",
       "      <td>3687</td>\n",
       "      <td>Light Years (1988)</td>\n",
       "    </tr>\n",
       "  </tbody>\n",
       "</table>\n",
       "</div>"
      ],
      "text/plain": [
       "   movieId                                        title\n",
       "0      142                      Shadows (Cienie) (1988)\n",
       "1      706                           Sunset Park (1996)\n",
       "2      868                    Death in Brunswick (1991)\n",
       "3     1107                                 Loser (1991)\n",
       "4     1989         Prom Night III: The Last Kiss (1989)\n",
       "5     2039                               Cheetah (1989)\n",
       "6     2742              M�nage (Tenue de soir�e) (1986)\n",
       "7     3123  Spring Fever USA (a.k.a. Lauderdale) (1989)\n",
       "8     3166                          Brenda Starr (1989)\n",
       "9     3687                           Light Years (1988)"
      ]
     },
     "execution_count": 13,
     "metadata": {},
     "output_type": "execute_result"
    }
   ],
   "source": [
    "gds.run_cypher(\n",
    "    f\"\"\"\n",
    "    MATCH (m:Movie) WHERE m.movieId IN {list['movieId'].tolist()}\n",
    "    RETURN m.movieId as movieId,m.title as title\n",
    "    \"\"\"\n",
    ")"
   ]
  },
  {
   "cell_type": "markdown",
   "metadata": {},
   "source": [
    "### User based\n",
    "We choose a random user"
   ]
  },
  {
   "cell_type": "code",
   "execution_count": 14,
   "metadata": {},
   "outputs": [
    {
     "data": {
      "text/html": [
       "<div>\n",
       "<style scoped>\n",
       "    .dataframe tbody tr th:only-of-type {\n",
       "        vertical-align: middle;\n",
       "    }\n",
       "\n",
       "    .dataframe tbody tr th {\n",
       "        vertical-align: top;\n",
       "    }\n",
       "\n",
       "    .dataframe thead th {\n",
       "        text-align: right;\n",
       "    }\n",
       "</style>\n",
       "<table border=\"1\" class=\"dataframe\">\n",
       "  <thead>\n",
       "    <tr style=\"text-align: right;\">\n",
       "      <th></th>\n",
       "      <th>gender</th>\n",
       "      <th>age</th>\n",
       "      <th>occupation</th>\n",
       "      <th>activity</th>\n",
       "      <th>favoriteMonth</th>\n",
       "    </tr>\n",
       "  </thead>\n",
       "  <tbody>\n",
       "    <tr>\n",
       "      <th>0</th>\n",
       "      <td>M</td>\n",
       "      <td>1</td>\n",
       "      <td>10</td>\n",
       "      <td>4</td>\n",
       "      <td>8</td>\n",
       "    </tr>\n",
       "  </tbody>\n",
       "</table>\n",
       "</div>"
      ],
      "text/plain": [
       "  gender  age  occupation  activity  favoriteMonth\n",
       "0      M    1          10         4              8"
      ]
     },
     "execution_count": 14,
     "metadata": {},
     "output_type": "execute_result"
    }
   ],
   "source": [
    "userId = random.randint(1, 6040)\n",
    "\n",
    "gds.run_cypher(\n",
    "    f\"\"\"\n",
    "    MATCH (u:User {{userId: {userId}}})\n",
    "    RETURN u.gender as gender, u.age as age, u.occupation as occupation, u.activity as activity, u.favoriteMonth as favoriteMonth\n",
    "    \"\"\"\n",
    ")"
   ]
  },
  {
   "cell_type": "markdown",
   "metadata": {},
   "source": [
    "After that we pick the top 30 user similar based our three similarity metrics (10 user for each).  \n",
    "\n",
    "We joins these three lists and calculate a mixed score metrics with different weights  \n",
    "__general_score = scoreGenre * .2 + scoreRate * .5 + scoreKnn * .3__  \n",
    "\n",
    "Sorts list by `general_score` and filter first 10"
   ]
  },
  {
   "cell_type": "code",
   "execution_count": 15,
   "metadata": {},
   "outputs": [
    {
     "data": {
      "text/html": [
       "<div>\n",
       "<style scoped>\n",
       "    .dataframe tbody tr th:only-of-type {\n",
       "        vertical-align: middle;\n",
       "    }\n",
       "\n",
       "    .dataframe tbody tr th {\n",
       "        vertical-align: top;\n",
       "    }\n",
       "\n",
       "    .dataframe thead th {\n",
       "        text-align: right;\n",
       "    }\n",
       "</style>\n",
       "<table border=\"1\" class=\"dataframe\">\n",
       "  <thead>\n",
       "    <tr style=\"text-align: right;\">\n",
       "      <th></th>\n",
       "      <th>userId</th>\n",
       "      <th>scoreGenre</th>\n",
       "      <th>scoreRate</th>\n",
       "      <th>scoreKnn</th>\n",
       "      <th>general_score</th>\n",
       "    </tr>\n",
       "  </thead>\n",
       "  <tbody>\n",
       "    <tr>\n",
       "      <th>0</th>\n",
       "      <td>3710</td>\n",
       "      <td>0.0</td>\n",
       "      <td>0.0</td>\n",
       "      <td>1.000000</td>\n",
       "      <td>0.30</td>\n",
       "    </tr>\n",
       "    <tr>\n",
       "      <th>1</th>\n",
       "      <td>3537</td>\n",
       "      <td>0.0</td>\n",
       "      <td>0.0</td>\n",
       "      <td>1.000000</td>\n",
       "      <td>0.30</td>\n",
       "    </tr>\n",
       "    <tr>\n",
       "      <th>2</th>\n",
       "      <td>3843</td>\n",
       "      <td>0.0</td>\n",
       "      <td>0.0</td>\n",
       "      <td>0.900000</td>\n",
       "      <td>0.27</td>\n",
       "    </tr>\n",
       "    <tr>\n",
       "      <th>3</th>\n",
       "      <td>3667</td>\n",
       "      <td>0.0</td>\n",
       "      <td>0.0</td>\n",
       "      <td>0.900000</td>\n",
       "      <td>0.27</td>\n",
       "    </tr>\n",
       "    <tr>\n",
       "      <th>4</th>\n",
       "      <td>3865</td>\n",
       "      <td>0.0</td>\n",
       "      <td>0.0</td>\n",
       "      <td>0.900000</td>\n",
       "      <td>0.27</td>\n",
       "    </tr>\n",
       "    <tr>\n",
       "      <th>5</th>\n",
       "      <td>4997</td>\n",
       "      <td>0.0</td>\n",
       "      <td>0.0</td>\n",
       "      <td>0.900000</td>\n",
       "      <td>0.27</td>\n",
       "    </tr>\n",
       "    <tr>\n",
       "      <th>6</th>\n",
       "      <td>3382</td>\n",
       "      <td>0.0</td>\n",
       "      <td>0.0</td>\n",
       "      <td>0.900000</td>\n",
       "      <td>0.27</td>\n",
       "    </tr>\n",
       "    <tr>\n",
       "      <th>7</th>\n",
       "      <td>4102</td>\n",
       "      <td>0.0</td>\n",
       "      <td>0.0</td>\n",
       "      <td>0.900000</td>\n",
       "      <td>0.27</td>\n",
       "    </tr>\n",
       "    <tr>\n",
       "      <th>8</th>\n",
       "      <td>3904</td>\n",
       "      <td>0.0</td>\n",
       "      <td>0.0</td>\n",
       "      <td>0.866667</td>\n",
       "      <td>0.26</td>\n",
       "    </tr>\n",
       "    <tr>\n",
       "      <th>9</th>\n",
       "      <td>3573</td>\n",
       "      <td>0.0</td>\n",
       "      <td>0.0</td>\n",
       "      <td>0.866667</td>\n",
       "      <td>0.26</td>\n",
       "    </tr>\n",
       "  </tbody>\n",
       "</table>\n",
       "</div>"
      ],
      "text/plain": [
       "   userId  scoreGenre  scoreRate  scoreKnn  general_score\n",
       "0    3710         0.0        0.0  1.000000           0.30\n",
       "1    3537         0.0        0.0  1.000000           0.30\n",
       "2    3843         0.0        0.0  0.900000           0.27\n",
       "3    3667         0.0        0.0  0.900000           0.27\n",
       "4    3865         0.0        0.0  0.900000           0.27\n",
       "5    4997         0.0        0.0  0.900000           0.27\n",
       "6    3382         0.0        0.0  0.900000           0.27\n",
       "7    4102         0.0        0.0  0.900000           0.27\n",
       "8    3904         0.0        0.0  0.866667           0.26\n",
       "9    3573         0.0        0.0  0.866667           0.26"
      ]
     },
     "execution_count": 15,
     "metadata": {},
     "output_type": "execute_result"
    }
   ],
   "source": [
    "# I take the top 10 most similar users according to previously created similarity edges for each similarity type\n",
    "list_with_similar_genre = gds.run_cypher(\n",
    "    f\"\"\"\n",
    "    MATCH (u:User WHERE u.userId = {userId})-[s:SIMILAR]-(u2:User)\n",
    "    RETURN DISTINCT u2.userId as userId, s.score as scoreGenre\n",
    "    ORDER BY scoreGenre DESC\n",
    "    limit 10\n",
    "    \"\"\"\n",
    ")\n",
    "list_with_similar_rate = gds.run_cypher(\n",
    "    f\"\"\"\n",
    "    MATCH (u:User WHERE u.userId = {userId})-[s:SIMILAR_RATE]-(u2:User)\n",
    "    RETURN DISTINCT u2.userId as userId, s.score as scoreRate\n",
    "    ORDER BY scoreRate DESC\n",
    "    limit 10\n",
    "    \"\"\"\n",
    ")\n",
    "list_with_similar_knn = gds.run_cypher(\n",
    "    f\"\"\"\n",
    "    MATCH (u:User WHERE u.userId = {userId})-[s:SIMILAR_KNN]-(u2:User)\n",
    "    RETURN DISTINCT u2.userId as userId, s.score as scoreKnn\n",
    "    ORDER BY scoreKnn DESC\n",
    "    limit 10\n",
    "    \"\"\"\n",
    ")\n",
    "\n",
    "# I merge the lists\n",
    "list = pd.merge(\n",
    "    list_with_similar_genre, list_with_similar_rate, how=\"outer\", on=\"userId\"\n",
    ")\n",
    "list = list.merge(list_with_similar_knn, how=\"outer\", on=\"userId\")\n",
    "\n",
    "# I fill in the missing values with 0\n",
    "list.fillna(0, inplace=True)\n",
    "\n",
    "# I calculate the general score\n",
    "list[\"general_score\"] = (\n",
    "    list[\"scoreGenre\"] * 0.2 + list[\"scoreRate\"] * 0.5 + list[\"scoreKnn\"] * 0.3\n",
    ")\n",
    "\n",
    "# I sort the list by general score\n",
    "list.sort_values(by=\"general_score\", ascending=False, inplace=True)\n",
    "list.reset_index(drop=True, inplace=True)\n",
    "\n",
    "# I pick the top 10 users\n",
    "list = list.head(10)\n",
    "\n",
    "list"
   ]
  },
  {
   "cell_type": "markdown",
   "metadata": {},
   "source": [
    "Having the 10 most similar people, for each one I select the 3 most liked films that have not yet been seen by the person taken as an example. \n",
    "\n",
    "I group the results and if I find films recommended by several people I add up their general_score.\n",
    "\n",
    "Finally I select the top 10"
   ]
  },
  {
   "cell_type": "code",
   "execution_count": 16,
   "metadata": {},
   "outputs": [
    {
     "data": {
      "text/html": [
       "<div>\n",
       "<style scoped>\n",
       "    .dataframe tbody tr th:only-of-type {\n",
       "        vertical-align: middle;\n",
       "    }\n",
       "\n",
       "    .dataframe tbody tr th {\n",
       "        vertical-align: top;\n",
       "    }\n",
       "\n",
       "    .dataframe thead th {\n",
       "        text-align: right;\n",
       "    }\n",
       "</style>\n",
       "<table border=\"1\" class=\"dataframe\">\n",
       "  <thead>\n",
       "    <tr style=\"text-align: right;\">\n",
       "      <th></th>\n",
       "      <th>general_score</th>\n",
       "      <th>times</th>\n",
       "    </tr>\n",
       "    <tr>\n",
       "      <th>movieId</th>\n",
       "      <th></th>\n",
       "      <th></th>\n",
       "    </tr>\n",
       "  </thead>\n",
       "  <tbody>\n",
       "    <tr>\n",
       "      <th>3752</th>\n",
       "      <td>0.30</td>\n",
       "      <td>1</td>\n",
       "    </tr>\n",
       "    <tr>\n",
       "      <th>3744</th>\n",
       "      <td>0.30</td>\n",
       "      <td>1</td>\n",
       "    </tr>\n",
       "    <tr>\n",
       "      <th>3646</th>\n",
       "      <td>0.30</td>\n",
       "      <td>1</td>\n",
       "    </tr>\n",
       "    <tr>\n",
       "      <th>2795</th>\n",
       "      <td>0.30</td>\n",
       "      <td>1</td>\n",
       "    </tr>\n",
       "    <tr>\n",
       "      <th>2027</th>\n",
       "      <td>0.30</td>\n",
       "      <td>1</td>\n",
       "    </tr>\n",
       "    <tr>\n",
       "      <th>1223</th>\n",
       "      <td>0.30</td>\n",
       "      <td>1</td>\n",
       "    </tr>\n",
       "    <tr>\n",
       "      <th>364</th>\n",
       "      <td>0.27</td>\n",
       "      <td>1</td>\n",
       "    </tr>\n",
       "    <tr>\n",
       "      <th>3556</th>\n",
       "      <td>0.27</td>\n",
       "      <td>1</td>\n",
       "    </tr>\n",
       "    <tr>\n",
       "      <th>3408</th>\n",
       "      <td>0.27</td>\n",
       "      <td>1</td>\n",
       "    </tr>\n",
       "    <tr>\n",
       "      <th>2966</th>\n",
       "      <td>0.27</td>\n",
       "      <td>1</td>\n",
       "    </tr>\n",
       "  </tbody>\n",
       "</table>\n",
       "</div>"
      ],
      "text/plain": [
       "         general_score  times\n",
       "movieId                      \n",
       "3752              0.30      1\n",
       "3744              0.30      1\n",
       "3646              0.30      1\n",
       "2795              0.30      1\n",
       "2027              0.30      1\n",
       "1223              0.30      1\n",
       "364               0.27      1\n",
       "3556              0.27      1\n",
       "3408              0.27      1\n",
       "2966              0.27      1"
      ]
     },
     "execution_count": 16,
     "metadata": {},
     "output_type": "execute_result"
    }
   ],
   "source": [
    "# I take the top 3 favorite movies of the top 10 similar users\n",
    "movies_list = pd.DataFrame()\n",
    "for _, similar_user in list.iterrows():\n",
    "    favorite_movies = gds.run_cypher(\n",
    "        f\"\"\"\n",
    "        MATCH (uSample:User{{userId: {userId}}})\n",
    "        MATCH (u:User {{userId: {similar_user['userId']}}})-[r:RATED]->(m:Movie)\n",
    "        WHERE NOT (uSample)-[:RATED]->(m)\n",
    "        RETURN m.movieId as movieId, r.rating as rating\n",
    "        ORDER BY rating DESC\n",
    "        LIMIT 3\n",
    "        \"\"\"\n",
    "    )\n",
    "    favorite_movies[\"general_score\"] = similar_user[\"general_score\"]\n",
    "    movies_list = pd.concat([movies_list, favorite_movies])\n",
    "\n",
    "# I group the results and if I find the movies recommended by more people I sum their general_score.\n",
    "movies_list = movies_list.groupby(by=\"movieId\").agg(\n",
    "    {\"general_score\": \"sum\", \"rating\": \"size\"}\n",
    ")\n",
    "movies_list.columns = [\"general_score\", \"times\"]\n",
    "\n",
    "# I sort the list by general score and take the top 10\n",
    "movies_list.sort_values(by=\"general_score\", ascending=False, inplace=True)\n",
    "movies_list = movies_list.head(10)\n",
    "\n",
    "movies_list"
   ]
  },
  {
   "cell_type": "markdown",
   "metadata": {},
   "source": [
    "With a simple query we can have our 10 recommended movies"
   ]
  },
  {
   "cell_type": "code",
   "execution_count": 17,
   "metadata": {},
   "outputs": [
    {
     "data": {
      "text/html": [
       "<div>\n",
       "<style scoped>\n",
       "    .dataframe tbody tr th:only-of-type {\n",
       "        vertical-align: middle;\n",
       "    }\n",
       "\n",
       "    .dataframe tbody tr th {\n",
       "        vertical-align: top;\n",
       "    }\n",
       "\n",
       "    .dataframe thead th {\n",
       "        text-align: right;\n",
       "    }\n",
       "</style>\n",
       "<table border=\"1\" class=\"dataframe\">\n",
       "  <thead>\n",
       "    <tr style=\"text-align: right;\">\n",
       "      <th></th>\n",
       "      <th>movieId</th>\n",
       "      <th>title</th>\n",
       "    </tr>\n",
       "  </thead>\n",
       "  <tbody>\n",
       "    <tr>\n",
       "      <th>0</th>\n",
       "      <td>364</td>\n",
       "      <td>Lion King The (1994)</td>\n",
       "    </tr>\n",
       "    <tr>\n",
       "      <th>1</th>\n",
       "      <td>1223</td>\n",
       "      <td>Grand Day Out A (1992)</td>\n",
       "    </tr>\n",
       "    <tr>\n",
       "      <th>2</th>\n",
       "      <td>2027</td>\n",
       "      <td>Mafia! (1998)</td>\n",
       "    </tr>\n",
       "    <tr>\n",
       "      <th>3</th>\n",
       "      <td>2795</td>\n",
       "      <td>Vacation (1983)</td>\n",
       "    </tr>\n",
       "    <tr>\n",
       "      <th>4</th>\n",
       "      <td>2966</td>\n",
       "      <td>Straight Story The (1999)</td>\n",
       "    </tr>\n",
       "    <tr>\n",
       "      <th>5</th>\n",
       "      <td>3408</td>\n",
       "      <td>Erin Brockovich (2000)</td>\n",
       "    </tr>\n",
       "    <tr>\n",
       "      <th>6</th>\n",
       "      <td>3556</td>\n",
       "      <td>Virgin Suicides The (1999)</td>\n",
       "    </tr>\n",
       "    <tr>\n",
       "      <th>7</th>\n",
       "      <td>3646</td>\n",
       "      <td>Big Momma's House (2000)</td>\n",
       "    </tr>\n",
       "    <tr>\n",
       "      <th>8</th>\n",
       "      <td>3744</td>\n",
       "      <td>Shaft (2000)</td>\n",
       "    </tr>\n",
       "    <tr>\n",
       "      <th>9</th>\n",
       "      <td>3752</td>\n",
       "      <td>Me Myself and Irene (2000)</td>\n",
       "    </tr>\n",
       "  </tbody>\n",
       "</table>\n",
       "</div>"
      ],
      "text/plain": [
       "   movieId                       title\n",
       "0      364        Lion King The (1994)\n",
       "1     1223      Grand Day Out A (1992)\n",
       "2     2027               Mafia! (1998)\n",
       "3     2795             Vacation (1983)\n",
       "4     2966   Straight Story The (1999)\n",
       "5     3408      Erin Brockovich (2000)\n",
       "6     3556  Virgin Suicides The (1999)\n",
       "7     3646    Big Momma's House (2000)\n",
       "8     3744                Shaft (2000)\n",
       "9     3752  Me Myself and Irene (2000)"
      ]
     },
     "execution_count": 17,
     "metadata": {},
     "output_type": "execute_result"
    }
   ],
   "source": [
    "gds.run_cypher(\n",
    "    f\"\"\"\n",
    "    MATCH (m:Movie) WHERE m.movieId IN {movies_list.index.to_list()}\n",
    "    RETURN m.movieId as movieId,m.title as title\n",
    "    \"\"\"\n",
    ")"
   ]
  },
  {
   "cell_type": "markdown",
   "metadata": {},
   "source": [
    "## Community detection\n",
    "Thanks to similarity analysis we have a subgraph on which we can do community detection.  \n",
    "This is the structure of `users-similarities`  \n",
    "![alt text](images/users_similarities.svg)  \n",
    "\n",
    "This one is a little part of the graph with 300 Users nodes  \n",
    "![alt text](images/users_similarities_300_nodes.svg)\n",
    " "
   ]
  },
  {
   "cell_type": "code",
   "execution_count": 18,
   "metadata": {},
   "outputs": [
    {
     "data": {
      "text/html": [
       "<div>\n",
       "<style scoped>\n",
       "    .dataframe tbody tr th:only-of-type {\n",
       "        vertical-align: middle;\n",
       "    }\n",
       "\n",
       "    .dataframe tbody tr th {\n",
       "        vertical-align: top;\n",
       "    }\n",
       "\n",
       "    .dataframe thead th {\n",
       "        text-align: right;\n",
       "    }\n",
       "</style>\n",
       "<table border=\"1\" class=\"dataframe\">\n",
       "  <thead>\n",
       "    <tr style=\"text-align: right;\">\n",
       "      <th></th>\n",
       "      <th>graph</th>\n",
       "      <th>nodeProjection</th>\n",
       "      <th>nodes</th>\n",
       "      <th>relationshipProjection</th>\n",
       "      <th>rels</th>\n",
       "    </tr>\n",
       "  </thead>\n",
       "  <tbody>\n",
       "    <tr>\n",
       "      <th>0</th>\n",
       "      <td>users-similarities</td>\n",
       "      <td>{'User': {'label': 'User', 'properties': {}}}</td>\n",
       "      <td>6040</td>\n",
       "      <td>{'SIMILAR_RATE': {'aggregation': 'DEFAULT', 'o...</td>\n",
       "      <td>1570400</td>\n",
       "    </tr>\n",
       "  </tbody>\n",
       "</table>\n",
       "</div>"
      ],
      "text/plain": [
       "                graph                                 nodeProjection  nodes  \\\n",
       "0  users-similarities  {'User': {'label': 'User', 'properties': {}}}   6040   \n",
       "\n",
       "                              relationshipProjection     rels  \n",
       "0  {'SIMILAR_RATE': {'aggregation': 'DEFAULT', 'o...  1570400  "
      ]
     },
     "execution_count": 18,
     "metadata": {},
     "output_type": "execute_result"
    }
   ],
   "source": [
    "result = gds.run_cypher(\n",
    "    \"\"\"\n",
    "    CALL gds.graph.project(\n",
    "    'users-similarities',\n",
    "    'User',\n",
    "    {\n",
    "        SIMILAR_KNN: {properties: 'score', orientation: 'UNDIRECTED'},\n",
    "        SIMILAR: {properties: 'score', orientation: 'UNDIRECTED'},\n",
    "        SIMILAR_RATE: {properties: 'score', orientation: 'UNDIRECTED'}\n",
    "    }\n",
    "    )\n",
    "    YIELD\n",
    "    graphName AS graph, nodeProjection, nodeCount AS nodes, relationshipProjection, relationshipCount AS rels\n",
    "\"\"\"\n",
    ")\n",
    "result"
   ]
  },
  {
   "cell_type": "markdown",
   "metadata": {},
   "source": [
    "The density of this subgraph is much higher than all graph. This is done to do a better community detection."
   ]
  },
  {
   "cell_type": "code",
   "execution_count": 19,
   "metadata": {},
   "outputs": [
    {
     "data": {
      "text/html": [
       "<div>\n",
       "<style scoped>\n",
       "    .dataframe tbody tr th:only-of-type {\n",
       "        vertical-align: middle;\n",
       "    }\n",
       "\n",
       "    .dataframe tbody tr th {\n",
       "        vertical-align: top;\n",
       "    }\n",
       "\n",
       "    .dataframe thead th {\n",
       "        text-align: right;\n",
       "    }\n",
       "</style>\n",
       "<table border=\"1\" class=\"dataframe\">\n",
       "  <thead>\n",
       "    <tr style=\"text-align: right;\">\n",
       "      <th></th>\n",
       "      <th>density</th>\n",
       "      <th>degreeDistribution</th>\n",
       "    </tr>\n",
       "  </thead>\n",
       "  <tbody>\n",
       "    <tr>\n",
       "      <th>0</th>\n",
       "      <td>0.043053</td>\n",
       "      <td>{'min': 133, 'max': 565, 'p90': 322, 'p999': 4...</td>\n",
       "    </tr>\n",
       "  </tbody>\n",
       "</table>\n",
       "</div>"
      ],
      "text/plain": [
       "    density                                 degreeDistribution\n",
       "0  0.043053  {'min': 133, 'max': 565, 'p90': 322, 'p999': 4..."
      ]
     },
     "execution_count": 19,
     "metadata": {},
     "output_type": "execute_result"
    }
   ],
   "source": [
    "gds.run_cypher(\n",
    "    \"\"\"\n",
    "    CALL gds.graph.list('users-similarities')\n",
    "    YIELD density,degreeDistribution;\n",
    "\"\"\"\n",
    ")"
   ]
  },
  {
   "cell_type": "markdown",
   "metadata": {},
   "source": [
    "### Check some stats from Neo4j algorithms"
   ]
  },
  {
   "cell_type": "markdown",
   "metadata": {},
   "source": [
    "#### Strongly Connected Components\n",
    "The network is an entire strongly connected component"
   ]
  },
  {
   "cell_type": "code",
   "execution_count": 20,
   "metadata": {},
   "outputs": [
    {
     "data": {
      "text/html": [
       "<div>\n",
       "<style scoped>\n",
       "    .dataframe tbody tr th:only-of-type {\n",
       "        vertical-align: middle;\n",
       "    }\n",
       "\n",
       "    .dataframe tbody tr th {\n",
       "        vertical-align: top;\n",
       "    }\n",
       "\n",
       "    .dataframe thead th {\n",
       "        text-align: right;\n",
       "    }\n",
       "</style>\n",
       "<table border=\"1\" class=\"dataframe\">\n",
       "  <thead>\n",
       "    <tr style=\"text-align: right;\">\n",
       "      <th></th>\n",
       "      <th>componentCount</th>\n",
       "      <th>componentDistribution</th>\n",
       "    </tr>\n",
       "  </thead>\n",
       "  <tbody>\n",
       "    <tr>\n",
       "      <th>0</th>\n",
       "      <td>1</td>\n",
       "      <td>{'min': 6040, 'p5': 6040, 'max': 6040, 'p999':...</td>\n",
       "    </tr>\n",
       "  </tbody>\n",
       "</table>\n",
       "</div>"
      ],
      "text/plain": [
       "   componentCount                              componentDistribution\n",
       "0               1  {'min': 6040, 'p5': 6040, 'max': 6040, 'p999':..."
      ]
     },
     "execution_count": 20,
     "metadata": {},
     "output_type": "execute_result"
    }
   ],
   "source": [
    "gds.run_cypher(\n",
    "    \"\"\"\n",
    "    CALL gds.scc.stats('users-similarities')\n",
    "    YIELD componentCount, componentDistribution\n",
    "    \"\"\"\n",
    ")"
   ]
  },
  {
   "cell_type": "markdown",
   "metadata": {},
   "source": [
    "#### Louvain stats\n",
    "The [louvain](https://neo4j.com/docs/graph-data-science/current/algorithms/louvain/) stats find 7-8 community with a good modularity (0.3<Q<0.7).  "
   ]
  },
  {
   "cell_type": "code",
   "execution_count": 21,
   "metadata": {},
   "outputs": [
    {
     "data": {
      "text/html": [
       "<div>\n",
       "<style scoped>\n",
       "    .dataframe tbody tr th:only-of-type {\n",
       "        vertical-align: middle;\n",
       "    }\n",
       "\n",
       "    .dataframe tbody tr th {\n",
       "        vertical-align: top;\n",
       "    }\n",
       "\n",
       "    .dataframe thead th {\n",
       "        text-align: right;\n",
       "    }\n",
       "</style>\n",
       "<table border=\"1\" class=\"dataframe\">\n",
       "  <thead>\n",
       "    <tr style=\"text-align: right;\">\n",
       "      <th></th>\n",
       "      <th>communityCount</th>\n",
       "      <th>modularity</th>\n",
       "      <th>modularities</th>\n",
       "    </tr>\n",
       "  </thead>\n",
       "  <tbody>\n",
       "    <tr>\n",
       "      <th>0</th>\n",
       "      <td>8</td>\n",
       "      <td>0.603401</td>\n",
       "      <td>[0.4868902057967937, 0.5955241459721875, 0.603...</td>\n",
       "    </tr>\n",
       "  </tbody>\n",
       "</table>\n",
       "</div>"
      ],
      "text/plain": [
       "   communityCount  modularity  \\\n",
       "0               8    0.603401   \n",
       "\n",
       "                                        modularities  \n",
       "0  [0.4868902057967937, 0.5955241459721875, 0.603...  "
      ]
     },
     "execution_count": 21,
     "metadata": {},
     "output_type": "execute_result"
    }
   ],
   "source": [
    "gds.run_cypher(\n",
    "    \"\"\"\n",
    "    CALL gds.louvain.stats('users-similarities', \n",
    "    { \n",
    "        relationshipWeightProperty: 'score'\n",
    "    })\n",
    "    YIELD communityCount, modularity, modularities\n",
    "\"\"\"\n",
    ")"
   ]
  },
  {
   "cell_type": "markdown",
   "metadata": {},
   "source": [
    "### Define communities\n",
    "This cell will define community id for each nodes. In this way it can be possible to analyze differences between communities."
   ]
  },
  {
   "cell_type": "code",
   "execution_count": 22,
   "metadata": {},
   "outputs": [
    {
     "data": {
      "text/html": [
       "<div>\n",
       "<style scoped>\n",
       "    .dataframe tbody tr th:only-of-type {\n",
       "        vertical-align: middle;\n",
       "    }\n",
       "\n",
       "    .dataframe tbody tr th {\n",
       "        vertical-align: top;\n",
       "    }\n",
       "\n",
       "    .dataframe thead th {\n",
       "        text-align: right;\n",
       "    }\n",
       "</style>\n",
       "<table border=\"1\" class=\"dataframe\">\n",
       "  <thead>\n",
       "    <tr style=\"text-align: right;\">\n",
       "      <th></th>\n",
       "      <th>communityCount</th>\n",
       "      <th>modularity</th>\n",
       "      <th>modularities</th>\n",
       "    </tr>\n",
       "  </thead>\n",
       "  <tbody>\n",
       "    <tr>\n",
       "      <th>0</th>\n",
       "      <td>9</td>\n",
       "      <td>0.595806</td>\n",
       "      <td>[0.4869507747179441, 0.5879382134876128, 0.595...</td>\n",
       "    </tr>\n",
       "  </tbody>\n",
       "</table>\n",
       "</div>"
      ],
      "text/plain": [
       "   communityCount  modularity  \\\n",
       "0               9    0.595806   \n",
       "\n",
       "                                        modularities  \n",
       "0  [0.4869507747179441, 0.5879382134876128, 0.595...  "
      ]
     },
     "execution_count": 22,
     "metadata": {},
     "output_type": "execute_result"
    }
   ],
   "source": [
    "gds.run_cypher(\n",
    "    \"\"\"\n",
    "    CALL gds.louvain.write('users-similarities', \n",
    "    { \n",
    "        writeProperty:'communityId',\n",
    "        relationshipWeightProperty: 'score'\n",
    "    })\n",
    "    YIELD communityCount, modularity, modularities\n",
    "\"\"\"\n",
    ")"
   ]
  },
  {
   "cell_type": "markdown",
   "metadata": {},
   "source": [
    "We print all communities with its size and we pick the first two."
   ]
  },
  {
   "cell_type": "code",
   "execution_count": 23,
   "metadata": {},
   "outputs": [
    {
     "data": {
      "text/html": [
       "<div>\n",
       "<style scoped>\n",
       "    .dataframe tbody tr th:only-of-type {\n",
       "        vertical-align: middle;\n",
       "    }\n",
       "\n",
       "    .dataframe tbody tr th {\n",
       "        vertical-align: top;\n",
       "    }\n",
       "\n",
       "    .dataframe thead th {\n",
       "        text-align: right;\n",
       "    }\n",
       "</style>\n",
       "<table border=\"1\" class=\"dataframe\">\n",
       "  <thead>\n",
       "    <tr style=\"text-align: right;\">\n",
       "      <th></th>\n",
       "      <th>communityId</th>\n",
       "      <th>numNodes</th>\n",
       "    </tr>\n",
       "  </thead>\n",
       "  <tbody>\n",
       "    <tr>\n",
       "      <th>0</th>\n",
       "      <td>4890</td>\n",
       "      <td>1193</td>\n",
       "    </tr>\n",
       "    <tr>\n",
       "      <th>1</th>\n",
       "      <td>2083</td>\n",
       "      <td>1103</td>\n",
       "    </tr>\n",
       "    <tr>\n",
       "      <th>2</th>\n",
       "      <td>4403</td>\n",
       "      <td>874</td>\n",
       "    </tr>\n",
       "    <tr>\n",
       "      <th>3</th>\n",
       "      <td>4184</td>\n",
       "      <td>643</td>\n",
       "    </tr>\n",
       "    <tr>\n",
       "      <th>4</th>\n",
       "      <td>2104</td>\n",
       "      <td>579</td>\n",
       "    </tr>\n",
       "    <tr>\n",
       "      <th>5</th>\n",
       "      <td>1642</td>\n",
       "      <td>550</td>\n",
       "    </tr>\n",
       "    <tr>\n",
       "      <th>6</th>\n",
       "      <td>4942</td>\n",
       "      <td>496</td>\n",
       "    </tr>\n",
       "    <tr>\n",
       "      <th>7</th>\n",
       "      <td>1978</td>\n",
       "      <td>380</td>\n",
       "    </tr>\n",
       "    <tr>\n",
       "      <th>8</th>\n",
       "      <td>2656</td>\n",
       "      <td>222</td>\n",
       "    </tr>\n",
       "  </tbody>\n",
       "</table>\n",
       "</div>"
      ],
      "text/plain": [
       "   communityId  numNodes\n",
       "0         4890      1193\n",
       "1         2083      1103\n",
       "2         4403       874\n",
       "3         4184       643\n",
       "4         2104       579\n",
       "5         1642       550\n",
       "6         4942       496\n",
       "7         1978       380\n",
       "8         2656       222"
      ]
     },
     "execution_count": 23,
     "metadata": {},
     "output_type": "execute_result"
    }
   ],
   "source": [
    "result = gds.run_cypher(\n",
    "    \"\"\"\n",
    "    MATCH (u:User)\n",
    "    RETURN u.communityId as communityId, COUNT(*) as numNodes\n",
    "    ORDER BY numNodes DESC\n",
    "    \n",
    "    \"\"\"\n",
    ")\n",
    "communities = result[\"communityId\"].to_dict()\n",
    "result"
   ]
  },
  {
   "cell_type": "markdown",
   "metadata": {},
   "source": [
    "### Community1 vs Community2"
   ]
  },
  {
   "cell_type": "markdown",
   "metadata": {},
   "source": [
    "#### Users\n",
    "We wil see which users are insides of the two communities."
   ]
  },
  {
   "cell_type": "markdown",
   "metadata": {},
   "source": [
    "##### Prepare data for comparison"
   ]
  },
  {
   "cell_type": "code",
   "execution_count": 24,
   "metadata": {},
   "outputs": [],
   "source": [
    "from helpers import AGE_LABELS, OCCUPATION_LABELS\n",
    "\n",
    "users = gds.run_cypher(\n",
    "    f\"\"\"\n",
    "    MATCH (u:User)\n",
    "    RETURN u.age AS age, u.occupation AS occupation, u.gender AS gender, u.favoriteMonth AS favoriteMonth, u.activity AS activity, u.communityId AS communityId\n",
    "    \"\"\"\n",
    ")\n",
    "\n",
    "# Prepare labels for each property\n",
    "genders_label = (\n",
    "    pd.Series(index=users.gender.value_counts().index.to_list()).fillna(0).astype(int)\n",
    ")\n",
    "ages_label = pd.Series(index=AGE_LABELS.values()).fillna(0).astype(int)\n",
    "occupations_label = pd.Series(index=OCCUPATION_LABELS.values()).fillna(0).astype(int)\n",
    "activities_label = pd.Series(index=range(1, 11)).fillna(0).astype(int)\n",
    "favoriteMonths_label = pd.Series(index=range(1, 13)).fillna(0).astype(int)\n",
    "\n",
    "# Create data frames for each property of the two communities to compare them in a bar chart\n",
    "genders = pd.DataFrame(\n",
    "    {\n",
    "        \"Gen X (35-44)\": genders_label.combine(\n",
    "            users[\"gender\"][users[\"communityId\"] == communities[1]].value_counts(), max\n",
    "        ),\n",
    "        \"Gen Y (25-34)\": genders_label.combine(\n",
    "            users[\"gender\"][users[\"communityId\"] == communities[0]].value_counts(), max\n",
    "        ),\n",
    "        \"Gen Z (18-24)\": genders_label.combine(\n",
    "            users[\"gender\"][users[\"communityId\"] == communities[2]].value_counts(), max\n",
    "        ),\n",
    "    },\n",
    "    index=genders_label.index,\n",
    ")\n",
    "\n",
    "ages = pd.DataFrame(\n",
    "    {\n",
    "        \"Gen X (35-44)\": ages_label.combine(\n",
    "            users[\"age\"][users[\"communityId\"] == communities[1]]\n",
    "            .value_counts()\n",
    "            .rename(index=AGE_LABELS),\n",
    "            max,\n",
    "        ),\n",
    "        \"Gen Y (25-34)\": ages_label.combine(\n",
    "            users[\"age\"][users[\"communityId\"] == communities[0]]\n",
    "            .value_counts()\n",
    "            .rename(index=AGE_LABELS),\n",
    "            max,\n",
    "        ),\n",
    "        \"Gen Z (18-24)\": ages_label.combine(\n",
    "            users[\"age\"][users[\"communityId\"] == communities[2]]\n",
    "            .value_counts()\n",
    "            .rename(index=AGE_LABELS),\n",
    "            max,\n",
    "        ),\n",
    "    },\n",
    "    index=ages_label.index,\n",
    ")\n",
    "\n",
    "occupations = pd.DataFrame(\n",
    "    {\n",
    "        \"Gen X (35-44)\": occupations_label.combine(\n",
    "            users[\"occupation\"][users[\"communityId\"] == communities[1]]\n",
    "            .value_counts()\n",
    "            .rename(index=OCCUPATION_LABELS),\n",
    "            max,\n",
    "        ),\n",
    "        \"Gen Y (25-34)\": occupations_label.combine(\n",
    "            users[\"occupation\"][users[\"communityId\"] == communities[0]]\n",
    "            .value_counts()\n",
    "            .rename(index=OCCUPATION_LABELS),\n",
    "            max,\n",
    "        ),\n",
    "        \"Gen Z (18-24)\": occupations_label.combine(\n",
    "            users[\"occupation\"][users[\"communityId\"] == communities[2]]\n",
    "            .value_counts()\n",
    "            .rename(index=OCCUPATION_LABELS),\n",
    "            max,\n",
    "        ),\n",
    "    },\n",
    "    index=occupations_label.index,\n",
    ")\n",
    "\n",
    "activities = pd.DataFrame(\n",
    "    {\n",
    "        \"Gen X (35-44)\": activities_label.combine(\n",
    "            users[\"activity\"][users[\"communityId\"] == communities[1]].value_counts(),\n",
    "            max,\n",
    "        ),\n",
    "        \"Gen Y (25-34)\": activities_label.combine(\n",
    "            users[\"activity\"][users[\"communityId\"] == communities[0]].value_counts(),\n",
    "            max,\n",
    "        ),\n",
    "        \"Gen Z (18-24)\": activities_label.combine(\n",
    "            users[\"activity\"][users[\"communityId\"] == communities[2]].value_counts(),\n",
    "            max,\n",
    "        ),\n",
    "    },\n",
    "    index=activities_label.index,\n",
    ")\n",
    "\n",
    "favoriteMonths = pd.DataFrame(\n",
    "    {\n",
    "        \"Gen X (35-44)\": favoriteMonths_label.combine(\n",
    "            users[\"favoriteMonth\"][\n",
    "                users[\"communityId\"] == communities[1]\n",
    "            ].value_counts(),\n",
    "            max,\n",
    "        ),\n",
    "        \"Gen Y (25-34)\": favoriteMonths_label.combine(\n",
    "            users[\"favoriteMonth\"][\n",
    "                users[\"communityId\"] == communities[0]\n",
    "            ].value_counts(),\n",
    "            max,\n",
    "        ),\n",
    "        \"Gen Z (18-24)\": favoriteMonths_label.combine(\n",
    "            users[\"favoriteMonth\"][\n",
    "                users[\"communityId\"] == communities[2]\n",
    "            ].value_counts(),\n",
    "            max,\n",
    "        ),\n",
    "    },\n",
    "    index=favoriteMonths_label.index,\n",
    ")"
   ]
  },
  {
   "cell_type": "markdown",
   "metadata": {},
   "source": [
    "##### Comparison\n",
    "By viewing the graphs, we can already define the three communities according to age as there is a clear division on this attribute:\n",
    "- Gen X (35-44) --> 2° Community\n",
    "- Gen Y (25-34) --> 1° Community\n",
    "- Gen Z (18-24) --> 3° Community\n",
    "  \n",
    "About gender:  \n",
    "In all three groups males then females like the entire datasets.  \n",
    "Little differences: there are more males in Gen X and Gen Z then Gen Y where is more balanced but not too much.  \n",
    "\n",
    "About occupations:\n",
    "- Gen X has a balance distribution to all occupations.\n",
    "- Gen Y hasa less balanced distribution with fewer categories (many students, managers and non-specific occupation).\n",
    "- Gen Y has a balance distribution but with a large peak on students who are the net majority.  \n",
    "\n",
    "About activity comparison:  \n",
    "All have fairly balanced distributions.  \n",
    "Gen Y has the most active people while Gen X has the least active people.  \n",
    "\n",
    "About favorite comparison:  \n",
    "Also here, all have fairly balanced distributions.  \n",
    "All three generations have similar behaviour to the complete dataset"
   ]
  },
  {
   "cell_type": "code",
   "execution_count": 25,
   "metadata": {},
   "outputs": [
    {
     "data": {
      "image/png": "[encoded data removed]",
      "text/plain": [
       "<Figure size 1600x3000 with 5 Axes>"
      ]
     },
     "metadata": {},
     "output_type": "display_data"
    }
   ],
   "source": [
    "fig, axs = plt.subplots(5, 1, figsize=(16, 30))\n",
    "\n",
    "ages.plot(kind=\"bar\", ax=axs[0], title=\"Age comparison\")\n",
    "genders.plot(kind=\"bar\", ax=axs[1], title=\"Gender comparison\")\n",
    "occupations.plot(kind=\"bar\", ax=axs[2], title=\"Occupation comparison\")\n",
    "activities.plot(kind=\"bar\", ax=axs[3], title=\"Activity comparison\")\n",
    "favoriteMonths.plot(kind=\"bar\", ax=axs[4], title=\"Favorite month comparison\")\n",
    "\n",
    "plt.tight_layout()"
   ]
  },
  {
   "cell_type": "markdown",
   "metadata": {},
   "source": [
    "#### Movies"
   ]
  },
  {
   "cell_type": "markdown",
   "metadata": {},
   "source": [
    "##### Prepare data for comparison"
   ]
  },
  {
   "cell_type": "code",
   "execution_count": 26,
   "metadata": {},
   "outputs": [],
   "source": [
    "movies_1 = gds.run_cypher(\n",
    "    f\"\"\"\n",
    "    MATCH (u:User WHERE u.communityId={communities[0]})-[r:RATED]->(m:Movie)\n",
    "    RETURN m.title AS title, m.year AS year, m.popularity AS popularity\n",
    "    \"\"\"\n",
    ")\n",
    "movies_2 = gds.run_cypher(\n",
    "    f\"\"\"\n",
    "    MATCH (u:User WHERE u.communityId={communities[1]})-[r:RATED]->(m:Movie)\n",
    "    RETURN m.title AS title, m.year AS year, m.popularity AS popularity\n",
    "    \"\"\"\n",
    ")\n",
    "movies_3 = gds.run_cypher(\n",
    "    f\"\"\"\n",
    "    MATCH (u:User WHERE u.communityId={communities[2]})-[r:RATED]->(m:Movie)\n",
    "    RETURN m.title AS title, m.year AS year, m.popularity AS popularity\n",
    "    \"\"\"\n",
    ")"
   ]
  },
  {
   "cell_type": "markdown",
   "metadata": {},
   "source": [
    "##### Comparison\n",
    "As one could imagine, the different generations are connected to the films of their years.  \n",
    "Gen X watched old and new films, gen Y watched some old films and gen Z watched more new films.\n",
    "\n",
    "With regard to the popularity of films, all three generations watch the most popular films in the same way.  \n",
    "Generation Y has a higher presence of very popular films watched"
   ]
  },
  {
   "cell_type": "code",
   "execution_count": 27,
   "metadata": {},
   "outputs": [
    {
     "data": {
      "image/png": "[encoded data removed]",
      "text/plain": [
       "<Figure size 1600x1000 with 4 Axes>"
      ]
     },
     "metadata": {},
     "output_type": "display_data"
    }
   ],
   "source": [
    "fig, axs = plt.subplots(4, 1, figsize=(16, 10))\n",
    "\n",
    "popularity_label = pd.Series(index=range(1, 11)).fillna(0).astype(int)\n",
    "\n",
    "pd.DataFrame(\n",
    "    {\n",
    "        \"Gen Y (25-34)\": movies_1[\"year\"].sort_values(),\n",
    "        \"Gen X (35-44)\": movies_2[\"year\"].sort_values(),\n",
    "    }\n",
    ").plot(kind=\"hist\", bins=20, alpha=0.5, title=\"Year distribution\", ax=axs[0])\n",
    "\n",
    "pd.DataFrame(\n",
    "    {\n",
    "        \"Gen Y (25-34)\": movies_1[\"year\"].sort_values(),\n",
    "        \"Gen Z (18-24)\": movies_3[\"year\"].sort_values(),\n",
    "    }\n",
    ").plot(kind=\"hist\", bins=20, alpha=0.5, title=\"Year distribution\", ax=axs[1])\n",
    "\n",
    "pd.DataFrame(\n",
    "    {\n",
    "        \"Gen Z (18-24)\": movies_3[\"year\"].sort_values(),\n",
    "        \"Gen X (35-44)\": movies_2[\"year\"].sort_values(),\n",
    "    }\n",
    ").plot(kind=\"hist\", bins=20, alpha=0.5, title=\"Year distribution\", ax=axs[2])\n",
    "\n",
    "pd.DataFrame(\n",
    "    {\n",
    "        \"Gen X (35-44)\": popularity_label.combine(\n",
    "            movies_2[\"popularity\"].value_counts(), max\n",
    "        ),\n",
    "        \"Gen Y (25-34)\": popularity_label.combine(\n",
    "            movies_1[\"popularity\"].value_counts(), max\n",
    "        ),\n",
    "        \"Gen Z (18-24)\": popularity_label.combine(\n",
    "            movies_3[\"popularity\"].value_counts(), max\n",
    "        ),\n",
    "    },\n",
    "    index=range(1, 11),\n",
    ").plot(kind=\"bar\", alpha=0.5, title=\"Popularity distribution\", ax=axs[3])\n",
    "\n",
    "plt.tight_layout()"
   ]
  },
  {
   "cell_type": "markdown",
   "metadata": {},
   "source": [
    "# Conclusions\n",
    "In this study, we have seen ways of gaining information through graph analytics.   \n",
    "In fact, starting from a simple bipartite graph, we were able to add nodes and relations in order to derive more information than simple relations based on ratings.  \n",
    "\n",
    "In the similarity section we saw this advantage, as the similarity based on ratings had a very low distribution and few links with high similarity to be able to create a good recommendation system.  \n",
    "Calculate different similarities based on different aspects such as relationships between films, genres and similar properties between nodes. This can add noise that can be corrected by creating a criterion to put the different similarities together into a single similarity factor.  \n",
    "In this study, the overall score was calculated in preprocessing but there is nothing to prevent it from being calculated on the entire graph to replace all similarity relations with a single one. This was not done to allow more accurate community detection. \n",
    "\n",
    "In community detection, it was noted that similarity links helped to find communities with good modularity.  \n",
    "Comparison between the three largest communities shows that the different distributions are similar to those of the entire dataset. The behavior of users analyzed on this data seems consistent with the beliefs: the younger generations are mostly students and watch films of their generation, while the older generations are related to the same generation.  \n",
    "It has been noticed that generation Y has a significant influence on the trends of the entire dataset and is the community with the most active people.  \n",
    "\n",
    "Finally, the study did not achieve sensational results and findings, but it was a good example in which a dataset with little information was enriched with properties and relationships thanks to graph analytics.\n",
    "The aim of this project was to explore the use of neo4j and what can be obtained from a dataset with many connections but little information for each node and knowing how to derive it from their behavior in the network."
   ]
  }
 ],
 "metadata": {
  "kernelspec": {
   "display_name": "data",
   "language": "python",
   "name": "python3"
  },
  "language_info": {
   "codemirror_mode": {
    "name": "ipython",
    "version": 3
   },
   "file_extension": ".py",
   "mimetype": "text/x-python",
   "name": "python",
   "nbconvert_exporter": "python",
   "pygments_lexer": "ipython3",
   "version": "3.12.4"
  }
 },
 "nbformat": 4,
 "nbformat_minor": 2
}
