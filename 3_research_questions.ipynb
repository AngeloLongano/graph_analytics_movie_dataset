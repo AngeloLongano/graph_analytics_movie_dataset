{
 "cells": [
  {
   "cell_type": "markdown",
   "metadata": {},
   "source": [
    "### Connection"
   ]
  },
  {
   "cell_type": "code",
   "execution_count": 2,
   "metadata": {},
   "outputs": [
    {
     "name": "stderr",
     "output_type": "stream",
     "text": [
      "/home/angelo-dev/miniconda3/envs/data_science/lib/python3.11/site-packages/tqdm/auto.py:21: TqdmWarning: IProgress not found. Please update jupyter and ipywidgets. See https://ipywidgets.readthedocs.io/en/stable/user_install.html\n",
      "  from .autonotebook import tqdm as notebook_tqdm\n"
     ]
    }
   ],
   "source": [
    "import pandas as pd\n",
    "import numpy as np\n",
    "import matplotlib.pyplot as plt\n",
    "import scipy.stats as stats\n",
    "from graphdatascience import GraphDataScience\n",
    "\n",
    "URI = \"neo4j://localhost:7687\"\n",
    "NAME_DB = \"movies\"\n",
    "\n",
    "gds = GraphDataScience(URI, aura_ds=False, database=NAME_DB)"
   ]
  },
  {
   "cell_type": "markdown",
   "metadata": {},
   "source": [
    "# Graph Analytics"
   ]
  },
  {
   "cell_type": "markdown",
   "metadata": {},
   "source": [
    "- similarità tra utente e tra film\n",
    "- provare ad aggiungere proprietà di grado o degree\n",
    "- trovare community\n",
    "- confrontare community\n",
    "- recommendation system in base a quale community ti trovi"
   ]
  },
  {
   "cell_type": "code",
   "execution_count": 147,
   "metadata": {},
   "outputs": [
    {
     "data": {
      "text/html": [
       "<div>\n",
       "<style scoped>\n",
       "    .dataframe tbody tr th:only-of-type {\n",
       "        vertical-align: middle;\n",
       "    }\n",
       "\n",
       "    .dataframe tbody tr th {\n",
       "        vertical-align: top;\n",
       "    }\n",
       "\n",
       "    .dataframe thead th {\n",
       "        text-align: right;\n",
       "    }\n",
       "</style>\n",
       "<table border=\"1\" class=\"dataframe\">\n",
       "  <thead>\n",
       "    <tr style=\"text-align: right;\">\n",
       "      <th></th>\n",
       "      <th>graph</th>\n",
       "      <th>nodeProjection</th>\n",
       "      <th>nodes</th>\n",
       "      <th>relationshipProjection</th>\n",
       "      <th>rels</th>\n",
       "    </tr>\n",
       "  </thead>\n",
       "  <tbody>\n",
       "    <tr>\n",
       "      <th>0</th>\n",
       "      <td>movies-analyzed</td>\n",
       "      <td>{'User': {'label': 'User', 'properties': {'fav...</td>\n",
       "      <td>9941</td>\n",
       "      <td>{'RATED': {'aggregation': 'DEFAULT', 'orientat...</td>\n",
       "      <td>2024939</td>\n",
       "    </tr>\n",
       "  </tbody>\n",
       "</table>\n",
       "</div>"
      ],
      "text/plain": [
       "             graph                                     nodeProjection  nodes  \\\n",
       "0  movies-analyzed  {'User': {'label': 'User', 'properties': {'fav...   9941   \n",
       "\n",
       "                              relationshipProjection     rels  \n",
       "0  {'RATED': {'aggregation': 'DEFAULT', 'orientat...  2024939  "
      ]
     },
     "execution_count": 147,
     "metadata": {},
     "output_type": "execute_result"
    }
   ],
   "source": [
    "result = gds.run_cypher(\n",
    "    \"\"\"\n",
    "    CALL gds.graph.project(\n",
    "    'movies-analyzed',\n",
    "    {\n",
    "        Movie:{properties:['minRating','maxRating','avgRating','stdRating','favoriteYear','favoriteMonth','year']},\n",
    "        User:{properties: ['binaryGender','age','occupation','favoriteGenreId', 'ratings','minRating','maxRating','avgRating','stdRating','favoriteYear','favoriteMonth']},\n",
    "        Genre:{properties: ['ratings']}\n",
    "    },\n",
    "    {\n",
    "        RATED: {properties: 'rating', orientation: 'UNDIRECTED'},\n",
    "        IN_GENRE:{},\n",
    "        LIKES:{}\n",
    "    }\n",
    "    )\n",
    "    YIELD\n",
    "    graphName AS graph, nodeProjection, nodeCount AS nodes, relationshipProjection, relationshipCount AS rels\n",
    "\"\"\"\n",
    ")\n",
    "result"
   ]
  },
  {
   "cell_type": "code",
   "execution_count": 190,
   "metadata": {},
   "outputs": [
    {
     "data": {
      "text/html": [
       "<div>\n",
       "<style scoped>\n",
       "    .dataframe tbody tr th:only-of-type {\n",
       "        vertical-align: middle;\n",
       "    }\n",
       "\n",
       "    .dataframe tbody tr th {\n",
       "        vertical-align: top;\n",
       "    }\n",
       "\n",
       "    .dataframe thead th {\n",
       "        text-align: right;\n",
       "    }\n",
       "</style>\n",
       "<table border=\"1\" class=\"dataframe\">\n",
       "  <thead>\n",
       "    <tr style=\"text-align: right;\">\n",
       "      <th></th>\n",
       "      <th>density</th>\n",
       "      <th>degreeDistribution</th>\n",
       "    </tr>\n",
       "  </thead>\n",
       "  <tbody>\n",
       "    <tr>\n",
       "      <th>0</th>\n",
       "      <td>0.021759</td>\n",
       "      <td>{'min': 0, 'max': 3443, 'p90': 521, 'p999': 25...</td>\n",
       "    </tr>\n",
       "  </tbody>\n",
       "</table>\n",
       "</div>"
      ],
      "text/plain": [
       "    density                                 degreeDistribution\n",
       "0  0.021759  {'min': 0, 'max': 3443, 'p90': 521, 'p999': 25..."
      ]
     },
     "execution_count": 190,
     "metadata": {},
     "output_type": "execute_result"
    }
   ],
   "source": [
    "gds.run_cypher(\n",
    "    \"\"\"\n",
    "    CALL gds.graph.list('movies-analyzed')\n",
    "    YIELD density,degreeDistribution;\n",
    "\"\"\"\n",
    ")"
   ]
  },
  {
   "cell_type": "markdown",
   "metadata": {},
   "source": [
    "## Similarity Analysis"
   ]
  },
  {
   "cell_type": "code",
   "execution_count": 285,
   "metadata": {},
   "outputs": [
    {
     "name": "stdout",
     "output_type": "stream",
     "text": [
      "Similarity relations created: 58038\n",
      "\n",
      "{'min': 1.0, 'p5': 1.0, 'max': 1.0, 'p99': 1.0, 'p1': 1.0, 'p10': 1.0, 'p90': 1.0, 'p50': 1.0, 'p25': 1.0, 'p75': 1.0, 'p95': 1.0, 'mean': 1.0, 'p100': 1.0, 'stdDev': 0.0}\n"
     ]
    }
   ],
   "source": [
    "result = gds.run_cypher(\n",
    "    \"\"\"\n",
    "    CALL gds.nodeSimilarity.write('movies-analyzed',{nodeLabels:['User','Genre'],relationshipTypes:['LIKES'], similarityCutoff: 0.7,writeRelationshipType: 'SIMILAR',\n",
    "    writeProperty: 'score'}) \n",
    "    \"\"\"\n",
    ")\n",
    "print(f\"Similarity relations created: {result.loc[0]['relationshipsWritten']}\\n\")\n",
    "print(result.loc[0][\"similarityDistribution\"])"
   ]
  },
  {
   "cell_type": "code",
   "execution_count": 284,
   "metadata": {},
   "outputs": [
    {
     "name": "stdout",
     "output_type": "stream",
     "text": [
      "Similarity relations created: 36208\n",
      "\n",
      "{'min': 0.75, 'p5': 1.0000038146972656, 'max': 1.0000038146972656, 'p99': 1.0000038146972656, 'p1': 0.75, 'p10': 1.0000038146972656, 'p90': 1.0000038146972656, 'p50': 1.0000038146972656, 'p25': 1.0000038146972656, 'p75': 1.0000038146972656, 'p95': 1.0000038146972656, 'mean': 0.9906410962356386, 'p100': 1.0000038146972656, 'stdDev': 0.04720379496811561}\n"
     ]
    }
   ],
   "source": [
    "result = gds.run_cypher(\n",
    "    \"\"\"\n",
    "    CALL gds.nodeSimilarity.write('movies-analyzed',{nodeLabels:['Movie','Genre'],relationshipTypes:['IN_GENRE'], similarityCutoff: 0.7,writeRelationshipType: 'SIMILAR',\n",
    "    writeProperty: 'score'}) \n",
    "    \"\"\"\n",
    ")\n",
    "print(f\"Similarity relations created: {result.loc[0]['relationshipsWritten']}\\n\")\n",
    "print(result.loc[0][\"similarityDistribution\"])"
   ]
  },
  {
   "cell_type": "markdown",
   "metadata": {},
   "source": [
    "### KNN"
   ]
  },
  {
   "cell_type": "code",
   "execution_count": 286,
   "metadata": {},
   "outputs": [
    {
     "name": "stdout",
     "output_type": "stream",
     "text": [
      "Similarity relations created: 18095\n",
      "\n",
      "{'min': 0.6999969482421875, 'p5': 0.7797164916992188, 'max': 1.0000038146972656, 'p99': 0.93939208984375, 'p1': 0.7415046691894531, 'p10': 0.794403076171875, 'p90': 0.9104652404785156, 'p50': 0.8638916015625, 'p25': 0.8256378173828125, 'p75': 0.8766212463378906, 'p95': 0.9138755798339844, 'mean': 0.8542342275306973, 'p100': 1.0000038146972656, 'stdDev': 0.04399845235461064}\n"
     ]
    }
   ],
   "source": [
    "result = gds.run_cypher(\n",
    "    \"\"\"\n",
    "    CALL gds.knn.write('movies-analyzed' ,{nodeLabels:['User'],writeRelationshipType: 'SIMILAR_KNN',\n",
    "    writeProperty: 'score',nodeProperties: ['binaryGender','age','occupation', 'ratings','minRating','maxRating','avgRating','stdRating','favoriteGenreId','favoriteYear','favoriteMonth'],topK: 3, concurrency: 1, randomSeed: 42,similarityCutoff: 0.7})\n",
    "    \"\"\"\n",
    ")\n",
    "print(f\"Similarity relations created: {result.loc[0]['relationshipsWritten']}\\n\")\n",
    "print(result.loc[0][\"similarityDistribution\"])"
   ]
  },
  {
   "cell_type": "code",
   "execution_count": 287,
   "metadata": {},
   "outputs": [
    {
     "name": "stdout",
     "output_type": "stream",
     "text": [
      "Similarity relations created: 11636\n",
      "\n",
      "{'min': 0.7142829895019531, 'p5': 0.8611106872558594, 'max': 1.0000038146972656, 'p99': 1.0000038146972656, 'p1': 0.7906379699707031, 'p10': 0.8928565979003906, 'p90': 1.0000038146972656, 'p50': 1.0000038146972656, 'p25': 0.9285697937011719, 'p75': 1.0000038146972656, 'p95': 1.0000038146972656, 'mean': 0.967150499337971, 'p100': 1.0000038146972656, 'stdDev': 0.051536760920852735}\n"
     ]
    }
   ],
   "source": [
    "result = gds.run_cypher(\n",
    "    \"\"\"\n",
    "    CALL gds.knn.write('movies-analyzed' ,{nodeLabels:['Movie'],writeRelationshipType: 'SIMILAR_KNN',\n",
    "    writeProperty: 'score',nodeProperties: ['minRating','maxRating','avgRating','stdRating','favoriteYear','favoriteMonth','year'],topK: 3, concurrency: 1, randomSeed: 42,similarityCutoff: 0.7})\n",
    "    \"\"\"\n",
    ")\n",
    "print(f\"Similarity relations created: {result.loc[0]['relationshipsWritten']}\\n\")\n",
    "print(result.loc[0][\"similarityDistribution\"])"
   ]
  },
  {
   "cell_type": "markdown",
   "metadata": {},
   "source": [
    "## Recommendation Systems"
   ]
  },
  {
   "cell_type": "code",
   "execution_count": 212,
   "metadata": {},
   "outputs": [],
   "source": [
    "import random\n",
    "\n",
    "random.seed(0)"
   ]
  },
  {
   "cell_type": "markdown",
   "metadata": {},
   "source": [
    "### Movie based"
   ]
  },
  {
   "cell_type": "code",
   "execution_count": 259,
   "metadata": {},
   "outputs": [
    {
     "data": {
      "text/plain": [
       "'Mystery Alaska (1999)'"
      ]
     },
     "execution_count": 259,
     "metadata": {},
     "output_type": "execute_result"
    }
   ],
   "source": [
    "movieId = random.randint(0, 3952)\n",
    "\n",
    "gds.run_cypher(\n",
    "    f\"\"\"\n",
    "    MATCH (m:Movie) WHERE m.movieId = {movieId}\n",
    "    RETURN m.title as title\n",
    "    \"\"\"\n",
    ").loc[0][\"title\"]"
   ]
  },
  {
   "cell_type": "code",
   "execution_count": 288,
   "metadata": {},
   "outputs": [
    {
     "data": {
      "text/html": [
       "<div>\n",
       "<style scoped>\n",
       "    .dataframe tbody tr th:only-of-type {\n",
       "        vertical-align: middle;\n",
       "    }\n",
       "\n",
       "    .dataframe tbody tr th {\n",
       "        vertical-align: top;\n",
       "    }\n",
       "\n",
       "    .dataframe thead th {\n",
       "        text-align: right;\n",
       "    }\n",
       "</style>\n",
       "<table border=\"1\" class=\"dataframe\">\n",
       "  <thead>\n",
       "    <tr style=\"text-align: right;\">\n",
       "      <th></th>\n",
       "      <th>title</th>\n",
       "      <th>score</th>\n",
       "    </tr>\n",
       "  </thead>\n",
       "  <tbody>\n",
       "    <tr>\n",
       "      <th>0</th>\n",
       "      <td>Mighty Aphrodite (1995)</td>\n",
       "      <td>1.0</td>\n",
       "    </tr>\n",
       "    <tr>\n",
       "      <th>1</th>\n",
       "      <td>Black Sheep (1996)</td>\n",
       "      <td>1.0</td>\n",
       "    </tr>\n",
       "    <tr>\n",
       "      <th>2</th>\n",
       "      <td>It Takes Two (1995)</td>\n",
       "      <td>1.0</td>\n",
       "    </tr>\n",
       "    <tr>\n",
       "      <th>3</th>\n",
       "      <td>Father of the Bride Part II (1995)</td>\n",
       "      <td>1.0</td>\n",
       "    </tr>\n",
       "    <tr>\n",
       "      <th>4</th>\n",
       "      <td>Bio-Dome (1996)</td>\n",
       "      <td>1.0</td>\n",
       "    </tr>\n",
       "    <tr>\n",
       "      <th>5</th>\n",
       "      <td>In the Bleak Midwinter (1995)</td>\n",
       "      <td>1.0</td>\n",
       "    </tr>\n",
       "    <tr>\n",
       "      <th>6</th>\n",
       "      <td>Don't Be a Menace to South Central While Drink...</td>\n",
       "      <td>1.0</td>\n",
       "    </tr>\n",
       "    <tr>\n",
       "      <th>7</th>\n",
       "      <td>Friday (1995)</td>\n",
       "      <td>1.0</td>\n",
       "    </tr>\n",
       "    <tr>\n",
       "      <th>8</th>\n",
       "      <td>Bottle Rocket (1996)</td>\n",
       "      <td>1.0</td>\n",
       "    </tr>\n",
       "    <tr>\n",
       "      <th>9</th>\n",
       "      <td>Don't Be a Menace to South Central While Drink...</td>\n",
       "      <td>1.0</td>\n",
       "    </tr>\n",
       "  </tbody>\n",
       "</table>\n",
       "</div>"
      ],
      "text/plain": [
       "                                               title  score\n",
       "0                            Mighty Aphrodite (1995)    1.0\n",
       "1                                 Black Sheep (1996)    1.0\n",
       "2                                It Takes Two (1995)    1.0\n",
       "3                 Father of the Bride Part II (1995)    1.0\n",
       "4                                    Bio-Dome (1996)    1.0\n",
       "5                      In the Bleak Midwinter (1995)    1.0\n",
       "6  Don't Be a Menace to South Central While Drink...    1.0\n",
       "7                                      Friday (1995)    1.0\n",
       "8                               Bottle Rocket (1996)    1.0\n",
       "9  Don't Be a Menace to South Central While Drink...    1.0"
      ]
     },
     "execution_count": 288,
     "metadata": {},
     "output_type": "execute_result"
    }
   ],
   "source": [
    "gds.run_cypher(\n",
    "    f\"\"\"\n",
    "    MATCH (m:Movie WHERE m.movieId = {movieId})-[s:SIMILAR]-(m2:Movie)\n",
    "    RETURN m2.title as title, s.score as score\n",
    "    ORDER BY score DESC\n",
    "    limit 10\n",
    "    \"\"\"\n",
    ")"
   ]
  },
  {
   "cell_type": "code",
   "execution_count": 289,
   "metadata": {},
   "outputs": [
    {
     "data": {
      "text/html": [
       "<div>\n",
       "<style scoped>\n",
       "    .dataframe tbody tr th:only-of-type {\n",
       "        vertical-align: middle;\n",
       "    }\n",
       "\n",
       "    .dataframe tbody tr th {\n",
       "        vertical-align: top;\n",
       "    }\n",
       "\n",
       "    .dataframe thead th {\n",
       "        text-align: right;\n",
       "    }\n",
       "</style>\n",
       "<table border=\"1\" class=\"dataframe\">\n",
       "  <thead>\n",
       "    <tr style=\"text-align: right;\">\n",
       "      <th></th>\n",
       "      <th>title</th>\n",
       "      <th>score</th>\n",
       "    </tr>\n",
       "  </thead>\n",
       "  <tbody>\n",
       "    <tr>\n",
       "      <th>0</th>\n",
       "      <td>Mansfield Park (1999)</td>\n",
       "      <td>1.0</td>\n",
       "    </tr>\n",
       "    <tr>\n",
       "      <th>1</th>\n",
       "      <td>In Too Deep (1999)</td>\n",
       "      <td>1.0</td>\n",
       "    </tr>\n",
       "    <tr>\n",
       "      <th>2</th>\n",
       "      <td>In Too Deep (1999)</td>\n",
       "      <td>1.0</td>\n",
       "    </tr>\n",
       "    <tr>\n",
       "      <th>3</th>\n",
       "      <td>Liberty Heights (1999)</td>\n",
       "      <td>1.0</td>\n",
       "    </tr>\n",
       "    <tr>\n",
       "      <th>4</th>\n",
       "      <td>Mansfield Park (1999)</td>\n",
       "      <td>1.0</td>\n",
       "    </tr>\n",
       "  </tbody>\n",
       "</table>\n",
       "</div>"
      ],
      "text/plain": [
       "                    title  score\n",
       "0   Mansfield Park (1999)    1.0\n",
       "1      In Too Deep (1999)    1.0\n",
       "2      In Too Deep (1999)    1.0\n",
       "3  Liberty Heights (1999)    1.0\n",
       "4   Mansfield Park (1999)    1.0"
      ]
     },
     "execution_count": 289,
     "metadata": {},
     "output_type": "execute_result"
    }
   ],
   "source": [
    "gds.run_cypher(\n",
    "    f\"\"\"\n",
    "    MATCH (m:Movie WHERE m.movieId = {movieId})-[s:SIMILAR_KNN]-(m2:Movie)\n",
    "    RETURN m2.title as title, s.score as score\n",
    "    ORDER BY score DESC\n",
    "    limit 10\n",
    "    \"\"\"\n",
    ")"
   ]
  },
  {
   "cell_type": "markdown",
   "metadata": {},
   "source": [
    "### User based"
   ]
  },
  {
   "cell_type": "code",
   "execution_count": 211,
   "metadata": {},
   "outputs": [
    {
     "data": {
      "text/html": [
       "<div>\n",
       "<style scoped>\n",
       "    .dataframe tbody tr th:only-of-type {\n",
       "        vertical-align: middle;\n",
       "    }\n",
       "\n",
       "    .dataframe tbody tr th {\n",
       "        vertical-align: top;\n",
       "    }\n",
       "\n",
       "    .dataframe thead th {\n",
       "        text-align: right;\n",
       "    }\n",
       "</style>\n",
       "<table border=\"1\" class=\"dataframe\">\n",
       "  <thead>\n",
       "    <tr style=\"text-align: right;\">\n",
       "      <th></th>\n",
       "      <th>u.userId</th>\n",
       "      <th>u.age</th>\n",
       "      <th>u.occupation</th>\n",
       "      <th>u.binaryGender</th>\n",
       "      <th>u.favoriteGenreId</th>\n",
       "      <th>u.favoriteYear</th>\n",
       "      <th>u.favoriteMonth</th>\n",
       "      <th>u.ratings</th>\n",
       "      <th>u.minRating</th>\n",
       "      <th>u.maxRating</th>\n",
       "      <th>u.avgRating</th>\n",
       "      <th>u.stdRating</th>\n",
       "    </tr>\n",
       "  </thead>\n",
       "  <tbody>\n",
       "    <tr>\n",
       "      <th>0</th>\n",
       "      <td>3156</td>\n",
       "      <td>35</td>\n",
       "      <td>7</td>\n",
       "      <td>0</td>\n",
       "      <td>3</td>\n",
       "      <td>2000</td>\n",
       "      <td>9</td>\n",
       "      <td>64</td>\n",
       "      <td>1</td>\n",
       "      <td>5</td>\n",
       "      <td>3</td>\n",
       "      <td>1</td>\n",
       "    </tr>\n",
       "  </tbody>\n",
       "</table>\n",
       "</div>"
      ],
      "text/plain": [
       "   u.userId  u.age  u.occupation  u.binaryGender  u.favoriteGenreId  \\\n",
       "0      3156     35             7               0                  3   \n",
       "\n",
       "   u.favoriteYear  u.favoriteMonth  u.ratings  u.minRating  u.maxRating  \\\n",
       "0            2000                9         64            1            5   \n",
       "\n",
       "   u.avgRating  u.stdRating  \n",
       "0            3            1  "
      ]
     },
     "execution_count": 211,
     "metadata": {},
     "output_type": "execute_result"
    }
   ],
   "source": [
    "userId = random.randint(1, 6040)\n",
    "\n",
    "gds.run_cypher(\n",
    "    f\"\"\"\n",
    "    MATCH (u:User {{userId: {userId}}})\n",
    "    RETURN u.userId, u.age, u.occupation, u.binaryGender, u.favoriteGenreId, u.favoriteYear, u.favoriteMonth, u.ratings, u.minRating, u.maxRating, u.avgRating, u.stdRating\n",
    "    \"\"\"\n",
    ")"
   ]
  },
  {
   "cell_type": "code",
   "execution_count": 296,
   "metadata": {},
   "outputs": [
    {
     "data": {
      "text/html": [
       "<div>\n",
       "<style scoped>\n",
       "    .dataframe tbody tr th:only-of-type {\n",
       "        vertical-align: middle;\n",
       "    }\n",
       "\n",
       "    .dataframe tbody tr th {\n",
       "        vertical-align: top;\n",
       "    }\n",
       "\n",
       "    .dataframe thead th {\n",
       "        text-align: right;\n",
       "    }\n",
       "</style>\n",
       "<table border=\"1\" class=\"dataframe\">\n",
       "  <thead>\n",
       "    <tr style=\"text-align: right;\">\n",
       "      <th></th>\n",
       "      <th>similarUserId</th>\n",
       "      <th>title</th>\n",
       "      <th>score</th>\n",
       "    </tr>\n",
       "  </thead>\n",
       "  <tbody>\n",
       "    <tr>\n",
       "      <th>0</th>\n",
       "      <td>49</td>\n",
       "      <td>Jurassic Park (1993)</td>\n",
       "      <td>1.0</td>\n",
       "    </tr>\n",
       "    <tr>\n",
       "      <th>1</th>\n",
       "      <td>49</td>\n",
       "      <td>Saving Private Ryan (1998)</td>\n",
       "      <td>1.0</td>\n",
       "    </tr>\n",
       "    <tr>\n",
       "      <th>2</th>\n",
       "      <td>122</td>\n",
       "      <td>Hurricane The (1999)</td>\n",
       "      <td>1.0</td>\n",
       "    </tr>\n",
       "    <tr>\n",
       "      <th>3</th>\n",
       "      <td>122</td>\n",
       "      <td>Rock The (1996)</td>\n",
       "      <td>1.0</td>\n",
       "    </tr>\n",
       "    <tr>\n",
       "      <th>4</th>\n",
       "      <td>96</td>\n",
       "      <td>Fugitive The (1993)</td>\n",
       "      <td>1.0</td>\n",
       "    </tr>\n",
       "    <tr>\n",
       "      <th>5</th>\n",
       "      <td>96</td>\n",
       "      <td>Schindler's List (1993)</td>\n",
       "      <td>1.0</td>\n",
       "    </tr>\n",
       "    <tr>\n",
       "      <th>6</th>\n",
       "      <td>33</td>\n",
       "      <td>Dead Poets Society (1989)</td>\n",
       "      <td>1.0</td>\n",
       "    </tr>\n",
       "    <tr>\n",
       "      <th>7</th>\n",
       "      <td>33</td>\n",
       "      <td>Witness (1985)</td>\n",
       "      <td>1.0</td>\n",
       "    </tr>\n",
       "    <tr>\n",
       "      <th>8</th>\n",
       "      <td>125</td>\n",
       "      <td>Terminator The (1984)</td>\n",
       "      <td>1.0</td>\n",
       "    </tr>\n",
       "    <tr>\n",
       "      <th>9</th>\n",
       "      <td>125</td>\n",
       "      <td>Glory (1989)</td>\n",
       "      <td>1.0</td>\n",
       "    </tr>\n",
       "  </tbody>\n",
       "</table>\n",
       "</div>"
      ],
      "text/plain": [
       "   similarUserId                       title  score\n",
       "0             49        Jurassic Park (1993)    1.0\n",
       "1             49  Saving Private Ryan (1998)    1.0\n",
       "2            122        Hurricane The (1999)    1.0\n",
       "3            122             Rock The (1996)    1.0\n",
       "4             96         Fugitive The (1993)    1.0\n",
       "5             96     Schindler's List (1993)    1.0\n",
       "6             33   Dead Poets Society (1989)    1.0\n",
       "7             33              Witness (1985)    1.0\n",
       "8            125       Terminator The (1984)    1.0\n",
       "9            125                Glory (1989)    1.0"
      ]
     },
     "execution_count": 296,
     "metadata": {},
     "output_type": "execute_result"
    }
   ],
   "source": [
    "gds.run_cypher(\n",
    "    f\"\"\"\n",
    "    MATCH (u:User {{userId: {userId}}})-[s:SIMILAR]-(u2:User)\n",
    "    WITH u2.userId as similarUserId, s.score as score\n",
    "    ORDER BY score DESC\n",
    "    limit 5\n",
    "    CALL\n",
    "    {{ \n",
    "        WITH similarUserId\n",
    "        MATCH (u:User {{userId: similarUserId}})-[r:RATED]->(m:Movie)\n",
    "        RETURN m.title as title, r.rating as rating\n",
    "        ORDER BY rating DESC\n",
    "        LIMIT 2\n",
    "    }}\n",
    "    RETURN similarUserId,title,score\n",
    "    \"\"\"\n",
    ")"
   ]
  },
  {
   "cell_type": "code",
   "execution_count": 297,
   "metadata": {},
   "outputs": [
    {
     "data": {
      "text/html": [
       "<div>\n",
       "<style scoped>\n",
       "    .dataframe tbody tr th:only-of-type {\n",
       "        vertical-align: middle;\n",
       "    }\n",
       "\n",
       "    .dataframe tbody tr th {\n",
       "        vertical-align: top;\n",
       "    }\n",
       "\n",
       "    .dataframe thead th {\n",
       "        text-align: right;\n",
       "    }\n",
       "</style>\n",
       "<table border=\"1\" class=\"dataframe\">\n",
       "  <thead>\n",
       "    <tr style=\"text-align: right;\">\n",
       "      <th></th>\n",
       "      <th>similarUserId</th>\n",
       "      <th>title</th>\n",
       "      <th>score</th>\n",
       "    </tr>\n",
       "  </thead>\n",
       "  <tbody>\n",
       "    <tr>\n",
       "      <th>0</th>\n",
       "      <td>4098</td>\n",
       "      <td>Terminator The (1984)</td>\n",
       "      <td>0.865419</td>\n",
       "    </tr>\n",
       "    <tr>\n",
       "      <th>1</th>\n",
       "      <td>4098</td>\n",
       "      <td>Reservoir Dogs (1992)</td>\n",
       "      <td>0.865419</td>\n",
       "    </tr>\n",
       "    <tr>\n",
       "      <th>2</th>\n",
       "      <td>4098</td>\n",
       "      <td>Terminator The (1984)</td>\n",
       "      <td>0.865419</td>\n",
       "    </tr>\n",
       "    <tr>\n",
       "      <th>3</th>\n",
       "      <td>4098</td>\n",
       "      <td>Reservoir Dogs (1992)</td>\n",
       "      <td>0.865419</td>\n",
       "    </tr>\n",
       "    <tr>\n",
       "      <th>4</th>\n",
       "      <td>2890</td>\n",
       "      <td>Terminator The (1984)</td>\n",
       "      <td>0.864802</td>\n",
       "    </tr>\n",
       "    <tr>\n",
       "      <th>5</th>\n",
       "      <td>2890</td>\n",
       "      <td>Glory (1989)</td>\n",
       "      <td>0.864802</td>\n",
       "    </tr>\n",
       "    <tr>\n",
       "      <th>6</th>\n",
       "      <td>2890</td>\n",
       "      <td>Terminator The (1984)</td>\n",
       "      <td>0.864802</td>\n",
       "    </tr>\n",
       "    <tr>\n",
       "      <th>7</th>\n",
       "      <td>2890</td>\n",
       "      <td>Glory (1989)</td>\n",
       "      <td>0.864802</td>\n",
       "    </tr>\n",
       "    <tr>\n",
       "      <th>8</th>\n",
       "      <td>672</td>\n",
       "      <td>Bridge on the River Kwai The (1957)</td>\n",
       "      <td>0.853535</td>\n",
       "    </tr>\n",
       "    <tr>\n",
       "      <th>9</th>\n",
       "      <td>672</td>\n",
       "      <td>Dances with Wolves (1990)</td>\n",
       "      <td>0.853535</td>\n",
       "    </tr>\n",
       "  </tbody>\n",
       "</table>\n",
       "</div>"
      ],
      "text/plain": [
       "   similarUserId                                title     score\n",
       "0           4098                Terminator The (1984)  0.865419\n",
       "1           4098                Reservoir Dogs (1992)  0.865419\n",
       "2           4098                Terminator The (1984)  0.865419\n",
       "3           4098                Reservoir Dogs (1992)  0.865419\n",
       "4           2890                Terminator The (1984)  0.864802\n",
       "5           2890                         Glory (1989)  0.864802\n",
       "6           2890                Terminator The (1984)  0.864802\n",
       "7           2890                         Glory (1989)  0.864802\n",
       "8            672  Bridge on the River Kwai The (1957)  0.853535\n",
       "9            672            Dances with Wolves (1990)  0.853535"
      ]
     },
     "execution_count": 297,
     "metadata": {},
     "output_type": "execute_result"
    }
   ],
   "source": [
    "gds.run_cypher(\n",
    "    f\"\"\"\n",
    "    MATCH (u:User {{userId: {userId}}})-[s:SIMILAR_KNN]-(u2:User)\n",
    "    WITH u2.userId as similarUserId, s.score as score\n",
    "    ORDER BY score DESC\n",
    "    limit 5\n",
    "    CALL\n",
    "    {{ \n",
    "        WITH similarUserId\n",
    "        MATCH (u:User {{userId: similarUserId}})-[r:RATED]->(m:Movie)\n",
    "        RETURN m.title as title, r.rating as rating\n",
    "        ORDER BY rating DESC\n",
    "        LIMIT 2\n",
    "    }}\n",
    "    RETURN similarUserId,title,score\n",
    "    \"\"\"\n",
    ")"
   ]
  },
  {
   "cell_type": "markdown",
   "metadata": {},
   "source": [
    "## Community detection"
   ]
  },
  {
   "cell_type": "markdown",
   "metadata": {},
   "source": [
    "- Create projection\n",
    "- Create community\n",
    "- Try to optimize \n",
    "- basic analysis"
   ]
  },
  {
   "cell_type": "code",
   "execution_count": null,
   "metadata": {},
   "outputs": [],
   "source": [
    "## TO redoo\n",
    "result = gds.run_cypher(\n",
    "    \"\"\"\n",
    "    CALL gds.graph.project(\n",
    "    'movies-analyzed',\n",
    "    {\n",
    "        Movie:{properties:['minRating','maxRating','avgRating','stdRating','favoriteYear','favoriteMonth','year']},\n",
    "        User:{properties: ['binaryGender','age','occupation','favoriteGenreId', 'ratings','minRating','maxRating','avgRating','stdRating','favoriteYear','favoriteMonth']},\n",
    "        Genre:{properties: ['ratings']}\n",
    "    },\n",
    "    {\n",
    "        RATED: {properties: 'rating', orientation: 'UNDIRECTED'},\n",
    "        IN_GENRE:{},\n",
    "        LIKES:{}\n",
    "    }\n",
    "    )\n",
    "    YIELD\n",
    "    graphName AS graph, nodeProjection, nodeCount AS nodes, relationshipProjection, relationshipCount AS rels\n",
    "\"\"\"\n",
    ")\n",
    "result"
   ]
  },
  {
   "cell_type": "code",
   "execution_count": 300,
   "metadata": {},
   "outputs": [
    {
     "data": {
      "text/html": [
       "<div>\n",
       "<style scoped>\n",
       "    .dataframe tbody tr th:only-of-type {\n",
       "        vertical-align: middle;\n",
       "    }\n",
       "\n",
       "    .dataframe tbody tr th {\n",
       "        vertical-align: top;\n",
       "    }\n",
       "\n",
       "    .dataframe thead th {\n",
       "        text-align: right;\n",
       "    }\n",
       "</style>\n",
       "<table border=\"1\" class=\"dataframe\">\n",
       "  <thead>\n",
       "    <tr style=\"text-align: right;\">\n",
       "      <th></th>\n",
       "      <th>communityCount</th>\n",
       "      <th>modularity</th>\n",
       "      <th>modularities</th>\n",
       "    </tr>\n",
       "  </thead>\n",
       "  <tbody>\n",
       "    <tr>\n",
       "      <th>0</th>\n",
       "      <td>8</td>\n",
       "      <td>0.201548</td>\n",
       "      <td>[0.20062556692991296, 0.20154750452010453]</td>\n",
       "    </tr>\n",
       "  </tbody>\n",
       "</table>\n",
       "</div>"
      ],
      "text/plain": [
       "   communityCount  modularity                                modularities\n",
       "0               8    0.201548  [0.20062556692991296, 0.20154750452010453]"
      ]
     },
     "execution_count": 300,
     "metadata": {},
     "output_type": "execute_result"
    }
   ],
   "source": [
    "gds.run_cypher(\n",
    "    \"\"\"\n",
    "    CALL gds.louvain.stats('movies-analyzed')\n",
    "    YIELD communityCount, modularity, modularities\n",
    "\"\"\"\n",
    ")"
   ]
  }
 ],
 "metadata": {
  "kernelspec": {
   "display_name": "data_science",
   "language": "python",
   "name": "python3"
  },
  "language_info": {
   "codemirror_mode": {
    "name": "ipython",
    "version": 3
   },
   "file_extension": ".py",
   "mimetype": "text/x-python",
   "name": "python",
   "nbconvert_exporter": "python",
   "pygments_lexer": "ipython3",
   "version": "3.11.8"
  }
 },
 "nbformat": 4,
 "nbformat_minor": 2
}
