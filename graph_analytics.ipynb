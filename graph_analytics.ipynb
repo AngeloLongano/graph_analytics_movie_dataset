{
 "cells": [
  {
   "cell_type": "markdown",
   "metadata": {},
   "source": [
    "# Graph Analysis"
   ]
  },
  {
   "cell_type": "markdown",
   "metadata": {},
   "source": [
    "### Connect with database"
   ]
  },
  {
   "cell_type": "code",
   "execution_count": 20,
   "metadata": {},
   "outputs": [
    {
     "name": "stdout",
     "output_type": "stream",
     "text": [
      "Successfully connected to Neo4j\n"
     ]
    }
   ],
   "source": [
    "from neo4j import GraphDatabase\n",
    "\n",
    "URI = \"neo4j://localhost:7687\"\n",
    "NAME_DB = \"movies\"\n",
    "\n",
    "driver = GraphDatabase.driver(URI)\n",
    "\n",
    "driver.verify_connectivity()\n",
    "\n",
    "print(\"Successfully connected to Neo4j\")"
   ]
  },
  {
   "cell_type": "code",
   "execution_count": 21,
   "metadata": {},
   "outputs": [
    {
     "name": "stdout",
     "output_type": "stream",
     "text": [
      "Database already exists\n"
     ]
    }
   ],
   "source": [
    "session = driver.session()\n",
    "\n",
    "if [NAME_DB] in session.run(\"SHOW DATABASE yield name;\").values():\n",
    "    print(\"Database already exists\")\n",
    "else:\n",
    "    session.run(f\"CREATE DATABASE {NAME_DB};\")\n",
    "    print(\"Database created\")\n",
    "session = driver.session(database=NAME_DB)"
   ]
  },
  {
   "cell_type": "markdown",
   "metadata": {},
   "source": [
    "### Create constraints"
   ]
  },
  {
   "cell_type": "code",
   "execution_count": 22,
   "metadata": {},
   "outputs": [
    {
     "data": {
      "text/plain": [
       "<neo4j._sync.work.result.Result at 0x7f546928c7d0>"
      ]
     },
     "execution_count": 22,
     "metadata": {},
     "output_type": "execute_result"
    }
   ],
   "source": [
    "# TODO: maybe add constraints for id for edges\n",
    "session.run(\n",
    "    \"\"\"\n",
    "    CREATE CONSTRAINT UniqueMovieID IF NOT EXISTS \n",
    "    FOR (m:Movie) \n",
    "    REQUIRE m.id IS unique;\n",
    "    \"\"\"\n",
    ")\n",
    "session.run(\n",
    "    \"\"\"\n",
    "    CREATE CONSTRAINT UniqueUserID IF NOT EXISTS \n",
    "    FOR (u:User) \n",
    "    REQUIRE u.id IS unique;\n",
    "    \"\"\"\n",
    ")\n",
    "# TODO: add constraints for relationships"
   ]
  },
  {
   "cell_type": "markdown",
   "metadata": {},
   "source": [
    "### Add nodes to database"
   ]
  },
  {
   "cell_type": "code",
   "execution_count": 23,
   "metadata": {},
   "outputs": [
    {
     "data": {
      "text/plain": [
       "<neo4j._sync.work.result.Result at 0x7f546929b4d0>"
      ]
     },
     "execution_count": 23,
     "metadata": {},
     "output_type": "execute_result"
    }
   ],
   "source": [
    "session.run(\n",
    "    \"\"\"\n",
    "    LOAD CSV WITH HEADERS \n",
    "    FROM \"file:///users.csv\" AS row\n",
    "    MERGE (u:User {id: toInteger(row.userId)});\n",
    "    \"\"\"\n",
    ")\n",
    "session.run(\n",
    "    \"\"\"\n",
    "    LOAD CSV WITH HEADERS \n",
    "    FROM \"file:///movies.csv\" AS row\n",
    "    MERGE (m:Movie {id: toInteger(row.movieId)})\n",
    "    SET m.title = row.title,\n",
    "        m.genres = split(row.genres, '|');\n",
    "    \"\"\"\n",
    ")"
   ]
  },
  {
   "cell_type": "code",
   "execution_count": 24,
   "metadata": {},
   "outputs": [],
   "source": [
    "# TODO: Create indexes with sense\n",
    "# session.run(\n",
    "#     \"\"\"\n",
    "#     CREATE INDEX MovieTitleIndex FOR (m:Movie) ON (m.title);\n",
    "#     \"\"\"\n",
    "# )\n",
    "# session.run(\n",
    "#     \"\"\"\n",
    "#     CREATE INDEX MovieGenresIndex FOR (m:Movie) ON (m.genres);\n",
    "#     \"\"\"\n",
    "# )"
   ]
  },
  {
   "cell_type": "code",
   "execution_count": 25,
   "metadata": {},
   "outputs": [
    {
     "data": {
      "text/plain": [
       "<neo4j._sync.work.result.Result at 0x7f546927be10>"
      ]
     },
     "execution_count": 25,
     "metadata": {},
     "output_type": "execute_result"
    }
   ],
   "source": [
    "# TODO:Switch to APOC\n",
    "\n",
    "session.run(\n",
    "    \"\"\"\n",
    "    LOAD CSV WITH HEADERS FROM \"file:///ratings.csv\" AS row\n",
    "    MATCH (m:Movie {id: toInteger(row.movieId)})\n",
    "    MATCH (u:User {id: toInteger(row.userId)})\n",
    "    MERGE (u)-[r:RATED]->(m)\n",
    "    SET r.rating = toFloat(row.rating);\n",
    "    \"\"\"\n",
    ")\n",
    "\n",
    "session.run(\n",
    "    \"\"\"\n",
    "    LOAD CSV WITH HEADERS FROM \"file:///tags.csv\" AS row\n",
    "    MATCH (m:Movie {id: toInteger(row.movieId)})\n",
    "    MATCH (u:User {id: toInteger(row.userId)})\n",
    "    MERGE (u)-[t:TAGGED]->(m)\n",
    "    SET t.rating = row.tag;\n",
    "    \"\"\"\n",
    ")"
   ]
  }
 ],
 "metadata": {
  "kernelspec": {
   "display_name": "data_science",
   "language": "python",
   "name": "python3"
  },
  "language_info": {
   "codemirror_mode": {
    "name": "ipython",
    "version": 3
   },
   "file_extension": ".py",
   "mimetype": "text/x-python",
   "name": "python",
   "nbconvert_exporter": "python",
   "pygments_lexer": "ipython3",
   "version": "3.11.8"
  }
 },
 "nbformat": 4,
 "nbformat_minor": 2
}
