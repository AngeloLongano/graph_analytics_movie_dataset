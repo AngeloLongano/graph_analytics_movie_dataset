{
 "cells": [
  {
   "cell_type": "markdown",
   "metadata": {},
   "source": [
    "# Graph Analysis"
   ]
  },
  {
   "cell_type": "markdown",
   "metadata": {},
   "source": [
    "### Connect with database"
   ]
  },
  {
   "cell_type": "code",
   "execution_count": 7,
   "metadata": {},
   "outputs": [
    {
     "name": "stdout",
     "output_type": "stream",
     "text": [
      "Successfully connected to Neo4j\n",
      "Database already exists\n"
     ]
    }
   ],
   "source": [
    "from neo4j import GraphDatabase\n",
    "\n",
    "URI = \"neo4j://localhost:7687\"\n",
    "NAME_DB = \"movies\"  # or \"movies\"\n",
    "\n",
    "driver = GraphDatabase.driver(URI)\n",
    "\n",
    "driver.verify_connectivity()\n",
    "print(\"Successfully connected to Neo4j\")\n",
    "\n",
    "session = driver.session(database=\"system\")\n",
    "\n",
    "if [NAME_DB] in session.run(\"SHOW DATABASE yield name;\").values():\n",
    "    print(\"Database already exists\")\n",
    "else:\n",
    "    session.run(f\"CREATE DATABASE {NAME_DB};\")\n",
    "    print(\"Database created\")\n",
    "session = driver.session(database=NAME_DB)"
   ]
  },
  {
   "cell_type": "markdown",
   "metadata": {},
   "source": [
    "### Create constraints\n",
    "First of all it adds property uniqueness constraints for all nodes.  \n",
    "For this study is not so much useful other constraints because dataset was checked in preprocessing and there will be other import of data.  \n",
    "If you want other constraints you can visit Cypher manual [here](https://neo4j.com/docs/cypher-manual/current/constraints/syntax/)"
   ]
  },
  {
   "cell_type": "code",
   "execution_count": 8,
   "metadata": {},
   "outputs": [
    {
     "data": {
      "text/plain": [
       "<neo4j._sync.work.result.Result at 0x7f1156d66390>"
      ]
     },
     "execution_count": 8,
     "metadata": {},
     "output_type": "execute_result"
    }
   ],
   "source": [
    "# CONSTRAINTS for unique IDs\n",
    "session.run(\n",
    "    \"\"\"\n",
    "    CREATE CONSTRAINT UniqueMovieID IF NOT EXISTS \n",
    "    FOR (m:Movie) \n",
    "    REQUIRE m.id IS unique;\n",
    "    \"\"\"\n",
    ")\n",
    "session.run(\n",
    "    \"\"\"\n",
    "    CREATE CONSTRAINT UniqueUserID IF NOT EXISTS \n",
    "    FOR (u:User) \n",
    "    REQUIRE u.id IS unique;\n",
    "    \"\"\"\n",
    ")\n",
    "session.run(\n",
    "    \"\"\"\n",
    "    CREATE CONSTRAINT UniqueGenreID IF NOT EXISTS \n",
    "    FOR (g:Genre) \n",
    "    REQUIRE g.id IS unique;\n",
    "    \"\"\"\n",
    ")"
   ]
  },
  {
   "cell_type": "markdown",
   "metadata": {},
   "source": [
    "## Add nodes"
   ]
  },
  {
   "cell_type": "code",
   "execution_count": 9,
   "metadata": {},
   "outputs": [
    {
     "data": {
      "text/plain": [
       "<neo4j._sync.work.result.Result at 0x7f1156db6310>"
      ]
     },
     "execution_count": 9,
     "metadata": {},
     "output_type": "execute_result"
    }
   ],
   "source": [
    "session.run(\n",
    "    \"\"\"\n",
    "    LOAD CSV WITH HEADERS \n",
    "    FROM \"file:///users.csv\" AS row\n",
    "    MERGE (u:User {id: toInteger(row.userId)})\n",
    "    SET u.ratings = toInteger(row.ratings),\n",
    "        u.tags = toInteger(row.tags);\n",
    "    \"\"\"\n",
    ")\n",
    "\n",
    "session.run(\n",
    "    \"\"\"\n",
    "    LOAD CSV WITH HEADERS \n",
    "    FROM \"file:///movies.csv\" AS row\n",
    "    MERGE (m:Movie {id: toInteger(row.movieId)})\n",
    "    SET m.title = row.title,\n",
    "        m.year = toInteger(row.year);\n",
    "    \"\"\"\n",
    ")\n",
    "\n",
    "session.run(\n",
    "    \"\"\"\n",
    "    LOAD CSV WITH HEADERS \n",
    "    FROM \"file:///genres.csv\" AS row\n",
    "    MERGE (g:Genre {id: toInteger(row.genreId)})\n",
    "    SET g.name = row.name;\n",
    "    \"\"\"\n",
    ")"
   ]
  },
  {
   "cell_type": "markdown",
   "metadata": {},
   "source": [
    "## Create useful indexes\n",
    "After the creation of constraints, in the server be created ranged index for ids and lookup index"
   ]
  },
  {
   "cell_type": "code",
   "execution_count": 10,
   "metadata": {},
   "outputs": [
    {
     "data": {
      "text/plain": [
       "<neo4j._sync.work.result.Result at 0x7f1156db4ed0>"
      ]
     },
     "execution_count": 10,
     "metadata": {},
     "output_type": "execute_result"
    }
   ],
   "source": [
    "session.run(\n",
    "    \"\"\"\n",
    "    CREATE INDEX RangeIndexTimestampRatings FOR ()-[r:RATED]-() ON (r.timestamp)\n",
    "    \"\"\"\n",
    ")\n",
    "session.run(\n",
    "    \"\"\"\n",
    "    CREATE INDEX RangeIndexTimestampTags FOR ()-[t:TAGGED]-() ON (t.timestamp)\n",
    "    \"\"\"\n",
    ")\n",
    "# session.run(\n",
    "#     \"\"\"\n",
    "#     CREATE INDEX ON :User(name);\n",
    "#     \"\"\"\n",
    "# )\n",
    "# session.run(\n",
    "#     \"\"\"\n",
    "#     CREATE INDEX ON :Genre(name);\n",
    "#     \"\"\"\n",
    "# )"
   ]
  },
  {
   "cell_type": "markdown",
   "metadata": {},
   "source": [
    "## Add relationships"
   ]
  },
  {
   "cell_type": "code",
   "execution_count": 11,
   "metadata": {},
   "outputs": [
    {
     "data": {
      "text/plain": [
       "<neo4j._sync.work.result.Result at 0x7f1156db4510>"
      ]
     },
     "execution_count": 11,
     "metadata": {},
     "output_type": "execute_result"
    }
   ],
   "source": [
    "session.run(\n",
    "    \"\"\"\n",
    "    LOAD CSV WITH HEADERS FROM \"file:///ratings.csv\" AS row\n",
    "    CALL {\n",
    "        WITH row\n",
    "        MATCH (m:Movie {id: toInteger(row.movieId)})\n",
    "        MATCH (u:User {id: toInteger(row.userId)})\n",
    "        MERGE (u)-[r:RATED]->(m)\n",
    "        SET r.rating = toFloat(row.rating),\n",
    "        r.timestamp = datetime(row.timestamp)\n",
    "    } IN TRANSACTIONS OF 10000 ROWS;\n",
    "\n",
    "    \"\"\"\n",
    ")\n",
    "\n",
    "session.run(\n",
    "    \"\"\"\n",
    "    LOAD CSV WITH HEADERS FROM \"file:///tags.csv\" AS row\n",
    "    CALL {\n",
    "        WITH row\n",
    "        MATCH (m:Movie {id: toInteger(row.movieId)})\n",
    "        MATCH (u:User {id: toInteger(row.userId)})\n",
    "        MERGE (u)-[t:TAGGED]->(m)\n",
    "        SET t.tag = row.tag,\n",
    "        t.timestamp = datetime(row.timestamp)\n",
    "    } IN TRANSACTIONS OF 10000 ROWS;\n",
    "    \"\"\"\n",
    ")\n",
    "\n",
    "session.run(\n",
    "    \"\"\"\n",
    "    LOAD CSV WITH HEADERS FROM \"file:///movies_genres.csv\" AS row\n",
    "    MATCH (m:Movie {id: toInteger(row.movieId)})\n",
    "    MATCH (g:Genre {id: toInteger(row.genreId)})\n",
    "    MERGE (m)-[in_g:IN_GENRE]->(g);\n",
    "\n",
    "    \"\"\"\n",
    ")"
   ]
  },
  {
   "cell_type": "markdown",
   "metadata": {},
   "source": [
    "# Exploratory data analysis"
   ]
  },
  {
   "cell_type": "code",
   "execution_count": 12,
   "metadata": {},
   "outputs": [
    {
     "name": "stderr",
     "output_type": "stream",
     "text": [
      "/home/angelo-dev/miniconda3/envs/data_science/lib/python3.11/site-packages/tqdm/auto.py:21: TqdmWarning: IProgress not found. Please update jupyter and ipywidgets. See https://ipywidgets.readthedocs.io/en/stable/user_install.html\n",
      "  from .autonotebook import tqdm as notebook_tqdm\n"
     ]
    },
    {
     "name": "stdout",
     "output_type": "stream",
     "text": [
      "Nodes count:\n",
      "   label  nodeCount\n",
      "0  Movie       9742\n",
      "1   User        610\n",
      "2  Genre         20\n",
      "\n",
      "Edges count:\n",
      "       type  relationshipCount\n",
      "0    TAGGED               1775\n",
      "1  IN_GENRE              22084\n",
      "2     RATED             100836\n",
      "\n",
      "Max possible edges in the graph:\n",
      "53784006.0\n",
      "\n",
      "Density of the graph:\n",
      "0.002318440169741168\n"
     ]
    }
   ],
   "source": [
    "from graphdatascience import GraphDataScience\n",
    "\n",
    "gds = GraphDataScience(URI, aura_ds=False, database=NAME_DB)\n",
    "\n",
    "nodes_count = gds.run_cypher(\n",
    "    \"\"\"\n",
    "    CALL apoc.meta.stats()\n",
    "    YIELD labels AS nodeCounts\n",
    "    UNWIND keys(nodeCounts) AS label\n",
    "    WITH label, nodeCounts[label] AS nodeCount\n",
    "    WHERE label IN ['User','Movie','Genre']\n",
    "    RETURN label, nodeCount\n",
    "\"\"\"\n",
    ")\n",
    "edges_count = gds.run_cypher(\n",
    "    \"\"\"\n",
    "    CALL apoc.meta.stats()\n",
    "    YIELD relTypesCount as relationshipCounts\n",
    "    UNWIND keys(relationshipCounts) AS type\n",
    "    WITH type, relationshipCounts[type] AS relationshipCount\n",
    "    WHERE type IN ['RATED','TAGGED','IN_GENRE']\n",
    "    RETURN type, relationshipCount\n",
    "\"\"\"\n",
    ")\n",
    "print(\"Nodes count:\")\n",
    "print(nodes_count)\n",
    "print(\"\\nEdges count:\")\n",
    "print(edges_count)\n",
    "node_count, edges_count = gds.run_cypher(\n",
    "    \"\"\"\n",
    "    CALL apoc.meta.stats()\n",
    "    YIELD nodeCount, relCount;\n",
    "\"\"\"\n",
    ").loc[0]\n",
    "max_edges = node_count * (node_count - 1) / 2\n",
    "density = edges_count / max_edges\n",
    "print(\"\\nMax possible edges in the graph:\")\n",
    "print(max_edges)\n",
    "print(\"\\nDensity of the graph:\")\n",
    "print(density)"
   ]
  },
  {
   "cell_type": "markdown",
   "metadata": {},
   "source": [
    "From this simple data we can say that the graph is not to dense"
   ]
  },
  {
   "cell_type": "code",
   "execution_count": 13,
   "metadata": {},
   "outputs": [],
   "source": [
    "from typing import Union\n",
    "import pandas as pd\n",
    "import numpy as np\n",
    "import matplotlib.pyplot as plt\n",
    "\n",
    "\n",
    "# Helper functions (https://github.com/zach-blumenfeld/demo-news-recommendation/blob/main/mind-large-collab-filtering/practical-graph-recommendation-cf-example.ipynb)\n",
    "class GraphQueryError(Exception):\n",
    "    def __init__(self, message):\n",
    "        self.message = message\n",
    "\n",
    "\n",
    "def run(driver, query, params=None):\n",
    "    with driver.session() as session:\n",
    "        if params is not None:\n",
    "            return [r for r in session.run(query, params)]\n",
    "        else:\n",
    "            return [r for r in session.run(query)]\n",
    "\n",
    "\n",
    "def degree_counts(\n",
    "    node_label: str,\n",
    "    relationship_type: str,\n",
    "    direction: Union[\"IN\", \"OUT\", \"BOTH\"] = \"IN\",\n",
    "    limit: int = -1,\n",
    "):\n",
    "\n",
    "    match = f\"(n:{node_label}) {'<' if direction in ['IN', 'BOTH'] else ''}-{f'[:{relationship_type}]'if relationship_type!=''else ''}-{'>' if direction in ['OUT', 'BOTH'] else ''}()\"\n",
    "\n",
    "    df = gds.run_cypher(\n",
    "        f\"\"\"\n",
    "            MATCH {match}\n",
    "            RETURN n.id as id,COUNT(*) AS degreeCount\n",
    "            ORDER BY degreeCount DESC\n",
    "            {'LIMIT ' + str(limit) if limit > 0 else ''};\n",
    "        \"\"\"\n",
    "    )\n",
    "    return df\n",
    "\n",
    "\n",
    "def get_percentiles(df, q=None):\n",
    "    if q is None:\n",
    "        q = [0.1, 0.25, 0.5, 0.75, 0.9, 0.95, 0.99]\n",
    "    q_name = [\"min\"] + [f\"p{int(100*i)}\" for i in q] + [\"max\"]\n",
    "    p = [df.min()] + [df[df.percentile >= i].iloc[0] for i in q] + [df.degree.max()]\n",
    "    p_df = pd.DataFrame(np.column_stack((q_name, p)), columns=[\"q\", \"percentile\"])\n",
    "    return p_df.set_index(\"q\")"
   ]
  },
  {
   "cell_type": "markdown",
   "metadata": {},
   "source": [
    "Start to analysing degree of the nodes"
   ]
  },
  {
   "cell_type": "code",
   "execution_count": 14,
   "metadata": {},
   "outputs": [
    {
     "data": {
      "text/html": [
       "<div>\n",
       "<style scoped>\n",
       "    .dataframe tbody tr th:only-of-type {\n",
       "        vertical-align: middle;\n",
       "    }\n",
       "\n",
       "    .dataframe tbody tr th {\n",
       "        vertical-align: top;\n",
       "    }\n",
       "\n",
       "    .dataframe thead th {\n",
       "        text-align: right;\n",
       "    }\n",
       "</style>\n",
       "<table border=\"1\" class=\"dataframe\">\n",
       "  <thead>\n",
       "    <tr style=\"text-align: right;\">\n",
       "      <th></th>\n",
       "      <th>count</th>\n",
       "      <th>mean</th>\n",
       "      <th>std</th>\n",
       "      <th>min</th>\n",
       "      <th>25%</th>\n",
       "      <th>50%</th>\n",
       "      <th>75%</th>\n",
       "      <th>max</th>\n",
       "    </tr>\n",
       "  </thead>\n",
       "  <tbody>\n",
       "    <tr>\n",
       "      <th>rating_degree</th>\n",
       "      <td>9724.0</td>\n",
       "      <td>10.37</td>\n",
       "      <td>22.40</td>\n",
       "      <td>1.0</td>\n",
       "      <td>1.0</td>\n",
       "      <td>3.0</td>\n",
       "      <td>9.0</td>\n",
       "      <td>329.0</td>\n",
       "    </tr>\n",
       "    <tr>\n",
       "      <th>genre_degree</th>\n",
       "      <td>9724.0</td>\n",
       "      <td>2.27</td>\n",
       "      <td>1.12</td>\n",
       "      <td>1.0</td>\n",
       "      <td>1.0</td>\n",
       "      <td>2.0</td>\n",
       "      <td>3.0</td>\n",
       "      <td>10.0</td>\n",
       "    </tr>\n",
       "    <tr>\n",
       "      <th>tag_degree</th>\n",
       "      <td>1572.0</td>\n",
       "      <td>1.13</td>\n",
       "      <td>0.49</td>\n",
       "      <td>1.0</td>\n",
       "      <td>1.0</td>\n",
       "      <td>1.0</td>\n",
       "      <td>1.0</td>\n",
       "      <td>10.0</td>\n",
       "    </tr>\n",
       "    <tr>\n",
       "      <th>general_degree</th>\n",
       "      <td>9724.0</td>\n",
       "      <td>12.82</td>\n",
       "      <td>22.88</td>\n",
       "      <td>2.0</td>\n",
       "      <td>3.0</td>\n",
       "      <td>5.0</td>\n",
       "      <td>11.0</td>\n",
       "      <td>336.0</td>\n",
       "    </tr>\n",
       "  </tbody>\n",
       "</table>\n",
       "</div>"
      ],
      "text/plain": [
       "                 count   mean    std  min  25%  50%   75%    max\n",
       "rating_degree   9724.0  10.37  22.40  1.0  1.0  3.0   9.0  329.0\n",
       "genre_degree    9724.0   2.27   1.12  1.0  1.0  2.0   3.0   10.0\n",
       "tag_degree      1572.0   1.13   0.49  1.0  1.0  1.0   1.0   10.0\n",
       "general_degree  9724.0  12.82  22.88  2.0  3.0  5.0  11.0  336.0"
      ]
     },
     "execution_count": 14,
     "metadata": {},
     "output_type": "execute_result"
    },
    {
     "data": {
      "image/png": "[encoded data removed]",
      "text/plain": [
       "<Figure size 1600x200 with 4 Axes>"
      ]
     },
     "metadata": {},
     "output_type": "display_data"
    }
   ],
   "source": [
    "movies_degree = pd.DataFrame()\n",
    "movies_degree[\"rating_degree\"] = degree_counts(\"Movie\", \"RATED\", \"IN\")[\"degreeCount\"]\n",
    "movies_degree[\"genre_degree\"] = degree_counts(\"Movie\", \"IN_GENRE\", \"OUT\")[\"degreeCount\"]\n",
    "movies_degree[\"tag_degree\"] = degree_counts(\"Movie\", \"TAGGED\", \"IN\")[\"degreeCount\"]\n",
    "movies_degree[\"general_degree\"] = degree_counts(\"Movie\", \"\", \"\")[\"degreeCount\"]\n",
    "\n",
    "movies_degree.hist(bins=50, figsize=(16, 2), layout=(1, 4))\n",
    "movies_degree.describe().T.round(2)\n",
    "# TODO: maybe print also box plots"
   ]
  },
  {
   "cell_type": "code",
   "execution_count": 15,
   "metadata": {},
   "outputs": [
    {
     "data": {
      "text/html": [
       "<div>\n",
       "<style scoped>\n",
       "    .dataframe tbody tr th:only-of-type {\n",
       "        vertical-align: middle;\n",
       "    }\n",
       "\n",
       "    .dataframe tbody tr th {\n",
       "        vertical-align: top;\n",
       "    }\n",
       "\n",
       "    .dataframe thead th {\n",
       "        text-align: right;\n",
       "    }\n",
       "</style>\n",
       "<table border=\"1\" class=\"dataframe\">\n",
       "  <thead>\n",
       "    <tr style=\"text-align: right;\">\n",
       "      <th></th>\n",
       "      <th>count</th>\n",
       "      <th>mean</th>\n",
       "      <th>std</th>\n",
       "      <th>min</th>\n",
       "      <th>25%</th>\n",
       "      <th>50%</th>\n",
       "      <th>75%</th>\n",
       "      <th>max</th>\n",
       "    </tr>\n",
       "  </thead>\n",
       "  <tbody>\n",
       "    <tr>\n",
       "      <th>rating_degree</th>\n",
       "      <td>610.0</td>\n",
       "      <td>165.30</td>\n",
       "      <td>269.48</td>\n",
       "      <td>20.0</td>\n",
       "      <td>35.0</td>\n",
       "      <td>70.5</td>\n",
       "      <td>168.0</td>\n",
       "      <td>2698.0</td>\n",
       "    </tr>\n",
       "    <tr>\n",
       "      <th>tag_degree</th>\n",
       "      <td>58.0</td>\n",
       "      <td>30.60</td>\n",
       "      <td>162.23</td>\n",
       "      <td>1.0</td>\n",
       "      <td>1.0</td>\n",
       "      <td>2.0</td>\n",
       "      <td>7.0</td>\n",
       "      <td>1235.0</td>\n",
       "    </tr>\n",
       "    <tr>\n",
       "      <th>general_degree</th>\n",
       "      <td>610.0</td>\n",
       "      <td>168.21</td>\n",
       "      <td>288.80</td>\n",
       "      <td>20.0</td>\n",
       "      <td>35.0</td>\n",
       "      <td>71.5</td>\n",
       "      <td>168.0</td>\n",
       "      <td>3343.0</td>\n",
       "    </tr>\n",
       "  </tbody>\n",
       "</table>\n",
       "</div>"
      ],
      "text/plain": [
       "                count    mean     std   min   25%   50%    75%     max\n",
       "rating_degree   610.0  165.30  269.48  20.0  35.0  70.5  168.0  2698.0\n",
       "tag_degree       58.0   30.60  162.23   1.0   1.0   2.0    7.0  1235.0\n",
       "general_degree  610.0  168.21  288.80  20.0  35.0  71.5  168.0  3343.0"
      ]
     },
     "execution_count": 15,
     "metadata": {},
     "output_type": "execute_result"
    },
    {
     "data": {
      "image/png": "[encoded data removed]",
      "text/plain": [
       "<Figure size 1600x200 with 3 Axes>"
      ]
     },
     "metadata": {},
     "output_type": "display_data"
    }
   ],
   "source": [
    "user_degree = pd.DataFrame()\n",
    "user_degree[\"rating_degree\"] = degree_counts(\"User\", \"RATED\", \"OUT\")[\"degreeCount\"]\n",
    "user_degree[\"tag_degree\"] = degree_counts(\"User\", \"TAGGED\", \"OUT\")[\"degreeCount\"]\n",
    "user_degree[\"general_degree\"] = degree_counts(\"User\", \"\", \"\")[\"degreeCount\"]\n",
    "\n",
    "user_degree.hist(bins=50, figsize=(16, 2), layout=(1, 3))\n",
    "user_degree.describe().T.round(2)"
   ]
  },
  {
   "cell_type": "code",
   "execution_count": 16,
   "metadata": {},
   "outputs": [
    {
     "data": {
      "text/plain": [
       "<Axes: >"
      ]
     },
     "execution_count": 16,
     "metadata": {},
     "output_type": "execute_result"
    },
    {
     "data": {
      "image/png": "[encoded data removed]",
      "text/plain": [
       "<Figure size 1600x400 with 2 Axes>"
      ]
     },
     "metadata": {},
     "output_type": "display_data"
    }
   ],
   "source": [
    "movies_degree_pdf = (\n",
    "    movies_degree[\"general_degree\"] / movies_degree[\"general_degree\"].sum()\n",
    ")\n",
    "user_degree_pdf = user_degree[\"general_degree\"] / user_degree[\"general_degree\"].sum()\n",
    "\n",
    "fig, ax = plt.subplots(1, 2, figsize=(16, 4))\n",
    "movies_degree_pdf.hist(bins=100, ax=ax[0])\n",
    "user_degree_pdf.hist(bins=100, ax=ax[1])"
   ]
  },
  {
   "cell_type": "code",
   "execution_count": 17,
   "metadata": {},
   "outputs": [
    {
     "data": {
      "text/plain": [
       "<Axes: xlabel='rating'>"
      ]
     },
     "execution_count": 17,
     "metadata": {},
     "output_type": "execute_result"
    },
    {
     "data": {
      "image/png": "[encoded data removed]",
      "text/plain": [
       "<Figure size 1200x300 with 1 Axes>"
      ]
     },
     "metadata": {},
     "output_type": "display_data"
    }
   ],
   "source": [
    "ratings_vote_distribution = gds.run_cypher(\n",
    "    \"\"\"\n",
    "    MATCH (u:User)-[r:RATED]->(m:Movie)\n",
    "    RETURN r.rating as rating, COUNT(*) as count\n",
    "    ORDER BY rating;\n",
    "\"\"\"\n",
    ")\n",
    "ratings_vote_distribution.plot(kind=\"bar\", x=\"rating\", y=\"count\", figsize=(12, 3))"
   ]
  },
  {
   "cell_type": "code",
   "execution_count": 18,
   "metadata": {},
   "outputs": [
    {
     "data": {
      "text/plain": [
       "<Axes: xlabel='genre'>"
      ]
     },
     "execution_count": 18,
     "metadata": {},
     "output_type": "execute_result"
    },
    {
     "data": {
      "image/png": "[encoded data removed]",
      "text/plain": [
       "<Figure size 1200x300 with 1 Axes>"
      ]
     },
     "metadata": {},
     "output_type": "display_data"
    }
   ],
   "source": [
    "movies_per_genre_distributions = gds.run_cypher(\n",
    "    \"\"\"\n",
    "    MATCH (m:Movie)-[:IN_GENRE]->(g:Genre)\n",
    "    RETURN g.name as genre, COUNT(m) as count\n",
    "    ORDER BY count DESC;\n",
    "\"\"\"\n",
    ")\n",
    "movies_per_genre_distributions.plot(kind=\"bar\", x=\"genre\", y=\"count\", figsize=(12, 3))"
   ]
  },
  {
   "cell_type": "markdown",
   "metadata": {},
   "source": [
    "## Centrality analysis"
   ]
  },
  {
   "cell_type": "code",
   "execution_count": 19,
   "metadata": {},
   "outputs": [],
   "source": [
    "# TODO: implementa gli algoritmi di community e raccomandation system (vedi docs di GDS)"
   ]
  }
 ],
 "metadata": {
  "kernelspec": {
   "display_name": "data_science",
   "language": "python",
   "name": "python3"
  },
  "language_info": {
   "codemirror_mode": {
    "name": "ipython",
    "version": 3
   },
   "file_extension": ".py",
   "mimetype": "text/x-python",
   "name": "python",
   "nbconvert_exporter": "python",
   "pygments_lexer": "ipython3",
   "version": "3.11.8"
  }
 },
 "nbformat": 4,
 "nbformat_minor": 2
}
