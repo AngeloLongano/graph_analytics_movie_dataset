{
 "cells": [
  {
   "cell_type": "markdown",
   "metadata": {},
   "source": [
    "# Create database"
   ]
  },
  {
   "cell_type": "markdown",
   "metadata": {},
   "source": [
    "### Connection"
   ]
  },
  {
   "cell_type": "code",
   "execution_count": 1,
   "metadata": {},
   "outputs": [
    {
     "name": "stdout",
     "output_type": "stream",
     "text": [
      "Successfully connected to Neo4j\n",
      "Database already exists\n"
     ]
    }
   ],
   "source": [
    "from neo4j import GraphDatabase\n",
    "\n",
    "URI = \"neo4j://localhost:7687\"\n",
    "NAME_DB = \"neo4j\"\n",
    "\n",
    "driver = GraphDatabase.driver(URI)\n",
    "\n",
    "driver.verify_connectivity()\n",
    "print(\"Successfully connected to Neo4j\")\n",
    "\n",
    "session = driver.session(database=\"system\")\n",
    "\n",
    "if [NAME_DB] in session.run(\"SHOW DATABASE yield name;\").values():\n",
    "    print(\"Database already exists\")\n",
    "else:\n",
    "    session.run(f\"CREATE DATABASE {NAME_DB};\")\n",
    "    print(\"Database created\")\n",
    "session = driver.session(database=NAME_DB)"
   ]
  },
  {
   "cell_type": "markdown",
   "metadata": {},
   "source": [
    "### Create constraints\n",
    "First of all it adds property uniqueness constraints for all nodes.  \n",
    "For this study is not so much useful other constraints because dataset was checked in preprocessing and there will be other import of data.  \n",
    "If you want other constraints you can visit Cypher manual [here](https://neo4j.com/docs/cypher-manual/current/constraints/syntax/)"
   ]
  },
  {
   "cell_type": "code",
   "execution_count": 2,
   "metadata": {},
   "outputs": [
    {
     "data": {
      "text/plain": [
       "<neo4j._sync.work.result.Result at 0x7fc3c8390ad0>"
      ]
     },
     "execution_count": 2,
     "metadata": {},
     "output_type": "execute_result"
    }
   ],
   "source": [
    "# CONSTRAINTS for unique IDs\n",
    "session.run(\n",
    "    \"\"\"\n",
    "    CREATE CONSTRAINT UniqueMovieID IF NOT EXISTS \n",
    "    FOR (m:Movie) \n",
    "    REQUIRE m.id IS unique;\n",
    "    \"\"\"\n",
    ")\n",
    "session.run(\n",
    "    \"\"\"\n",
    "    CREATE CONSTRAINT UniqueUserID IF NOT EXISTS \n",
    "    FOR (u:User) \n",
    "    REQUIRE u.id IS unique;\n",
    "    \"\"\"\n",
    ")\n",
    "session.run(\n",
    "    \"\"\"\n",
    "    CREATE CONSTRAINT UniqueGenreID IF NOT EXISTS \n",
    "    FOR (g:Genre) \n",
    "    REQUIRE g.id IS unique;\n",
    "    \"\"\"\n",
    ")"
   ]
  },
  {
   "cell_type": "markdown",
   "metadata": {},
   "source": [
    "## Add nodes"
   ]
  },
  {
   "cell_type": "code",
   "execution_count": 2,
   "metadata": {},
   "outputs": [
    {
     "data": {
      "text/plain": [
       "<neo4j._sync.work.result.Result at 0x7f5ae7026390>"
      ]
     },
     "execution_count": 2,
     "metadata": {},
     "output_type": "execute_result"
    }
   ],
   "source": [
    "session.run(\n",
    "    \"\"\"\n",
    "    LOAD CSV WITH HEADERS \n",
    "    FROM \"file:///users.csv\" AS row\n",
    "    MERGE (u:User {id: toInteger(row.userId)})\n",
    "    SET u.gender = row.gender,\n",
    "        u.age = toInteger(row.age),\n",
    "        u.occupation = toInteger(row.occupation);\n",
    "    \"\"\"\n",
    ")\n",
    "\n",
    "session.run(\n",
    "    \"\"\"\n",
    "    LOAD CSV WITH HEADERS \n",
    "    FROM \"file:///movies.csv\" AS row\n",
    "    MERGE (m:Movie {id: toInteger(row.movieId)})\n",
    "    SET m.title = row.title,\n",
    "        m.year = toInteger(row.year);\n",
    "    \"\"\"\n",
    ")\n",
    "\n",
    "session.run(\n",
    "    \"\"\"\n",
    "    LOAD CSV WITH HEADERS \n",
    "    FROM \"file:///genres.csv\" AS row\n",
    "    MERGE (g:Genre {id: toInteger(row.genreId)})\n",
    "    SET g.name = row.name;\n",
    "    \"\"\"\n",
    ")"
   ]
  },
  {
   "cell_type": "markdown",
   "metadata": {},
   "source": [
    "## Create useful indexes\n",
    "After the creation of constraints, in the server be created ranged index for ids and lookup index"
   ]
  },
  {
   "cell_type": "code",
   "execution_count": null,
   "metadata": {},
   "outputs": [],
   "source": [
    "session.run(\n",
    "    \"\"\"\n",
    "    CREATE INDEX RangeIndexTimestampRatings FOR ()-[r:RATED]-() ON (r.timestamp)\n",
    "    \"\"\"\n",
    ")"
   ]
  },
  {
   "cell_type": "markdown",
   "metadata": {},
   "source": [
    "## Add relationships"
   ]
  },
  {
   "cell_type": "code",
   "execution_count": null,
   "metadata": {},
   "outputs": [],
   "source": [
    "session.run(\n",
    "    \"\"\"\n",
    "    LOAD CSV WITH HEADERS FROM \"file:///ratings.csv\" AS row\n",
    "    CALL {\n",
    "        WITH row\n",
    "        MATCH (m:Movie {id: toInteger(row.movieId)})\n",
    "        MATCH (u:User {id: toInteger(row.userId)})\n",
    "        MERGE (u)-[r:RATED]->(m)\n",
    "        SET r.rating = toInteger(row.rating),\n",
    "        r.timestamp = datetime(row.timestamp)\n",
    "    } IN TRANSACTIONS OF 10000 ROWS;\n",
    "\n",
    "    \"\"\"\n",
    ")\n",
    "\n",
    "session.run(\n",
    "    \"\"\"\n",
    "    LOAD CSV WITH HEADERS FROM \"file:///movies_genres.csv\" AS row\n",
    "    MATCH (m:Movie {id: toInteger(row.movieId)})\n",
    "    MATCH (g:Genre {id: toInteger(row.genreId)})\n",
    "    MERGE (m)-[in_g:IN_GENRE]->(g);\n",
    "\n",
    "    \"\"\"\n",
    ")"
   ]
  }
 ],
 "metadata": {
  "kernelspec": {
   "display_name": "data_science",
   "language": "python",
   "name": "python3"
  },
  "language_info": {
   "codemirror_mode": {
    "name": "ipython",
    "version": 3
   },
   "file_extension": ".py",
   "mimetype": "text/x-python",
   "name": "python",
   "nbconvert_exporter": "python",
   "pygments_lexer": "ipython3",
   "version": "3.11.8"
  }
 },
 "nbformat": 4,
 "nbformat_minor": 2
}
