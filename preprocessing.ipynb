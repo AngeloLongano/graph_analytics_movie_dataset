{
 "cells": [
  {
   "cell_type": "markdown",
   "metadata": {},
   "source": [
    "# Prepare for data import\n",
    "The Movie dataset is picked from GroupLens at this [link](https://grouplens.org/datasets/movielens/latest/) (the smaller version).  \n",
    "Dimensions of the dataset is: 100,000 ratings and 3,600 tag applications applied to 9,000 movies by 600 users.  \n",
    "The files inside the zip directory are: \n",
    "- `movies.csv`: lists of movies with movieId, name, genres list\n",
    "- `ratings.csv`: list of ratings from users with userId, movieId, rating and timestamp\n",
    "- `tags.csv`: list of tags from users with userId, movieId, tag and timestamp\n",
    "- `links.csv`: ids mapping of movieIds in different dataset _(not used)_\n",
    "\n",
    "All CSVs are good structured with header and same delimeter.  \n",
    "Data are normalized pretty well but a user table (not present for privacy reasons) and a table specifically for genders will be created in order to do better graph analytics.  "
   ]
  },
  {
   "cell_type": "markdown",
   "metadata": {},
   "source": [
    "## Load data\n",
    "Starting with load data from dir specified on `source_dataset`.  \n",
    "It is specified dtype on dataframe import for better performance. "
   ]
  },
  {
   "cell_type": "code",
   "execution_count": 2,
   "metadata": {},
   "outputs": [],
   "source": [
    "import pandas as pd\n",
    "import numpy as np\n",
    "\n",
    "source_dataset = \"dataset\"\n",
    "\n",
    "movies = pd.read_csv(\n",
    "    f\"{source_dataset}/movies.csv\",\n",
    "    dtype={\"movieId\": np.int32, \"title\": str, \"genres\": str},\n",
    ")\n",
    "ratings = pd.read_csv(\n",
    "    f\"{source_dataset}/ratings.csv\",\n",
    "    dtype={\n",
    "        \"userId\": np.int32,\n",
    "        \"movieId\": np.int32,\n",
    "        \"rating\": np.float16,\n",
    "        \"timestamp\": np.float64,\n",
    "    },\n",
    ")\n",
    "tags = pd.read_csv(\n",
    "    f\"{source_dataset}/tags.csv\",\n",
    "    dtype={\n",
    "        \"userId\": np.int32,\n",
    "        \"movieId\": np.int32,\n",
    "        \"tag\": str,\n",
    "        \"timestamp\": np.float64,\n",
    "    },\n",
    ")"
   ]
  },
  {
   "cell_type": "markdown",
   "metadata": {},
   "source": [
    "## Check data quality"
   ]
  },
  {
   "cell_type": "markdown",
   "metadata": {},
   "source": [
    "### Movies\n",
    "In movies dataframe it can see that we have not null values and movieIds are unique.  \n",
    "There're 5 titles duplicated but in differents row infos (it will be fix them).  \n",
    "It can see that titles can has inside year info.  \n",
    "In genres there's a list of genres that could be an other table."
   ]
  },
  {
   "cell_type": "code",
   "execution_count": 43,
   "metadata": {},
   "outputs": [
    {
     "name": "stdout",
     "output_type": "stream",
     "text": [
      "Movies size is (9742, 3)\n",
      "Unique movieIds? True\n",
      "Unique titles? False\n",
      "How many duplicated titles? 5\n",
      "How many duplicated rows? 0\n",
      "<class 'pandas.core.frame.DataFrame'>\n",
      "RangeIndex: 9742 entries, 0 to 9741\n",
      "Data columns (total 3 columns):\n",
      " #   Column   Non-Null Count  Dtype \n",
      "---  ------   --------------  ----- \n",
      " 0   movieId  9742 non-null   int32 \n",
      " 1   title    9742 non-null   object\n",
      " 2   genres   9742 non-null   object\n",
      "dtypes: int32(1), object(2)\n",
      "memory usage: 190.4+ KB\n"
     ]
    },
    {
     "data": {
      "text/html": [
       "<div>\n",
       "<style scoped>\n",
       "    .dataframe tbody tr th:only-of-type {\n",
       "        vertical-align: middle;\n",
       "    }\n",
       "\n",
       "    .dataframe tbody tr th {\n",
       "        vertical-align: top;\n",
       "    }\n",
       "\n",
       "    .dataframe thead th {\n",
       "        text-align: right;\n",
       "    }\n",
       "</style>\n",
       "<table border=\"1\" class=\"dataframe\">\n",
       "  <thead>\n",
       "    <tr style=\"text-align: right;\">\n",
       "      <th></th>\n",
       "      <th>movieId</th>\n",
       "      <th>title</th>\n",
       "      <th>genres</th>\n",
       "    </tr>\n",
       "  </thead>\n",
       "  <tbody>\n",
       "    <tr>\n",
       "      <th>0</th>\n",
       "      <td>1</td>\n",
       "      <td>Toy Story (1995)</td>\n",
       "      <td>Adventure|Animation|Children|Comedy|Fantasy</td>\n",
       "    </tr>\n",
       "    <tr>\n",
       "      <th>1</th>\n",
       "      <td>2</td>\n",
       "      <td>Jumanji (1995)</td>\n",
       "      <td>Adventure|Children|Fantasy</td>\n",
       "    </tr>\n",
       "    <tr>\n",
       "      <th>2</th>\n",
       "      <td>3</td>\n",
       "      <td>Grumpier Old Men (1995)</td>\n",
       "      <td>Comedy|Romance</td>\n",
       "    </tr>\n",
       "    <tr>\n",
       "      <th>3</th>\n",
       "      <td>4</td>\n",
       "      <td>Waiting to Exhale (1995)</td>\n",
       "      <td>Comedy|Drama|Romance</td>\n",
       "    </tr>\n",
       "    <tr>\n",
       "      <th>4</th>\n",
       "      <td>5</td>\n",
       "      <td>Father of the Bride Part II (1995)</td>\n",
       "      <td>Comedy</td>\n",
       "    </tr>\n",
       "  </tbody>\n",
       "</table>\n",
       "</div>"
      ],
      "text/plain": [
       "   movieId                               title  \\\n",
       "0        1                    Toy Story (1995)   \n",
       "1        2                      Jumanji (1995)   \n",
       "2        3             Grumpier Old Men (1995)   \n",
       "3        4            Waiting to Exhale (1995)   \n",
       "4        5  Father of the Bride Part II (1995)   \n",
       "\n",
       "                                        genres  \n",
       "0  Adventure|Animation|Children|Comedy|Fantasy  \n",
       "1                   Adventure|Children|Fantasy  \n",
       "2                               Comedy|Romance  \n",
       "3                         Comedy|Drama|Romance  \n",
       "4                                       Comedy  "
      ]
     },
     "execution_count": 43,
     "metadata": {},
     "output_type": "execute_result"
    }
   ],
   "source": [
    "print(f\"Movies size is {movies.shape}\")\n",
    "print(f\"Unique movieIds? {movies['movieId'].nunique() == movies.shape[0]}\")\n",
    "print(f\"Unique titles? {movies['title'].nunique() == movies.shape[0]}\")\n",
    "print(f\"How many duplicated titles? {movies[movies[['title']].duplicated()].shape[0]}\")\n",
    "print(\n",
    "    f\"How many duplicated rows? {movies[movies[['title','genres']].duplicated()].shape[0]}\"\n",
    ")\n",
    "# movies_duplicated = movies[movies['title'].duplicated(keep=False)]\n",
    "\n",
    "movies.info()\n",
    "movies.head()"
   ]
  },
  {
   "cell_type": "markdown",
   "metadata": {},
   "source": [
    "### Ratings\n",
    "In the ratings dataframe it can see that all ratings are in the range 0 to 5 (with step of 0.5 according with readme of dataset).  \n",
    "There's a timestamp field that will be formatted"
   ]
  },
  {
   "cell_type": "code",
   "execution_count": 45,
   "metadata": {},
   "outputs": [
    {
     "name": "stdout",
     "output_type": "stream",
     "text": [
      "\n",
      "Ratings size is (100836, 4)\n",
      "Are there any negative ratings? False\n",
      "Are there any voting above 5? False\n",
      "Are ratings all integer? False\n",
      "<class 'pandas.core.frame.DataFrame'>\n",
      "RangeIndex: 100836 entries, 0 to 100835\n",
      "Data columns (total 4 columns):\n",
      " #   Column     Non-Null Count   Dtype  \n",
      "---  ------     --------------   -----  \n",
      " 0   userId     100836 non-null  int32  \n",
      " 1   movieId    100836 non-null  int32  \n",
      " 2   rating     100836 non-null  float16\n",
      " 3   timestamp  100836 non-null  float64\n",
      "dtypes: float16(1), float64(1), int32(2)\n",
      "memory usage: 1.7 MB\n"
     ]
    },
    {
     "data": {
      "text/html": [
       "<div>\n",
       "<style scoped>\n",
       "    .dataframe tbody tr th:only-of-type {\n",
       "        vertical-align: middle;\n",
       "    }\n",
       "\n",
       "    .dataframe tbody tr th {\n",
       "        vertical-align: top;\n",
       "    }\n",
       "\n",
       "    .dataframe thead th {\n",
       "        text-align: right;\n",
       "    }\n",
       "</style>\n",
       "<table border=\"1\" class=\"dataframe\">\n",
       "  <thead>\n",
       "    <tr style=\"text-align: right;\">\n",
       "      <th></th>\n",
       "      <th>userId</th>\n",
       "      <th>movieId</th>\n",
       "      <th>rating</th>\n",
       "      <th>timestamp</th>\n",
       "    </tr>\n",
       "  </thead>\n",
       "  <tbody>\n",
       "    <tr>\n",
       "      <th>0</th>\n",
       "      <td>1</td>\n",
       "      <td>1</td>\n",
       "      <td>4.0</td>\n",
       "      <td>964982703.0</td>\n",
       "    </tr>\n",
       "    <tr>\n",
       "      <th>1</th>\n",
       "      <td>1</td>\n",
       "      <td>3</td>\n",
       "      <td>4.0</td>\n",
       "      <td>964981247.0</td>\n",
       "    </tr>\n",
       "    <tr>\n",
       "      <th>2</th>\n",
       "      <td>1</td>\n",
       "      <td>6</td>\n",
       "      <td>4.0</td>\n",
       "      <td>964982224.0</td>\n",
       "    </tr>\n",
       "    <tr>\n",
       "      <th>3</th>\n",
       "      <td>1</td>\n",
       "      <td>47</td>\n",
       "      <td>5.0</td>\n",
       "      <td>964983815.0</td>\n",
       "    </tr>\n",
       "    <tr>\n",
       "      <th>4</th>\n",
       "      <td>1</td>\n",
       "      <td>50</td>\n",
       "      <td>5.0</td>\n",
       "      <td>964982931.0</td>\n",
       "    </tr>\n",
       "  </tbody>\n",
       "</table>\n",
       "</div>"
      ],
      "text/plain": [
       "   userId  movieId  rating    timestamp\n",
       "0       1        1     4.0  964982703.0\n",
       "1       1        3     4.0  964981247.0\n",
       "2       1        6     4.0  964982224.0\n",
       "3       1       47     5.0  964983815.0\n",
       "4       1       50     5.0  964982931.0"
      ]
     },
     "execution_count": 45,
     "metadata": {},
     "output_type": "execute_result"
    }
   ],
   "source": [
    "print(f\"\\nRatings size is {ratings.shape}\")\n",
    "print(f\"Are there any negative ratings? {ratings[ratings['rating']<0].size!=0}\")\n",
    "print(f\"Are there any voting above 5? {ratings[ratings['rating']>5].size!=0}\")\n",
    "print(f\"Are ratings all integer? {ratings['rating'].apply(float.is_integer).all()}\")\n",
    "\n",
    "ratings.info()\n",
    "ratings.head()"
   ]
  },
  {
   "cell_type": "markdown",
   "metadata": {},
   "source": [
    "### Tags\n",
    "In the tags"
   ]
  },
  {
   "cell_type": "code",
   "execution_count": 49,
   "metadata": {},
   "outputs": [
    {
     "name": "stdout",
     "output_type": "stream",
     "text": [
      "\n",
      "Tags size is (3683, 4)\n",
      "Are there any duplicated tags? True\n",
      "Are there any duplicated rows? False\n",
      "Unique tags? 1589\n",
      "<class 'pandas.core.frame.DataFrame'>\n",
      "RangeIndex: 3683 entries, 0 to 3682\n",
      "Data columns (total 4 columns):\n",
      " #   Column     Non-Null Count  Dtype  \n",
      "---  ------     --------------  -----  \n",
      " 0   userId     3683 non-null   int32  \n",
      " 1   movieId    3683 non-null   int32  \n",
      " 2   tag        3683 non-null   object \n",
      " 3   timestamp  3683 non-null   float64\n",
      "dtypes: float64(1), int32(2), object(1)\n",
      "memory usage: 86.4+ KB\n"
     ]
    },
    {
     "data": {
      "text/html": [
       "<div>\n",
       "<style scoped>\n",
       "    .dataframe tbody tr th:only-of-type {\n",
       "        vertical-align: middle;\n",
       "    }\n",
       "\n",
       "    .dataframe tbody tr th {\n",
       "        vertical-align: top;\n",
       "    }\n",
       "\n",
       "    .dataframe thead th {\n",
       "        text-align: right;\n",
       "    }\n",
       "</style>\n",
       "<table border=\"1\" class=\"dataframe\">\n",
       "  <thead>\n",
       "    <tr style=\"text-align: right;\">\n",
       "      <th></th>\n",
       "      <th>userId</th>\n",
       "      <th>movieId</th>\n",
       "      <th>tag</th>\n",
       "      <th>timestamp</th>\n",
       "    </tr>\n",
       "  </thead>\n",
       "  <tbody>\n",
       "    <tr>\n",
       "      <th>0</th>\n",
       "      <td>2</td>\n",
       "      <td>60756</td>\n",
       "      <td>funny</td>\n",
       "      <td>1.445715e+09</td>\n",
       "    </tr>\n",
       "    <tr>\n",
       "      <th>1</th>\n",
       "      <td>2</td>\n",
       "      <td>60756</td>\n",
       "      <td>Highly quotable</td>\n",
       "      <td>1.445715e+09</td>\n",
       "    </tr>\n",
       "    <tr>\n",
       "      <th>2</th>\n",
       "      <td>2</td>\n",
       "      <td>60756</td>\n",
       "      <td>will ferrell</td>\n",
       "      <td>1.445715e+09</td>\n",
       "    </tr>\n",
       "    <tr>\n",
       "      <th>3</th>\n",
       "      <td>2</td>\n",
       "      <td>89774</td>\n",
       "      <td>Boxing story</td>\n",
       "      <td>1.445715e+09</td>\n",
       "    </tr>\n",
       "    <tr>\n",
       "      <th>4</th>\n",
       "      <td>2</td>\n",
       "      <td>89774</td>\n",
       "      <td>MMA</td>\n",
       "      <td>1.445715e+09</td>\n",
       "    </tr>\n",
       "  </tbody>\n",
       "</table>\n",
       "</div>"
      ],
      "text/plain": [
       "   userId  movieId              tag     timestamp\n",
       "0       2    60756            funny  1.445715e+09\n",
       "1       2    60756  Highly quotable  1.445715e+09\n",
       "2       2    60756     will ferrell  1.445715e+09\n",
       "3       2    89774     Boxing story  1.445715e+09\n",
       "4       2    89774              MMA  1.445715e+09"
      ]
     },
     "execution_count": 49,
     "metadata": {},
     "output_type": "execute_result"
    }
   ],
   "source": [
    "print(f\"\\nTags size is {tags.shape}\")\n",
    "print(f\"Are there any duplicated tags? {tags[['tag']].duplicated().any()}\")\n",
    "print(f\"Are there any duplicated rows? {tags.duplicated().any()}\")\n",
    "print(f\"Unique tags? {tags['tag'].nunique()}\")\n",
    "\n",
    "tags.info()\n",
    "tags.head()"
   ]
  },
  {
   "cell_type": "markdown",
   "metadata": {},
   "source": [
    "### Check Movies\n",
    "\n",
    "TODO:\n",
    "- Check if ids are unique\n",
    "- Check id genres is splitted and if there is some movie without genres\n",
    "- Check title --> there is year information"
   ]
  },
  {
   "cell_type": "code",
   "execution_count": 3,
   "metadata": {},
   "outputs": [
    {
     "name": "stdout",
     "output_type": "stream",
     "text": [
      "Movies\n",
      "Unique movieId? True\n",
      "0    Adventure|Animation|Children|Comedy|Fantasy\n",
      "1                     Adventure|Children|Fantasy\n",
      "2                                 Comedy|Romance\n",
      "3                           Comedy|Drama|Romance\n",
      "4                                         Comedy\n",
      "5                          Action|Crime|Thriller\n",
      "6                                 Comedy|Romance\n",
      "7                             Adventure|Children\n",
      "8                                         Action\n",
      "9                      Action|Adventure|Thriller\n",
      "Name: genres, dtype: object\n"
     ]
    }
   ],
   "source": [
    "print(\"Movies\")\n",
    "print(f\"Unique movieId? {movies['movieId'].nunique() == movies.shape[0]}\")\n",
    "print(movies[\"genres\"].head(10))"
   ]
  },
  {
   "cell_type": "code",
   "execution_count": 4,
   "metadata": {},
   "outputs": [
    {
     "name": "stdout",
     "output_type": "stream",
     "text": [
      "Are there any negative ratings? False\n",
      "Are there any voting above 5? False\n",
      "Are ratings all integer? False\n"
     ]
    }
   ],
   "source": [
    "# Check ratings\n",
    "print(f\"Are there any negative ratings? {ratings[ratings['rating']<0].size!=0}\")\n",
    "print(f\"Are there any voting above 5? {ratings[ratings['rating']>5].size!=0}\")\n",
    "print(f\"Are ratings all integer? {ratings['rating'].apply(float.is_integer).all()}\")"
   ]
  },
  {
   "cell_type": "markdown",
   "metadata": {},
   "source": [
    "# Process data"
   ]
  },
  {
   "cell_type": "markdown",
   "metadata": {},
   "source": [
    "## Create users list\n",
    "We have no missing value.  \n",
    "The structure of data is normalized and csv structure is OK.  \n",
    "We don't have users for privacy and so we will create them after some check.  "
   ]
  },
  {
   "cell_type": "code",
   "execution_count": 2,
   "metadata": {},
   "outputs": [
    {
     "name": "stdout",
     "output_type": "stream",
     "text": [
      "Users that do ratings: (610,)\n",
      "Users that do tags: (58,)\n",
      "Users that did only tags: False\n",
      "So total users is (610,)\n"
     ]
    },
    {
     "data": {
      "text/html": [
       "<div>\n",
       "<style scoped>\n",
       "    .dataframe tbody tr th:only-of-type {\n",
       "        vertical-align: middle;\n",
       "    }\n",
       "\n",
       "    .dataframe tbody tr th {\n",
       "        vertical-align: top;\n",
       "    }\n",
       "\n",
       "    .dataframe thead th {\n",
       "        text-align: right;\n",
       "    }\n",
       "</style>\n",
       "<table border=\"1\" class=\"dataframe\">\n",
       "  <thead>\n",
       "    <tr style=\"text-align: right;\">\n",
       "      <th></th>\n",
       "      <th>userId</th>\n",
       "      <th>ratings</th>\n",
       "      <th>tags</th>\n",
       "    </tr>\n",
       "  </thead>\n",
       "  <tbody>\n",
       "    <tr>\n",
       "      <th>0</th>\n",
       "      <td>1</td>\n",
       "      <td>232</td>\n",
       "      <td>0</td>\n",
       "    </tr>\n",
       "    <tr>\n",
       "      <th>1</th>\n",
       "      <td>2</td>\n",
       "      <td>29</td>\n",
       "      <td>9</td>\n",
       "    </tr>\n",
       "    <tr>\n",
       "      <th>2</th>\n",
       "      <td>3</td>\n",
       "      <td>39</td>\n",
       "      <td>0</td>\n",
       "    </tr>\n",
       "    <tr>\n",
       "      <th>3</th>\n",
       "      <td>4</td>\n",
       "      <td>216</td>\n",
       "      <td>0</td>\n",
       "    </tr>\n",
       "    <tr>\n",
       "      <th>4</th>\n",
       "      <td>5</td>\n",
       "      <td>44</td>\n",
       "      <td>0</td>\n",
       "    </tr>\n",
       "  </tbody>\n",
       "</table>\n",
       "</div>"
      ],
      "text/plain": [
       "   userId  ratings  tags\n",
       "0       1      232     0\n",
       "1       2       29     9\n",
       "2       3       39     0\n",
       "3       4      216     0\n",
       "4       5       44     0"
      ]
     },
     "execution_count": 2,
     "metadata": {},
     "output_type": "execute_result"
    }
   ],
   "source": [
    "print(f\"Users that do ratings: {ratings['userId'].value_counts().shape}\")\n",
    "print(f\"Users that do tags: {tags['userId'].value_counts().shape}\")\n",
    "print(f\"Users that did only tags: {~tags['userId'].isin(ratings['userId']).all()}\")\n",
    "users = ratings[\"userId\"].value_counts().reset_index()\n",
    "users = users.merge(\n",
    "    tags[\"userId\"].value_counts().reset_index(), on=\"userId\", how=\"outer\"\n",
    ")\n",
    "users.columns = [\"userId\", \"ratings\", \"tags\"]\n",
    "users = users.fillna(0)\n",
    "users[\"tags\"] = users[\"tags\"].astype(int)\n",
    "print(f\"So total users is {users['userId'].shape}\")\n",
    "users.head()"
   ]
  },
  {
   "cell_type": "markdown",
   "metadata": {},
   "source": [
    "## Add year info"
   ]
  },
  {
   "cell_type": "code",
   "execution_count": 3,
   "metadata": {},
   "outputs": [],
   "source": [
    "movies[\"year\"] = movies[\"title\"].str.extract(r\"\\((\\d{4})\\)\")"
   ]
  },
  {
   "cell_type": "markdown",
   "metadata": {},
   "source": [
    "## Add genre nodes"
   ]
  },
  {
   "cell_type": "code",
   "execution_count": 4,
   "metadata": {},
   "outputs": [
    {
     "name": "stdout",
     "output_type": "stream",
     "text": [
      "Are genres been extracted correctly? True\n"
     ]
    }
   ],
   "source": [
    "# From readme file\n",
    "genres = [\n",
    "    \"Action\",\n",
    "    \"Adventure\",\n",
    "    \"Animation\",\n",
    "    \"Children\",\n",
    "    \"Comedy\",\n",
    "    \"Crime\",\n",
    "    \"Documentary\",\n",
    "    \"Drama\",\n",
    "    \"Fantasy\",\n",
    "    \"Film-Noir\",\n",
    "    \"Horror\",\n",
    "    \"IMAX\",\n",
    "    \"Musical\",\n",
    "    \"Mystery\",\n",
    "    \"Romance\",\n",
    "    \"Sci-Fi\",\n",
    "    \"Thriller\",\n",
    "    \"War\",\n",
    "    \"Western\",\n",
    "    \"(no genres listed)\",\n",
    "]\n",
    "\n",
    "# Create links from movies to genres\n",
    "movies[\"genres\"] = movies[\"genres\"].apply(lambda x: x.split(\"|\"))\n",
    "movies_genres = movies[[\"movieId\", \"genres\"]].explode(\"genres\")\n",
    "movies_genres[\"genreId\"] = movies_genres[\"genres\"].apply(lambda x: genres.index(x) + 1)\n",
    "movies_genres.drop(\"genres\", axis=1, inplace=True)\n",
    "\n",
    "# movies dosen't need anymore of genres\n",
    "movies.drop(columns=[\"genres\"], inplace=True)\n",
    "\n",
    "# create genres nodes\n",
    "genres = pd.DataFrame(genres, columns=[\"name\"])\n",
    "genres[\"genreId\"] = genres.index + 1\n",
    "genres = genres.reindex(columns=[\"genreId\", \"name\"])\n",
    "\n",
    "print(\n",
    "    f\"Are genres been extracted correctly? {movies_genres['genreId'].isin(genres['genreId']).all()}\"\n",
    ")"
   ]
  },
  {
   "cell_type": "code",
   "execution_count": 6,
   "metadata": {},
   "outputs": [],
   "source": [
    "ratings[\"timestamp\"] = pd.to_datetime(\n",
    "    ratings[\"timestamp\"], unit=\"s\", utc=True\n",
    ").dt.strftime(\"%Y-%m-%dT%H:%M:%S%z\")\n",
    "tags[\"timestamp\"] = pd.to_datetime(tags[\"timestamp\"], unit=\"s\", utc=True).dt.strftime(\n",
    "    \"%Y-%m-%dT%H:%M:%S.%fZ\"\n",
    ")"
   ]
  },
  {
   "cell_type": "markdown",
   "metadata": {},
   "source": [
    "# Move data on volume container\n"
   ]
  },
  {
   "cell_type": "code",
   "execution_count": null,
   "metadata": {},
   "outputs": [],
   "source": []
  },
  {
   "cell_type": "markdown",
   "metadata": {},
   "source": [
    "## old import\n",
    "Prepare data to neo4j-admin-import (info)[https://neo4j.com/docs/operations-manual/current/tools/neo4j-admin/neo4j-admin-import]"
   ]
  },
  {
   "cell_type": "code",
   "execution_count": 10,
   "metadata": {},
   "outputs": [],
   "source": [
    "# movies.columns = [\"movieId:ID(Movie-ID)\", \"title\", \"year:int\"]\n",
    "# movies[\":LABEL\"] = \"Movie\"\n",
    "\n",
    "# users.columns = [\"userId:ID(User-ID)\", \"ratings:int\", \"tags:int\"]\n",
    "# users[\":LABEL\"] = \"User\"\n",
    "\n",
    "# genres.columns = [\"genreId:ID(Genre-ID)\", \"name:string\"]\n",
    "# genres[\":LABEL\"] = \"Genre\"\n",
    "\n",
    "# ratings.columns = [\n",
    "#     \"userId:START_ID(User-ID)\",\n",
    "#     \"movieId:END_ID(Movie-ID)\",\n",
    "#     \"rating:float\",\n",
    "#     \"timestamp:string\",\n",
    "# ]\n",
    "# ratings[\":TYPE\"] = \"RATED\"\n",
    "\n",
    "\n",
    "# tags.columns = [\n",
    "#     \"userId:START_ID(User-ID)\",\n",
    "#     \"movieId:END_ID(Movie-ID)\",\n",
    "#     \"tag:string\",\n",
    "#     \"timestamp:string\",\n",
    "# ]\n",
    "# tags[\":TYPE\"] = \"TAGGED\"\n",
    "\n",
    "# movies_genres.columns = [\n",
    "#     \"movieId:START_ID(Movie-ID)\",\n",
    "#     \"genreId:END_ID(Genre-ID)\",\n",
    "# ]\n",
    "# movies_genres[\":TYPE\"] = \"IN_GENRE\""
   ]
  },
  {
   "cell_type": "markdown",
   "metadata": {},
   "source": [
    "# Save on import_to_docker dir"
   ]
  },
  {
   "cell_type": "code",
   "execution_count": 7,
   "metadata": {},
   "outputs": [],
   "source": [
    "import os\n",
    "\n",
    "path_to_save = \"clean_data/small\"\n",
    "\n",
    "\n",
    "if not os.path.exists(path_to_save):\n",
    "    os.makedirs(path_to_save)\n",
    "\n",
    "movies.to_csv(f\"{path_to_save}/movies.csv\", index=False)\n",
    "users.to_csv(f\"{path_to_save}/users.csv\", index=False)\n",
    "genres.to_csv(f\"{path_to_save}/genres.csv\", index=False)\n",
    "\n",
    "ratings.to_csv(f\"{path_to_save}/ratings.csv\", index=False)\n",
    "tags.to_csv(f\"{path_to_save}/tags.csv\", index=False)\n",
    "movies_genres.to_csv(f\"{path_to_save}/movies_genres.csv\", index=False)"
   ]
  },
  {
   "cell_type": "code",
   "execution_count": 12,
   "metadata": {},
   "outputs": [],
   "source": [
    "# TODO: maybe check if tags are unique (upper case and lower case are the same)"
   ]
  }
 ],
 "metadata": {
  "kernelspec": {
   "display_name": "data_science",
   "language": "python",
   "name": "python3"
  },
  "language_info": {
   "codemirror_mode": {
    "name": "ipython",
    "version": 3
   },
   "file_extension": ".py",
   "mimetype": "text/x-python",
   "name": "python",
   "nbconvert_exporter": "python",
   "pygments_lexer": "ipython3",
   "version": "3.11.8"
  }
 },
 "nbformat": 4,
 "nbformat_minor": 2
}
