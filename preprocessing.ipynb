{
 "cells": [
  {
   "cell_type": "markdown",
   "metadata": {},
   "source": [
    "# Prepare for data import\n",
    "- Determine how the CSV file will be structured  \n",
    "- Determine if normalized or denormalized data  \n",
    "- Ensure IDs to be used in the data are unique  \n",
    "- Ensure data in CSV files is \"clean\"\n",
    "- Execute Cypher code to inspect the data\n",
    "- Determine if data needs to be transformed"
   ]
  },
  {
   "cell_type": "markdown",
   "metadata": {},
   "source": [
    "# Load data"
   ]
  },
  {
   "cell_type": "code",
   "execution_count": 1,
   "metadata": {},
   "outputs": [],
   "source": [
    "import pandas as pd\n",
    "\n",
    "movies = pd.read_csv(\"dataset/ml-latest/movies.csv\")\n",
    "ratings = pd.read_csv(\"dataset/ml-latest/ratings.csv\")\n",
    "tags = pd.read_csv(\"dataset/ml-latest/tags.csv\")"
   ]
  },
  {
   "cell_type": "markdown",
   "metadata": {},
   "source": [
    "# Get info from data"
   ]
  },
  {
   "cell_type": "code",
   "execution_count": 2,
   "metadata": {},
   "outputs": [
    {
     "name": "stdout",
     "output_type": "stream",
     "text": [
      "\n",
      "Movies size is (86537, 3)\n",
      "<class 'pandas.core.frame.DataFrame'>\n",
      "RangeIndex: 86537 entries, 0 to 86536\n",
      "Data columns (total 3 columns):\n",
      " #   Column   Non-Null Count  Dtype \n",
      "---  ------   --------------  ----- \n",
      " 0   movieId  86537 non-null  int64 \n",
      " 1   title    86537 non-null  object\n",
      " 2   genres   86537 non-null  object\n",
      "dtypes: int64(1), object(2)\n",
      "memory usage: 2.0+ MB\n",
      "\n",
      "Ratings size is (33832162, 4)\n",
      "<class 'pandas.core.frame.DataFrame'>\n",
      "RangeIndex: 33832162 entries, 0 to 33832161\n",
      "Data columns (total 4 columns):\n",
      " #   Column     Dtype  \n",
      "---  ------     -----  \n",
      " 0   userId     int64  \n",
      " 1   movieId    int64  \n",
      " 2   rating     float64\n",
      " 3   timestamp  int64  \n",
      "dtypes: float64(1), int64(3)\n",
      "memory usage: 1.0 GB\n",
      "\n",
      "Tags size is (2328315, 4)\n",
      "<class 'pandas.core.frame.DataFrame'>\n",
      "RangeIndex: 2328315 entries, 0 to 2328314\n",
      "Data columns (total 4 columns):\n",
      " #   Column     Dtype \n",
      "---  ------     ----- \n",
      " 0   userId     int64 \n",
      " 1   movieId    int64 \n",
      " 2   tag        object\n",
      " 3   timestamp  int64 \n",
      "dtypes: int64(3), object(1)\n",
      "memory usage: 71.1+ MB\n"
     ]
    }
   ],
   "source": [
    "# Vertex of the graph\n",
    "print(f\"\\nMovies size is {movies.shape}\")\n",
    "movies.info()\n",
    "\n",
    "print(f\"\\nRatings size is {ratings.shape}\")\n",
    "ratings.info()\n",
    "\n",
    "print(f\"\\nTags size is {tags.shape}\")\n",
    "tags.info()\n",
    "\n",
    "# To do preprocessing"
   ]
  },
  {
   "cell_type": "markdown",
   "metadata": {},
   "source": [
    "### Check Movies\n",
    "\n",
    "TODO:\n",
    "- Check if ids are unique\n",
    "- Check id genres is splitted and if there is some movie without genres\n",
    "- Check title --> there is year information"
   ]
  },
  {
   "cell_type": "code",
   "execution_count": 3,
   "metadata": {},
   "outputs": [
    {
     "name": "stdout",
     "output_type": "stream",
     "text": [
      "Movies\n",
      "Unique movieId? True\n",
      "0    Adventure|Animation|Children|Comedy|Fantasy\n",
      "1                     Adventure|Children|Fantasy\n",
      "2                                 Comedy|Romance\n",
      "3                           Comedy|Drama|Romance\n",
      "4                                         Comedy\n",
      "5                          Action|Crime|Thriller\n",
      "6                                 Comedy|Romance\n",
      "7                             Adventure|Children\n",
      "8                                         Action\n",
      "9                      Action|Adventure|Thriller\n",
      "Name: genres, dtype: object\n"
     ]
    }
   ],
   "source": [
    "print(\"Movies\")\n",
    "print(f\"Unique movieId? {movies['movieId'].nunique() == movies.shape[0]}\")\n",
    "print(movies[\"genres\"].head(10))"
   ]
  },
  {
   "cell_type": "code",
   "execution_count": 4,
   "metadata": {},
   "outputs": [
    {
     "name": "stdout",
     "output_type": "stream",
     "text": [
      "Are there any negative ratings? False\n",
      "Are there any voting above 5? False\n",
      "Are ratings all integer? False\n"
     ]
    }
   ],
   "source": [
    "# Check ratings\n",
    "print(f\"Are there any negative ratings? {ratings[ratings['rating']<0].size!=0}\")\n",
    "print(f\"Are there any voting above 5? {ratings[ratings['rating']>5].size!=0}\")\n",
    "print(f\"Are ratings all integer? {ratings['rating'].apply(float.is_integer).all()}\")"
   ]
  },
  {
   "cell_type": "markdown",
   "metadata": {},
   "source": [
    "# Process data"
   ]
  },
  {
   "cell_type": "markdown",
   "metadata": {},
   "source": [
    "## Create users list\n",
    "We have no missing value.  \n",
    "The structure of data is normalized and csv structure is OK.  \n",
    "We don't have users for privacy and so we will create them after some check.  "
   ]
  },
  {
   "cell_type": "code",
   "execution_count": 5,
   "metadata": {},
   "outputs": [
    {
     "name": "stdout",
     "output_type": "stream",
     "text": [
      "Users that do ratings: (330975,)\n",
      "Users that do tags: (25280,)\n",
      "Users that did only tags: False\n",
      "So total users is (330975,)\n"
     ]
    },
    {
     "data": {
      "text/html": [
       "<div>\n",
       "<style scoped>\n",
       "    .dataframe tbody tr th:only-of-type {\n",
       "        vertical-align: middle;\n",
       "    }\n",
       "\n",
       "    .dataframe tbody tr th {\n",
       "        vertical-align: top;\n",
       "    }\n",
       "\n",
       "    .dataframe thead th {\n",
       "        text-align: right;\n",
       "    }\n",
       "</style>\n",
       "<table border=\"1\" class=\"dataframe\">\n",
       "  <thead>\n",
       "    <tr style=\"text-align: right;\">\n",
       "      <th></th>\n",
       "      <th>userId</th>\n",
       "      <th>ratings</th>\n",
       "      <th>tags</th>\n",
       "    </tr>\n",
       "  </thead>\n",
       "  <tbody>\n",
       "    <tr>\n",
       "      <th>0</th>\n",
       "      <td>1</td>\n",
       "      <td>62</td>\n",
       "      <td>0</td>\n",
       "    </tr>\n",
       "    <tr>\n",
       "      <th>1</th>\n",
       "      <td>2</td>\n",
       "      <td>91</td>\n",
       "      <td>0</td>\n",
       "    </tr>\n",
       "    <tr>\n",
       "      <th>2</th>\n",
       "      <td>3</td>\n",
       "      <td>30</td>\n",
       "      <td>0</td>\n",
       "    </tr>\n",
       "    <tr>\n",
       "      <th>3</th>\n",
       "      <td>4</td>\n",
       "      <td>30</td>\n",
       "      <td>0</td>\n",
       "    </tr>\n",
       "    <tr>\n",
       "      <th>4</th>\n",
       "      <td>5</td>\n",
       "      <td>43</td>\n",
       "      <td>0</td>\n",
       "    </tr>\n",
       "  </tbody>\n",
       "</table>\n",
       "</div>"
      ],
      "text/plain": [
       "   userId  ratings  tags\n",
       "0       1       62     0\n",
       "1       2       91     0\n",
       "2       3       30     0\n",
       "3       4       30     0\n",
       "4       5       43     0"
      ]
     },
     "execution_count": 5,
     "metadata": {},
     "output_type": "execute_result"
    }
   ],
   "source": [
    "print(f\"Users that do ratings: {ratings['userId'].value_counts().shape}\")\n",
    "print(f\"Users that do tags: {tags['userId'].value_counts().shape}\")\n",
    "print(f\"Users that did only tags: {~tags['userId'].isin(ratings['userId']).all()}\")\n",
    "users = ratings[\"userId\"].value_counts().reset_index()\n",
    "users = users.merge(\n",
    "    tags[\"userId\"].value_counts().reset_index(), on=\"userId\", how=\"outer\"\n",
    ")\n",
    "users.columns = [\"userId\", \"ratings\", \"tags\"]\n",
    "users = users.fillna(0)\n",
    "users[\"tags\"] = users[\"tags\"].astype(int)\n",
    "print(f\"So total users is {users['userId'].shape}\")\n",
    "users.head()"
   ]
  },
  {
   "cell_type": "markdown",
   "metadata": {},
   "source": [
    "## Add year info"
   ]
  },
  {
   "cell_type": "code",
   "execution_count": 6,
   "metadata": {},
   "outputs": [],
   "source": [
    "movies[\"year\"] = movies[\"title\"].str.extract(r\"\\((\\d{4})\\)\")"
   ]
  },
  {
   "cell_type": "markdown",
   "metadata": {},
   "source": [
    "## Add genre nodes"
   ]
  },
  {
   "cell_type": "code",
   "execution_count": 7,
   "metadata": {},
   "outputs": [
    {
     "name": "stdout",
     "output_type": "stream",
     "text": [
      "Are genres been extracted correctly? True\n"
     ]
    }
   ],
   "source": [
    "# From readme file\n",
    "genres = [\n",
    "    \"Action\",\n",
    "    \"Adventure\",\n",
    "    \"Animation\",\n",
    "    \"Children\",\n",
    "    \"Comedy\",\n",
    "    \"Crime\",\n",
    "    \"Documentary\",\n",
    "    \"Drama\",\n",
    "    \"Fantasy\",\n",
    "    \"Film-Noir\",\n",
    "    \"Horror\",\n",
    "    \"IMAX\",\n",
    "    \"Musical\",\n",
    "    \"Mystery\",\n",
    "    \"Romance\",\n",
    "    \"Sci-Fi\",\n",
    "    \"Thriller\",\n",
    "    \"War\",\n",
    "    \"Western\",\n",
    "    \"(no genres listed)\",\n",
    "]\n",
    "\n",
    "# Create links from movies to genres\n",
    "movies[\"genres\"] = movies[\"genres\"].apply(lambda x: x.split(\"|\"))\n",
    "movies_genres = movies[[\"movieId\", \"genres\"]].explode(\"genres\")\n",
    "movies_genres[\"genreId\"] = movies_genres[\"genres\"].apply(lambda x: genres.index(x) + 1)\n",
    "movies_genres.drop(\"genres\", axis=1, inplace=True)\n",
    "\n",
    "# movies dosen't need anymore of genres\n",
    "movies.drop(columns=[\"genres\"], inplace=True)\n",
    "\n",
    "# create genres nodes\n",
    "genres = pd.DataFrame(genres, columns=[\"name\"])\n",
    "genres[\"genreId\"] = genres.index + 1\n",
    "genres = genres.reindex(columns=[\"genreId\", \"name\"])\n",
    "\n",
    "print(\n",
    "    f\"Are genres been extracted correctly? {movies_genres['genreId'].isin(genres['genresId']).all()}\"\n",
    ")"
   ]
  },
  {
   "cell_type": "code",
   "execution_count": 8,
   "metadata": {},
   "outputs": [],
   "source": [
    "# # Fromatted datetime\n",
    "# ratings[\"timestamp\"] = pd.to_datetime(\n",
    "#     ratings[\"timestamp\"], unit=\"s\", utc=True\n",
    "# ).dt.strftime(\"%Y-%m-%dT%H:%M:%S%z\")\n",
    "# tags[\"timestamp\"] = pd.to_datetime(tags[\"timestamp\"], unit=\"s\", utc=True).dt.strftime(\n",
    "#     \"%Y-%m-%dT%H:%M:%S%z\"\n",
    "# )"
   ]
  },
  {
   "cell_type": "markdown",
   "metadata": {},
   "source": [
    "# Move data on volume container\n"
   ]
  },
  {
   "cell_type": "code",
   "execution_count": 25,
   "metadata": {},
   "outputs": [
    {
     "data": {
      "text/html": [
       "<div>\n",
       "<style scoped>\n",
       "    .dataframe tbody tr th:only-of-type {\n",
       "        vertical-align: middle;\n",
       "    }\n",
       "\n",
       "    .dataframe tbody tr th {\n",
       "        vertical-align: top;\n",
       "    }\n",
       "\n",
       "    .dataframe thead th {\n",
       "        text-align: right;\n",
       "    }\n",
       "</style>\n",
       "<table border=\"1\" class=\"dataframe\">\n",
       "  <thead>\n",
       "    <tr style=\"text-align: right;\">\n",
       "      <th></th>\n",
       "      <th>movieId</th>\n",
       "      <th>title</th>\n",
       "      <th>year</th>\n",
       "    </tr>\n",
       "  </thead>\n",
       "  <tbody>\n",
       "    <tr>\n",
       "      <th>0</th>\n",
       "      <td>1</td>\n",
       "      <td>Toy Story (1995)</td>\n",
       "      <td>1995</td>\n",
       "    </tr>\n",
       "    <tr>\n",
       "      <th>1</th>\n",
       "      <td>2</td>\n",
       "      <td>Jumanji (1995)</td>\n",
       "      <td>1995</td>\n",
       "    </tr>\n",
       "    <tr>\n",
       "      <th>2</th>\n",
       "      <td>3</td>\n",
       "      <td>Grumpier Old Men (1995)</td>\n",
       "      <td>1995</td>\n",
       "    </tr>\n",
       "    <tr>\n",
       "      <th>3</th>\n",
       "      <td>4</td>\n",
       "      <td>Waiting to Exhale (1995)</td>\n",
       "      <td>1995</td>\n",
       "    </tr>\n",
       "    <tr>\n",
       "      <th>4</th>\n",
       "      <td>5</td>\n",
       "      <td>Father of the Bride Part II (1995)</td>\n",
       "      <td>1995</td>\n",
       "    </tr>\n",
       "    <tr>\n",
       "      <th>...</th>\n",
       "      <td>...</td>\n",
       "      <td>...</td>\n",
       "      <td>...</td>\n",
       "    </tr>\n",
       "    <tr>\n",
       "      <th>86532</th>\n",
       "      <td>288967</td>\n",
       "      <td>State of Siege: Temple Attack (2021)</td>\n",
       "      <td>2021</td>\n",
       "    </tr>\n",
       "    <tr>\n",
       "      <th>86533</th>\n",
       "      <td>288971</td>\n",
       "      <td>Ouija Japan (2021)</td>\n",
       "      <td>2021</td>\n",
       "    </tr>\n",
       "    <tr>\n",
       "      <th>86534</th>\n",
       "      <td>288975</td>\n",
       "      <td>The Men Who Made the Movies: Howard Hawks (1973)</td>\n",
       "      <td>1973</td>\n",
       "    </tr>\n",
       "    <tr>\n",
       "      <th>86535</th>\n",
       "      <td>288977</td>\n",
       "      <td>Skinford: Death Sentence (2023)</td>\n",
       "      <td>2023</td>\n",
       "    </tr>\n",
       "    <tr>\n",
       "      <th>86536</th>\n",
       "      <td>288983</td>\n",
       "      <td>UNZIPPED: An Autopsy of American Inequality (2...</td>\n",
       "      <td>2021</td>\n",
       "    </tr>\n",
       "  </tbody>\n",
       "</table>\n",
       "<p>86537 rows × 3 columns</p>\n",
       "</div>"
      ],
      "text/plain": [
       "       movieId                                              title  year\n",
       "0            1                                   Toy Story (1995)  1995\n",
       "1            2                                     Jumanji (1995)  1995\n",
       "2            3                            Grumpier Old Men (1995)  1995\n",
       "3            4                           Waiting to Exhale (1995)  1995\n",
       "4            5                 Father of the Bride Part II (1995)  1995\n",
       "...        ...                                                ...   ...\n",
       "86532   288967               State of Siege: Temple Attack (2021)  2021\n",
       "86533   288971                                 Ouija Japan (2021)  2021\n",
       "86534   288975   The Men Who Made the Movies: Howard Hawks (1973)  1973\n",
       "86535   288977                    Skinford: Death Sentence (2023)  2023\n",
       "86536   288983  UNZIPPED: An Autopsy of American Inequality (2...  2021\n",
       "\n",
       "[86537 rows x 3 columns]"
      ]
     },
     "execution_count": 25,
     "metadata": {},
     "output_type": "execute_result"
    }
   ],
   "source": [
    "movies"
   ]
  },
  {
   "cell_type": "markdown",
   "metadata": {},
   "source": [
    "## old import\n",
    "Prepare data to neo4j-admin-import (info)[https://neo4j.com/docs/operations-manual/current/tools/neo4j-admin/neo4j-admin-import]"
   ]
  },
  {
   "cell_type": "code",
   "execution_count": 9,
   "metadata": {},
   "outputs": [],
   "source": [
    "# movies.columns = [\"movieId:ID(Movie-ID)\", \"title\", \"year:int\"]\n",
    "# movies[\":LABEL\"] = \"Movie\"\n",
    "\n",
    "# users.columns = [\"userId:ID(User-ID)\", \"ratings:int\", \"tags:int\"]\n",
    "# users[\":LABEL\"] = \"User\"\n",
    "\n",
    "# genres.columns = [\"genreId:ID(Genre-ID)\", \"name:string\"]\n",
    "# genres[\":LABEL\"] = \"Genre\"\n",
    "\n",
    "# ratings.columns = [\n",
    "#     \"userId:START_ID(User-ID)\",\n",
    "#     \"movieId:END_ID(Movie-ID)\",\n",
    "#     \"rating:float\",\n",
    "#     \"timestamp:datetime\",\n",
    "# ]\n",
    "# ratings[\":TYPE\"] = \"RATED\"\n",
    "\n",
    "\n",
    "# tags.columns = [\n",
    "#     \"userId:START_ID(User-ID)\",\n",
    "#     \"movieId:END_ID(Movie-ID)\",\n",
    "#     \"tag\",\n",
    "#     \"timestamp:datetime\",\n",
    "# ]\n",
    "# tags[\":TYPE\"] = \"TAGGED\"\n",
    "\n",
    "# movies_genres.columns = [\n",
    "#     \"movieId:START_ID(Movie-ID)\",\n",
    "#     \"genreId:END_ID(Genre-ID)\",\n",
    "# ]\n",
    "# movies_genres[\":TYPE\"] = \"IN_GENRE\""
   ]
  },
  {
   "cell_type": "markdown",
   "metadata": {},
   "source": [
    "# Save on import_to_docker dir"
   ]
  },
  {
   "cell_type": "code",
   "execution_count": 21,
   "metadata": {},
   "outputs": [],
   "source": [
    "import os\n",
    "\n",
    "path_to_save = \"import_to_docker\"\n",
    "\n",
    "if not os.path.exists(path_to_save):\n",
    "    os.makedirs(path_to_save)\n",
    "\n",
    "movies.to_csv(f\"{path_to_save}/movies.csv\", index=False)\n",
    "users.to_csv(f\"{path_to_save}/users.csv\", index=False)\n",
    "genres.to_csv(f\"{path_to_save}/genres.csv\", index=False)\n",
    "\n",
    "ratings.to_csv(f\"{path_to_save}/ratings.csv\", index=False)\n",
    "tags.to_csv(f\"{path_to_save}/tags.csv\", index=False)\n",
    "movies_genres.to_csv(f\"{path_to_save}/movies_genres.csv\", index=False)"
   ]
  },
  {
   "cell_type": "code",
   "execution_count": null,
   "metadata": {},
   "outputs": [],
   "source": [
    "# TODO: maybe check if tags are unique (upper case and lower case are the same)"
   ]
  }
 ],
 "metadata": {
  "kernelspec": {
   "display_name": "data_science",
   "language": "python",
   "name": "python3"
  },
  "language_info": {
   "codemirror_mode": {
    "name": "ipython",
    "version": 3
   },
   "file_extension": ".py",
   "mimetype": "text/x-python",
   "name": "python",
   "nbconvert_exporter": "python",
   "pygments_lexer": "ipython3",
   "version": "3.11.8"
  }
 },
 "nbformat": 4,
 "nbformat_minor": 2
}
