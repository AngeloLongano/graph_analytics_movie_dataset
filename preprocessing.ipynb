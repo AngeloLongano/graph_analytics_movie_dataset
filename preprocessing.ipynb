{
 "cells": [
  {
   "cell_type": "markdown",
   "metadata": {},
   "source": [
    "# Prepare for data import\n",
    "- Determine how the CSV file will be structured  \n",
    "- Determine if normalized or denormalized data  \n",
    "- Ensure IDs to be used in the data are unique  \n",
    "- Ensure data in CSV files is \"clean\"\n",
    "- Execute Cypher code to inspect the data\n",
    "- Determine if data needs to be transformed"
   ]
  },
  {
   "cell_type": "markdown",
   "metadata": {},
   "source": [
    "#### Load data"
   ]
  },
  {
   "cell_type": "code",
   "execution_count": 9,
   "metadata": {},
   "outputs": [],
   "source": [
    "import pandas as pd\n",
    "\n",
    "movies = pd.read_csv(\"dataset/movies.csv\")\n",
    "ratings = pd.read_csv(\"dataset/ratings.csv\")\n",
    "tags = pd.read_csv(\"dataset/tags.csv\")"
   ]
  },
  {
   "cell_type": "markdown",
   "metadata": {},
   "source": [
    "### Some info from data"
   ]
  },
  {
   "cell_type": "code",
   "execution_count": 10,
   "metadata": {},
   "outputs": [
    {
     "name": "stdout",
     "output_type": "stream",
     "text": [
      "\n",
      "Movies size is (9742, 3)\n",
      "<class 'pandas.core.frame.DataFrame'>\n",
      "RangeIndex: 9742 entries, 0 to 9741\n",
      "Data columns (total 3 columns):\n",
      " #   Column   Non-Null Count  Dtype \n",
      "---  ------   --------------  ----- \n",
      " 0   movieId  9742 non-null   int64 \n",
      " 1   title    9742 non-null   object\n",
      " 2   genres   9742 non-null   object\n",
      "dtypes: int64(1), object(2)\n",
      "memory usage: 228.5+ KB\n",
      "\n",
      "Ratings size is (100836, 4)\n",
      "<class 'pandas.core.frame.DataFrame'>\n",
      "RangeIndex: 100836 entries, 0 to 100835\n",
      "Data columns (total 4 columns):\n",
      " #   Column     Non-Null Count   Dtype  \n",
      "---  ------     --------------   -----  \n",
      " 0   userId     100836 non-null  int64  \n",
      " 1   movieId    100836 non-null  int64  \n",
      " 2   rating     100836 non-null  float64\n",
      " 3   timestamp  100836 non-null  int64  \n",
      "dtypes: float64(1), int64(3)\n",
      "memory usage: 3.1 MB\n",
      "\n",
      "Tags size is (3683, 4)\n",
      "<class 'pandas.core.frame.DataFrame'>\n",
      "RangeIndex: 3683 entries, 0 to 3682\n",
      "Data columns (total 4 columns):\n",
      " #   Column     Non-Null Count  Dtype \n",
      "---  ------     --------------  ----- \n",
      " 0   userId     3683 non-null   int64 \n",
      " 1   movieId    3683 non-null   int64 \n",
      " 2   tag        3683 non-null   object\n",
      " 3   timestamp  3683 non-null   int64 \n",
      "dtypes: int64(3), object(1)\n",
      "memory usage: 115.2+ KB\n"
     ]
    }
   ],
   "source": [
    "# Vertex of the graph\n",
    "print(f\"\\nMovies size is {movies.shape}\")\n",
    "movies.info()\n",
    "\n",
    "print(f\"\\nRatings size is {ratings.shape}\")\n",
    "ratings.info()\n",
    "\n",
    "print(f\"\\nTags size is {tags.shape}\")\n",
    "tags.info()\n",
    "\n",
    "# To do preprocessing"
   ]
  },
  {
   "cell_type": "markdown",
   "metadata": {},
   "source": [
    "We have no missing value.  \n",
    "The structure of data is normalized and csv structure is OK.  \n",
    "We don't have users for privacy and so we will create them after some check.  "
   ]
  },
  {
   "cell_type": "code",
   "execution_count": 11,
   "metadata": {},
   "outputs": [
    {
     "name": "stdout",
     "output_type": "stream",
     "text": [
      "Users that do ratings: (610,)\n",
      "Users that do tags: (58,)\n",
      "Users that did only tags: False\n",
      "So total users is (610,)\n"
     ]
    },
    {
     "data": {
      "text/html": [
       "<div>\n",
       "<style scoped>\n",
       "    .dataframe tbody tr th:only-of-type {\n",
       "        vertical-align: middle;\n",
       "    }\n",
       "\n",
       "    .dataframe tbody tr th {\n",
       "        vertical-align: top;\n",
       "    }\n",
       "\n",
       "    .dataframe thead th {\n",
       "        text-align: right;\n",
       "    }\n",
       "</style>\n",
       "<table border=\"1\" class=\"dataframe\">\n",
       "  <thead>\n",
       "    <tr style=\"text-align: right;\">\n",
       "      <th></th>\n",
       "      <th>userId</th>\n",
       "      <th>count</th>\n",
       "    </tr>\n",
       "  </thead>\n",
       "  <tbody>\n",
       "    <tr>\n",
       "      <th>0</th>\n",
       "      <td>414</td>\n",
       "      <td>2698</td>\n",
       "    </tr>\n",
       "    <tr>\n",
       "      <th>1</th>\n",
       "      <td>599</td>\n",
       "      <td>2478</td>\n",
       "    </tr>\n",
       "    <tr>\n",
       "      <th>2</th>\n",
       "      <td>474</td>\n",
       "      <td>2108</td>\n",
       "    </tr>\n",
       "    <tr>\n",
       "      <th>3</th>\n",
       "      <td>448</td>\n",
       "      <td>1864</td>\n",
       "    </tr>\n",
       "    <tr>\n",
       "      <th>4</th>\n",
       "      <td>274</td>\n",
       "      <td>1346</td>\n",
       "    </tr>\n",
       "    <tr>\n",
       "      <th>...</th>\n",
       "      <td>...</td>\n",
       "      <td>...</td>\n",
       "    </tr>\n",
       "    <tr>\n",
       "      <th>605</th>\n",
       "      <td>207</td>\n",
       "      <td>20</td>\n",
       "    </tr>\n",
       "    <tr>\n",
       "      <th>606</th>\n",
       "      <td>442</td>\n",
       "      <td>20</td>\n",
       "    </tr>\n",
       "    <tr>\n",
       "      <th>607</th>\n",
       "      <td>53</td>\n",
       "      <td>20</td>\n",
       "    </tr>\n",
       "    <tr>\n",
       "      <th>608</th>\n",
       "      <td>576</td>\n",
       "      <td>20</td>\n",
       "    </tr>\n",
       "    <tr>\n",
       "      <th>609</th>\n",
       "      <td>595</td>\n",
       "      <td>20</td>\n",
       "    </tr>\n",
       "  </tbody>\n",
       "</table>\n",
       "<p>610 rows × 2 columns</p>\n",
       "</div>"
      ],
      "text/plain": [
       "     userId  count\n",
       "0       414   2698\n",
       "1       599   2478\n",
       "2       474   2108\n",
       "3       448   1864\n",
       "4       274   1346\n",
       "..      ...    ...\n",
       "605     207     20\n",
       "606     442     20\n",
       "607      53     20\n",
       "608     576     20\n",
       "609     595     20\n",
       "\n",
       "[610 rows x 2 columns]"
      ]
     },
     "execution_count": 11,
     "metadata": {},
     "output_type": "execute_result"
    }
   ],
   "source": [
    "print(f\"Users that do ratings: {ratings['userId'].value_counts().shape}\")\n",
    "print(f\"Users that do tags: {tags['userId'].value_counts().shape}\")\n",
    "print(f\"Users that did only tags: {~tags['userId'].isin(ratings['userId']).all()}\")\n",
    "users = ratings[\"userId\"].value_counts().reset_index()\n",
    "print(f\"So total users is {users['userId'].shape}\")\n",
    "users\n",
    "# TODO: can add counts of ratings and tags to the users dataframe"
   ]
  },
  {
   "cell_type": "markdown",
   "metadata": {},
   "source": [
    "We have created users"
   ]
  },
  {
   "cell_type": "markdown",
   "metadata": {},
   "source": [
    "### Check Movies\n",
    "\n",
    "TODO:\n",
    "- Check if ids are unique\n",
    "- Check id genres is splitted and if there is some movie without genres\n",
    "- Check title --> there is year information"
   ]
  },
  {
   "cell_type": "code",
   "execution_count": 12,
   "metadata": {},
   "outputs": [
    {
     "name": "stdout",
     "output_type": "stream",
     "text": [
      "Movies\n",
      "Unique movieId? True\n",
      "0    Adventure|Animation|Children|Comedy|Fantasy\n",
      "1                     Adventure|Children|Fantasy\n",
      "2                                 Comedy|Romance\n",
      "3                           Comedy|Drama|Romance\n",
      "4                                         Comedy\n",
      "5                          Action|Crime|Thriller\n",
      "6                                 Comedy|Romance\n",
      "7                             Adventure|Children\n",
      "8                                         Action\n",
      "9                      Action|Adventure|Thriller\n",
      "Name: genres, dtype: object\n"
     ]
    }
   ],
   "source": [
    "print(\"Movies\")\n",
    "print(f\"Unique movieId? {movies['movieId'].nunique() == movies.shape[0]}\")\n",
    "print(movies[\"genres\"].head(10))"
   ]
  },
  {
   "cell_type": "code",
   "execution_count": 13,
   "metadata": {},
   "outputs": [
    {
     "name": "stdout",
     "output_type": "stream",
     "text": [
      "Are there any negative ratings? False\n",
      "Are there any voting above 5? False\n",
      "Are ratings all integer? False\n"
     ]
    }
   ],
   "source": [
    "# Check ratings\n",
    "print(f\"Are there any negative ratings? {ratings[ratings['rating']<0].size!=0}\")\n",
    "print(f\"Are there any voting above 5? {ratings[ratings['rating']>5].size!=0}\")\n",
    "print(f\"Are ratings all integer? {ratings['rating'].apply(float.is_integer).all()}\")"
   ]
  },
  {
   "cell_type": "code",
   "execution_count": 14,
   "metadata": {},
   "outputs": [
    {
     "name": "stdout",
     "output_type": "stream",
     "text": [
      "      movieId                                              title  \\\n",
      "6059    40697                                          Babylon 5   \n",
      "9031   140956                                   Ready Player One   \n",
      "9091   143410                                         Hyena Road   \n",
      "9138   147250  The Adventures of Sherlock Holmes and Doctor W...   \n",
      "9179   149334                                  Nocturnal Animals   \n",
      "9259   156605                                           Paterson   \n",
      "9367   162414                                          Moonlight   \n",
      "9448   167570                                             The OA   \n",
      "9514   171495                                             Cosmos   \n",
      "9515   171631                            Maria Bamford: Old Baby   \n",
      "9518   171749                  Death Note: Desu nôto (2006–2007)   \n",
      "9525   171891                                  Generation Iron 2   \n",
      "9611   176601                                       Black Mirror   \n",
      "\n",
      "                      genres  \n",
      "6059                  Sci-Fi  \n",
      "9031  Action|Sci-Fi|Thriller  \n",
      "9091      (no genres listed)  \n",
      "9138      (no genres listed)  \n",
      "9179          Drama|Thriller  \n",
      "9259      (no genres listed)  \n",
      "9367                   Drama  \n",
      "9448      (no genres listed)  \n",
      "9514      (no genres listed)  \n",
      "9515      (no genres listed)  \n",
      "9518      (no genres listed)  \n",
      "9525      (no genres listed)  \n",
      "9611      (no genres listed)  \n"
     ]
    }
   ],
   "source": [
    "import re\n",
    "\n",
    "a = \"ciao (2019)\"\n",
    "if re.search(r\"\\(\\d{4}-\\d{4}\\)\", a):\n",
    "    print(a)\n",
    "\n",
    "# print title that doesn't have year\n",
    "print(movies[~movies[\"title\"].str.contains(r\"\\(\\d{4}\\)\")])"
   ]
  },
  {
   "cell_type": "code",
   "execution_count": 15,
   "metadata": {},
   "outputs": [
    {
     "name": "stdout",
     "output_type": "stream",
     "text": [
      "<re.Match object; span=(4, 9), match=' 1904'>\n"
     ]
    }
   ],
   "source": [
    "import re\n",
    "\n",
    "a = \"ciao 1904\"\n",
    "a = re.search(\".([0-9]{4})\", a)\n",
    "print(a)\n",
    "# movies[\"title\"].apply(lambda x: re.search(\".([0-9])\", x))\n",
    "# Check if you can extract the year from the title\n",
    "# movies[\"year\"] = movies[\"title\"].apply(lambda x: re.search(\".([0-9]{4})\", x))\n",
    "# movies[\"year\"]"
   ]
  },
  {
   "cell_type": "markdown",
   "metadata": {},
   "source": [
    "## Move data on volume container"
   ]
  },
  {
   "cell_type": "code",
   "execution_count": 16,
   "metadata": {},
   "outputs": [],
   "source": [
    "import os\n",
    "\n",
    "path_to_save = \"data\"\n",
    "\n",
    "if not os.path.exists(path_to_save):\n",
    "    os.makedirs(path_to_save)\n",
    "\n",
    "users.to_csv(f\"{path_to_save}/users.csv\", index=False)\n",
    "movies.to_csv(f\"{path_to_save}/movies.csv\", index=False)\n",
    "ratings.to_csv(f\"{path_to_save}/ratings.csv\", index=False)\n",
    "tags.to_csv(f\"{path_to_save}/tags.csv\", index=False)"
   ]
  }
 ],
 "metadata": {
  "kernelspec": {
   "display_name": "data_science",
   "language": "python",
   "name": "python3"
  },
  "language_info": {
   "codemirror_mode": {
    "name": "ipython",
    "version": 3
   },
   "file_extension": ".py",
   "mimetype": "text/x-python",
   "name": "python",
   "nbconvert_exporter": "python",
   "pygments_lexer": "ipython3",
   "version": "3.11.8"
  }
 },
 "nbformat": 4,
 "nbformat_minor": 2
}
